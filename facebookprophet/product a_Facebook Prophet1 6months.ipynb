{
 "cells": [
  {
   "cell_type": "code",
   "execution_count": 106,
   "id": "fdb64bf0",
   "metadata": {},
   "outputs": [],
   "source": [
    "import pandas as pd\n",
    "from prophet import Prophet\n",
    "import matplotlib.pyplot as plt\n",
    "import seaborn as sns\n",
    "from sklearn.metrics import mean_squared_error,mean_absolute_error, mean_absolute_percentage_error\n",
    "import numpy as np\n",
    "import itertools\n",
    "from prophet.plot import plot_cross_validation_metric\n",
    "from prophet.diagnostics import performance_metrics\n",
    "from prophet.diagnostics import cross_validation"
   ]
  },
  {
   "cell_type": "code",
   "execution_count": 107,
   "id": "091fcbcc",
   "metadata": {},
   "outputs": [],
   "source": [
    "df=pd.read_csv('product a.csv', parse_dates=['Month-Year'])"
   ]
  },
  {
   "cell_type": "code",
   "execution_count": 108,
   "id": "fed0fa72",
   "metadata": {},
   "outputs": [],
   "source": [
    "sales_a= df.drop(['Product Name','Product Category'],axis=1)"
   ]
  },
  {
   "cell_type": "code",
   "execution_count": 109,
   "id": "741884b5",
   "metadata": {},
   "outputs": [
    {
     "data": {
      "text/plain": [
       "(60, 2)"
      ]
     },
     "execution_count": 109,
     "metadata": {},
     "output_type": "execute_result"
    }
   ],
   "source": [
    "sales_a.shape"
   ]
  },
  {
   "cell_type": "code",
   "execution_count": 110,
   "id": "9ceb6091",
   "metadata": {},
   "outputs": [
    {
     "name": "stdout",
     "output_type": "stream",
     "text": [
      "<class 'pandas.core.frame.DataFrame'>\n",
      "RangeIndex: 60 entries, 0 to 59\n",
      "Data columns (total 2 columns):\n",
      " #   Column      Non-Null Count  Dtype         \n",
      "---  ------      --------------  -----         \n",
      " 0   Month-Year  60 non-null     datetime64[ns]\n",
      " 1   Sales       60 non-null     int64         \n",
      "dtypes: datetime64[ns](1), int64(1)\n",
      "memory usage: 1.1 KB\n"
     ]
    }
   ],
   "source": [
    "sales_a.info()"
   ]
  },
  {
   "cell_type": "code",
   "execution_count": 111,
   "id": "2092d197",
   "metadata": {},
   "outputs": [
    {
     "data": {
      "text/plain": [
       "3213992"
      ]
     },
     "execution_count": 111,
     "metadata": {},
     "output_type": "execute_result"
    }
   ],
   "source": [
    "sales_a['Sales'].sum()"
   ]
  },
  {
   "cell_type": "code",
   "execution_count": 112,
   "id": "2cc67e57",
   "metadata": {},
   "outputs": [
    {
     "data": {
      "text/html": [
       "<div>\n",
       "<style scoped>\n",
       "    .dataframe tbody tr th:only-of-type {\n",
       "        vertical-align: middle;\n",
       "    }\n",
       "\n",
       "    .dataframe tbody tr th {\n",
       "        vertical-align: top;\n",
       "    }\n",
       "\n",
       "    .dataframe thead th {\n",
       "        text-align: right;\n",
       "    }\n",
       "</style>\n",
       "<table border=\"1\" class=\"dataframe\">\n",
       "  <thead>\n",
       "    <tr style=\"text-align: right;\">\n",
       "      <th></th>\n",
       "      <th>ds</th>\n",
       "      <th>y</th>\n",
       "    </tr>\n",
       "  </thead>\n",
       "  <tbody>\n",
       "    <tr>\n",
       "      <th>0</th>\n",
       "      <td>2019-01-01</td>\n",
       "      <td>54555</td>\n",
       "    </tr>\n",
       "    <tr>\n",
       "      <th>1</th>\n",
       "      <td>2019-02-01</td>\n",
       "      <td>54293</td>\n",
       "    </tr>\n",
       "    <tr>\n",
       "      <th>2</th>\n",
       "      <td>2019-03-01</td>\n",
       "      <td>58798</td>\n",
       "    </tr>\n",
       "    <tr>\n",
       "      <th>3</th>\n",
       "      <td>2019-04-01</td>\n",
       "      <td>53229</td>\n",
       "    </tr>\n",
       "    <tr>\n",
       "      <th>4</th>\n",
       "      <td>2019-05-01</td>\n",
       "      <td>50558</td>\n",
       "    </tr>\n",
       "  </tbody>\n",
       "</table>\n",
       "</div>"
      ],
      "text/plain": [
       "          ds      y\n",
       "0 2019-01-01  54555\n",
       "1 2019-02-01  54293\n",
       "2 2019-03-01  58798\n",
       "3 2019-04-01  53229\n",
       "4 2019-05-01  50558"
      ]
     },
     "execution_count": 112,
     "metadata": {},
     "output_type": "execute_result"
    }
   ],
   "source": [
    "sales_a = sales_a.rename(columns={'Month-Year': 'ds',\n",
    "                        'Sales': 'y'})\n",
    "\n",
    "sales_a.head(5)"
   ]
  },
  {
   "cell_type": "code",
   "execution_count": 113,
   "id": "cb424cf4",
   "metadata": {},
   "outputs": [
    {
     "data": {
      "image/png": "[encoded data removed]",
      "text/plain": [
       "<Figure size 1200x800 with 1 Axes>"
      ]
     },
     "metadata": {},
     "output_type": "display_data"
    }
   ],
   "source": [
    "ax = sales_a.set_index('ds').plot(figsize=(12, 8))\n",
    "ax.set_ylabel('Sales')\n",
    "ax.set_xlabel('Month-Year')\n",
    "plt.title('Product A')\n",
    "plt.show()"
   ]
  },
  {
   "cell_type": "code",
   "execution_count": 114,
   "id": "618afaec",
   "metadata": {},
   "outputs": [],
   "source": [
    "train= sales_a[:54]\n",
    "test=sales_a[54:]"
   ]
  },
  {
   "cell_type": "markdown",
   "id": "6e360a0d",
   "metadata": {},
   "source": [
    "# Hyperparameter Tuning"
   ]
  },
  {
   "cell_type": "code",
   "execution_count": 115,
   "id": "816c39be",
   "metadata": {},
   "outputs": [
    {
     "name": "stderr",
     "output_type": "stream",
     "text": [
      "16:18:27 - cmdstanpy - INFO - Chain [1] start processing\n",
      "16:18:28 - cmdstanpy - INFO - Chain [1] done processing\n",
      "16:18:33 - cmdstanpy - INFO - Chain [1] start processing\n",
      "16:18:34 - cmdstanpy - INFO - Chain [1] done processing\n",
      "16:18:39 - cmdstanpy - INFO - Chain [1] start processing\n",
      "16:18:39 - cmdstanpy - INFO - Chain [1] done processing\n",
      "16:18:42 - cmdstanpy - INFO - Chain [1] start processing\n",
      "16:18:42 - cmdstanpy - INFO - Chain [1] done processing\n",
      "16:18:46 - cmdstanpy - INFO - Chain [1] start processing\n",
      "16:18:47 - cmdstanpy - INFO - Chain [1] done processing\n",
      "16:18:51 - cmdstanpy - INFO - Chain [1] start processing\n",
      "16:18:51 - cmdstanpy - INFO - Chain [1] done processing\n",
      "16:18:55 - cmdstanpy - INFO - Chain [1] start processing\n",
      "16:18:56 - cmdstanpy - INFO - Chain [1] done processing\n",
      "16:18:59 - cmdstanpy - INFO - Chain [1] start processing\n",
      "16:19:00 - cmdstanpy - INFO - Chain [1] done processing\n",
      "16:19:04 - cmdstanpy - INFO - Chain [1] start processing\n",
      "16:19:04 - cmdstanpy - INFO - Chain [1] done processing\n",
      "16:19:08 - cmdstanpy - INFO - Chain [1] start processing\n",
      "16:19:09 - cmdstanpy - INFO - Chain [1] done processing\n",
      "16:19:13 - cmdstanpy - INFO - Chain [1] start processing\n",
      "16:19:13 - cmdstanpy - INFO - Chain [1] done processing\n",
      "16:19:16 - cmdstanpy - INFO - Chain [1] start processing\n",
      "16:19:17 - cmdstanpy - INFO - Chain [1] done processing\n",
      "16:19:21 - cmdstanpy - INFO - Chain [1] start processing\n",
      "16:19:21 - cmdstanpy - INFO - Chain [1] done processing\n",
      "16:19:24 - cmdstanpy - INFO - Chain [1] start processing\n",
      "16:19:25 - cmdstanpy - INFO - Chain [1] done processing\n",
      "16:19:28 - cmdstanpy - INFO - Chain [1] start processing\n",
      "16:19:28 - cmdstanpy - INFO - Chain [1] done processing\n",
      "16:19:32 - cmdstanpy - INFO - Chain [1] start processing\n",
      "16:19:32 - cmdstanpy - INFO - Chain [1] done processing\n",
      "16:19:35 - cmdstanpy - INFO - Chain [1] start processing\n",
      "16:19:35 - cmdstanpy - INFO - Chain [1] done processing\n",
      "16:19:39 - cmdstanpy - INFO - Chain [1] start processing\n",
      "16:19:39 - cmdstanpy - INFO - Chain [1] done processing\n",
      "16:19:42 - cmdstanpy - INFO - Chain [1] start processing\n",
      "16:19:42 - cmdstanpy - INFO - Chain [1] done processing\n",
      "16:19:46 - cmdstanpy - INFO - Chain [1] start processing\n",
      "16:19:46 - cmdstanpy - INFO - Chain [1] done processing\n",
      "16:19:49 - cmdstanpy - INFO - Chain [1] start processing\n",
      "16:19:49 - cmdstanpy - INFO - Chain [1] done processing\n",
      "16:19:53 - cmdstanpy - INFO - Chain [1] start processing\n",
      "16:19:53 - cmdstanpy - INFO - Chain [1] done processing\n",
      "16:19:56 - cmdstanpy - INFO - Chain [1] start processing\n",
      "16:19:57 - cmdstanpy - INFO - Chain [1] done processing\n",
      "16:20:00 - cmdstanpy - INFO - Chain [1] start processing\n",
      "16:20:00 - cmdstanpy - INFO - Chain [1] done processing\n",
      "16:20:04 - cmdstanpy - INFO - Chain [1] start processing\n",
      "16:20:04 - cmdstanpy - INFO - Chain [1] done processing\n",
      "16:20:07 - cmdstanpy - INFO - Chain [1] start processing\n",
      "16:20:08 - cmdstanpy - INFO - Chain [1] done processing\n",
      "16:20:12 - cmdstanpy - INFO - Chain [1] start processing\n",
      "16:20:12 - cmdstanpy - INFO - Chain [1] done processing\n",
      "16:20:15 - cmdstanpy - INFO - Chain [1] start processing\n",
      "16:20:16 - cmdstanpy - INFO - Chain [1] done processing\n",
      "16:20:19 - cmdstanpy - INFO - Chain [1] start processing\n",
      "16:20:20 - cmdstanpy - INFO - Chain [1] done processing\n",
      "16:20:23 - cmdstanpy - INFO - Chain [1] start processing\n",
      "16:20:24 - cmdstanpy - INFO - Chain [1] done processing\n",
      "16:20:28 - cmdstanpy - INFO - Chain [1] start processing\n",
      "16:20:28 - cmdstanpy - INFO - Chain [1] done processing\n",
      "16:20:32 - cmdstanpy - INFO - Chain [1] start processing\n",
      "16:20:32 - cmdstanpy - INFO - Chain [1] done processing\n",
      "16:20:36 - cmdstanpy - INFO - Chain [1] start processing\n",
      "16:20:36 - cmdstanpy - INFO - Chain [1] done processing\n",
      "16:20:39 - cmdstanpy - INFO - Chain [1] start processing\n",
      "16:20:40 - cmdstanpy - INFO - Chain [1] done processing\n",
      "16:20:43 - cmdstanpy - INFO - Chain [1] start processing\n",
      "16:20:43 - cmdstanpy - INFO - Chain [1] done processing\n",
      "16:20:47 - cmdstanpy - INFO - Chain [1] start processing\n",
      "16:20:47 - cmdstanpy - INFO - Chain [1] done processing\n",
      "16:20:51 - cmdstanpy - INFO - Chain [1] start processing\n",
      "16:20:51 - cmdstanpy - INFO - Chain [1] done processing\n",
      "16:20:55 - cmdstanpy - INFO - Chain [1] start processing\n",
      "16:20:55 - cmdstanpy - INFO - Chain [1] done processing\n",
      "16:20:59 - cmdstanpy - INFO - Chain [1] start processing\n",
      "16:20:59 - cmdstanpy - INFO - Chain [1] done processing\n",
      "16:21:03 - cmdstanpy - INFO - Chain [1] start processing\n",
      "16:21:03 - cmdstanpy - INFO - Chain [1] done processing\n",
      "16:21:07 - cmdstanpy - INFO - Chain [1] start processing\n",
      "16:21:07 - cmdstanpy - INFO - Chain [1] done processing\n",
      "16:21:11 - cmdstanpy - INFO - Chain [1] start processing\n",
      "16:21:11 - cmdstanpy - INFO - Chain [1] done processing\n",
      "16:21:15 - cmdstanpy - INFO - Chain [1] start processing\n",
      "16:21:15 - cmdstanpy - INFO - Chain [1] done processing\n",
      "16:21:18 - cmdstanpy - INFO - Chain [1] start processing\n",
      "16:21:19 - cmdstanpy - INFO - Chain [1] done processing\n",
      "16:21:22 - cmdstanpy - INFO - Chain [1] start processing\n",
      "16:21:23 - cmdstanpy - INFO - Chain [1] done processing\n",
      "16:21:27 - cmdstanpy - INFO - Chain [1] start processing\n",
      "16:21:27 - cmdstanpy - INFO - Chain [1] done processing\n",
      "16:21:31 - cmdstanpy - INFO - Chain [1] start processing\n",
      "16:21:31 - cmdstanpy - INFO - Chain [1] done processing\n",
      "16:21:35 - cmdstanpy - INFO - Chain [1] start processing\n",
      "16:21:35 - cmdstanpy - INFO - Chain [1] done processing\n",
      "16:21:39 - cmdstanpy - INFO - Chain [1] start processing\n",
      "16:21:39 - cmdstanpy - INFO - Chain [1] done processing\n",
      "16:21:43 - cmdstanpy - INFO - Chain [1] start processing\n",
      "16:21:43 - cmdstanpy - INFO - Chain [1] done processing\n",
      "16:21:47 - cmdstanpy - INFO - Chain [1] start processing\n",
      "16:21:48 - cmdstanpy - INFO - Chain [1] done processing\n",
      "16:21:51 - cmdstanpy - INFO - Chain [1] start processing\n",
      "16:21:52 - cmdstanpy - INFO - Chain [1] done processing\n",
      "16:21:55 - cmdstanpy - INFO - Chain [1] start processing\n",
      "16:21:56 - cmdstanpy - INFO - Chain [1] done processing\n",
      "16:21:59 - cmdstanpy - INFO - Chain [1] start processing\n",
      "16:22:00 - cmdstanpy - INFO - Chain [1] done processing\n",
      "16:22:04 - cmdstanpy - INFO - Chain [1] start processing\n",
      "16:22:04 - cmdstanpy - INFO - Chain [1] done processing\n",
      "16:22:08 - cmdstanpy - INFO - Chain [1] start processing\n",
      "16:22:09 - cmdstanpy - INFO - Chain [1] done processing\n",
      "16:22:12 - cmdstanpy - INFO - Chain [1] start processing\n",
      "16:22:13 - cmdstanpy - INFO - Chain [1] done processing\n",
      "16:22:17 - cmdstanpy - INFO - Chain [1] start processing\n",
      "16:22:17 - cmdstanpy - INFO - Chain [1] done processing\n",
      "16:22:21 - cmdstanpy - INFO - Chain [1] start processing\n",
      "16:22:21 - cmdstanpy - INFO - Chain [1] done processing\n",
      "16:22:25 - cmdstanpy - INFO - Chain [1] start processing\n",
      "16:22:25 - cmdstanpy - INFO - Chain [1] done processing\n",
      "16:22:29 - cmdstanpy - INFO - Chain [1] start processing\n",
      "16:22:29 - cmdstanpy - INFO - Chain [1] done processing\n",
      "16:22:33 - cmdstanpy - INFO - Chain [1] start processing\n",
      "16:22:34 - cmdstanpy - INFO - Chain [1] done processing\n",
      "16:22:37 - cmdstanpy - INFO - Chain [1] start processing\n",
      "16:22:38 - cmdstanpy - INFO - Chain [1] done processing\n",
      "16:22:41 - cmdstanpy - INFO - Chain [1] start processing\n",
      "16:22:42 - cmdstanpy - INFO - Chain [1] done processing\n",
      "16:22:45 - cmdstanpy - INFO - Chain [1] start processing\n",
      "16:22:46 - cmdstanpy - INFO - Chain [1] done processing\n",
      "16:22:49 - cmdstanpy - INFO - Chain [1] start processing\n",
      "16:22:50 - cmdstanpy - INFO - Chain [1] done processing\n",
      "16:22:54 - cmdstanpy - INFO - Chain [1] start processing\n",
      "16:22:54 - cmdstanpy - INFO - Chain [1] done processing\n",
      "16:22:58 - cmdstanpy - INFO - Chain [1] start processing\n",
      "16:22:59 - cmdstanpy - INFO - Chain [1] done processing\n",
      "16:23:02 - cmdstanpy - INFO - Chain [1] start processing\n",
      "16:23:03 - cmdstanpy - INFO - Chain [1] done processing\n",
      "16:23:07 - cmdstanpy - INFO - Chain [1] start processing\n",
      "16:23:07 - cmdstanpy - INFO - Chain [1] done processing\n",
      "16:23:11 - cmdstanpy - INFO - Chain [1] start processing\n",
      "16:23:12 - cmdstanpy - INFO - Chain [1] done processing\n",
      "16:23:15 - cmdstanpy - INFO - Chain [1] start processing\n",
      "16:23:16 - cmdstanpy - INFO - Chain [1] done processing\n"
     ]
    },
    {
     "name": "stdout",
     "output_type": "stream",
     "text": [
      "    changepoint_prior_scale  seasonality_prior_scale seasonality_mode  \\\n",
      "0                     0.001                     0.01         additive   \n",
      "1                     0.001                     0.01   multiplicative   \n",
      "2                     0.001                     0.10         additive   \n",
      "3                     0.001                     0.10   multiplicative   \n",
      "4                     0.001                     1.00         additive   \n",
      "..                      ...                      ...              ...   \n",
      "67                    0.500                     3.00   multiplicative   \n",
      "68                    0.500                     5.00         additive   \n",
      "69                    0.500                     5.00   multiplicative   \n",
      "70                    0.500                    10.00         additive   \n",
      "71                    0.500                    10.00   multiplicative   \n",
      "\n",
      "            rmse  \n",
      "0    8992.087352  \n",
      "1    8978.149820  \n",
      "2    8926.563018  \n",
      "3    9005.741078  \n",
      "4    8673.315407  \n",
      "..           ...  \n",
      "67  10184.418765  \n",
      "68  10188.043922  \n",
      "69  10452.296397  \n",
      "70  10202.079805  \n",
      "71  10263.427832  \n",
      "\n",
      "[72 rows x 4 columns]\n"
     ]
    }
   ],
   "source": [
    "changepoint_prior_scale_range = [0.001, 0.01, 0.1,0.2, 0.3, 0.5]\n",
    "seasonality_prior_scale_range = [0.01, 0.1, 1.0, 3.0, 5.0, 10.0]\n",
    "seasonality_mode_range = ['additive', 'multiplicative']\n",
    "\n",
    "param_grid = {  \n",
    "    'changepoint_prior_scale': changepoint_prior_scale_range,\n",
    "    'seasonality_prior_scale': seasonality_prior_scale_range,\n",
    "    'seasonality_mode' : seasonality_mode_range\n",
    "}\n",
    "\n",
    "# Generate all combinations of parameters\n",
    "all_params = [dict(zip(param_grid.keys(), v)) for v in itertools.product(*param_grid.values())]\n",
    "rmses = []  # Store the RMSEs for each params here\n",
    "\n",
    "# Use cross validation to evaluate all parameters\n",
    "for params in all_params:\n",
    "    m = Prophet(**params).fit(train)  # Fit model with given params\n",
    "    df_cv = cross_validation(m, initial='730 days', period='180 days', horizon = '180 days', parallel=\"processes\")\n",
    "    df_p = performance_metrics(df_cv, rolling_window=1)\n",
    "    rmses.append(df_p['rmse'].values[0])\n",
    "\n",
    "# Find the best parameters\n",
    "tuning_results = pd.DataFrame(all_params)\n",
    "tuning_results['rmse'] = rmses\n",
    "print(tuning_results)"
   ]
  },
  {
   "cell_type": "code",
   "execution_count": 116,
   "id": "2ce501cc",
   "metadata": {},
   "outputs": [
    {
     "data": {
      "text/html": [
       "<div>\n",
       "<style scoped>\n",
       "    .dataframe tbody tr th:only-of-type {\n",
       "        vertical-align: middle;\n",
       "    }\n",
       "\n",
       "    .dataframe tbody tr th {\n",
       "        vertical-align: top;\n",
       "    }\n",
       "\n",
       "    .dataframe thead th {\n",
       "        text-align: right;\n",
       "    }\n",
       "</style>\n",
       "<table border=\"1\" class=\"dataframe\">\n",
       "  <thead>\n",
       "    <tr style=\"text-align: right;\">\n",
       "      <th></th>\n",
       "      <th>changepoint_prior_scale</th>\n",
       "      <th>seasonality_prior_scale</th>\n",
       "      <th>seasonality_mode</th>\n",
       "      <th>rmse</th>\n",
       "    </tr>\n",
       "  </thead>\n",
       "  <tbody>\n",
       "    <tr>\n",
       "      <th>11</th>\n",
       "      <td>0.001</td>\n",
       "      <td>10.00</td>\n",
       "      <td>multiplicative</td>\n",
       "      <td>8570.925960</td>\n",
       "    </tr>\n",
       "    <tr>\n",
       "      <th>8</th>\n",
       "      <td>0.001</td>\n",
       "      <td>5.00</td>\n",
       "      <td>additive</td>\n",
       "      <td>8623.564406</td>\n",
       "    </tr>\n",
       "    <tr>\n",
       "      <th>18</th>\n",
       "      <td>0.010</td>\n",
       "      <td>3.00</td>\n",
       "      <td>additive</td>\n",
       "      <td>8624.821244</td>\n",
       "    </tr>\n",
       "    <tr>\n",
       "      <th>20</th>\n",
       "      <td>0.010</td>\n",
       "      <td>5.00</td>\n",
       "      <td>additive</td>\n",
       "      <td>8631.249515</td>\n",
       "    </tr>\n",
       "    <tr>\n",
       "      <th>22</th>\n",
       "      <td>0.010</td>\n",
       "      <td>10.00</td>\n",
       "      <td>additive</td>\n",
       "      <td>8632.374074</td>\n",
       "    </tr>\n",
       "    <tr>\n",
       "      <th>...</th>\n",
       "      <td>...</td>\n",
       "      <td>...</td>\n",
       "      <td>...</td>\n",
       "      <td>...</td>\n",
       "    </tr>\n",
       "    <tr>\n",
       "      <th>69</th>\n",
       "      <td>0.500</td>\n",
       "      <td>5.00</td>\n",
       "      <td>multiplicative</td>\n",
       "      <td>10452.296397</td>\n",
       "    </tr>\n",
       "    <tr>\n",
       "      <th>48</th>\n",
       "      <td>0.300</td>\n",
       "      <td>0.01</td>\n",
       "      <td>additive</td>\n",
       "      <td>10479.681165</td>\n",
       "    </tr>\n",
       "    <tr>\n",
       "      <th>49</th>\n",
       "      <td>0.300</td>\n",
       "      <td>0.01</td>\n",
       "      <td>multiplicative</td>\n",
       "      <td>10608.855910</td>\n",
       "    </tr>\n",
       "    <tr>\n",
       "      <th>60</th>\n",
       "      <td>0.500</td>\n",
       "      <td>0.01</td>\n",
       "      <td>additive</td>\n",
       "      <td>10889.026953</td>\n",
       "    </tr>\n",
       "    <tr>\n",
       "      <th>61</th>\n",
       "      <td>0.500</td>\n",
       "      <td>0.01</td>\n",
       "      <td>multiplicative</td>\n",
       "      <td>11049.410357</td>\n",
       "    </tr>\n",
       "  </tbody>\n",
       "</table>\n",
       "<p>72 rows × 4 columns</p>\n",
       "</div>"
      ],
      "text/plain": [
       "    changepoint_prior_scale  seasonality_prior_scale seasonality_mode  \\\n",
       "11                    0.001                    10.00   multiplicative   \n",
       "8                     0.001                     5.00         additive   \n",
       "18                    0.010                     3.00         additive   \n",
       "20                    0.010                     5.00         additive   \n",
       "22                    0.010                    10.00         additive   \n",
       "..                      ...                      ...              ...   \n",
       "69                    0.500                     5.00   multiplicative   \n",
       "48                    0.300                     0.01         additive   \n",
       "49                    0.300                     0.01   multiplicative   \n",
       "60                    0.500                     0.01         additive   \n",
       "61                    0.500                     0.01   multiplicative   \n",
       "\n",
       "            rmse  \n",
       "11   8570.925960  \n",
       "8    8623.564406  \n",
       "18   8624.821244  \n",
       "20   8631.249515  \n",
       "22   8632.374074  \n",
       "..           ...  \n",
       "69  10452.296397  \n",
       "48  10479.681165  \n",
       "49  10608.855910  \n",
       "60  10889.026953  \n",
       "61  11049.410357  \n",
       "\n",
       "[72 rows x 4 columns]"
      ]
     },
     "execution_count": 116,
     "metadata": {},
     "output_type": "execute_result"
    }
   ],
   "source": [
    "tuning_results.sort_values('rmse',ascending=True)"
   ]
  },
  {
   "cell_type": "code",
   "execution_count": 117,
   "id": "947f41aa",
   "metadata": {},
   "outputs": [
    {
     "name": "stdout",
     "output_type": "stream",
     "text": [
      "{'changepoint_prior_scale': 0.001, 'seasonality_prior_scale': 10.0, 'seasonality_mode': 'multiplicative'}\n"
     ]
    }
   ],
   "source": [
    "best_params = all_params[np.argmin(rmses)]\n",
    "print(best_params)"
   ]
  },
  {
   "cell_type": "code",
   "execution_count": 118,
   "id": "4aeffdf0",
   "metadata": {},
   "outputs": [],
   "source": [
    "# Create a Prophet model\n",
    "#model = Prophet(changepoint_prior_scale=0.0100, seasonality_prior_scale=4.006, interval_width=0.95)\n",
    "model = Prophet(changepoint_prior_scale=0.001, seasonality_prior_scale=10.0, seasonality_mode = 'multiplicative',\n",
    "                interval_width=0.95)"
   ]
  },
  {
   "cell_type": "code",
   "execution_count": 119,
   "id": "6b6fda68",
   "metadata": {},
   "outputs": [
    {
     "name": "stderr",
     "output_type": "stream",
     "text": [
      "16:23:38 - cmdstanpy - INFO - Chain [1] start processing\n",
      "16:23:38 - cmdstanpy - INFO - Chain [1] done processing\n"
     ]
    },
    {
     "data": {
      "text/plain": [
       "<prophet.forecaster.Prophet at 0x1b426ddf160>"
      ]
     },
     "execution_count": 119,
     "metadata": {},
     "output_type": "execute_result"
    }
   ],
   "source": [
    "model.fit(train)"
   ]
  },
  {
   "cell_type": "code",
   "execution_count": 120,
   "id": "ae33fd41",
   "metadata": {},
   "outputs": [],
   "source": [
    "# Create a DataFrame for future dates (including 2023)\n",
    "future_dates = model.make_future_dataframe(periods=len(test), freq='MS')  # 6 months in 2023"
   ]
  },
  {
   "cell_type": "code",
   "execution_count": 121,
   "id": "5539d350",
   "metadata": {},
   "outputs": [],
   "source": [
    "# Make predictions for the future\n",
    "forecast = model.predict(future_dates)"
   ]
  },
  {
   "cell_type": "code",
   "execution_count": 122,
   "id": "2666d5c7",
   "metadata": {},
   "outputs": [],
   "source": [
    "forecasted_df=forecast[['ds', 'yhat', 'yhat_lower', 'yhat_upper']].tail(6)"
   ]
  },
  {
   "cell_type": "code",
   "execution_count": 123,
   "id": "8bd35c5e",
   "metadata": {},
   "outputs": [
    {
     "data": {
      "text/html": [
       "<div>\n",
       "<style scoped>\n",
       "    .dataframe tbody tr th:only-of-type {\n",
       "        vertical-align: middle;\n",
       "    }\n",
       "\n",
       "    .dataframe tbody tr th {\n",
       "        vertical-align: top;\n",
       "    }\n",
       "\n",
       "    .dataframe thead th {\n",
       "        text-align: right;\n",
       "    }\n",
       "</style>\n",
       "<table border=\"1\" class=\"dataframe\">\n",
       "  <thead>\n",
       "    <tr style=\"text-align: right;\">\n",
       "      <th></th>\n",
       "      <th>ds</th>\n",
       "      <th>yhat</th>\n",
       "      <th>yhat_lower</th>\n",
       "      <th>yhat_upper</th>\n",
       "    </tr>\n",
       "  </thead>\n",
       "  <tbody>\n",
       "    <tr>\n",
       "      <th>54</th>\n",
       "      <td>2023-07-01</td>\n",
       "      <td>49872.501601</td>\n",
       "      <td>41096.855333</td>\n",
       "      <td>58994.628724</td>\n",
       "    </tr>\n",
       "    <tr>\n",
       "      <th>55</th>\n",
       "      <td>2023-08-01</td>\n",
       "      <td>55126.859031</td>\n",
       "      <td>46123.062732</td>\n",
       "      <td>64347.457345</td>\n",
       "    </tr>\n",
       "    <tr>\n",
       "      <th>56</th>\n",
       "      <td>2023-09-01</td>\n",
       "      <td>54187.285235</td>\n",
       "      <td>44857.311986</td>\n",
       "      <td>62787.963830</td>\n",
       "    </tr>\n",
       "    <tr>\n",
       "      <th>57</th>\n",
       "      <td>2023-10-01</td>\n",
       "      <td>55118.717069</td>\n",
       "      <td>46175.865466</td>\n",
       "      <td>63989.360438</td>\n",
       "    </tr>\n",
       "    <tr>\n",
       "      <th>58</th>\n",
       "      <td>2023-11-01</td>\n",
       "      <td>56970.998668</td>\n",
       "      <td>47576.321993</td>\n",
       "      <td>66596.008184</td>\n",
       "    </tr>\n",
       "    <tr>\n",
       "      <th>59</th>\n",
       "      <td>2023-12-01</td>\n",
       "      <td>54790.076275</td>\n",
       "      <td>45258.269628</td>\n",
       "      <td>63819.663377</td>\n",
       "    </tr>\n",
       "  </tbody>\n",
       "</table>\n",
       "</div>"
      ],
      "text/plain": [
       "           ds          yhat    yhat_lower    yhat_upper\n",
       "54 2023-07-01  49872.501601  41096.855333  58994.628724\n",
       "55 2023-08-01  55126.859031  46123.062732  64347.457345\n",
       "56 2023-09-01  54187.285235  44857.311986  62787.963830\n",
       "57 2023-10-01  55118.717069  46175.865466  63989.360438\n",
       "58 2023-11-01  56970.998668  47576.321993  66596.008184\n",
       "59 2023-12-01  54790.076275  45258.269628  63819.663377"
      ]
     },
     "execution_count": 123,
     "metadata": {},
     "output_type": "execute_result"
    }
   ],
   "source": [
    "forecasted_df"
   ]
  },
  {
   "cell_type": "code",
   "execution_count": 124,
   "id": "d43e665a",
   "metadata": {},
   "outputs": [
    {
     "data": {
      "image/png": "[encoded data removed]",
      "text/plain": [
       "<Figure size 1000x600 with 1 Axes>"
      ]
     },
     "metadata": {},
     "output_type": "display_data"
    }
   ],
   "source": [
    "fig = model.plot(forecast, include_legend=True, uncertainty=True)\n",
    "plt.title('Product A -Sales Forecast (2023)')\n",
    "plt.xlabel('Date')\n",
    "plt.ylabel('Sales')\n",
    "plt.show()"
   ]
  },
  {
   "cell_type": "code",
   "execution_count": 125,
   "id": "0a17d7f3",
   "metadata": {},
   "outputs": [
    {
     "data": {
      "image/png": "[encoded data removed]",
      "text/plain": [
       "<Figure size 1000x600 with 1 Axes>"
      ]
     },
     "metadata": {},
     "output_type": "display_data"
    }
   ],
   "source": [
    "from prophet.plot import add_changepoints_to_plot\n",
    "fig = model.plot(forecast)\n",
    "a = add_changepoints_to_plot(fig.gca(), model, forecast)"
   ]
  },
  {
   "cell_type": "code",
   "execution_count": 126,
   "id": "6ec76faa",
   "metadata": {},
   "outputs": [
    {
     "data": {
      "image/png": "[encoded data removed]",
      "text/plain": [
       "<Figure size 900x600 with 2 Axes>"
      ]
     },
     "metadata": {},
     "output_type": "display_data"
    }
   ],
   "source": [
    "fig2 = model.plot_components(forecast)"
   ]
  },
  {
   "cell_type": "code",
   "execution_count": 127,
   "id": "6cddf665",
   "metadata": {},
   "outputs": [
    {
     "data": {
      "image/png": "[encoded data removed]",
      "text/plain": [
       "<Figure size 1500x500 with 1 Axes>"
      ]
     },
     "metadata": {},
     "output_type": "display_data"
    }
   ],
   "source": [
    "# Reset index of sales_b DataFrame\n",
    "sales_a_reset_index = sales_a.reset_index()\n",
    "\n",
    "# Plotting\n",
    "plt.figure(figsize=(15, 5))\n",
    "plt.plot(sales_a_reset_index['ds'], sales_a_reset_index['y'], label='Actual')\n",
    "plt.plot(forecasted_df['ds'], forecasted_df['yhat'], label='Predicted')\n",
    "plt.title('Product A')\n",
    "plt.xlabel('Month-Year')\n",
    "plt.ylabel('Sales')\n",
    "plt.legend()\n",
    "plt.show()"
   ]
  },
  {
   "cell_type": "code",
   "execution_count": 128,
   "id": "7990c8de",
   "metadata": {},
   "outputs": [],
   "source": [
    "#model evaluation"
   ]
  },
  {
   "cell_type": "code",
   "execution_count": 129,
   "id": "fc82818c",
   "metadata": {},
   "outputs": [],
   "source": [
    "pred=forecasted_df['yhat']\n",
    "test_df=test['y']"
   ]
  },
  {
   "cell_type": "code",
   "execution_count": 130,
   "id": "69e19979",
   "metadata": {},
   "outputs": [
    {
     "name": "stdout",
     "output_type": "stream",
     "text": [
      "MAE - FB PROPHET: 1482.880\n",
      "MAPE - FB PROPHET: 0.027\n",
      "MSE - FB PROPHET: 4427003.095\n",
      "RMSE - FB PROPHET: 2104.044\n"
     ]
    }
   ],
   "source": [
    "mae_fb= mean_absolute_error(test_df,pred)\n",
    "mse_fb=mean_squared_error(test_df, pred)\n",
    "mape_fb= mean_absolute_percentage_error(test_df,pred)\n",
    "rmse_fb= np.sqrt(mean_squared_error(test_df,pred))\n",
    "\n",
    "\n",
    "print(f'MAE - FB PROPHET: {mae_fb:.3f}')\n",
    "print(f'MAPE - FB PROPHET: {mape_fb:.3f}')\n",
    "print(f'MSE - FB PROPHET: {mse_fb:.3f}')\n",
    "print(f'RMSE - FB PROPHET: {rmse_fb:.3f}')"
   ]
  },
  {
   "cell_type": "code",
   "execution_count": null,
   "id": "7b31959b",
   "metadata": {},
   "outputs": [],
   "source": []
  },
  {
   "cell_type": "code",
   "execution_count": 131,
   "id": "a4ff11d6",
   "metadata": {},
   "outputs": [],
   "source": [
    "# train data: 0 to 47 --> Jan-2019 to Dec-2022\n",
    "# test data: 48: 59 --> Jan 2023 to Dec-2023\n",
    "\n",
    "#sales_b['y'].plot(figsize=(12,8))\n",
    "#forecast_df['yhat'].plot()\n",
    "#plt.title('Product B')\n",
    "#plt.xlabel('Month')\n",
    "#plt.ylabel('Sales')\n",
    "#plt.legend(labels=['Actual', 'Predicted'])\n",
    "#plt.show()"
   ]
  },
  {
   "cell_type": "code",
   "execution_count": null,
   "id": "606eb4dc",
   "metadata": {},
   "outputs": [],
   "source": []
  },
  {
   "cell_type": "code",
   "execution_count": 132,
   "id": "6efaebf0",
   "metadata": {},
   "outputs": [],
   "source": [
    "#Set initial window to 2 years (24 months), period to 1 year (12 months), and horizon to 1 year (12 months)\n",
    "df_cv = cross_validation(model, initial='730 days', period='180 days', horizon='180 days', parallel=\"processes\")"
   ]
  },
  {
   "cell_type": "code",
   "execution_count": 133,
   "id": "5f8371b7",
   "metadata": {},
   "outputs": [
    {
     "data": {
      "text/html": [
       "<div>\n",
       "<style scoped>\n",
       "    .dataframe tbody tr th:only-of-type {\n",
       "        vertical-align: middle;\n",
       "    }\n",
       "\n",
       "    .dataframe tbody tr th {\n",
       "        vertical-align: top;\n",
       "    }\n",
       "\n",
       "    .dataframe thead th {\n",
       "        text-align: right;\n",
       "    }\n",
       "</style>\n",
       "<table border=\"1\" class=\"dataframe\">\n",
       "  <thead>\n",
       "    <tr style=\"text-align: right;\">\n",
       "      <th></th>\n",
       "      <th>horizon</th>\n",
       "      <th>mse</th>\n",
       "      <th>rmse</th>\n",
       "      <th>mae</th>\n",
       "      <th>mape</th>\n",
       "      <th>mdape</th>\n",
       "      <th>smape</th>\n",
       "      <th>coverage</th>\n",
       "    </tr>\n",
       "  </thead>\n",
       "  <tbody>\n",
       "    <tr>\n",
       "      <th>0</th>\n",
       "      <td>24 days</td>\n",
       "      <td>2.856036e+07</td>\n",
       "      <td>5344.189387</td>\n",
       "      <td>5344.026320</td>\n",
       "      <td>0.096951</td>\n",
       "      <td>0.096951</td>\n",
       "      <td>0.101896</td>\n",
       "      <td>0.0</td>\n",
       "    </tr>\n",
       "    <tr>\n",
       "      <th>1</th>\n",
       "      <td>25 days</td>\n",
       "      <td>1.515898e+07</td>\n",
       "      <td>3893.453758</td>\n",
       "      <td>3393.400718</td>\n",
       "      <td>0.061157</td>\n",
       "      <td>0.061157</td>\n",
       "      <td>0.063667</td>\n",
       "      <td>0.5</td>\n",
       "    </tr>\n",
       "    <tr>\n",
       "      <th>2</th>\n",
       "      <td>29 days</td>\n",
       "      <td>6.730137e+07</td>\n",
       "      <td>8203.741488</td>\n",
       "      <td>6495.498468</td>\n",
       "      <td>0.105379</td>\n",
       "      <td>0.105379</td>\n",
       "      <td>0.114712</td>\n",
       "      <td>0.5</td>\n",
       "    </tr>\n",
       "    <tr>\n",
       "      <th>3</th>\n",
       "      <td>51 days</td>\n",
       "      <td>1.116996e+08</td>\n",
       "      <td>10568.804277</td>\n",
       "      <td>10522.940986</td>\n",
       "      <td>0.167200</td>\n",
       "      <td>0.167200</td>\n",
       "      <td>0.182599</td>\n",
       "      <td>0.0</td>\n",
       "    </tr>\n",
       "    <tr>\n",
       "      <th>4</th>\n",
       "      <td>55 days</td>\n",
       "      <td>4.797872e+07</td>\n",
       "      <td>6926.667157</td>\n",
       "      <td>5882.934515</td>\n",
       "      <td>0.096858</td>\n",
       "      <td>0.096858</td>\n",
       "      <td>0.103569</td>\n",
       "      <td>0.5</td>\n",
       "    </tr>\n",
       "    <tr>\n",
       "      <th>5</th>\n",
       "      <td>56 days</td>\n",
       "      <td>1.421743e+07</td>\n",
       "      <td>3770.600909</td>\n",
       "      <td>3535.921836</td>\n",
       "      <td>0.067093</td>\n",
       "      <td>0.067093</td>\n",
       "      <td>0.065478</td>\n",
       "      <td>1.0</td>\n",
       "    </tr>\n",
       "    <tr>\n",
       "      <th>6</th>\n",
       "      <td>60 days</td>\n",
       "      <td>1.806926e+08</td>\n",
       "      <td>13442.195872</td>\n",
       "      <td>11613.821973</td>\n",
       "      <td>0.341252</td>\n",
       "      <td>0.341252</td>\n",
       "      <td>0.272041</td>\n",
       "      <td>0.5</td>\n",
       "    </tr>\n",
       "    <tr>\n",
       "      <th>7</th>\n",
       "      <td>82 days</td>\n",
       "      <td>1.705543e+08</td>\n",
       "      <td>13059.644638</td>\n",
       "      <td>10085.712998</td>\n",
       "      <td>0.312343</td>\n",
       "      <td>0.312343</td>\n",
       "      <td>0.244887</td>\n",
       "      <td>0.5</td>\n",
       "    </tr>\n",
       "    <tr>\n",
       "      <th>8</th>\n",
       "      <td>83 days</td>\n",
       "      <td>5.049404e+07</td>\n",
       "      <td>7105.915559</td>\n",
       "      <td>5838.946913</td>\n",
       "      <td>0.131269</td>\n",
       "      <td>0.131269</td>\n",
       "      <td>0.119339</td>\n",
       "      <td>0.5</td>\n",
       "    </tr>\n",
       "    <tr>\n",
       "      <th>9</th>\n",
       "      <td>87 days</td>\n",
       "      <td>4.915216e+07</td>\n",
       "      <td>7010.859902</td>\n",
       "      <td>5304.000454</td>\n",
       "      <td>0.120606</td>\n",
       "      <td>0.120606</td>\n",
       "      <td>0.108930</td>\n",
       "      <td>0.5</td>\n",
       "    </tr>\n",
       "    <tr>\n",
       "      <th>10</th>\n",
       "      <td>88 days</td>\n",
       "      <td>2.073383e+08</td>\n",
       "      <td>14399.246579</td>\n",
       "      <td>10535.087447</td>\n",
       "      <td>0.151370</td>\n",
       "      <td>0.151370</td>\n",
       "      <td>0.175760</td>\n",
       "      <td>0.5</td>\n",
       "    </tr>\n",
       "    <tr>\n",
       "      <th>11</th>\n",
       "      <td>112 days</td>\n",
       "      <td>2.080846e+08</td>\n",
       "      <td>14425.138975</td>\n",
       "      <td>10884.326816</td>\n",
       "      <td>0.157716</td>\n",
       "      <td>0.157716</td>\n",
       "      <td>0.182327</td>\n",
       "      <td>0.5</td>\n",
       "    </tr>\n",
       "    <tr>\n",
       "      <th>12</th>\n",
       "      <td>114 days</td>\n",
       "      <td>4.709039e+06</td>\n",
       "      <td>2170.032096</td>\n",
       "      <td>2069.763059</td>\n",
       "      <td>0.039106</td>\n",
       "      <td>0.039106</td>\n",
       "      <td>0.039973</td>\n",
       "      <td>1.0</td>\n",
       "    </tr>\n",
       "    <tr>\n",
       "      <th>13</th>\n",
       "      <td>117 days</td>\n",
       "      <td>5.655090e+06</td>\n",
       "      <td>2378.043251</td>\n",
       "      <td>2348.576667</td>\n",
       "      <td>0.044630</td>\n",
       "      <td>0.044630</td>\n",
       "      <td>0.044981</td>\n",
       "      <td>1.0</td>\n",
       "    </tr>\n",
       "    <tr>\n",
       "      <th>14</th>\n",
       "      <td>119 days</td>\n",
       "      <td>4.029094e+06</td>\n",
       "      <td>2007.260281</td>\n",
       "      <td>2007.011006</td>\n",
       "      <td>0.037865</td>\n",
       "      <td>0.037865</td>\n",
       "      <td>0.037899</td>\n",
       "      <td>1.0</td>\n",
       "    </tr>\n",
       "    <tr>\n",
       "      <th>15</th>\n",
       "      <td>143 days</td>\n",
       "      <td>1.027244e+08</td>\n",
       "      <td>10135.304781</td>\n",
       "      <td>8113.205634</td>\n",
       "      <td>0.127913</td>\n",
       "      <td>0.127913</td>\n",
       "      <td>0.141548</td>\n",
       "      <td>0.5</td>\n",
       "    </tr>\n",
       "    <tr>\n",
       "      <th>16</th>\n",
       "      <td>144 days</td>\n",
       "      <td>1.399205e+08</td>\n",
       "      <td>11828.800782</td>\n",
       "      <td>11525.258063</td>\n",
       "      <td>0.215084</td>\n",
       "      <td>0.215084</td>\n",
       "      <td>0.218115</td>\n",
       "      <td>0.0</td>\n",
       "    </tr>\n",
       "    <tr>\n",
       "      <th>17</th>\n",
       "      <td>148 days</td>\n",
       "      <td>5.298983e+07</td>\n",
       "      <td>7279.411627</td>\n",
       "      <td>7050.121693</td>\n",
       "      <td>0.156088</td>\n",
       "      <td>0.156088</td>\n",
       "      <td>0.143506</td>\n",
       "      <td>0.5</td>\n",
       "    </tr>\n",
       "    <tr>\n",
       "      <th>18</th>\n",
       "      <td>149 days</td>\n",
       "      <td>1.401656e+07</td>\n",
       "      <td>3743.870045</td>\n",
       "      <td>3006.619067</td>\n",
       "      <td>0.058581</td>\n",
       "      <td>0.058581</td>\n",
       "      <td>0.056148</td>\n",
       "      <td>1.0</td>\n",
       "    </tr>\n",
       "    <tr>\n",
       "      <th>19</th>\n",
       "      <td>173 days</td>\n",
       "      <td>6.732776e+07</td>\n",
       "      <td>8205.349301</td>\n",
       "      <td>6176.950728</td>\n",
       "      <td>0.104197</td>\n",
       "      <td>0.104197</td>\n",
       "      <td>0.114164</td>\n",
       "      <td>0.5</td>\n",
       "    </tr>\n",
       "    <tr>\n",
       "      <th>20</th>\n",
       "      <td>175 days</td>\n",
       "      <td>1.127095e+08</td>\n",
       "      <td>10616.472408</td>\n",
       "      <td>10568.337082</td>\n",
       "      <td>0.172201</td>\n",
       "      <td>0.172201</td>\n",
       "      <td>0.188648</td>\n",
       "      <td>0.0</td>\n",
       "    </tr>\n",
       "    <tr>\n",
       "      <th>21</th>\n",
       "      <td>178 days</td>\n",
       "      <td>4.888346e+07</td>\n",
       "      <td>6991.670424</td>\n",
       "      <td>6044.334689</td>\n",
       "      <td>0.100901</td>\n",
       "      <td>0.100901</td>\n",
       "      <td>0.106738</td>\n",
       "      <td>0.5</td>\n",
       "    </tr>\n",
       "    <tr>\n",
       "      <th>22</th>\n",
       "      <td>180 days</td>\n",
       "      <td>2.377913e+07</td>\n",
       "      <td>4876.385031</td>\n",
       "      <td>4472.746493</td>\n",
       "      <td>0.074212</td>\n",
       "      <td>0.074212</td>\n",
       "      <td>0.076300</td>\n",
       "      <td>0.5</td>\n",
       "    </tr>\n",
       "  </tbody>\n",
       "</table>\n",
       "</div>"
      ],
      "text/plain": [
       "    horizon           mse          rmse           mae      mape     mdape  \\\n",
       "0   24 days  2.856036e+07   5344.189387   5344.026320  0.096951  0.096951   \n",
       "1   25 days  1.515898e+07   3893.453758   3393.400718  0.061157  0.061157   \n",
       "2   29 days  6.730137e+07   8203.741488   6495.498468  0.105379  0.105379   \n",
       "3   51 days  1.116996e+08  10568.804277  10522.940986  0.167200  0.167200   \n",
       "4   55 days  4.797872e+07   6926.667157   5882.934515  0.096858  0.096858   \n",
       "5   56 days  1.421743e+07   3770.600909   3535.921836  0.067093  0.067093   \n",
       "6   60 days  1.806926e+08  13442.195872  11613.821973  0.341252  0.341252   \n",
       "7   82 days  1.705543e+08  13059.644638  10085.712998  0.312343  0.312343   \n",
       "8   83 days  5.049404e+07   7105.915559   5838.946913  0.131269  0.131269   \n",
       "9   87 days  4.915216e+07   7010.859902   5304.000454  0.120606  0.120606   \n",
       "10  88 days  2.073383e+08  14399.246579  10535.087447  0.151370  0.151370   \n",
       "11 112 days  2.080846e+08  14425.138975  10884.326816  0.157716  0.157716   \n",
       "12 114 days  4.709039e+06   2170.032096   2069.763059  0.039106  0.039106   \n",
       "13 117 days  5.655090e+06   2378.043251   2348.576667  0.044630  0.044630   \n",
       "14 119 days  4.029094e+06   2007.260281   2007.011006  0.037865  0.037865   \n",
       "15 143 days  1.027244e+08  10135.304781   8113.205634  0.127913  0.127913   \n",
       "16 144 days  1.399205e+08  11828.800782  11525.258063  0.215084  0.215084   \n",
       "17 148 days  5.298983e+07   7279.411627   7050.121693  0.156088  0.156088   \n",
       "18 149 days  1.401656e+07   3743.870045   3006.619067  0.058581  0.058581   \n",
       "19 173 days  6.732776e+07   8205.349301   6176.950728  0.104197  0.104197   \n",
       "20 175 days  1.127095e+08  10616.472408  10568.337082  0.172201  0.172201   \n",
       "21 178 days  4.888346e+07   6991.670424   6044.334689  0.100901  0.100901   \n",
       "22 180 days  2.377913e+07   4876.385031   4472.746493  0.074212  0.074212   \n",
       "\n",
       "       smape  coverage  \n",
       "0   0.101896       0.0  \n",
       "1   0.063667       0.5  \n",
       "2   0.114712       0.5  \n",
       "3   0.182599       0.0  \n",
       "4   0.103569       0.5  \n",
       "5   0.065478       1.0  \n",
       "6   0.272041       0.5  \n",
       "7   0.244887       0.5  \n",
       "8   0.119339       0.5  \n",
       "9   0.108930       0.5  \n",
       "10  0.175760       0.5  \n",
       "11  0.182327       0.5  \n",
       "12  0.039973       1.0  \n",
       "13  0.044981       1.0  \n",
       "14  0.037899       1.0  \n",
       "15  0.141548       0.5  \n",
       "16  0.218115       0.0  \n",
       "17  0.143506       0.5  \n",
       "18  0.056148       1.0  \n",
       "19  0.114164       0.5  \n",
       "20  0.188648       0.0  \n",
       "21  0.106738       0.5  \n",
       "22  0.076300       0.5  "
      ]
     },
     "execution_count": 133,
     "metadata": {},
     "output_type": "execute_result"
    }
   ],
   "source": [
    "df_p = performance_metrics(df_cv)\n",
    "df_p"
   ]
  },
  {
   "cell_type": "code",
   "execution_count": 134,
   "id": "64048205",
   "metadata": {},
   "outputs": [
    {
     "data": {
      "image/png": "[encoded data removed]",
      "text/plain": [
       "<Figure size 1000x600 with 1 Axes>"
      ]
     },
     "metadata": {},
     "output_type": "display_data"
    }
   ],
   "source": [
    "fig = plot_cross_validation_metric(df_cv, metric='mape')"
   ]
  },
  {
   "cell_type": "code",
   "execution_count": 135,
   "id": "c709e7f6",
   "metadata": {},
   "outputs": [
    {
     "data": {
      "text/plain": [
       "54    54485\n",
       "55    54869\n",
       "56    55607\n",
       "57    55575\n",
       "58    55311\n",
       "59    55281\n",
       "Name: y, dtype: int64"
      ]
     },
     "execution_count": 135,
     "metadata": {},
     "output_type": "execute_result"
    }
   ],
   "source": [
    "test_df"
   ]
  },
  {
   "cell_type": "code",
   "execution_count": 136,
   "id": "42c6986a",
   "metadata": {},
   "outputs": [
    {
     "data": {
      "text/plain": [
       "54    49872.501601\n",
       "55    55126.859031\n",
       "56    54187.285235\n",
       "57    55118.717069\n",
       "58    56970.998668\n",
       "59    54790.076275\n",
       "Name: yhat, dtype: float64"
      ]
     },
     "execution_count": 136,
     "metadata": {},
     "output_type": "execute_result"
    }
   ],
   "source": [
    "pred"
   ]
  },
  {
   "cell_type": "markdown",
   "id": "c4385c2f",
   "metadata": {},
   "source": [
    "# FORECASTING"
   ]
  },
  {
   "cell_type": "code",
   "execution_count": 137,
   "id": "12147b75",
   "metadata": {},
   "outputs": [],
   "source": [
    "model_forecast = Prophet(changepoint_prior_scale=0.001, seasonality_prior_scale=10.0, seasonality_mode = 'multiplicative',\n",
    "                interval_width=0.95)"
   ]
  },
  {
   "cell_type": "code",
   "execution_count": 138,
   "id": "011fe799",
   "metadata": {},
   "outputs": [
    {
     "name": "stderr",
     "output_type": "stream",
     "text": [
      "16:24:28 - cmdstanpy - INFO - Chain [1] start processing\n",
      "16:24:29 - cmdstanpy - INFO - Chain [1] done processing\n"
     ]
    },
    {
     "data": {
      "text/plain": [
       "<prophet.forecaster.Prophet at 0x1b4276c97b0>"
      ]
     },
     "execution_count": 138,
     "metadata": {},
     "output_type": "execute_result"
    }
   ],
   "source": [
    "model_forecast.fit(sales_a)"
   ]
  },
  {
   "cell_type": "code",
   "execution_count": 139,
   "id": "8e9a4a93",
   "metadata": {},
   "outputs": [],
   "source": [
    "# Create a DataFrame for future dates \n",
    "future_dates_f = model_forecast.make_future_dataframe(periods=6, freq='MS')  # 6 months in 2024"
   ]
  },
  {
   "cell_type": "code",
   "execution_count": 140,
   "id": "59a81d86",
   "metadata": {},
   "outputs": [],
   "source": [
    "# Make predictions for the future\n",
    "forecast_f = model_forecast.predict(future_dates_f)"
   ]
  },
  {
   "cell_type": "code",
   "execution_count": 141,
   "id": "b0e6daac",
   "metadata": {},
   "outputs": [],
   "source": [
    "forecasted_f_df=forecast_f[['ds', 'yhat', 'yhat_lower', 'yhat_upper']].tail(6)"
   ]
  },
  {
   "cell_type": "code",
   "execution_count": 142,
   "id": "857ee13d",
   "metadata": {},
   "outputs": [
    {
     "data": {
      "text/html": [
       "<div>\n",
       "<style scoped>\n",
       "    .dataframe tbody tr th:only-of-type {\n",
       "        vertical-align: middle;\n",
       "    }\n",
       "\n",
       "    .dataframe tbody tr th {\n",
       "        vertical-align: top;\n",
       "    }\n",
       "\n",
       "    .dataframe thead th {\n",
       "        text-align: right;\n",
       "    }\n",
       "</style>\n",
       "<table border=\"1\" class=\"dataframe\">\n",
       "  <thead>\n",
       "    <tr style=\"text-align: right;\">\n",
       "      <th></th>\n",
       "      <th>ds</th>\n",
       "      <th>yhat</th>\n",
       "      <th>yhat_lower</th>\n",
       "      <th>yhat_upper</th>\n",
       "    </tr>\n",
       "  </thead>\n",
       "  <tbody>\n",
       "    <tr>\n",
       "      <th>60</th>\n",
       "      <td>2024-01-01</td>\n",
       "      <td>56204.589499</td>\n",
       "      <td>46698.922612</td>\n",
       "      <td>65310.280262</td>\n",
       "    </tr>\n",
       "    <tr>\n",
       "      <th>61</th>\n",
       "      <td>2024-02-01</td>\n",
       "      <td>44754.605883</td>\n",
       "      <td>36656.884361</td>\n",
       "      <td>53789.331044</td>\n",
       "    </tr>\n",
       "    <tr>\n",
       "      <th>62</th>\n",
       "      <td>2024-03-01</td>\n",
       "      <td>50752.868110</td>\n",
       "      <td>41396.372914</td>\n",
       "      <td>59796.334459</td>\n",
       "    </tr>\n",
       "    <tr>\n",
       "      <th>63</th>\n",
       "      <td>2024-04-01</td>\n",
       "      <td>50337.399542</td>\n",
       "      <td>41634.729197</td>\n",
       "      <td>59887.327661</td>\n",
       "    </tr>\n",
       "    <tr>\n",
       "      <th>64</th>\n",
       "      <td>2024-05-01</td>\n",
       "      <td>54353.545942</td>\n",
       "      <td>44773.891549</td>\n",
       "      <td>63731.517248</td>\n",
       "    </tr>\n",
       "    <tr>\n",
       "      <th>65</th>\n",
       "      <td>2024-06-01</td>\n",
       "      <td>50920.314049</td>\n",
       "      <td>41275.475956</td>\n",
       "      <td>59715.576696</td>\n",
       "    </tr>\n",
       "  </tbody>\n",
       "</table>\n",
       "</div>"
      ],
      "text/plain": [
       "           ds          yhat    yhat_lower    yhat_upper\n",
       "60 2024-01-01  56204.589499  46698.922612  65310.280262\n",
       "61 2024-02-01  44754.605883  36656.884361  53789.331044\n",
       "62 2024-03-01  50752.868110  41396.372914  59796.334459\n",
       "63 2024-04-01  50337.399542  41634.729197  59887.327661\n",
       "64 2024-05-01  54353.545942  44773.891549  63731.517248\n",
       "65 2024-06-01  50920.314049  41275.475956  59715.576696"
      ]
     },
     "execution_count": 142,
     "metadata": {},
     "output_type": "execute_result"
    }
   ],
   "source": [
    "forecasted_f_df"
   ]
  },
  {
   "cell_type": "code",
   "execution_count": 143,
   "id": "42137d58",
   "metadata": {
    "scrolled": true
   },
   "outputs": [
    {
     "data": {
      "image/png": "[encoded data removed]",
      "text/plain": [
       "<Figure size 1000x600 with 1 Axes>"
      ]
     },
     "metadata": {},
     "output_type": "display_data"
    }
   ],
   "source": [
    "fig = model_forecast.plot(forecast_f, include_legend=True, uncertainty=True)\n",
    "plt.title('Product A -Sales Forecast (2024)')\n",
    "plt.xlabel('Date')\n",
    "plt.ylabel('Sales')\n",
    "plt.show()"
   ]
  },
  {
   "cell_type": "code",
   "execution_count": 144,
   "id": "c41b1216",
   "metadata": {},
   "outputs": [
    {
     "data": {
      "application/vnd.plotly.v1+json": {
       "config": {
        "plotlyServerURL": "https://plot.ly"
       },
       "data": [
        {
         "marker": {
          "color": "black",
          "size": 4
         },
         "mode": "markers",
         "name": "Actual",
         "type": "scatter",
         "x": [
          "2019-01-01T00:00:00",
          "2019-02-01T00:00:00",
          "2019-03-01T00:00:00",
          "2019-04-01T00:00:00",
          "2019-05-01T00:00:00",
          "2019-06-01T00:00:00",
          "2019-07-01T00:00:00",
          "2019-08-01T00:00:00",
          "2019-09-01T00:00:00",
          "2019-10-01T00:00:00",
          "2019-11-01T00:00:00",
          "2019-12-01T00:00:00",
          "2020-01-01T00:00:00",
          "2020-02-01T00:00:00",
          "2020-03-01T00:00:00",
          "2020-04-01T00:00:00",
          "2020-05-01T00:00:00",
          "2020-06-01T00:00:00",
          "2020-07-01T00:00:00",
          "2020-08-01T00:00:00",
          "2020-09-01T00:00:00",
          "2020-10-01T00:00:00",
          "2020-11-01T00:00:00",
          "2020-12-01T00:00:00",
          "2021-01-01T00:00:00",
          "2021-02-01T00:00:00",
          "2021-03-01T00:00:00",
          "2021-04-01T00:00:00",
          "2021-05-01T00:00:00",
          "2021-06-01T00:00:00",
          "2021-07-01T00:00:00",
          "2021-08-01T00:00:00",
          "2021-09-01T00:00:00",
          "2021-10-01T00:00:00",
          "2021-11-01T00:00:00",
          "2021-12-01T00:00:00",
          "2022-01-01T00:00:00",
          "2022-02-01T00:00:00",
          "2022-03-01T00:00:00",
          "2022-04-01T00:00:00",
          "2022-05-01T00:00:00",
          "2022-06-01T00:00:00",
          "2022-07-01T00:00:00",
          "2022-08-01T00:00:00",
          "2022-09-01T00:00:00",
          "2022-10-01T00:00:00",
          "2022-11-01T00:00:00",
          "2022-12-01T00:00:00",
          "2023-01-01T00:00:00",
          "2023-02-01T00:00:00",
          "2023-03-01T00:00:00",
          "2023-04-01T00:00:00",
          "2023-05-01T00:00:00",
          "2023-06-01T00:00:00",
          "2023-07-01T00:00:00",
          "2023-08-01T00:00:00",
          "2023-09-01T00:00:00",
          "2023-10-01T00:00:00",
          "2023-11-01T00:00:00",
          "2023-12-01T00:00:00"
         ],
         "y": [
          54555,
          54293,
          58798,
          53229,
          50558,
          56326,
          50125,
          56414,
          55658,
          56203,
          56943,
          54800,
          52172,
          48942,
          53422,
          48166,
          50404,
          50709,
          51845,
          56302,
          56527,
          55389,
          52543,
          50325,
          49356,
          50021,
          48118,
          47947,
          55227,
          49167,
          53752,
          62655,
          51256,
          53960,
          65256,
          60727,
          56585,
          53698,
          43442,
          52404,
          41658,
          62172,
          51890,
          52256,
          52959,
          52928,
          52677,
          52648,
          63171,
          31168,
          70380,
          53078,
          43741,
          63919,
          54485,
          54869,
          55607,
          55575,
          55311,
          55281
         ]
        },
        {
         "hoverinfo": "skip",
         "line": {
          "width": 0
         },
         "mode": "lines",
         "type": "scatter",
         "x": [
          "2019-01-01T00:00:00",
          "2019-02-01T00:00:00",
          "2019-03-01T00:00:00",
          "2019-04-01T00:00:00",
          "2019-05-01T00:00:00",
          "2019-06-01T00:00:00",
          "2019-07-01T00:00:00",
          "2019-08-01T00:00:00",
          "2019-09-01T00:00:00",
          "2019-10-01T00:00:00",
          "2019-11-01T00:00:00",
          "2019-12-01T00:00:00",
          "2020-01-01T00:00:00",
          "2020-02-01T00:00:00",
          "2020-03-01T00:00:00",
          "2020-04-01T00:00:00",
          "2020-05-01T00:00:00",
          "2020-06-01T00:00:00",
          "2020-07-01T00:00:00",
          "2020-08-01T00:00:00",
          "2020-09-01T00:00:00",
          "2020-10-01T00:00:00",
          "2020-11-01T00:00:00",
          "2020-12-01T00:00:00",
          "2021-01-01T00:00:00",
          "2021-02-01T00:00:00",
          "2021-03-01T00:00:00",
          "2021-04-01T00:00:00",
          "2021-05-01T00:00:00",
          "2021-06-01T00:00:00",
          "2021-07-01T00:00:00",
          "2021-08-01T00:00:00",
          "2021-09-01T00:00:00",
          "2021-10-01T00:00:00",
          "2021-11-01T00:00:00",
          "2021-12-01T00:00:00",
          "2022-01-01T00:00:00",
          "2022-02-01T00:00:00",
          "2022-03-01T00:00:00",
          "2022-04-01T00:00:00",
          "2022-05-01T00:00:00",
          "2022-06-01T00:00:00",
          "2022-07-01T00:00:00",
          "2022-08-01T00:00:00",
          "2022-09-01T00:00:00",
          "2022-10-01T00:00:00",
          "2022-11-01T00:00:00",
          "2022-12-01T00:00:00",
          "2023-01-01T00:00:00",
          "2023-02-01T00:00:00",
          "2023-03-01T00:00:00",
          "2023-04-01T00:00:00",
          "2023-05-01T00:00:00",
          "2023-06-01T00:00:00",
          "2023-07-01T00:00:00",
          "2023-08-01T00:00:00",
          "2023-09-01T00:00:00",
          "2023-10-01T00:00:00",
          "2023-11-01T00:00:00",
          "2023-12-01T00:00:00",
          "2024-01-01T00:00:00",
          "2024-02-01T00:00:00",
          "2024-03-01T00:00:00",
          "2024-04-01T00:00:00",
          "2024-05-01T00:00:00",
          "2024-06-01T00:00:00"
         ],
         "y": [
          46687.80040120694,
          37962.2636770714,
          48389.413619663625,
          42916.754856802814,
          35530.07783016242,
          50129.02446920591,
          41937.71162097119,
          45273.31361788195,
          45028.33521824524,
          45897.162056259534,
          47498.92694780759,
          45838.96291765162,
          47292.19596233221,
          35611.24479167873,
          41686.04649559492,
          41344.20783689975,
          45459.95683179504,
          41490.37648646625,
          44553.2481831522,
          49060.7887312514,
          44317.75902197231,
          44935.17204886327,
          48480.097956329075,
          45134.23979740763,
          44586.10716945654,
          43243.172611905306,
          43705.8207788965,
          42147.69314615259,
          42188.00371832132,
          44911.0040537801,
          42782.85546781292,
          47864.86071338467,
          44460.49008860037,
          45701.57084718351,
          47880.58086626082,
          45593.32272570474,
          46309.77497583857,
          40894.22684628576,
          46251.92825032847,
          42838.086365031966,
          39274.46915261767,
          47005.51190652541,
          43488.528811693184,
          46991.36709444576,
          45917.17985021567,
          45134.070319286155,
          47317.12264581008,
          45300.75789897,
          45915.685858625184,
          38986.90707991778,
          48747.387709406285,
          43144.58560320017,
          35441.24286925154,
          51059.84579802556,
          42787.90544926655,
          45127.18727308248,
          45400.69957949788,
          45927.07698420009,
          47092.547976420945,
          45687.0303872927,
          46698.92261156844,
          36656.88436067348,
          41396.37291432314,
          41634.72919724966,
          44773.8915491276,
          41275.47595630354
         ]
        },
        {
         "fill": "tonexty",
         "fillcolor": "rgba(0, 114, 178, 0.2)",
         "line": {
          "color": "#0072B2",
          "width": 2
         },
         "mode": "lines",
         "name": "Predicted",
         "type": "scatter",
         "x": [
          "2019-01-01T00:00:00",
          "2019-02-01T00:00:00",
          "2019-03-01T00:00:00",
          "2019-04-01T00:00:00",
          "2019-05-01T00:00:00",
          "2019-06-01T00:00:00",
          "2019-07-01T00:00:00",
          "2019-08-01T00:00:00",
          "2019-09-01T00:00:00",
          "2019-10-01T00:00:00",
          "2019-11-01T00:00:00",
          "2019-12-01T00:00:00",
          "2020-01-01T00:00:00",
          "2020-02-01T00:00:00",
          "2020-03-01T00:00:00",
          "2020-04-01T00:00:00",
          "2020-05-01T00:00:00",
          "2020-06-01T00:00:00",
          "2020-07-01T00:00:00",
          "2020-08-01T00:00:00",
          "2020-09-01T00:00:00",
          "2020-10-01T00:00:00",
          "2020-11-01T00:00:00",
          "2020-12-01T00:00:00",
          "2021-01-01T00:00:00",
          "2021-02-01T00:00:00",
          "2021-03-01T00:00:00",
          "2021-04-01T00:00:00",
          "2021-05-01T00:00:00",
          "2021-06-01T00:00:00",
          "2021-07-01T00:00:00",
          "2021-08-01T00:00:00",
          "2021-09-01T00:00:00",
          "2021-10-01T00:00:00",
          "2021-11-01T00:00:00",
          "2021-12-01T00:00:00",
          "2022-01-01T00:00:00",
          "2022-02-01T00:00:00",
          "2022-03-01T00:00:00",
          "2022-04-01T00:00:00",
          "2022-05-01T00:00:00",
          "2022-06-01T00:00:00",
          "2022-07-01T00:00:00",
          "2022-08-01T00:00:00",
          "2022-09-01T00:00:00",
          "2022-10-01T00:00:00",
          "2022-11-01T00:00:00",
          "2022-12-01T00:00:00",
          "2023-01-01T00:00:00",
          "2023-02-01T00:00:00",
          "2023-03-01T00:00:00",
          "2023-04-01T00:00:00",
          "2023-05-01T00:00:00",
          "2023-06-01T00:00:00",
          "2023-07-01T00:00:00",
          "2023-08-01T00:00:00",
          "2023-09-01T00:00:00",
          "2023-10-01T00:00:00",
          "2023-11-01T00:00:00",
          "2023-12-01T00:00:00",
          "2024-01-01T00:00:00",
          "2024-02-01T00:00:00",
          "2024-03-01T00:00:00",
          "2024-04-01T00:00:00",
          "2024-05-01T00:00:00",
          "2024-06-01T00:00:00"
         ],
         "y": [
          55579.60580189241,
          47452.89347350457,
          57621.988096786175,
          52077.18691890016,
          45481.501323482844,
          59915.225809365875,
          52017.973903739396,
          55027.77470845735,
          55016.31259594222,
          55201.83248782221,
          56330.043706021825,
          55038.15998825439,
          56373.26193035413,
          44888.92496583348,
          50905.19846150906,
          50488.49252294291,
          54516.7038635215,
          51073.17586542773,
          53750.5864921587,
          58440.93331116926,
          53734.00905833597,
          54356.20726841224,
          56592.14406210183,
          54531.8488075689,
          53733.720786468584,
          52476.97085729388,
          53067.533949086595,
          51018.830702311636,
          51428.30097985714,
          53938.389472450115,
          53162.383723780804,
          57242.15214079733,
          54086.95684576682,
          54584.337497008084,
          56450.375208434016,
          54643.54048543513,
          54589.73165551941,
          49885.89238078642,
          55249.78419175544,
          51496.59036287305,
          48370.40551720947,
          56826.845829325925,
          52532.86113506476,
          56049.128723088616,
          54459.61085271453,
          54811.305127479514,
          56306.850413384396,
          54757.53487289734,
          55413.43225770665,
          47311.00841222359,
          57449.687374016554,
          51921.456327306645,
          45345.48598785382,
          59736.03412774592,
          51862.39140257031,
          54863.1796359132,
          54851.7413631514,
          55036.696162909146,
          56161.52163939591,
          54873.49272238551,
          56204.58949922808,
          44754.60588317466,
          50752.868110413605,
          50337.39954244027,
          54353.545942410565,
          50920.314048518776
         ]
        },
        {
         "fill": "tonexty",
         "fillcolor": "rgba(0, 114, 178, 0.2)",
         "hoverinfo": "skip",
         "line": {
          "width": 0
         },
         "mode": "lines",
         "type": "scatter",
         "x": [
          "2019-01-01T00:00:00",
          "2019-02-01T00:00:00",
          "2019-03-01T00:00:00",
          "2019-04-01T00:00:00",
          "2019-05-01T00:00:00",
          "2019-06-01T00:00:00",
          "2019-07-01T00:00:00",
          "2019-08-01T00:00:00",
          "2019-09-01T00:00:00",
          "2019-10-01T00:00:00",
          "2019-11-01T00:00:00",
          "2019-12-01T00:00:00",
          "2020-01-01T00:00:00",
          "2020-02-01T00:00:00",
          "2020-03-01T00:00:00",
          "2020-04-01T00:00:00",
          "2020-05-01T00:00:00",
          "2020-06-01T00:00:00",
          "2020-07-01T00:00:00",
          "2020-08-01T00:00:00",
          "2020-09-01T00:00:00",
          "2020-10-01T00:00:00",
          "2020-11-01T00:00:00",
          "2020-12-01T00:00:00",
          "2021-01-01T00:00:00",
          "2021-02-01T00:00:00",
          "2021-03-01T00:00:00",
          "2021-04-01T00:00:00",
          "2021-05-01T00:00:00",
          "2021-06-01T00:00:00",
          "2021-07-01T00:00:00",
          "2021-08-01T00:00:00",
          "2021-09-01T00:00:00",
          "2021-10-01T00:00:00",
          "2021-11-01T00:00:00",
          "2021-12-01T00:00:00",
          "2022-01-01T00:00:00",
          "2022-02-01T00:00:00",
          "2022-03-01T00:00:00",
          "2022-04-01T00:00:00",
          "2022-05-01T00:00:00",
          "2022-06-01T00:00:00",
          "2022-07-01T00:00:00",
          "2022-08-01T00:00:00",
          "2022-09-01T00:00:00",
          "2022-10-01T00:00:00",
          "2022-11-01T00:00:00",
          "2022-12-01T00:00:00",
          "2023-01-01T00:00:00",
          "2023-02-01T00:00:00",
          "2023-03-01T00:00:00",
          "2023-04-01T00:00:00",
          "2023-05-01T00:00:00",
          "2023-06-01T00:00:00",
          "2023-07-01T00:00:00",
          "2023-08-01T00:00:00",
          "2023-09-01T00:00:00",
          "2023-10-01T00:00:00",
          "2023-11-01T00:00:00",
          "2023-12-01T00:00:00",
          "2024-01-01T00:00:00",
          "2024-02-01T00:00:00",
          "2024-03-01T00:00:00",
          "2024-04-01T00:00:00",
          "2024-05-01T00:00:00",
          "2024-06-01T00:00:00"
         ],
         "y": [
          64686.7223113211,
          56335.50285063867,
          66531.0236977441,
          61310.30552206445,
          54469.932573131795,
          68690.6869744453,
          60879.451875159066,
          64288.24082486443,
          63847.93801073289,
          63860.98456873999,
          65533.797361205405,
          64087.37694348162,
          64795.38474846877,
          54351.91630869955,
          60340.90624331414,
          60253.573475986,
          63460.38059493443,
          60248.62227099679,
          62282.95044642105,
          67662.65540046952,
          63081.801703277684,
          63054.05636561149,
          66078.04995808462,
          64366.82957301509,
          63247.04430125908,
          61966.81162632692,
          61313.77864493743,
          60234.48291411325,
          60916.497724234854,
          62680.16889859758,
          62360.19762304244,
          65722.81718590553,
          63590.4221522197,
          63695.05973570288,
          65379.591349982176,
          63686.672259101986,
          64005.30559549268,
          60009.15370117747,
          65008.719682730996,
          60091.29980443255,
          57961.62205722217,
          66155.66968026906,
          61759.773345419846,
          65213.07270479678,
          64110.85234805972,
          64004.022431590456,
          64966.22488673673,
          63650.92632542779,
          65205.91996914573,
          56086.01205209716,
          66185.0172168092,
          60910.30760303599,
          55045.34835448099,
          69148.04656757954,
          61113.962512758924,
          64287.50056931513,
          63672.15635656953,
          64296.89223239412,
          65031.3934984654,
          63863.786739430754,
          65310.28026213183,
          53789.331044103776,
          59796.334458950776,
          59887.327660755494,
          63731.51724771802,
          59715.57669562862
         ]
        }
       ],
       "layout": {
        "height": 600,
        "showlegend": false,
        "template": {
         "data": {
          "bar": [
           {
            "error_x": {
             "color": "#2a3f5f"
            },
            "error_y": {
             "color": "#2a3f5f"
            },
            "marker": {
             "line": {
              "color": "#E5ECF6",
              "width": 0.5
             },
             "pattern": {
              "fillmode": "overlay",
              "size": 10,
              "solidity": 0.2
             }
            },
            "type": "bar"
           }
          ],
          "barpolar": [
           {
            "marker": {
             "line": {
              "color": "#E5ECF6",
              "width": 0.5
             },
             "pattern": {
              "fillmode": "overlay",
              "size": 10,
              "solidity": 0.2
             }
            },
            "type": "barpolar"
           }
          ],
          "carpet": [
           {
            "aaxis": {
             "endlinecolor": "#2a3f5f",
             "gridcolor": "white",
             "linecolor": "white",
             "minorgridcolor": "white",
             "startlinecolor": "#2a3f5f"
            },
            "baxis": {
             "endlinecolor": "#2a3f5f",
             "gridcolor": "white",
             "linecolor": "white",
             "minorgridcolor": "white",
             "startlinecolor": "#2a3f5f"
            },
            "type": "carpet"
           }
          ],
          "choropleth": [
           {
            "colorbar": {
             "outlinewidth": 0,
             "ticks": ""
            },
            "type": "choropleth"
           }
          ],
          "contour": [
           {
            "colorbar": {
             "outlinewidth": 0,
             "ticks": ""
            },
            "colorscale": [
             [
              0,
              "#0d0887"
             ],
             [
              0.1111111111111111,
              "#46039f"
             ],
             [
              0.2222222222222222,
              "#7201a8"
             ],
             [
              0.3333333333333333,
              "#9c179e"
             ],
             [
              0.4444444444444444,
              "#bd3786"
             ],
             [
              0.5555555555555556,
              "#d8576b"
             ],
             [
              0.6666666666666666,
              "#ed7953"
             ],
             [
              0.7777777777777778,
              "#fb9f3a"
             ],
             [
              0.8888888888888888,
              "#fdca26"
             ],
             [
              1,
              "#f0f921"
             ]
            ],
            "type": "contour"
           }
          ],
          "contourcarpet": [
           {
            "colorbar": {
             "outlinewidth": 0,
             "ticks": ""
            },
            "type": "contourcarpet"
           }
          ],
          "heatmap": [
           {
            "colorbar": {
             "outlinewidth": 0,
             "ticks": ""
            },
            "colorscale": [
             [
              0,
              "#0d0887"
             ],
             [
              0.1111111111111111,
              "#46039f"
             ],
             [
              0.2222222222222222,
              "#7201a8"
             ],
             [
              0.3333333333333333,
              "#9c179e"
             ],
             [
              0.4444444444444444,
              "#bd3786"
             ],
             [
              0.5555555555555556,
              "#d8576b"
             ],
             [
              0.6666666666666666,
              "#ed7953"
             ],
             [
              0.7777777777777778,
              "#fb9f3a"
             ],
             [
              0.8888888888888888,
              "#fdca26"
             ],
             [
              1,
              "#f0f921"
             ]
            ],
            "type": "heatmap"
           }
          ],
          "heatmapgl": [
           {
            "colorbar": {
             "outlinewidth": 0,
             "ticks": ""
            },
            "colorscale": [
             [
              0,
              "#0d0887"
             ],
             [
              0.1111111111111111,
              "#46039f"
             ],
             [
              0.2222222222222222,
              "#7201a8"
             ],
             [
              0.3333333333333333,
              "#9c179e"
             ],
             [
              0.4444444444444444,
              "#bd3786"
             ],
             [
              0.5555555555555556,
              "#d8576b"
             ],
             [
              0.6666666666666666,
              "#ed7953"
             ],
             [
              0.7777777777777778,
              "#fb9f3a"
             ],
             [
              0.8888888888888888,
              "#fdca26"
             ],
             [
              1,
              "#f0f921"
             ]
            ],
            "type": "heatmapgl"
           }
          ],
          "histogram": [
           {
            "marker": {
             "pattern": {
              "fillmode": "overlay",
              "size": 10,
              "solidity": 0.2
             }
            },
            "type": "histogram"
           }
          ],
          "histogram2d": [
           {
            "colorbar": {
             "outlinewidth": 0,
             "ticks": ""
            },
            "colorscale": [
             [
              0,
              "#0d0887"
             ],
             [
              0.1111111111111111,
              "#46039f"
             ],
             [
              0.2222222222222222,
              "#7201a8"
             ],
             [
              0.3333333333333333,
              "#9c179e"
             ],
             [
              0.4444444444444444,
              "#bd3786"
             ],
             [
              0.5555555555555556,
              "#d8576b"
             ],
             [
              0.6666666666666666,
              "#ed7953"
             ],
             [
              0.7777777777777778,
              "#fb9f3a"
             ],
             [
              0.8888888888888888,
              "#fdca26"
             ],
             [
              1,
              "#f0f921"
             ]
            ],
            "type": "histogram2d"
           }
          ],
          "histogram2dcontour": [
           {
            "colorbar": {
             "outlinewidth": 0,
             "ticks": ""
            },
            "colorscale": [
             [
              0,
              "#0d0887"
             ],
             [
              0.1111111111111111,
              "#46039f"
             ],
             [
              0.2222222222222222,
              "#7201a8"
             ],
             [
              0.3333333333333333,
              "#9c179e"
             ],
             [
              0.4444444444444444,
              "#bd3786"
             ],
             [
              0.5555555555555556,
              "#d8576b"
             ],
             [
              0.6666666666666666,
              "#ed7953"
             ],
             [
              0.7777777777777778,
              "#fb9f3a"
             ],
             [
              0.8888888888888888,
              "#fdca26"
             ],
             [
              1,
              "#f0f921"
             ]
            ],
            "type": "histogram2dcontour"
           }
          ],
          "mesh3d": [
           {
            "colorbar": {
             "outlinewidth": 0,
             "ticks": ""
            },
            "type": "mesh3d"
           }
          ],
          "parcoords": [
           {
            "line": {
             "colorbar": {
              "outlinewidth": 0,
              "ticks": ""
             }
            },
            "type": "parcoords"
           }
          ],
          "pie": [
           {
            "automargin": true,
            "type": "pie"
           }
          ],
          "scatter": [
           {
            "fillpattern": {
             "fillmode": "overlay",
             "size": 10,
             "solidity": 0.2
            },
            "type": "scatter"
           }
          ],
          "scatter3d": [
           {
            "line": {
             "colorbar": {
              "outlinewidth": 0,
              "ticks": ""
             }
            },
            "marker": {
             "colorbar": {
              "outlinewidth": 0,
              "ticks": ""
             }
            },
            "type": "scatter3d"
           }
          ],
          "scattercarpet": [
           {
            "marker": {
             "colorbar": {
              "outlinewidth": 0,
              "ticks": ""
             }
            },
            "type": "scattercarpet"
           }
          ],
          "scattergeo": [
           {
            "marker": {
             "colorbar": {
              "outlinewidth": 0,
              "ticks": ""
             }
            },
            "type": "scattergeo"
           }
          ],
          "scattergl": [
           {
            "marker": {
             "colorbar": {
              "outlinewidth": 0,
              "ticks": ""
             }
            },
            "type": "scattergl"
           }
          ],
          "scattermapbox": [
           {
            "marker": {
             "colorbar": {
              "outlinewidth": 0,
              "ticks": ""
             }
            },
            "type": "scattermapbox"
           }
          ],
          "scatterpolar": [
           {
            "marker": {
             "colorbar": {
              "outlinewidth": 0,
              "ticks": ""
             }
            },
            "type": "scatterpolar"
           }
          ],
          "scatterpolargl": [
           {
            "marker": {
             "colorbar": {
              "outlinewidth": 0,
              "ticks": ""
             }
            },
            "type": "scatterpolargl"
           }
          ],
          "scatterternary": [
           {
            "marker": {
             "colorbar": {
              "outlinewidth": 0,
              "ticks": ""
             }
            },
            "type": "scatterternary"
           }
          ],
          "surface": [
           {
            "colorbar": {
             "outlinewidth": 0,
             "ticks": ""
            },
            "colorscale": [
             [
              0,
              "#0d0887"
             ],
             [
              0.1111111111111111,
              "#46039f"
             ],
             [
              0.2222222222222222,
              "#7201a8"
             ],
             [
              0.3333333333333333,
              "#9c179e"
             ],
             [
              0.4444444444444444,
              "#bd3786"
             ],
             [
              0.5555555555555556,
              "#d8576b"
             ],
             [
              0.6666666666666666,
              "#ed7953"
             ],
             [
              0.7777777777777778,
              "#fb9f3a"
             ],
             [
              0.8888888888888888,
              "#fdca26"
             ],
             [
              1,
              "#f0f921"
             ]
            ],
            "type": "surface"
           }
          ],
          "table": [
           {
            "cells": {
             "fill": {
              "color": "#EBF0F8"
             },
             "line": {
              "color": "white"
             }
            },
            "header": {
             "fill": {
              "color": "#C8D4E3"
             },
             "line": {
              "color": "white"
             }
            },
            "type": "table"
           }
          ]
         },
         "layout": {
          "annotationdefaults": {
           "arrowcolor": "#2a3f5f",
           "arrowhead": 0,
           "arrowwidth": 1
          },
          "autotypenumbers": "strict",
          "coloraxis": {
           "colorbar": {
            "outlinewidth": 0,
            "ticks": ""
           }
          },
          "colorscale": {
           "diverging": [
            [
             0,
             "#8e0152"
            ],
            [
             0.1,
             "#c51b7d"
            ],
            [
             0.2,
             "#de77ae"
            ],
            [
             0.3,
             "#f1b6da"
            ],
            [
             0.4,
             "#fde0ef"
            ],
            [
             0.5,
             "#f7f7f7"
            ],
            [
             0.6,
             "#e6f5d0"
            ],
            [
             0.7,
             "#b8e186"
            ],
            [
             0.8,
             "#7fbc41"
            ],
            [
             0.9,
             "#4d9221"
            ],
            [
             1,
             "#276419"
            ]
           ],
           "sequential": [
            [
             0,
             "#0d0887"
            ],
            [
             0.1111111111111111,
             "#46039f"
            ],
            [
             0.2222222222222222,
             "#7201a8"
            ],
            [
             0.3333333333333333,
             "#9c179e"
            ],
            [
             0.4444444444444444,
             "#bd3786"
            ],
            [
             0.5555555555555556,
             "#d8576b"
            ],
            [
             0.6666666666666666,
             "#ed7953"
            ],
            [
             0.7777777777777778,
             "#fb9f3a"
            ],
            [
             0.8888888888888888,
             "#fdca26"
            ],
            [
             1,
             "#f0f921"
            ]
           ],
           "sequentialminus": [
            [
             0,
             "#0d0887"
            ],
            [
             0.1111111111111111,
             "#46039f"
            ],
            [
             0.2222222222222222,
             "#7201a8"
            ],
            [
             0.3333333333333333,
             "#9c179e"
            ],
            [
             0.4444444444444444,
             "#bd3786"
            ],
            [
             0.5555555555555556,
             "#d8576b"
            ],
            [
             0.6666666666666666,
             "#ed7953"
            ],
            [
             0.7777777777777778,
             "#fb9f3a"
            ],
            [
             0.8888888888888888,
             "#fdca26"
            ],
            [
             1,
             "#f0f921"
            ]
           ]
          },
          "colorway": [
           "#636efa",
           "#EF553B",
           "#00cc96",
           "#ab63fa",
           "#FFA15A",
           "#19d3f3",
           "#FF6692",
           "#B6E880",
           "#FF97FF",
           "#FECB52"
          ],
          "font": {
           "color": "#2a3f5f"
          },
          "geo": {
           "bgcolor": "white",
           "lakecolor": "white",
           "landcolor": "#E5ECF6",
           "showlakes": true,
           "showland": true,
           "subunitcolor": "white"
          },
          "hoverlabel": {
           "align": "left"
          },
          "hovermode": "closest",
          "mapbox": {
           "style": "light"
          },
          "paper_bgcolor": "white",
          "plot_bgcolor": "#E5ECF6",
          "polar": {
           "angularaxis": {
            "gridcolor": "white",
            "linecolor": "white",
            "ticks": ""
           },
           "bgcolor": "#E5ECF6",
           "radialaxis": {
            "gridcolor": "white",
            "linecolor": "white",
            "ticks": ""
           }
          },
          "scene": {
           "xaxis": {
            "backgroundcolor": "#E5ECF6",
            "gridcolor": "white",
            "gridwidth": 2,
            "linecolor": "white",
            "showbackground": true,
            "ticks": "",
            "zerolinecolor": "white"
           },
           "yaxis": {
            "backgroundcolor": "#E5ECF6",
            "gridcolor": "white",
            "gridwidth": 2,
            "linecolor": "white",
            "showbackground": true,
            "ticks": "",
            "zerolinecolor": "white"
           },
           "zaxis": {
            "backgroundcolor": "#E5ECF6",
            "gridcolor": "white",
            "gridwidth": 2,
            "linecolor": "white",
            "showbackground": true,
            "ticks": "",
            "zerolinecolor": "white"
           }
          },
          "shapedefaults": {
           "line": {
            "color": "#2a3f5f"
           }
          },
          "ternary": {
           "aaxis": {
            "gridcolor": "white",
            "linecolor": "white",
            "ticks": ""
           },
           "baxis": {
            "gridcolor": "white",
            "linecolor": "white",
            "ticks": ""
           },
           "bgcolor": "#E5ECF6",
           "caxis": {
            "gridcolor": "white",
            "linecolor": "white",
            "ticks": ""
           }
          },
          "title": {
           "x": 0.05
          },
          "xaxis": {
           "automargin": true,
           "gridcolor": "white",
           "linecolor": "white",
           "ticks": "",
           "title": {
            "standoff": 15
           },
           "zerolinecolor": "white",
           "zerolinewidth": 2
          },
          "yaxis": {
           "automargin": true,
           "gridcolor": "white",
           "linecolor": "white",
           "ticks": "",
           "title": {
            "standoff": 15
           },
           "zerolinecolor": "white",
           "zerolinewidth": 2
          }
         }
        },
        "width": 900,
        "xaxis": {
         "rangeselector": {
          "buttons": [
           {
            "count": 7,
            "label": "1w",
            "step": "day",
            "stepmode": "backward"
           },
           {
            "count": 1,
            "label": "1m",
            "step": "month",
            "stepmode": "backward"
           },
           {
            "count": 6,
            "label": "6m",
            "step": "month",
            "stepmode": "backward"
           },
           {
            "count": 1,
            "label": "1y",
            "step": "year",
            "stepmode": "backward"
           },
           {
            "step": "all"
           }
          ]
         },
         "rangeslider": {
          "visible": true
         },
         "title": {
          "text": "ds"
         },
         "type": "date"
        },
        "yaxis": {
         "title": {
          "text": "y"
         }
        }
       }
      },
      "text/html": [
       "<div>                            <div id=\"c5777498-980b-4e9f-b75c-44ef2119a36f\" class=\"plotly-graph-div\" style=\"height:600px; width:900px;\"></div>            <script type=\"text/javascript\">                require([\"plotly\"], function(Plotly) {                    window.PLOTLYENV=window.PLOTLYENV || {};                                    if (document.getElementById(\"c5777498-980b-4e9f-b75c-44ef2119a36f\")) {                    Plotly.newPlot(                        \"c5777498-980b-4e9f-b75c-44ef2119a36f\",                        [{\"marker\":{\"color\":\"black\",\"size\":4},\"mode\":\"markers\",\"name\":\"Actual\",\"x\":[\"2019-01-01T00:00:00\",\"2019-02-01T00:00:00\",\"2019-03-01T00:00:00\",\"2019-04-01T00:00:00\",\"2019-05-01T00:00:00\",\"2019-06-01T00:00:00\",\"2019-07-01T00:00:00\",\"2019-08-01T00:00:00\",\"2019-09-01T00:00:00\",\"2019-10-01T00:00:00\",\"2019-11-01T00:00:00\",\"2019-12-01T00:00:00\",\"2020-01-01T00:00:00\",\"2020-02-01T00:00:00\",\"2020-03-01T00:00:00\",\"2020-04-01T00:00:00\",\"2020-05-01T00:00:00\",\"2020-06-01T00:00:00\",\"2020-07-01T00:00:00\",\"2020-08-01T00:00:00\",\"2020-09-01T00:00:00\",\"2020-10-01T00:00:00\",\"2020-11-01T00:00:00\",\"2020-12-01T00:00:00\",\"2021-01-01T00:00:00\",\"2021-02-01T00:00:00\",\"2021-03-01T00:00:00\",\"2021-04-01T00:00:00\",\"2021-05-01T00:00:00\",\"2021-06-01T00:00:00\",\"2021-07-01T00:00:00\",\"2021-08-01T00:00:00\",\"2021-09-01T00:00:00\",\"2021-10-01T00:00:00\",\"2021-11-01T00:00:00\",\"2021-12-01T00:00:00\",\"2022-01-01T00:00:00\",\"2022-02-01T00:00:00\",\"2022-03-01T00:00:00\",\"2022-04-01T00:00:00\",\"2022-05-01T00:00:00\",\"2022-06-01T00:00:00\",\"2022-07-01T00:00:00\",\"2022-08-01T00:00:00\",\"2022-09-01T00:00:00\",\"2022-10-01T00:00:00\",\"2022-11-01T00:00:00\",\"2022-12-01T00:00:00\",\"2023-01-01T00:00:00\",\"2023-02-01T00:00:00\",\"2023-03-01T00:00:00\",\"2023-04-01T00:00:00\",\"2023-05-01T00:00:00\",\"2023-06-01T00:00:00\",\"2023-07-01T00:00:00\",\"2023-08-01T00:00:00\",\"2023-09-01T00:00:00\",\"2023-10-01T00:00:00\",\"2023-11-01T00:00:00\",\"2023-12-01T00:00:00\"],\"y\":[54555,54293,58798,53229,50558,56326,50125,56414,55658,56203,56943,54800,52172,48942,53422,48166,50404,50709,51845,56302,56527,55389,52543,50325,49356,50021,48118,47947,55227,49167,53752,62655,51256,53960,65256,60727,56585,53698,43442,52404,41658,62172,51890,52256,52959,52928,52677,52648,63171,31168,70380,53078,43741,63919,54485,54869,55607,55575,55311,55281],\"type\":\"scatter\"},{\"hoverinfo\":\"skip\",\"line\":{\"width\":0},\"mode\":\"lines\",\"x\":[\"2019-01-01T00:00:00\",\"2019-02-01T00:00:00\",\"2019-03-01T00:00:00\",\"2019-04-01T00:00:00\",\"2019-05-01T00:00:00\",\"2019-06-01T00:00:00\",\"2019-07-01T00:00:00\",\"2019-08-01T00:00:00\",\"2019-09-01T00:00:00\",\"2019-10-01T00:00:00\",\"2019-11-01T00:00:00\",\"2019-12-01T00:00:00\",\"2020-01-01T00:00:00\",\"2020-02-01T00:00:00\",\"2020-03-01T00:00:00\",\"2020-04-01T00:00:00\",\"2020-05-01T00:00:00\",\"2020-06-01T00:00:00\",\"2020-07-01T00:00:00\",\"2020-08-01T00:00:00\",\"2020-09-01T00:00:00\",\"2020-10-01T00:00:00\",\"2020-11-01T00:00:00\",\"2020-12-01T00:00:00\",\"2021-01-01T00:00:00\",\"2021-02-01T00:00:00\",\"2021-03-01T00:00:00\",\"2021-04-01T00:00:00\",\"2021-05-01T00:00:00\",\"2021-06-01T00:00:00\",\"2021-07-01T00:00:00\",\"2021-08-01T00:00:00\",\"2021-09-01T00:00:00\",\"2021-10-01T00:00:00\",\"2021-11-01T00:00:00\",\"2021-12-01T00:00:00\",\"2022-01-01T00:00:00\",\"2022-02-01T00:00:00\",\"2022-03-01T00:00:00\",\"2022-04-01T00:00:00\",\"2022-05-01T00:00:00\",\"2022-06-01T00:00:00\",\"2022-07-01T00:00:00\",\"2022-08-01T00:00:00\",\"2022-09-01T00:00:00\",\"2022-10-01T00:00:00\",\"2022-11-01T00:00:00\",\"2022-12-01T00:00:00\",\"2023-01-01T00:00:00\",\"2023-02-01T00:00:00\",\"2023-03-01T00:00:00\",\"2023-04-01T00:00:00\",\"2023-05-01T00:00:00\",\"2023-06-01T00:00:00\",\"2023-07-01T00:00:00\",\"2023-08-01T00:00:00\",\"2023-09-01T00:00:00\",\"2023-10-01T00:00:00\",\"2023-11-01T00:00:00\",\"2023-12-01T00:00:00\",\"2024-01-01T00:00:00\",\"2024-02-01T00:00:00\",\"2024-03-01T00:00:00\",\"2024-04-01T00:00:00\",\"2024-05-01T00:00:00\",\"2024-06-01T00:00:00\"],\"y\":[46687.80040120694,37962.2636770714,48389.413619663625,42916.754856802814,35530.07783016242,50129.02446920591,41937.71162097119,45273.31361788195,45028.33521824524,45897.162056259534,47498.92694780759,45838.96291765162,47292.19596233221,35611.24479167873,41686.04649559492,41344.20783689975,45459.95683179504,41490.37648646625,44553.2481831522,49060.7887312514,44317.75902197231,44935.17204886327,48480.097956329075,45134.23979740763,44586.10716945654,43243.172611905306,43705.8207788965,42147.69314615259,42188.00371832132,44911.0040537801,42782.85546781292,47864.86071338467,44460.49008860037,45701.57084718351,47880.58086626082,45593.32272570474,46309.77497583857,40894.22684628576,46251.92825032847,42838.086365031966,39274.46915261767,47005.51190652541,43488.528811693184,46991.36709444576,45917.17985021567,45134.070319286155,47317.12264581008,45300.75789897,45915.685858625184,38986.90707991778,48747.387709406285,43144.58560320017,35441.24286925154,51059.84579802556,42787.90544926655,45127.18727308248,45400.69957949788,45927.07698420009,47092.547976420945,45687.0303872927,46698.92261156844,36656.88436067348,41396.37291432314,41634.72919724966,44773.8915491276,41275.47595630354],\"type\":\"scatter\"},{\"fill\":\"tonexty\",\"fillcolor\":\"rgba(0, 114, 178, 0.2)\",\"line\":{\"color\":\"#0072B2\",\"width\":2},\"mode\":\"lines\",\"name\":\"Predicted\",\"x\":[\"2019-01-01T00:00:00\",\"2019-02-01T00:00:00\",\"2019-03-01T00:00:00\",\"2019-04-01T00:00:00\",\"2019-05-01T00:00:00\",\"2019-06-01T00:00:00\",\"2019-07-01T00:00:00\",\"2019-08-01T00:00:00\",\"2019-09-01T00:00:00\",\"2019-10-01T00:00:00\",\"2019-11-01T00:00:00\",\"2019-12-01T00:00:00\",\"2020-01-01T00:00:00\",\"2020-02-01T00:00:00\",\"2020-03-01T00:00:00\",\"2020-04-01T00:00:00\",\"2020-05-01T00:00:00\",\"2020-06-01T00:00:00\",\"2020-07-01T00:00:00\",\"2020-08-01T00:00:00\",\"2020-09-01T00:00:00\",\"2020-10-01T00:00:00\",\"2020-11-01T00:00:00\",\"2020-12-01T00:00:00\",\"2021-01-01T00:00:00\",\"2021-02-01T00:00:00\",\"2021-03-01T00:00:00\",\"2021-04-01T00:00:00\",\"2021-05-01T00:00:00\",\"2021-06-01T00:00:00\",\"2021-07-01T00:00:00\",\"2021-08-01T00:00:00\",\"2021-09-01T00:00:00\",\"2021-10-01T00:00:00\",\"2021-11-01T00:00:00\",\"2021-12-01T00:00:00\",\"2022-01-01T00:00:00\",\"2022-02-01T00:00:00\",\"2022-03-01T00:00:00\",\"2022-04-01T00:00:00\",\"2022-05-01T00:00:00\",\"2022-06-01T00:00:00\",\"2022-07-01T00:00:00\",\"2022-08-01T00:00:00\",\"2022-09-01T00:00:00\",\"2022-10-01T00:00:00\",\"2022-11-01T00:00:00\",\"2022-12-01T00:00:00\",\"2023-01-01T00:00:00\",\"2023-02-01T00:00:00\",\"2023-03-01T00:00:00\",\"2023-04-01T00:00:00\",\"2023-05-01T00:00:00\",\"2023-06-01T00:00:00\",\"2023-07-01T00:00:00\",\"2023-08-01T00:00:00\",\"2023-09-01T00:00:00\",\"2023-10-01T00:00:00\",\"2023-11-01T00:00:00\",\"2023-12-01T00:00:00\",\"2024-01-01T00:00:00\",\"2024-02-01T00:00:00\",\"2024-03-01T00:00:00\",\"2024-04-01T00:00:00\",\"2024-05-01T00:00:00\",\"2024-06-01T00:00:00\"],\"y\":[55579.60580189241,47452.89347350457,57621.988096786175,52077.18691890016,45481.501323482844,59915.225809365875,52017.973903739396,55027.77470845735,55016.31259594222,55201.83248782221,56330.043706021825,55038.15998825439,56373.26193035413,44888.92496583348,50905.19846150906,50488.49252294291,54516.7038635215,51073.17586542773,53750.5864921587,58440.93331116926,53734.00905833597,54356.20726841224,56592.14406210183,54531.8488075689,53733.720786468584,52476.97085729388,53067.533949086595,51018.830702311636,51428.30097985714,53938.389472450115,53162.383723780804,57242.15214079733,54086.95684576682,54584.337497008084,56450.375208434016,54643.54048543513,54589.73165551941,49885.89238078642,55249.78419175544,51496.59036287305,48370.40551720947,56826.845829325925,52532.86113506476,56049.128723088616,54459.61085271453,54811.305127479514,56306.850413384396,54757.53487289734,55413.43225770665,47311.00841222359,57449.687374016554,51921.456327306645,45345.48598785382,59736.03412774592,51862.39140257031,54863.1796359132,54851.7413631514,55036.696162909146,56161.52163939591,54873.49272238551,56204.58949922808,44754.60588317466,50752.868110413605,50337.39954244027,54353.545942410565,50920.314048518776],\"type\":\"scatter\"},{\"fill\":\"tonexty\",\"fillcolor\":\"rgba(0, 114, 178, 0.2)\",\"hoverinfo\":\"skip\",\"line\":{\"width\":0},\"mode\":\"lines\",\"x\":[\"2019-01-01T00:00:00\",\"2019-02-01T00:00:00\",\"2019-03-01T00:00:00\",\"2019-04-01T00:00:00\",\"2019-05-01T00:00:00\",\"2019-06-01T00:00:00\",\"2019-07-01T00:00:00\",\"2019-08-01T00:00:00\",\"2019-09-01T00:00:00\",\"2019-10-01T00:00:00\",\"2019-11-01T00:00:00\",\"2019-12-01T00:00:00\",\"2020-01-01T00:00:00\",\"2020-02-01T00:00:00\",\"2020-03-01T00:00:00\",\"2020-04-01T00:00:00\",\"2020-05-01T00:00:00\",\"2020-06-01T00:00:00\",\"2020-07-01T00:00:00\",\"2020-08-01T00:00:00\",\"2020-09-01T00:00:00\",\"2020-10-01T00:00:00\",\"2020-11-01T00:00:00\",\"2020-12-01T00:00:00\",\"2021-01-01T00:00:00\",\"2021-02-01T00:00:00\",\"2021-03-01T00:00:00\",\"2021-04-01T00:00:00\",\"2021-05-01T00:00:00\",\"2021-06-01T00:00:00\",\"2021-07-01T00:00:00\",\"2021-08-01T00:00:00\",\"2021-09-01T00:00:00\",\"2021-10-01T00:00:00\",\"2021-11-01T00:00:00\",\"2021-12-01T00:00:00\",\"2022-01-01T00:00:00\",\"2022-02-01T00:00:00\",\"2022-03-01T00:00:00\",\"2022-04-01T00:00:00\",\"2022-05-01T00:00:00\",\"2022-06-01T00:00:00\",\"2022-07-01T00:00:00\",\"2022-08-01T00:00:00\",\"2022-09-01T00:00:00\",\"2022-10-01T00:00:00\",\"2022-11-01T00:00:00\",\"2022-12-01T00:00:00\",\"2023-01-01T00:00:00\",\"2023-02-01T00:00:00\",\"2023-03-01T00:00:00\",\"2023-04-01T00:00:00\",\"2023-05-01T00:00:00\",\"2023-06-01T00:00:00\",\"2023-07-01T00:00:00\",\"2023-08-01T00:00:00\",\"2023-09-01T00:00:00\",\"2023-10-01T00:00:00\",\"2023-11-01T00:00:00\",\"2023-12-01T00:00:00\",\"2024-01-01T00:00:00\",\"2024-02-01T00:00:00\",\"2024-03-01T00:00:00\",\"2024-04-01T00:00:00\",\"2024-05-01T00:00:00\",\"2024-06-01T00:00:00\"],\"y\":[64686.7223113211,56335.50285063867,66531.0236977441,61310.30552206445,54469.932573131795,68690.6869744453,60879.451875159066,64288.24082486443,63847.93801073289,63860.98456873999,65533.797361205405,64087.37694348162,64795.38474846877,54351.91630869955,60340.90624331414,60253.573475986,63460.38059493443,60248.62227099679,62282.95044642105,67662.65540046952,63081.801703277684,63054.05636561149,66078.04995808462,64366.82957301509,63247.04430125908,61966.81162632692,61313.77864493743,60234.48291411325,60916.497724234854,62680.16889859758,62360.19762304244,65722.81718590553,63590.4221522197,63695.05973570288,65379.591349982176,63686.672259101986,64005.30559549268,60009.15370117747,65008.719682730996,60091.29980443255,57961.62205722217,66155.66968026906,61759.773345419846,65213.07270479678,64110.85234805972,64004.022431590456,64966.22488673673,63650.92632542779,65205.91996914573,56086.01205209716,66185.0172168092,60910.30760303599,55045.34835448099,69148.04656757954,61113.962512758924,64287.50056931513,63672.15635656953,64296.89223239412,65031.3934984654,63863.786739430754,65310.28026213183,53789.331044103776,59796.334458950776,59887.327660755494,63731.51724771802,59715.57669562862],\"type\":\"scatter\"}],                        {\"height\":600,\"showlegend\":false,\"width\":900,\"xaxis\":{\"rangeselector\":{\"buttons\":[{\"count\":7,\"label\":\"1w\",\"step\":\"day\",\"stepmode\":\"backward\"},{\"count\":1,\"label\":\"1m\",\"step\":\"month\",\"stepmode\":\"backward\"},{\"count\":6,\"label\":\"6m\",\"step\":\"month\",\"stepmode\":\"backward\"},{\"count\":1,\"label\":\"1y\",\"step\":\"year\",\"stepmode\":\"backward\"},{\"step\":\"all\"}]},\"rangeslider\":{\"visible\":true},\"title\":{\"text\":\"ds\"},\"type\":\"date\"},\"yaxis\":{\"title\":{\"text\":\"y\"}},\"template\":{\"data\":{\"histogram2dcontour\":[{\"type\":\"histogram2dcontour\",\"colorbar\":{\"outlinewidth\":0,\"ticks\":\"\"},\"colorscale\":[[0.0,\"#0d0887\"],[0.1111111111111111,\"#46039f\"],[0.2222222222222222,\"#7201a8\"],[0.3333333333333333,\"#9c179e\"],[0.4444444444444444,\"#bd3786\"],[0.5555555555555556,\"#d8576b\"],[0.6666666666666666,\"#ed7953\"],[0.7777777777777778,\"#fb9f3a\"],[0.8888888888888888,\"#fdca26\"],[1.0,\"#f0f921\"]]}],\"choropleth\":[{\"type\":\"choropleth\",\"colorbar\":{\"outlinewidth\":0,\"ticks\":\"\"}}],\"histogram2d\":[{\"type\":\"histogram2d\",\"colorbar\":{\"outlinewidth\":0,\"ticks\":\"\"},\"colorscale\":[[0.0,\"#0d0887\"],[0.1111111111111111,\"#46039f\"],[0.2222222222222222,\"#7201a8\"],[0.3333333333333333,\"#9c179e\"],[0.4444444444444444,\"#bd3786\"],[0.5555555555555556,\"#d8576b\"],[0.6666666666666666,\"#ed7953\"],[0.7777777777777778,\"#fb9f3a\"],[0.8888888888888888,\"#fdca26\"],[1.0,\"#f0f921\"]]}],\"heatmap\":[{\"type\":\"heatmap\",\"colorbar\":{\"outlinewidth\":0,\"ticks\":\"\"},\"colorscale\":[[0.0,\"#0d0887\"],[0.1111111111111111,\"#46039f\"],[0.2222222222222222,\"#7201a8\"],[0.3333333333333333,\"#9c179e\"],[0.4444444444444444,\"#bd3786\"],[0.5555555555555556,\"#d8576b\"],[0.6666666666666666,\"#ed7953\"],[0.7777777777777778,\"#fb9f3a\"],[0.8888888888888888,\"#fdca26\"],[1.0,\"#f0f921\"]]}],\"heatmapgl\":[{\"type\":\"heatmapgl\",\"colorbar\":{\"outlinewidth\":0,\"ticks\":\"\"},\"colorscale\":[[0.0,\"#0d0887\"],[0.1111111111111111,\"#46039f\"],[0.2222222222222222,\"#7201a8\"],[0.3333333333333333,\"#9c179e\"],[0.4444444444444444,\"#bd3786\"],[0.5555555555555556,\"#d8576b\"],[0.6666666666666666,\"#ed7953\"],[0.7777777777777778,\"#fb9f3a\"],[0.8888888888888888,\"#fdca26\"],[1.0,\"#f0f921\"]]}],\"contourcarpet\":[{\"type\":\"contourcarpet\",\"colorbar\":{\"outlinewidth\":0,\"ticks\":\"\"}}],\"contour\":[{\"type\":\"contour\",\"colorbar\":{\"outlinewidth\":0,\"ticks\":\"\"},\"colorscale\":[[0.0,\"#0d0887\"],[0.1111111111111111,\"#46039f\"],[0.2222222222222222,\"#7201a8\"],[0.3333333333333333,\"#9c179e\"],[0.4444444444444444,\"#bd3786\"],[0.5555555555555556,\"#d8576b\"],[0.6666666666666666,\"#ed7953\"],[0.7777777777777778,\"#fb9f3a\"],[0.8888888888888888,\"#fdca26\"],[1.0,\"#f0f921\"]]}],\"surface\":[{\"type\":\"surface\",\"colorbar\":{\"outlinewidth\":0,\"ticks\":\"\"},\"colorscale\":[[0.0,\"#0d0887\"],[0.1111111111111111,\"#46039f\"],[0.2222222222222222,\"#7201a8\"],[0.3333333333333333,\"#9c179e\"],[0.4444444444444444,\"#bd3786\"],[0.5555555555555556,\"#d8576b\"],[0.6666666666666666,\"#ed7953\"],[0.7777777777777778,\"#fb9f3a\"],[0.8888888888888888,\"#fdca26\"],[1.0,\"#f0f921\"]]}],\"mesh3d\":[{\"type\":\"mesh3d\",\"colorbar\":{\"outlinewidth\":0,\"ticks\":\"\"}}],\"scatter\":[{\"fillpattern\":{\"fillmode\":\"overlay\",\"size\":10,\"solidity\":0.2},\"type\":\"scatter\"}],\"parcoords\":[{\"type\":\"parcoords\",\"line\":{\"colorbar\":{\"outlinewidth\":0,\"ticks\":\"\"}}}],\"scatterpolargl\":[{\"type\":\"scatterpolargl\",\"marker\":{\"colorbar\":{\"outlinewidth\":0,\"ticks\":\"\"}}}],\"bar\":[{\"error_x\":{\"color\":\"#2a3f5f\"},\"error_y\":{\"color\":\"#2a3f5f\"},\"marker\":{\"line\":{\"color\":\"#E5ECF6\",\"width\":0.5},\"pattern\":{\"fillmode\":\"overlay\",\"size\":10,\"solidity\":0.2}},\"type\":\"bar\"}],\"scattergeo\":[{\"type\":\"scattergeo\",\"marker\":{\"colorbar\":{\"outlinewidth\":0,\"ticks\":\"\"}}}],\"scatterpolar\":[{\"type\":\"scatterpolar\",\"marker\":{\"colorbar\":{\"outlinewidth\":0,\"ticks\":\"\"}}}],\"histogram\":[{\"marker\":{\"pattern\":{\"fillmode\":\"overlay\",\"size\":10,\"solidity\":0.2}},\"type\":\"histogram\"}],\"scattergl\":[{\"type\":\"scattergl\",\"marker\":{\"colorbar\":{\"outlinewidth\":0,\"ticks\":\"\"}}}],\"scatter3d\":[{\"type\":\"scatter3d\",\"line\":{\"colorbar\":{\"outlinewidth\":0,\"ticks\":\"\"}},\"marker\":{\"colorbar\":{\"outlinewidth\":0,\"ticks\":\"\"}}}],\"scattermapbox\":[{\"type\":\"scattermapbox\",\"marker\":{\"colorbar\":{\"outlinewidth\":0,\"ticks\":\"\"}}}],\"scatterternary\":[{\"type\":\"scatterternary\",\"marker\":{\"colorbar\":{\"outlinewidth\":0,\"ticks\":\"\"}}}],\"scattercarpet\":[{\"type\":\"scattercarpet\",\"marker\":{\"colorbar\":{\"outlinewidth\":0,\"ticks\":\"\"}}}],\"carpet\":[{\"aaxis\":{\"endlinecolor\":\"#2a3f5f\",\"gridcolor\":\"white\",\"linecolor\":\"white\",\"minorgridcolor\":\"white\",\"startlinecolor\":\"#2a3f5f\"},\"baxis\":{\"endlinecolor\":\"#2a3f5f\",\"gridcolor\":\"white\",\"linecolor\":\"white\",\"minorgridcolor\":\"white\",\"startlinecolor\":\"#2a3f5f\"},\"type\":\"carpet\"}],\"table\":[{\"cells\":{\"fill\":{\"color\":\"#EBF0F8\"},\"line\":{\"color\":\"white\"}},\"header\":{\"fill\":{\"color\":\"#C8D4E3\"},\"line\":{\"color\":\"white\"}},\"type\":\"table\"}],\"barpolar\":[{\"marker\":{\"line\":{\"color\":\"#E5ECF6\",\"width\":0.5},\"pattern\":{\"fillmode\":\"overlay\",\"size\":10,\"solidity\":0.2}},\"type\":\"barpolar\"}],\"pie\":[{\"automargin\":true,\"type\":\"pie\"}]},\"layout\":{\"autotypenumbers\":\"strict\",\"colorway\":[\"#636efa\",\"#EF553B\",\"#00cc96\",\"#ab63fa\",\"#FFA15A\",\"#19d3f3\",\"#FF6692\",\"#B6E880\",\"#FF97FF\",\"#FECB52\"],\"font\":{\"color\":\"#2a3f5f\"},\"hovermode\":\"closest\",\"hoverlabel\":{\"align\":\"left\"},\"paper_bgcolor\":\"white\",\"plot_bgcolor\":\"#E5ECF6\",\"polar\":{\"bgcolor\":\"#E5ECF6\",\"angularaxis\":{\"gridcolor\":\"white\",\"linecolor\":\"white\",\"ticks\":\"\"},\"radialaxis\":{\"gridcolor\":\"white\",\"linecolor\":\"white\",\"ticks\":\"\"}},\"ternary\":{\"bgcolor\":\"#E5ECF6\",\"aaxis\":{\"gridcolor\":\"white\",\"linecolor\":\"white\",\"ticks\":\"\"},\"baxis\":{\"gridcolor\":\"white\",\"linecolor\":\"white\",\"ticks\":\"\"},\"caxis\":{\"gridcolor\":\"white\",\"linecolor\":\"white\",\"ticks\":\"\"}},\"coloraxis\":{\"colorbar\":{\"outlinewidth\":0,\"ticks\":\"\"}},\"colorscale\":{\"sequential\":[[0.0,\"#0d0887\"],[0.1111111111111111,\"#46039f\"],[0.2222222222222222,\"#7201a8\"],[0.3333333333333333,\"#9c179e\"],[0.4444444444444444,\"#bd3786\"],[0.5555555555555556,\"#d8576b\"],[0.6666666666666666,\"#ed7953\"],[0.7777777777777778,\"#fb9f3a\"],[0.8888888888888888,\"#fdca26\"],[1.0,\"#f0f921\"]],\"sequentialminus\":[[0.0,\"#0d0887\"],[0.1111111111111111,\"#46039f\"],[0.2222222222222222,\"#7201a8\"],[0.3333333333333333,\"#9c179e\"],[0.4444444444444444,\"#bd3786\"],[0.5555555555555556,\"#d8576b\"],[0.6666666666666666,\"#ed7953\"],[0.7777777777777778,\"#fb9f3a\"],[0.8888888888888888,\"#fdca26\"],[1.0,\"#f0f921\"]],\"diverging\":[[0,\"#8e0152\"],[0.1,\"#c51b7d\"],[0.2,\"#de77ae\"],[0.3,\"#f1b6da\"],[0.4,\"#fde0ef\"],[0.5,\"#f7f7f7\"],[0.6,\"#e6f5d0\"],[0.7,\"#b8e186\"],[0.8,\"#7fbc41\"],[0.9,\"#4d9221\"],[1,\"#276419\"]]},\"xaxis\":{\"gridcolor\":\"white\",\"linecolor\":\"white\",\"ticks\":\"\",\"title\":{\"standoff\":15},\"zerolinecolor\":\"white\",\"automargin\":true,\"zerolinewidth\":2},\"yaxis\":{\"gridcolor\":\"white\",\"linecolor\":\"white\",\"ticks\":\"\",\"title\":{\"standoff\":15},\"zerolinecolor\":\"white\",\"automargin\":true,\"zerolinewidth\":2},\"scene\":{\"xaxis\":{\"backgroundcolor\":\"#E5ECF6\",\"gridcolor\":\"white\",\"linecolor\":\"white\",\"showbackground\":true,\"ticks\":\"\",\"zerolinecolor\":\"white\",\"gridwidth\":2},\"yaxis\":{\"backgroundcolor\":\"#E5ECF6\",\"gridcolor\":\"white\",\"linecolor\":\"white\",\"showbackground\":true,\"ticks\":\"\",\"zerolinecolor\":\"white\",\"gridwidth\":2},\"zaxis\":{\"backgroundcolor\":\"#E5ECF6\",\"gridcolor\":\"white\",\"linecolor\":\"white\",\"showbackground\":true,\"ticks\":\"\",\"zerolinecolor\":\"white\",\"gridwidth\":2}},\"shapedefaults\":{\"line\":{\"color\":\"#2a3f5f\"}},\"annotationdefaults\":{\"arrowcolor\":\"#2a3f5f\",\"arrowhead\":0,\"arrowwidth\":1},\"geo\":{\"bgcolor\":\"white\",\"landcolor\":\"#E5ECF6\",\"subunitcolor\":\"white\",\"showland\":true,\"showlakes\":true,\"lakecolor\":\"white\"},\"title\":{\"x\":0.05},\"mapbox\":{\"style\":\"light\"}}}},                        {\"responsive\": true}                    ).then(function(){\n",
       "                            \n",
       "var gd = document.getElementById('c5777498-980b-4e9f-b75c-44ef2119a36f');\n",
       "var x = new MutationObserver(function (mutations, observer) {{\n",
       "        var display = window.getComputedStyle(gd).display;\n",
       "        if (!display || display === 'none') {{\n",
       "            console.log([gd, 'removed!']);\n",
       "            Plotly.purge(gd);\n",
       "            observer.disconnect();\n",
       "        }}\n",
       "}});\n",
       "\n",
       "// Listen for the removal of the full notebook cells\n",
       "var notebookContainer = gd.closest('#notebook-container');\n",
       "if (notebookContainer) {{\n",
       "    x.observe(notebookContainer, {childList: true});\n",
       "}}\n",
       "\n",
       "// Listen for the clearing of the current output cell\n",
       "var outputEl = gd.closest('.output');\n",
       "if (outputEl) {{\n",
       "    x.observe(outputEl, {childList: true});\n",
       "}}\n",
       "\n",
       "                        })                };                });            </script>        </div>"
      ]
     },
     "metadata": {},
     "output_type": "display_data"
    }
   ],
   "source": [
    "from prophet.plot import plot_plotly, plot_components_plotly\n",
    "\n",
    "plot_plotly(model_forecast,forecast_f)"
   ]
  },
  {
   "cell_type": "code",
   "execution_count": 145,
   "id": "5d3223b2",
   "metadata": {},
   "outputs": [
    {
     "data": {
      "application/vnd.plotly.v1+json": {
       "config": {
        "plotlyServerURL": "https://plot.ly"
       },
       "data": [
        {
         "line": {
          "color": "#0072B2",
          "width": 2
         },
         "mode": "lines",
         "name": "trend",
         "type": "scatter",
         "x": [
          "2019-01-01T00:00:00",
          "2019-02-01T00:00:00",
          "2019-03-01T00:00:00",
          "2019-04-01T00:00:00",
          "2019-05-01T00:00:00",
          "2019-06-01T00:00:00",
          "2019-07-01T00:00:00",
          "2019-08-01T00:00:00",
          "2019-09-01T00:00:00",
          "2019-10-01T00:00:00",
          "2019-11-01T00:00:00",
          "2019-12-01T00:00:00",
          "2020-01-01T00:00:00",
          "2020-02-01T00:00:00",
          "2020-03-01T00:00:00",
          "2020-04-01T00:00:00",
          "2020-05-01T00:00:00",
          "2020-06-01T00:00:00",
          "2020-07-01T00:00:00",
          "2020-08-01T00:00:00",
          "2020-09-01T00:00:00",
          "2020-10-01T00:00:00",
          "2020-11-01T00:00:00",
          "2020-12-01T00:00:00",
          "2021-01-01T00:00:00",
          "2021-02-01T00:00:00",
          "2021-03-01T00:00:00",
          "2021-04-01T00:00:00",
          "2021-05-01T00:00:00",
          "2021-06-01T00:00:00",
          "2021-07-01T00:00:00",
          "2021-08-01T00:00:00",
          "2021-09-01T00:00:00",
          "2021-10-01T00:00:00",
          "2021-11-01T00:00:00",
          "2021-12-01T00:00:00",
          "2022-01-01T00:00:00",
          "2022-02-01T00:00:00",
          "2022-03-01T00:00:00",
          "2022-04-01T00:00:00",
          "2022-05-01T00:00:00",
          "2022-06-01T00:00:00",
          "2022-07-01T00:00:00",
          "2022-08-01T00:00:00",
          "2022-09-01T00:00:00",
          "2022-10-01T00:00:00",
          "2022-11-01T00:00:00",
          "2022-12-01T00:00:00",
          "2023-01-01T00:00:00",
          "2023-02-01T00:00:00",
          "2023-03-01T00:00:00",
          "2023-04-01T00:00:00",
          "2023-05-01T00:00:00",
          "2023-06-01T00:00:00",
          "2023-07-01T00:00:00",
          "2023-08-01T00:00:00",
          "2023-09-01T00:00:00",
          "2023-10-01T00:00:00",
          "2023-11-01T00:00:00",
          "2023-12-01T00:00:00",
          "2024-01-01T00:00:00",
          "2024-02-01T00:00:00",
          "2024-03-01T00:00:00",
          "2024-04-01T00:00:00",
          "2024-05-01T00:00:00",
          "2024-06-01T00:00:00"
         ],
         "xaxis": "x",
         "y": [
          52981.92324,
          52978.5621076332,
          52975.52624614062,
          52972.165113743315,
          52968.912404971736,
          52965.551272560835,
          52962.2985637761,
          52958.93743131765,
          52955.5762988592,
          52952.32359004443,
          52948.962457582544,
          52945.70974874846,
          52942.348616275216,
          52938.98748380197,
          52935.84319862903,
          52932.48206620279,
          52929.22935740691,
          52925.868224984515,
          52922.61551620273,
          52919.25438379488,
          52915.89325142155,
          52912.64054267317,
          52909.27941035399,
          52906.026701658,
          52902.665569362725,
          52899.304437091785,
          52896.26857568577,
          52892.90744347029,
          52889.65473487466,
          52886.293602614394,
          52883.04089397542,
          52879.67976169872,
          52876.318629422,
          52873.06592073628,
          52869.7047884277,
          52866.45207974894,
          52863.09094744755,
          52859.72981510341,
          52856.6939536313,
          52853.33282123467,
          52850.08011243052,
          52846.718979999576,
          52843.4662712163,
          52840.10513880691,
          52836.74400637903,
          52833.491297577864,
          52830.13016509596,
          52826.877456242495,
          52823.516323715856,
          52820.1551911892,
          52817.11932955223,
          52813.75819702559,
          52810.505488128845,
          52807.14435560219,
          52803.891646705444,
          52800.5305141788,
          52797.16938165215,
          52793.916672755404,
          52790.55554022875,
          52787.302831332,
          52783.94169880536,
          52780.58056627871,
          52777.43628101185,
          52774.07514848521,
          52770.82243958845,
          52767.46130706181
         ],
         "yaxis": "y"
        },
        {
         "line": {
          "color": "rgba(0, 114, 178, 0.2)",
          "width": 0
         },
         "mode": "lines",
         "name": "trend_upper",
         "type": "scatter",
         "x": [
          "2019-01-01T00:00:00",
          "2019-02-01T00:00:00",
          "2019-03-01T00:00:00",
          "2019-04-01T00:00:00",
          "2019-05-01T00:00:00",
          "2019-06-01T00:00:00",
          "2019-07-01T00:00:00",
          "2019-08-01T00:00:00",
          "2019-09-01T00:00:00",
          "2019-10-01T00:00:00",
          "2019-11-01T00:00:00",
          "2019-12-01T00:00:00",
          "2020-01-01T00:00:00",
          "2020-02-01T00:00:00",
          "2020-03-01T00:00:00",
          "2020-04-01T00:00:00",
          "2020-05-01T00:00:00",
          "2020-06-01T00:00:00",
          "2020-07-01T00:00:00",
          "2020-08-01T00:00:00",
          "2020-09-01T00:00:00",
          "2020-10-01T00:00:00",
          "2020-11-01T00:00:00",
          "2020-12-01T00:00:00",
          "2021-01-01T00:00:00",
          "2021-02-01T00:00:00",
          "2021-03-01T00:00:00",
          "2021-04-01T00:00:00",
          "2021-05-01T00:00:00",
          "2021-06-01T00:00:00",
          "2021-07-01T00:00:00",
          "2021-08-01T00:00:00",
          "2021-09-01T00:00:00",
          "2021-10-01T00:00:00",
          "2021-11-01T00:00:00",
          "2021-12-01T00:00:00",
          "2022-01-01T00:00:00",
          "2022-02-01T00:00:00",
          "2022-03-01T00:00:00",
          "2022-04-01T00:00:00",
          "2022-05-01T00:00:00",
          "2022-06-01T00:00:00",
          "2022-07-01T00:00:00",
          "2022-08-01T00:00:00",
          "2022-09-01T00:00:00",
          "2022-10-01T00:00:00",
          "2022-11-01T00:00:00",
          "2022-12-01T00:00:00",
          "2023-01-01T00:00:00",
          "2023-02-01T00:00:00",
          "2023-03-01T00:00:00",
          "2023-04-01T00:00:00",
          "2023-05-01T00:00:00",
          "2023-06-01T00:00:00",
          "2023-07-01T00:00:00",
          "2023-08-01T00:00:00",
          "2023-09-01T00:00:00",
          "2023-10-01T00:00:00",
          "2023-11-01T00:00:00",
          "2023-12-01T00:00:00",
          "2024-01-01T00:00:00",
          "2024-02-01T00:00:00",
          "2024-03-01T00:00:00",
          "2024-04-01T00:00:00",
          "2024-05-01T00:00:00",
          "2024-06-01T00:00:00"
         ],
         "xaxis": "x",
         "y": [
          52981.92324,
          52978.5621076332,
          52975.52624614062,
          52972.165113743315,
          52968.912404971736,
          52965.551272560835,
          52962.2985637761,
          52958.93743131765,
          52955.5762988592,
          52952.32359004443,
          52948.962457582544,
          52945.70974874846,
          52942.348616275216,
          52938.98748380197,
          52935.84319862903,
          52932.48206620279,
          52929.22935740691,
          52925.868224984515,
          52922.61551620273,
          52919.25438379488,
          52915.89325142155,
          52912.64054267317,
          52909.27941035399,
          52906.026701658,
          52902.665569362725,
          52899.304437091785,
          52896.26857568577,
          52892.90744347029,
          52889.65473487466,
          52886.293602614394,
          52883.04089397542,
          52879.67976169872,
          52876.318629422,
          52873.06592073628,
          52869.7047884277,
          52866.45207974894,
          52863.09094744755,
          52859.72981510341,
          52856.6939536313,
          52853.33282123467,
          52850.08011243052,
          52846.718979999576,
          52843.4662712163,
          52840.10513880691,
          52836.74400637903,
          52833.491297577864,
          52830.13016509596,
          52826.877456242495,
          52823.516323715856,
          52820.1551911892,
          52817.11932955223,
          52813.75819702559,
          52810.505488128845,
          52807.14435560219,
          52803.891646705444,
          52800.5305141788,
          52797.16938165215,
          52793.916672755404,
          52790.55554022875,
          52787.302831332,
          52783.94170953431,
          52780.58060043875,
          52777.436346673356,
          52774.07525449392,
          52770.822587740564,
          52767.46150781939
         ],
         "yaxis": "y"
        },
        {
         "fill": "tonexty",
         "fillcolor": "rgba(0, 114, 178, 0.2)",
         "line": {
          "color": "rgba(0, 114, 178, 0.2)",
          "width": 0
         },
         "mode": "lines",
         "name": "trend_lower",
         "type": "scatter",
         "x": [
          "2019-01-01T00:00:00",
          "2019-02-01T00:00:00",
          "2019-03-01T00:00:00",
          "2019-04-01T00:00:00",
          "2019-05-01T00:00:00",
          "2019-06-01T00:00:00",
          "2019-07-01T00:00:00",
          "2019-08-01T00:00:00",
          "2019-09-01T00:00:00",
          "2019-10-01T00:00:00",
          "2019-11-01T00:00:00",
          "2019-12-01T00:00:00",
          "2020-01-01T00:00:00",
          "2020-02-01T00:00:00",
          "2020-03-01T00:00:00",
          "2020-04-01T00:00:00",
          "2020-05-01T00:00:00",
          "2020-06-01T00:00:00",
          "2020-07-01T00:00:00",
          "2020-08-01T00:00:00",
          "2020-09-01T00:00:00",
          "2020-10-01T00:00:00",
          "2020-11-01T00:00:00",
          "2020-12-01T00:00:00",
          "2021-01-01T00:00:00",
          "2021-02-01T00:00:00",
          "2021-03-01T00:00:00",
          "2021-04-01T00:00:00",
          "2021-05-01T00:00:00",
          "2021-06-01T00:00:00",
          "2021-07-01T00:00:00",
          "2021-08-01T00:00:00",
          "2021-09-01T00:00:00",
          "2021-10-01T00:00:00",
          "2021-11-01T00:00:00",
          "2021-12-01T00:00:00",
          "2022-01-01T00:00:00",
          "2022-02-01T00:00:00",
          "2022-03-01T00:00:00",
          "2022-04-01T00:00:00",
          "2022-05-01T00:00:00",
          "2022-06-01T00:00:00",
          "2022-07-01T00:00:00",
          "2022-08-01T00:00:00",
          "2022-09-01T00:00:00",
          "2022-10-01T00:00:00",
          "2022-11-01T00:00:00",
          "2022-12-01T00:00:00",
          "2023-01-01T00:00:00",
          "2023-02-01T00:00:00",
          "2023-03-01T00:00:00",
          "2023-04-01T00:00:00",
          "2023-05-01T00:00:00",
          "2023-06-01T00:00:00",
          "2023-07-01T00:00:00",
          "2023-08-01T00:00:00",
          "2023-09-01T00:00:00",
          "2023-10-01T00:00:00",
          "2023-11-01T00:00:00",
          "2023-12-01T00:00:00",
          "2024-01-01T00:00:00",
          "2024-02-01T00:00:00",
          "2024-03-01T00:00:00",
          "2024-04-01T00:00:00",
          "2024-05-01T00:00:00",
          "2024-06-01T00:00:00"
         ],
         "xaxis": "x",
         "y": [
          52981.92324,
          52978.5621076332,
          52975.52624614062,
          52972.165113743315,
          52968.912404971736,
          52965.551272560835,
          52962.2985637761,
          52958.93743131765,
          52955.5762988592,
          52952.32359004443,
          52948.962457582544,
          52945.70974874846,
          52942.348616275216,
          52938.98748380197,
          52935.84319862903,
          52932.48206620279,
          52929.22935740691,
          52925.868224984515,
          52922.61551620273,
          52919.25438379488,
          52915.89325142155,
          52912.64054267317,
          52909.27941035399,
          52906.026701658,
          52902.665569362725,
          52899.304437091785,
          52896.26857568577,
          52892.90744347029,
          52889.65473487466,
          52886.293602614394,
          52883.04089397542,
          52879.67976169872,
          52876.318629422,
          52873.06592073628,
          52869.7047884277,
          52866.45207974894,
          52863.09094744755,
          52859.72981510341,
          52856.6939536313,
          52853.33282123467,
          52850.08011243052,
          52846.718979999576,
          52843.4662712163,
          52840.10513880691,
          52836.74400637903,
          52833.491297577864,
          52830.13016509596,
          52826.877456242495,
          52823.516323715856,
          52820.1551911892,
          52817.11932955223,
          52813.75819702559,
          52810.505488128845,
          52807.14435560219,
          52803.891646705444,
          52800.5305141788,
          52797.16938165215,
          52793.916672755404,
          52790.55554022875,
          52787.302831332,
          52783.94168681612,
          52780.58052908672,
          52777.436214143054,
          52774.07504197085,
          52770.82229378127,
          52767.461113740625
         ],
         "yaxis": "y"
        },
        {
         "line": {
          "color": "#0072B2",
          "width": 2
         },
         "mode": "lines",
         "name": "yearly",
         "type": "scatter",
         "x": [
          "2017-01-01T00:00:00",
          "2017-01-02T00:00:59.178082",
          "2017-01-03T00:01:58.356164",
          "2017-01-04T00:02:57.534246",
          "2017-01-05T00:03:56.712328",
          "2017-01-06T00:04:55.890411",
          "2017-01-07T00:05:55.068493",
          "2017-01-08T00:06:54.246575",
          "2017-01-09T00:07:53.424657",
          "2017-01-10T00:08:52.602739",
          "2017-01-11T00:09:51.780822",
          "2017-01-12T00:10:50.958904",
          "2017-01-13T00:11:50.136986",
          "2017-01-14T00:12:49.315068",
          "2017-01-15T00:13:48.493150",
          "2017-01-16T00:14:47.671232",
          "2017-01-17T00:15:46.849315",
          "2017-01-18T00:16:46.027397",
          "2017-01-19T00:17:45.205479",
          "2017-01-20T00:18:44.383561",
          "2017-01-21T00:19:43.561643",
          "2017-01-22T00:20:42.739726",
          "2017-01-23T00:21:41.917808",
          "2017-01-24T00:22:41.095890",
          "2017-01-25T00:23:40.273972",
          "2017-01-26T00:24:39.452054",
          "2017-01-27T00:25:38.630137",
          "2017-01-28T00:26:37.808219",
          "2017-01-29T00:27:36.986301",
          "2017-01-30T00:28:36.164383",
          "2017-01-31T00:29:35.342465",
          "2017-02-01T00:30:34.520547",
          "2017-02-02T00:31:33.698630",
          "2017-02-03T00:32:32.876712",
          "2017-02-04T00:33:32.054794",
          "2017-02-05T00:34:31.232876",
          "2017-02-06T00:35:30.410958",
          "2017-02-07T00:36:29.589041",
          "2017-02-08T00:37:28.767123",
          "2017-02-09T00:38:27.945205",
          "2017-02-10T00:39:27.123287",
          "2017-02-11T00:40:26.301369",
          "2017-02-12T00:41:25.479452",
          "2017-02-13T00:42:24.657534",
          "2017-02-14T00:43:23.835616",
          "2017-02-15T00:44:23.013698",
          "2017-02-16T00:45:22.191780",
          "2017-02-17T00:46:21.369862",
          "2017-02-18T00:47:20.547945",
          "2017-02-19T00:48:19.726027",
          "2017-02-20T00:49:18.904109",
          "2017-02-21T00:50:18.082191",
          "2017-02-22T00:51:17.260273",
          "2017-02-23T00:52:16.438356",
          "2017-02-24T00:53:15.616438",
          "2017-02-25T00:54:14.794520",
          "2017-02-26T00:55:13.972602",
          "2017-02-27T00:56:13.150684",
          "2017-02-28T00:57:12.328767",
          "2017-03-01T00:58:11.506849",
          "2017-03-02T00:59:10.684931",
          "2017-03-03T01:00:09.863013",
          "2017-03-04T01:01:09.041095",
          "2017-03-05T01:02:08.219177",
          "2017-03-06T01:03:07.397260",
          "2017-03-07T01:04:06.575342",
          "2017-03-08T01:05:05.753424",
          "2017-03-09T01:06:04.931506",
          "2017-03-10T01:07:04.109588",
          "2017-03-11T01:08:03.287671",
          "2017-03-12T01:09:02.465753",
          "2017-03-13T01:10:01.643835",
          "2017-03-14T01:11:00.821917",
          "2017-03-15T01:12:00",
          "2017-03-16T01:12:59.178082",
          "2017-03-17T01:13:58.356164",
          "2017-03-18T01:14:57.534246",
          "2017-03-19T01:15:56.712328",
          "2017-03-20T01:16:55.890411",
          "2017-03-21T01:17:55.068493",
          "2017-03-22T01:18:54.246575",
          "2017-03-23T01:19:53.424657",
          "2017-03-24T01:20:52.602739",
          "2017-03-25T01:21:51.780822",
          "2017-03-26T01:22:50.958904",
          "2017-03-27T01:23:50.136986",
          "2017-03-28T01:24:49.315068",
          "2017-03-29T01:25:48.493150",
          "2017-03-30T01:26:47.671232",
          "2017-03-31T01:27:46.849315",
          "2017-04-01T01:28:46.027397",
          "2017-04-02T01:29:45.205479",
          "2017-04-03T01:30:44.383561",
          "2017-04-04T01:31:43.561643",
          "2017-04-05T01:32:42.739726",
          "2017-04-06T01:33:41.917808",
          "2017-04-07T01:34:41.095890",
          "2017-04-08T01:35:40.273972",
          "2017-04-09T01:36:39.452054",
          "2017-04-10T01:37:38.630137",
          "2017-04-11T01:38:37.808219",
          "2017-04-12T01:39:36.986301",
          "2017-04-13T01:40:36.164383",
          "2017-04-14T01:41:35.342465",
          "2017-04-15T01:42:34.520547",
          "2017-04-16T01:43:33.698630",
          "2017-04-17T01:44:32.876712",
          "2017-04-18T01:45:32.054794",
          "2017-04-19T01:46:31.232876",
          "2017-04-20T01:47:30.410958",
          "2017-04-21T01:48:29.589041",
          "2017-04-22T01:49:28.767123",
          "2017-04-23T01:50:27.945205",
          "2017-04-24T01:51:27.123287",
          "2017-04-25T01:52:26.301369",
          "2017-04-26T01:53:25.479452",
          "2017-04-27T01:54:24.657534",
          "2017-04-28T01:55:23.835616",
          "2017-04-29T01:56:23.013698",
          "2017-04-30T01:57:22.191780",
          "2017-05-01T01:58:21.369862",
          "2017-05-02T01:59:20.547945",
          "2017-05-03T02:00:19.726027",
          "2017-05-04T02:01:18.904109",
          "2017-05-05T02:02:18.082191",
          "2017-05-06T02:03:17.260273",
          "2017-05-07T02:04:16.438356",
          "2017-05-08T02:05:15.616438",
          "2017-05-09T02:06:14.794520",
          "2017-05-10T02:07:13.972602",
          "2017-05-11T02:08:13.150684",
          "2017-05-12T02:09:12.328767",
          "2017-05-13T02:10:11.506849",
          "2017-05-14T02:11:10.684931",
          "2017-05-15T02:12:09.863013",
          "2017-05-16T02:13:09.041095",
          "2017-05-17T02:14:08.219177",
          "2017-05-18T02:15:07.397260",
          "2017-05-19T02:16:06.575342",
          "2017-05-20T02:17:05.753424",
          "2017-05-21T02:18:04.931506",
          "2017-05-22T02:19:04.109588",
          "2017-05-23T02:20:03.287671",
          "2017-05-24T02:21:02.465753",
          "2017-05-25T02:22:01.643835",
          "2017-05-26T02:23:00.821917",
          "2017-05-27T02:24:00",
          "2017-05-28T02:24:59.178082",
          "2017-05-29T02:25:58.356164",
          "2017-05-30T02:26:57.534246",
          "2017-05-31T02:27:56.712328",
          "2017-06-01T02:28:55.890411",
          "2017-06-02T02:29:55.068493",
          "2017-06-03T02:30:54.246575",
          "2017-06-04T02:31:53.424657",
          "2017-06-05T02:32:52.602739",
          "2017-06-06T02:33:51.780822",
          "2017-06-07T02:34:50.958904",
          "2017-06-08T02:35:50.136986",
          "2017-06-09T02:36:49.315068",
          "2017-06-10T02:37:48.493150",
          "2017-06-11T02:38:47.671232",
          "2017-06-12T02:39:46.849315",
          "2017-06-13T02:40:46.027397",
          "2017-06-14T02:41:45.205479",
          "2017-06-15T02:42:44.383561",
          "2017-06-16T02:43:43.561643",
          "2017-06-17T02:44:42.739726",
          "2017-06-18T02:45:41.917808",
          "2017-06-19T02:46:41.095890",
          "2017-06-20T02:47:40.273972",
          "2017-06-21T02:48:39.452054",
          "2017-06-22T02:49:38.630137",
          "2017-06-23T02:50:37.808219",
          "2017-06-24T02:51:36.986301",
          "2017-06-25T02:52:36.164383",
          "2017-06-26T02:53:35.342465",
          "2017-06-27T02:54:34.520547",
          "2017-06-28T02:55:33.698630",
          "2017-06-29T02:56:32.876712",
          "2017-06-30T02:57:32.054794",
          "2017-07-01T02:58:31.232876",
          "2017-07-02T02:59:30.410958",
          "2017-07-03T03:00:29.589041",
          "2017-07-04T03:01:28.767123",
          "2017-07-05T03:02:27.945205",
          "2017-07-06T03:03:27.123287",
          "2017-07-07T03:04:26.301369",
          "2017-07-08T03:05:25.479452",
          "2017-07-09T03:06:24.657534",
          "2017-07-10T03:07:23.835616",
          "2017-07-11T03:08:23.013698",
          "2017-07-12T03:09:22.191780",
          "2017-07-13T03:10:21.369862",
          "2017-07-14T03:11:20.547945",
          "2017-07-15T03:12:19.726027",
          "2017-07-16T03:13:18.904109",
          "2017-07-17T03:14:18.082191",
          "2017-07-18T03:15:17.260273",
          "2017-07-19T03:16:16.438356",
          "2017-07-20T03:17:15.616438",
          "2017-07-21T03:18:14.794520",
          "2017-07-22T03:19:13.972602",
          "2017-07-23T03:20:13.150684",
          "2017-07-24T03:21:12.328767",
          "2017-07-25T03:22:11.506849",
          "2017-07-26T03:23:10.684931",
          "2017-07-27T03:24:09.863013",
          "2017-07-28T03:25:09.041095",
          "2017-07-29T03:26:08.219177",
          "2017-07-30T03:27:07.397260",
          "2017-07-31T03:28:06.575342",
          "2017-08-01T03:29:05.753424",
          "2017-08-02T03:30:04.931506",
          "2017-08-03T03:31:04.109588",
          "2017-08-04T03:32:03.287671",
          "2017-08-05T03:33:02.465753",
          "2017-08-06T03:34:01.643835",
          "2017-08-07T03:35:00.821917",
          "2017-08-08T03:36:00",
          "2017-08-09T03:36:59.178082",
          "2017-08-10T03:37:58.356164",
          "2017-08-11T03:38:57.534246",
          "2017-08-12T03:39:56.712328",
          "2017-08-13T03:40:55.890411",
          "2017-08-14T03:41:55.068493",
          "2017-08-15T03:42:54.246575",
          "2017-08-16T03:43:53.424657",
          "2017-08-17T03:44:52.602739",
          "2017-08-18T03:45:51.780822",
          "2017-08-19T03:46:50.958904",
          "2017-08-20T03:47:50.136986",
          "2017-08-21T03:48:49.315068",
          "2017-08-22T03:49:48.493150",
          "2017-08-23T03:50:47.671232",
          "2017-08-24T03:51:46.849315",
          "2017-08-25T03:52:46.027397",
          "2017-08-26T03:53:45.205479",
          "2017-08-27T03:54:44.383561",
          "2017-08-28T03:55:43.561643",
          "2017-08-29T03:56:42.739726",
          "2017-08-30T03:57:41.917808",
          "2017-08-31T03:58:41.095890",
          "2017-09-01T03:59:40.273972",
          "2017-09-02T04:00:39.452054",
          "2017-09-03T04:01:38.630137",
          "2017-09-04T04:02:37.808219",
          "2017-09-05T04:03:36.986301",
          "2017-09-06T04:04:36.164383",
          "2017-09-07T04:05:35.342465",
          "2017-09-08T04:06:34.520547",
          "2017-09-09T04:07:33.698630",
          "2017-09-10T04:08:32.876712",
          "2017-09-11T04:09:32.054794",
          "2017-09-12T04:10:31.232876",
          "2017-09-13T04:11:30.410958",
          "2017-09-14T04:12:29.589041",
          "2017-09-15T04:13:28.767123",
          "2017-09-16T04:14:27.945205",
          "2017-09-17T04:15:27.123287",
          "2017-09-18T04:16:26.301369",
          "2017-09-19T04:17:25.479452",
          "2017-09-20T04:18:24.657534",
          "2017-09-21T04:19:23.835616",
          "2017-09-22T04:20:23.013698",
          "2017-09-23T04:21:22.191780",
          "2017-09-24T04:22:21.369862",
          "2017-09-25T04:23:20.547945",
          "2017-09-26T04:24:19.726027",
          "2017-09-27T04:25:18.904109",
          "2017-09-28T04:26:18.082191",
          "2017-09-29T04:27:17.260273",
          "2017-09-30T04:28:16.438356",
          "2017-10-01T04:29:15.616438",
          "2017-10-02T04:30:14.794520",
          "2017-10-03T04:31:13.972602",
          "2017-10-04T04:32:13.150684",
          "2017-10-05T04:33:12.328767",
          "2017-10-06T04:34:11.506849",
          "2017-10-07T04:35:10.684931",
          "2017-10-08T04:36:09.863013",
          "2017-10-09T04:37:09.041095",
          "2017-10-10T04:38:08.219177",
          "2017-10-11T04:39:07.397260",
          "2017-10-12T04:40:06.575342",
          "2017-10-13T04:41:05.753424",
          "2017-10-14T04:42:04.931506",
          "2017-10-15T04:43:04.109588",
          "2017-10-16T04:44:03.287671",
          "2017-10-17T04:45:02.465753",
          "2017-10-18T04:46:01.643835",
          "2017-10-19T04:47:00.821917",
          "2017-10-20T04:48:00",
          "2017-10-21T04:48:59.178082",
          "2017-10-22T04:49:58.356164",
          "2017-10-23T04:50:57.534246",
          "2017-10-24T04:51:56.712328",
          "2017-10-25T04:52:55.890411",
          "2017-10-26T04:53:55.068493",
          "2017-10-27T04:54:54.246575",
          "2017-10-28T04:55:53.424657",
          "2017-10-29T04:56:52.602739",
          "2017-10-30T04:57:51.780822",
          "2017-10-31T04:58:50.958904",
          "2017-11-01T04:59:50.136986",
          "2017-11-02T05:00:49.315068",
          "2017-11-03T05:01:48.493150",
          "2017-11-04T05:02:47.671232",
          "2017-11-05T05:03:46.849315",
          "2017-11-06T05:04:46.027397",
          "2017-11-07T05:05:45.205479",
          "2017-11-08T05:06:44.383561",
          "2017-11-09T05:07:43.561643",
          "2017-11-10T05:08:42.739726",
          "2017-11-11T05:09:41.917808",
          "2017-11-12T05:10:41.095890",
          "2017-11-13T05:11:40.273972",
          "2017-11-14T05:12:39.452054",
          "2017-11-15T05:13:38.630137",
          "2017-11-16T05:14:37.808219",
          "2017-11-17T05:15:36.986301",
          "2017-11-18T05:16:36.164383",
          "2017-11-19T05:17:35.342465",
          "2017-11-20T05:18:34.520547",
          "2017-11-21T05:19:33.698630",
          "2017-11-22T05:20:32.876712",
          "2017-11-23T05:21:32.054794",
          "2017-11-24T05:22:31.232876",
          "2017-11-25T05:23:30.410958",
          "2017-11-26T05:24:29.589041",
          "2017-11-27T05:25:28.767123",
          "2017-11-28T05:26:27.945205",
          "2017-11-29T05:27:27.123287",
          "2017-11-30T05:28:26.301369",
          "2017-12-01T05:29:25.479452",
          "2017-12-02T05:30:24.657534",
          "2017-12-03T05:31:23.835616",
          "2017-12-04T05:32:23.013698",
          "2017-12-05T05:33:22.191780",
          "2017-12-06T05:34:21.369862",
          "2017-12-07T05:35:20.547945",
          "2017-12-08T05:36:19.726027",
          "2017-12-09T05:37:18.904109",
          "2017-12-10T05:38:18.082191",
          "2017-12-11T05:39:17.260273",
          "2017-12-12T05:40:16.438356",
          "2017-12-13T05:41:15.616438",
          "2017-12-14T05:42:14.794520",
          "2017-12-15T05:43:13.972602",
          "2017-12-16T05:44:13.150684",
          "2017-12-17T05:45:12.328767",
          "2017-12-18T05:46:11.506849",
          "2017-12-19T05:47:10.684931",
          "2017-12-20T05:48:09.863013",
          "2017-12-21T05:49:09.041095",
          "2017-12-22T05:50:08.219177",
          "2017-12-23T05:51:07.397260",
          "2017-12-24T05:52:06.575342",
          "2017-12-25T05:53:05.753424",
          "2017-12-26T05:54:04.931506",
          "2017-12-27T05:55:04.109588",
          "2017-12-28T05:56:03.287671",
          "2017-12-29T05:57:02.465753",
          "2017-12-30T05:58:01.643835",
          "2017-12-31T05:59:00.821917"
         ],
         "xaxis": "x2",
         "y": [
          0.015709136924499142,
          -0.05787446904914487,
          -0.1401597090193001,
          -0.2303505445548254,
          -0.32742642579418285,
          -0.430151649240413,
          -0.537091310819379,
          -0.6466262101056245,
          -0.7569851490963566,
          -0.8662694179400573,
          -0.9724874619641518,
          -1.0735917599003386,
          -1.1675194469964427,
          -1.2522295404897845,
          -1.3257520209873395,
          -1.386226022574437,
          -1.43194278629361,
          -1.4613859491738093,
          -1.4732677116852066,
          -1.466564646714738,
          -1.440545441986215,
          -1.3947954674140617,
          -1.3292350720612436,
          -1.2441304186419664,
          -1.1401028103447615,
          -1.0181209028569203,
          -0.8794954091888132,
          -0.7258621201540223,
          -0.5591589038093824,
          -0.38159406073228846,
          -0.1956191010974695,
          -0.0038754207185423706,
          0.19084315686329276,
          0.3856416943949697,
          0.5775784201541982,
          0.7637096891504662,
          0.9411578020226294,
          1.1071560178796962,
          1.259103162607404,
          1.3946133018611508,
          1.511562913232654,
          1.6081269101645512,
          1.6828224152366342,
          1.7345323686129777,
          1.7625292481129877,
          1.7664897320854225,
          1.7465017131940952,
          1.703063469698453,
          1.637074072774543,
          1.5498165729581503,
          1.4429334555306421,
          1.3183934970913354,
          1.1784596930785964,
          1.025636859211849,
          0.8626287118164557,
          0.6922842124947409,
          0.517542508477569,
          0.34137420858270523,
          0.16673238477398114,
          -0.0035161985322114953,
          -0.16663758585008273,
          -0.32008442110449997,
          -0.4615453030471583,
          -0.5889812612126606,
          -0.7006727276963554,
          -0.7952434493231152,
          -0.8716857337642943,
          -0.9293764498164292,
          -0.9680855376558625,
          -0.9879746532167754,
          -0.9895921349599287,
          -0.9738555385021498,
          -0.9420293496056588,
          -0.8956946309597201,
          -0.8367153341360479,
          -0.7671935354576113,
          -0.689425268310838,
          -0.6058501993638808,
          -0.518999075672566,
          -0.43143854551586,
          -0.34572052166204753,
          -0.264321927174434,
          -0.1895962846720087,
          -0.12372289845123087,
          -0.0686607139405799,
          -0.026106328918499056,
          0.0025403835011594943,
          0.01620938281047018,
          0.014181810353506623,
          -0.0038930484181231135,
          -0.03798924716487201,
          -0.08770096022113721,
          -0.15225096646219816,
          -0.23050279459784692,
          -0.32098171962330696,
          -0.42190220127504857,
          -0.5312028339532312,
          -0.6465803885421879,
          -0.7655414406573392,
          -0.8854453442894367,
          -1.0035564618101984,
          -1.117097255200423,
          -1.2233036323917335,
          -1.3194743464397078,
          -1.4030316906783855,
          -1.4715677904915458,
          -1.5228942994265195,
          -1.555087266017813,
          -1.5665258391003773,
          -1.55592912353924,
          -1.522383014004888,
          -1.4653626923908998,
          -1.384747667149756,
          -1.2808282190881564,
          -1.1543108477160007,
          -1.0063039732004453,
          -0.8383080784559799,
          -0.6521931518545475,
          -0.45016806035827056,
          -0.23475564898389825,
          -0.008738607731666981,
          0.2248763347887399,
          0.46290980460129527,
          0.7020622076635844,
          0.9389712291944633,
          1.1702570739461748,
          1.3925955522829205,
          1.6027630411520475,
          1.797693653225049,
          1.9745310994383902,
          2.130678761637089,
          2.263836774082001,
          2.372051855384872,
          2.4537429592689586,
          2.5077299507293356,
          2.5332535981501336,
          2.52998734623887,
          2.4980442432953303,
          2.4379730056710165,
          2.350748532050341,
          2.237754602815718,
          2.100757817748463,
          1.9418832611641528,
          1.7635679468354877,
          1.5685245075507008,
          1.3596927298126484,
          1.140186183629953,
          0.9132488828198874,
          0.6821845032955153,
          0.45031011094731255,
          0.22089750552903992,
          -0.0028817520017139775,
          -0.21801153469372633,
          -0.4216708935442495,
          -0.6112945646289306,
          -0.7846035068529957,
          -0.939642444237846,
          -1.0748086066005589,
          -1.1888749004383075,
          -1.2809997157326176,
          -1.350742318840142,
          -1.3980573093606945,
          -1.4232886372426616,
          -1.4271548788840296,
          -1.41072777563823,
          -1.3754045350771584,
          -1.322873651982845,
          -1.2550762041287786,
          -1.174162685557694,
          -1.0824453227558244,
          -0.9823534327879188,
          -0.8763765577738127,
          -0.7670177415045379,
          -0.6567422678227565,
          -0.5479290292832408,
          -0.44282331037107164,
          -0.3434990932550221,
          -0.25181356066545624,
          -0.1693789525875857,
          -0.09753396301429645,
          -0.037321971329658796,
          0.01052086273937346,
          0.04557753233837073,
          0.06774810075640371,
          0.07724449369213679,
          0.07457791819463258,
          0.06053980503058854,
          0.03617799587371929,
          0.0027659975253323545,
          -0.03823068074695239,
          -0.08519245170460725,
          -0.1363868405750219,
          -0.19000846834260118,
          -0.24422590226727978,
          -0.29722246857326395,
          -0.3472389103563345,
          -0.3926134797661433,
          -0.43181957705361745,
          -0.46349757111889417,
          -0.48648674020224103,
          -0.49984759616037694,
          -0.5028811594236685,
          -0.49514194618086405,
          -0.4764446669078178,
          -0.4468661162018971,
          -0.40673875508169793,
          -0.356640519828894,
          -0.29737826775984666,
          -0.22996553938555112,
          -0.1555999148737182,
          -0.07562867516596722,
          0.008480833524738012,
          0.09517683930448842,
          0.18285943338729183,
          0.26991837327208257,
          0.3547655164754436,
          0.43587615225427706,
          0.5118182081063696,
          0.5812837822849294,
          0.643116917089229,
          0.6963339429115135,
          0.7401464415357315,
          0.7739721177846265,
          0.7974443395818802,
          0.8104157486724475,
          0.812956688121668,
          0.8053486505972988,
          0.7880731356396362,
          0.7617957102304576,
          0.7273464728599431,
          0.6856970603220444,
          0.6379343286654805,
          0.5852348382065955,
          0.5288323746490919,
          0.4699903495757003,
          0.4099716524282106,
          0.35000917463392384,
          0.2912813191166344,
          0.23488270198221212,
          0.18180453627441076,
          0.13291471709242159,
          0.08894218025556225,
          0.05046471654699044,
          0.01790296592010991,
          -0.008485851155576622,
          -0.028605571802431076,
          -0.04251708679309933,
          -0.05043011845947446,
          -0.05269157337053759,
          -0.049770841510847215,
          -0.042242727694728,
          -0.03076803648097502,
          -0.016072905708867866,
          0.0010730190672770396,
          0.01987767964702971,
          0.03954944850014913,
          0.05931715722402507,
          0.07844973188703344,
          0.09627382104750044,
          0.11218936814604046,
          0.12568173876675273,
          0.13633286226270733,
          0.14382751020690535,
          0.1479574698247873,
          0.14862244441787545,
          0.14582799885858003,
          0.13968072982952204,
          0.13038074631582564,
          0.11821198030120421,
          0.10353055713793803,
          0.08675144779181361,
          0.06833504209186957,
          0.048771107776162864,
          0.028564488527079185,
          0.008220108792156858,
          -0.01177117427999904,
          -0.03094588669877269,
          -0.04887877305387984,
          -0.06519417448384884,
          -0.07957326514882875,
          -0.09176035555659985,
          -0.10156690997350032,
          -0.10887285531932869,
          -0.11362685673546252,
          -0.11584339154402375,
          -0.11559856403104984,
          -0.11302414090162352,
          -0.10830013125088636,
          -0.10164658524894907,
          -0.09331404759979675,
          -0.08357410571562458,
          -0.07270960419480418,
          -0.0610049983371549,
          -0.0487379454980483,
          -0.03617035751444921,
          -0.023541881290276647,
          -0.011063989039027621,
          0.0010843735504388852,
          0.012759748057446108,
          0.02385489526079761,
          0.03429932899027766,
          0.04405701884441152,
          0.05312343174627893,
          0.06152126114405042,
          0.06929528103023638,
          0.07650604463435799,
          0.0832240258863188,
          0.0895226910768434,
          0.0954721511045029,
          0.10113318500341467,
          0.10655160461591004,
          0.11175417059949949,
          0.11674495479317504,
          0.12150329686243068,
          0.12598306816514152,
          0.13011341390552028,
          0.13380069836149594,
          0.13693230811993531,
          0.13938124410614317,
          0.1410120714676595,
          0.14168772171233615,
          0.14127693466410396,
          0.1396621103554453,
          0.13674716130990275,
          0.13246513146980063,
          0.12678522173152038,
          0.11971881576807841,
          0.11132473182968976,
          0.10171216412299248,
          0.09104272300717443,
          0.07953020743872094,
          0.06743844688130643,
          0.05507693741496505,
          0.042795143811841775,
          0.030973387841289585,
          0.020013349377059623,
          0.010326245475353543,
          0.002319744842728843,
          -0.003615671071779434,
          -0.007121858915762213,
          -0.007887376701443788,
          -0.005662060328766175,
          -0.00027074153273991925,
          0.008374380259743379,
          0.020262495040252536,
          0.03527609623790812,
          0.05318444294075778,
          0.07364031252084494,
          0.09617979174573539,
          0.1202256675191989,
          0.14509282765169718,
          0.1699999202406669,
          0.19408159911358522,
          0.2164053407880213,
          0.23599112635657188,
          0.2518326079254572,
          0.262922649570811,
          0.26827813790793387,
          0.2669669967713732,
          0.25813532493999686,
          0.2410339747700789,
          0.21504525609040245,
          0.1797058663009912,
          0.13472928504441323,
          0.08002428416485273
         ],
         "yaxis": "y2"
        }
       ],
       "layout": {
        "height": 400,
        "showlegend": false,
        "template": {
         "data": {
          "bar": [
           {
            "error_x": {
             "color": "#2a3f5f"
            },
            "error_y": {
             "color": "#2a3f5f"
            },
            "marker": {
             "line": {
              "color": "#E5ECF6",
              "width": 0.5
             },
             "pattern": {
              "fillmode": "overlay",
              "size": 10,
              "solidity": 0.2
             }
            },
            "type": "bar"
           }
          ],
          "barpolar": [
           {
            "marker": {
             "line": {
              "color": "#E5ECF6",
              "width": 0.5
             },
             "pattern": {
              "fillmode": "overlay",
              "size": 10,
              "solidity": 0.2
             }
            },
            "type": "barpolar"
           }
          ],
          "carpet": [
           {
            "aaxis": {
             "endlinecolor": "#2a3f5f",
             "gridcolor": "white",
             "linecolor": "white",
             "minorgridcolor": "white",
             "startlinecolor": "#2a3f5f"
            },
            "baxis": {
             "endlinecolor": "#2a3f5f",
             "gridcolor": "white",
             "linecolor": "white",
             "minorgridcolor": "white",
             "startlinecolor": "#2a3f5f"
            },
            "type": "carpet"
           }
          ],
          "choropleth": [
           {
            "colorbar": {
             "outlinewidth": 0,
             "ticks": ""
            },
            "type": "choropleth"
           }
          ],
          "contour": [
           {
            "colorbar": {
             "outlinewidth": 0,
             "ticks": ""
            },
            "colorscale": [
             [
              0,
              "#0d0887"
             ],
             [
              0.1111111111111111,
              "#46039f"
             ],
             [
              0.2222222222222222,
              "#7201a8"
             ],
             [
              0.3333333333333333,
              "#9c179e"
             ],
             [
              0.4444444444444444,
              "#bd3786"
             ],
             [
              0.5555555555555556,
              "#d8576b"
             ],
             [
              0.6666666666666666,
              "#ed7953"
             ],
             [
              0.7777777777777778,
              "#fb9f3a"
             ],
             [
              0.8888888888888888,
              "#fdca26"
             ],
             [
              1,
              "#f0f921"
             ]
            ],
            "type": "contour"
           }
          ],
          "contourcarpet": [
           {
            "colorbar": {
             "outlinewidth": 0,
             "ticks": ""
            },
            "type": "contourcarpet"
           }
          ],
          "heatmap": [
           {
            "colorbar": {
             "outlinewidth": 0,
             "ticks": ""
            },
            "colorscale": [
             [
              0,
              "#0d0887"
             ],
             [
              0.1111111111111111,
              "#46039f"
             ],
             [
              0.2222222222222222,
              "#7201a8"
             ],
             [
              0.3333333333333333,
              "#9c179e"
             ],
             [
              0.4444444444444444,
              "#bd3786"
             ],
             [
              0.5555555555555556,
              "#d8576b"
             ],
             [
              0.6666666666666666,
              "#ed7953"
             ],
             [
              0.7777777777777778,
              "#fb9f3a"
             ],
             [
              0.8888888888888888,
              "#fdca26"
             ],
             [
              1,
              "#f0f921"
             ]
            ],
            "type": "heatmap"
           }
          ],
          "heatmapgl": [
           {
            "colorbar": {
             "outlinewidth": 0,
             "ticks": ""
            },
            "colorscale": [
             [
              0,
              "#0d0887"
             ],
             [
              0.1111111111111111,
              "#46039f"
             ],
             [
              0.2222222222222222,
              "#7201a8"
             ],
             [
              0.3333333333333333,
              "#9c179e"
             ],
             [
              0.4444444444444444,
              "#bd3786"
             ],
             [
              0.5555555555555556,
              "#d8576b"
             ],
             [
              0.6666666666666666,
              "#ed7953"
             ],
             [
              0.7777777777777778,
              "#fb9f3a"
             ],
             [
              0.8888888888888888,
              "#fdca26"
             ],
             [
              1,
              "#f0f921"
             ]
            ],
            "type": "heatmapgl"
           }
          ],
          "histogram": [
           {
            "marker": {
             "pattern": {
              "fillmode": "overlay",
              "size": 10,
              "solidity": 0.2
             }
            },
            "type": "histogram"
           }
          ],
          "histogram2d": [
           {
            "colorbar": {
             "outlinewidth": 0,
             "ticks": ""
            },
            "colorscale": [
             [
              0,
              "#0d0887"
             ],
             [
              0.1111111111111111,
              "#46039f"
             ],
             [
              0.2222222222222222,
              "#7201a8"
             ],
             [
              0.3333333333333333,
              "#9c179e"
             ],
             [
              0.4444444444444444,
              "#bd3786"
             ],
             [
              0.5555555555555556,
              "#d8576b"
             ],
             [
              0.6666666666666666,
              "#ed7953"
             ],
             [
              0.7777777777777778,
              "#fb9f3a"
             ],
             [
              0.8888888888888888,
              "#fdca26"
             ],
             [
              1,
              "#f0f921"
             ]
            ],
            "type": "histogram2d"
           }
          ],
          "histogram2dcontour": [
           {
            "colorbar": {
             "outlinewidth": 0,
             "ticks": ""
            },
            "colorscale": [
             [
              0,
              "#0d0887"
             ],
             [
              0.1111111111111111,
              "#46039f"
             ],
             [
              0.2222222222222222,
              "#7201a8"
             ],
             [
              0.3333333333333333,
              "#9c179e"
             ],
             [
              0.4444444444444444,
              "#bd3786"
             ],
             [
              0.5555555555555556,
              "#d8576b"
             ],
             [
              0.6666666666666666,
              "#ed7953"
             ],
             [
              0.7777777777777778,
              "#fb9f3a"
             ],
             [
              0.8888888888888888,
              "#fdca26"
             ],
             [
              1,
              "#f0f921"
             ]
            ],
            "type": "histogram2dcontour"
           }
          ],
          "mesh3d": [
           {
            "colorbar": {
             "outlinewidth": 0,
             "ticks": ""
            },
            "type": "mesh3d"
           }
          ],
          "parcoords": [
           {
            "line": {
             "colorbar": {
              "outlinewidth": 0,
              "ticks": ""
             }
            },
            "type": "parcoords"
           }
          ],
          "pie": [
           {
            "automargin": true,
            "type": "pie"
           }
          ],
          "scatter": [
           {
            "fillpattern": {
             "fillmode": "overlay",
             "size": 10,
             "solidity": 0.2
            },
            "type": "scatter"
           }
          ],
          "scatter3d": [
           {
            "line": {
             "colorbar": {
              "outlinewidth": 0,
              "ticks": ""
             }
            },
            "marker": {
             "colorbar": {
              "outlinewidth": 0,
              "ticks": ""
             }
            },
            "type": "scatter3d"
           }
          ],
          "scattercarpet": [
           {
            "marker": {
             "colorbar": {
              "outlinewidth": 0,
              "ticks": ""
             }
            },
            "type": "scattercarpet"
           }
          ],
          "scattergeo": [
           {
            "marker": {
             "colorbar": {
              "outlinewidth": 0,
              "ticks": ""
             }
            },
            "type": "scattergeo"
           }
          ],
          "scattergl": [
           {
            "marker": {
             "colorbar": {
              "outlinewidth": 0,
              "ticks": ""
             }
            },
            "type": "scattergl"
           }
          ],
          "scattermapbox": [
           {
            "marker": {
             "colorbar": {
              "outlinewidth": 0,
              "ticks": ""
             }
            },
            "type": "scattermapbox"
           }
          ],
          "scatterpolar": [
           {
            "marker": {
             "colorbar": {
              "outlinewidth": 0,
              "ticks": ""
             }
            },
            "type": "scatterpolar"
           }
          ],
          "scatterpolargl": [
           {
            "marker": {
             "colorbar": {
              "outlinewidth": 0,
              "ticks": ""
             }
            },
            "type": "scatterpolargl"
           }
          ],
          "scatterternary": [
           {
            "marker": {
             "colorbar": {
              "outlinewidth": 0,
              "ticks": ""
             }
            },
            "type": "scatterternary"
           }
          ],
          "surface": [
           {
            "colorbar": {
             "outlinewidth": 0,
             "ticks": ""
            },
            "colorscale": [
             [
              0,
              "#0d0887"
             ],
             [
              0.1111111111111111,
              "#46039f"
             ],
             [
              0.2222222222222222,
              "#7201a8"
             ],
             [
              0.3333333333333333,
              "#9c179e"
             ],
             [
              0.4444444444444444,
              "#bd3786"
             ],
             [
              0.5555555555555556,
              "#d8576b"
             ],
             [
              0.6666666666666666,
              "#ed7953"
             ],
             [
              0.7777777777777778,
              "#fb9f3a"
             ],
             [
              0.8888888888888888,
              "#fdca26"
             ],
             [
              1,
              "#f0f921"
             ]
            ],
            "type": "surface"
           }
          ],
          "table": [
           {
            "cells": {
             "fill": {
              "color": "#EBF0F8"
             },
             "line": {
              "color": "white"
             }
            },
            "header": {
             "fill": {
              "color": "#C8D4E3"
             },
             "line": {
              "color": "white"
             }
            },
            "type": "table"
           }
          ]
         },
         "layout": {
          "annotationdefaults": {
           "arrowcolor": "#2a3f5f",
           "arrowhead": 0,
           "arrowwidth": 1
          },
          "autotypenumbers": "strict",
          "coloraxis": {
           "colorbar": {
            "outlinewidth": 0,
            "ticks": ""
           }
          },
          "colorscale": {
           "diverging": [
            [
             0,
             "#8e0152"
            ],
            [
             0.1,
             "#c51b7d"
            ],
            [
             0.2,
             "#de77ae"
            ],
            [
             0.3,
             "#f1b6da"
            ],
            [
             0.4,
             "#fde0ef"
            ],
            [
             0.5,
             "#f7f7f7"
            ],
            [
             0.6,
             "#e6f5d0"
            ],
            [
             0.7,
             "#b8e186"
            ],
            [
             0.8,
             "#7fbc41"
            ],
            [
             0.9,
             "#4d9221"
            ],
            [
             1,
             "#276419"
            ]
           ],
           "sequential": [
            [
             0,
             "#0d0887"
            ],
            [
             0.1111111111111111,
             "#46039f"
            ],
            [
             0.2222222222222222,
             "#7201a8"
            ],
            [
             0.3333333333333333,
             "#9c179e"
            ],
            [
             0.4444444444444444,
             "#bd3786"
            ],
            [
             0.5555555555555556,
             "#d8576b"
            ],
            [
             0.6666666666666666,
             "#ed7953"
            ],
            [
             0.7777777777777778,
             "#fb9f3a"
            ],
            [
             0.8888888888888888,
             "#fdca26"
            ],
            [
             1,
             "#f0f921"
            ]
           ],
           "sequentialminus": [
            [
             0,
             "#0d0887"
            ],
            [
             0.1111111111111111,
             "#46039f"
            ],
            [
             0.2222222222222222,
             "#7201a8"
            ],
            [
             0.3333333333333333,
             "#9c179e"
            ],
            [
             0.4444444444444444,
             "#bd3786"
            ],
            [
             0.5555555555555556,
             "#d8576b"
            ],
            [
             0.6666666666666666,
             "#ed7953"
            ],
            [
             0.7777777777777778,
             "#fb9f3a"
            ],
            [
             0.8888888888888888,
             "#fdca26"
            ],
            [
             1,
             "#f0f921"
            ]
           ]
          },
          "colorway": [
           "#636efa",
           "#EF553B",
           "#00cc96",
           "#ab63fa",
           "#FFA15A",
           "#19d3f3",
           "#FF6692",
           "#B6E880",
           "#FF97FF",
           "#FECB52"
          ],
          "font": {
           "color": "#2a3f5f"
          },
          "geo": {
           "bgcolor": "white",
           "lakecolor": "white",
           "landcolor": "#E5ECF6",
           "showlakes": true,
           "showland": true,
           "subunitcolor": "white"
          },
          "hoverlabel": {
           "align": "left"
          },
          "hovermode": "closest",
          "mapbox": {
           "style": "light"
          },
          "paper_bgcolor": "white",
          "plot_bgcolor": "#E5ECF6",
          "polar": {
           "angularaxis": {
            "gridcolor": "white",
            "linecolor": "white",
            "ticks": ""
           },
           "bgcolor": "#E5ECF6",
           "radialaxis": {
            "gridcolor": "white",
            "linecolor": "white",
            "ticks": ""
           }
          },
          "scene": {
           "xaxis": {
            "backgroundcolor": "#E5ECF6",
            "gridcolor": "white",
            "gridwidth": 2,
            "linecolor": "white",
            "showbackground": true,
            "ticks": "",
            "zerolinecolor": "white"
           },
           "yaxis": {
            "backgroundcolor": "#E5ECF6",
            "gridcolor": "white",
            "gridwidth": 2,
            "linecolor": "white",
            "showbackground": true,
            "ticks": "",
            "zerolinecolor": "white"
           },
           "zaxis": {
            "backgroundcolor": "#E5ECF6",
            "gridcolor": "white",
            "gridwidth": 2,
            "linecolor": "white",
            "showbackground": true,
            "ticks": "",
            "zerolinecolor": "white"
           }
          },
          "shapedefaults": {
           "line": {
            "color": "#2a3f5f"
           }
          },
          "ternary": {
           "aaxis": {
            "gridcolor": "white",
            "linecolor": "white",
            "ticks": ""
           },
           "baxis": {
            "gridcolor": "white",
            "linecolor": "white",
            "ticks": ""
           },
           "bgcolor": "#E5ECF6",
           "caxis": {
            "gridcolor": "white",
            "linecolor": "white",
            "ticks": ""
           }
          },
          "title": {
           "x": 0.05
          },
          "xaxis": {
           "automargin": true,
           "gridcolor": "white",
           "linecolor": "white",
           "ticks": "",
           "title": {
            "standoff": 15
           },
           "zerolinecolor": "white",
           "zerolinewidth": 2
          },
          "yaxis": {
           "automargin": true,
           "gridcolor": "white",
           "linecolor": "white",
           "ticks": "",
           "title": {
            "standoff": 15
           },
           "zerolinecolor": "white",
           "zerolinewidth": 2
          }
         }
        },
        "width": 900,
        "xaxis": {
         "anchor": "y",
         "domain": [
          0,
          1
         ],
         "range": [
          "2018-09-24T02:24:00",
          "2024-09-07T21:36:00"
         ],
         "type": "date"
        },
        "xaxis2": {
         "anchor": "y2",
         "domain": [
          0,
          1
         ],
         "range": [
          "2016-12-13T18:54:02.958904115",
          "2018-01-18T11:04:57.863013581"
         ],
         "tickformat": "%B %e",
         "type": "date"
        },
        "yaxis": {
         "anchor": "x",
         "domain": [
          0.575,
          1
         ],
         "rangemode": "normal",
         "title": {
          "text": "trend"
         },
         "zerolinecolor": "#AAA"
        },
        "yaxis2": {
         "anchor": "x2",
         "domain": [
          0,
          0.425
         ],
         "hoverformat": ".2%",
         "tickformat": "%",
         "title": {
          "text": "yearly"
         },
         "zerolinecolor": "#AAA"
        }
       }
      },
      "text/html": [
       "<div>                            <div id=\"988e9e0f-0266-4efa-aede-8a399f1d55bf\" class=\"plotly-graph-div\" style=\"height:400px; width:900px;\"></div>            <script type=\"text/javascript\">                require([\"plotly\"], function(Plotly) {                    window.PLOTLYENV=window.PLOTLYENV || {};                                    if (document.getElementById(\"988e9e0f-0266-4efa-aede-8a399f1d55bf\")) {                    Plotly.newPlot(                        \"988e9e0f-0266-4efa-aede-8a399f1d55bf\",                        [{\"line\":{\"color\":\"#0072B2\",\"width\":2},\"mode\":\"lines\",\"name\":\"trend\",\"x\":[\"2019-01-01T00:00:00\",\"2019-02-01T00:00:00\",\"2019-03-01T00:00:00\",\"2019-04-01T00:00:00\",\"2019-05-01T00:00:00\",\"2019-06-01T00:00:00\",\"2019-07-01T00:00:00\",\"2019-08-01T00:00:00\",\"2019-09-01T00:00:00\",\"2019-10-01T00:00:00\",\"2019-11-01T00:00:00\",\"2019-12-01T00:00:00\",\"2020-01-01T00:00:00\",\"2020-02-01T00:00:00\",\"2020-03-01T00:00:00\",\"2020-04-01T00:00:00\",\"2020-05-01T00:00:00\",\"2020-06-01T00:00:00\",\"2020-07-01T00:00:00\",\"2020-08-01T00:00:00\",\"2020-09-01T00:00:00\",\"2020-10-01T00:00:00\",\"2020-11-01T00:00:00\",\"2020-12-01T00:00:00\",\"2021-01-01T00:00:00\",\"2021-02-01T00:00:00\",\"2021-03-01T00:00:00\",\"2021-04-01T00:00:00\",\"2021-05-01T00:00:00\",\"2021-06-01T00:00:00\",\"2021-07-01T00:00:00\",\"2021-08-01T00:00:00\",\"2021-09-01T00:00:00\",\"2021-10-01T00:00:00\",\"2021-11-01T00:00:00\",\"2021-12-01T00:00:00\",\"2022-01-01T00:00:00\",\"2022-02-01T00:00:00\",\"2022-03-01T00:00:00\",\"2022-04-01T00:00:00\",\"2022-05-01T00:00:00\",\"2022-06-01T00:00:00\",\"2022-07-01T00:00:00\",\"2022-08-01T00:00:00\",\"2022-09-01T00:00:00\",\"2022-10-01T00:00:00\",\"2022-11-01T00:00:00\",\"2022-12-01T00:00:00\",\"2023-01-01T00:00:00\",\"2023-02-01T00:00:00\",\"2023-03-01T00:00:00\",\"2023-04-01T00:00:00\",\"2023-05-01T00:00:00\",\"2023-06-01T00:00:00\",\"2023-07-01T00:00:00\",\"2023-08-01T00:00:00\",\"2023-09-01T00:00:00\",\"2023-10-01T00:00:00\",\"2023-11-01T00:00:00\",\"2023-12-01T00:00:00\",\"2024-01-01T00:00:00\",\"2024-02-01T00:00:00\",\"2024-03-01T00:00:00\",\"2024-04-01T00:00:00\",\"2024-05-01T00:00:00\",\"2024-06-01T00:00:00\"],\"y\":[52981.92324,52978.5621076332,52975.52624614062,52972.165113743315,52968.912404971736,52965.551272560835,52962.2985637761,52958.93743131765,52955.5762988592,52952.32359004443,52948.962457582544,52945.70974874846,52942.348616275216,52938.98748380197,52935.84319862903,52932.48206620279,52929.22935740691,52925.868224984515,52922.61551620273,52919.25438379488,52915.89325142155,52912.64054267317,52909.27941035399,52906.026701658,52902.665569362725,52899.304437091785,52896.26857568577,52892.90744347029,52889.65473487466,52886.293602614394,52883.04089397542,52879.67976169872,52876.318629422,52873.06592073628,52869.7047884277,52866.45207974894,52863.09094744755,52859.72981510341,52856.6939536313,52853.33282123467,52850.08011243052,52846.718979999576,52843.4662712163,52840.10513880691,52836.74400637903,52833.491297577864,52830.13016509596,52826.877456242495,52823.516323715856,52820.1551911892,52817.11932955223,52813.75819702559,52810.505488128845,52807.14435560219,52803.891646705444,52800.5305141788,52797.16938165215,52793.916672755404,52790.55554022875,52787.302831332,52783.94169880536,52780.58056627871,52777.43628101185,52774.07514848521,52770.82243958845,52767.46130706181],\"type\":\"scatter\",\"xaxis\":\"x\",\"yaxis\":\"y\"},{\"line\":{\"color\":\"rgba(0, 114, 178, 0.2)\",\"width\":0},\"mode\":\"lines\",\"name\":\"trend_upper\",\"x\":[\"2019-01-01T00:00:00\",\"2019-02-01T00:00:00\",\"2019-03-01T00:00:00\",\"2019-04-01T00:00:00\",\"2019-05-01T00:00:00\",\"2019-06-01T00:00:00\",\"2019-07-01T00:00:00\",\"2019-08-01T00:00:00\",\"2019-09-01T00:00:00\",\"2019-10-01T00:00:00\",\"2019-11-01T00:00:00\",\"2019-12-01T00:00:00\",\"2020-01-01T00:00:00\",\"2020-02-01T00:00:00\",\"2020-03-01T00:00:00\",\"2020-04-01T00:00:00\",\"2020-05-01T00:00:00\",\"2020-06-01T00:00:00\",\"2020-07-01T00:00:00\",\"2020-08-01T00:00:00\",\"2020-09-01T00:00:00\",\"2020-10-01T00:00:00\",\"2020-11-01T00:00:00\",\"2020-12-01T00:00:00\",\"2021-01-01T00:00:00\",\"2021-02-01T00:00:00\",\"2021-03-01T00:00:00\",\"2021-04-01T00:00:00\",\"2021-05-01T00:00:00\",\"2021-06-01T00:00:00\",\"2021-07-01T00:00:00\",\"2021-08-01T00:00:00\",\"2021-09-01T00:00:00\",\"2021-10-01T00:00:00\",\"2021-11-01T00:00:00\",\"2021-12-01T00:00:00\",\"2022-01-01T00:00:00\",\"2022-02-01T00:00:00\",\"2022-03-01T00:00:00\",\"2022-04-01T00:00:00\",\"2022-05-01T00:00:00\",\"2022-06-01T00:00:00\",\"2022-07-01T00:00:00\",\"2022-08-01T00:00:00\",\"2022-09-01T00:00:00\",\"2022-10-01T00:00:00\",\"2022-11-01T00:00:00\",\"2022-12-01T00:00:00\",\"2023-01-01T00:00:00\",\"2023-02-01T00:00:00\",\"2023-03-01T00:00:00\",\"2023-04-01T00:00:00\",\"2023-05-01T00:00:00\",\"2023-06-01T00:00:00\",\"2023-07-01T00:00:00\",\"2023-08-01T00:00:00\",\"2023-09-01T00:00:00\",\"2023-10-01T00:00:00\",\"2023-11-01T00:00:00\",\"2023-12-01T00:00:00\",\"2024-01-01T00:00:00\",\"2024-02-01T00:00:00\",\"2024-03-01T00:00:00\",\"2024-04-01T00:00:00\",\"2024-05-01T00:00:00\",\"2024-06-01T00:00:00\"],\"y\":[52981.92324,52978.5621076332,52975.52624614062,52972.165113743315,52968.912404971736,52965.551272560835,52962.2985637761,52958.93743131765,52955.5762988592,52952.32359004443,52948.962457582544,52945.70974874846,52942.348616275216,52938.98748380197,52935.84319862903,52932.48206620279,52929.22935740691,52925.868224984515,52922.61551620273,52919.25438379488,52915.89325142155,52912.64054267317,52909.27941035399,52906.026701658,52902.665569362725,52899.304437091785,52896.26857568577,52892.90744347029,52889.65473487466,52886.293602614394,52883.04089397542,52879.67976169872,52876.318629422,52873.06592073628,52869.7047884277,52866.45207974894,52863.09094744755,52859.72981510341,52856.6939536313,52853.33282123467,52850.08011243052,52846.718979999576,52843.4662712163,52840.10513880691,52836.74400637903,52833.491297577864,52830.13016509596,52826.877456242495,52823.516323715856,52820.1551911892,52817.11932955223,52813.75819702559,52810.505488128845,52807.14435560219,52803.891646705444,52800.5305141788,52797.16938165215,52793.916672755404,52790.55554022875,52787.302831332,52783.94170953431,52780.58060043875,52777.436346673356,52774.07525449392,52770.822587740564,52767.46150781939],\"type\":\"scatter\",\"xaxis\":\"x\",\"yaxis\":\"y\"},{\"fill\":\"tonexty\",\"fillcolor\":\"rgba(0, 114, 178, 0.2)\",\"line\":{\"color\":\"rgba(0, 114, 178, 0.2)\",\"width\":0},\"mode\":\"lines\",\"name\":\"trend_lower\",\"x\":[\"2019-01-01T00:00:00\",\"2019-02-01T00:00:00\",\"2019-03-01T00:00:00\",\"2019-04-01T00:00:00\",\"2019-05-01T00:00:00\",\"2019-06-01T00:00:00\",\"2019-07-01T00:00:00\",\"2019-08-01T00:00:00\",\"2019-09-01T00:00:00\",\"2019-10-01T00:00:00\",\"2019-11-01T00:00:00\",\"2019-12-01T00:00:00\",\"2020-01-01T00:00:00\",\"2020-02-01T00:00:00\",\"2020-03-01T00:00:00\",\"2020-04-01T00:00:00\",\"2020-05-01T00:00:00\",\"2020-06-01T00:00:00\",\"2020-07-01T00:00:00\",\"2020-08-01T00:00:00\",\"2020-09-01T00:00:00\",\"2020-10-01T00:00:00\",\"2020-11-01T00:00:00\",\"2020-12-01T00:00:00\",\"2021-01-01T00:00:00\",\"2021-02-01T00:00:00\",\"2021-03-01T00:00:00\",\"2021-04-01T00:00:00\",\"2021-05-01T00:00:00\",\"2021-06-01T00:00:00\",\"2021-07-01T00:00:00\",\"2021-08-01T00:00:00\",\"2021-09-01T00:00:00\",\"2021-10-01T00:00:00\",\"2021-11-01T00:00:00\",\"2021-12-01T00:00:00\",\"2022-01-01T00:00:00\",\"2022-02-01T00:00:00\",\"2022-03-01T00:00:00\",\"2022-04-01T00:00:00\",\"2022-05-01T00:00:00\",\"2022-06-01T00:00:00\",\"2022-07-01T00:00:00\",\"2022-08-01T00:00:00\",\"2022-09-01T00:00:00\",\"2022-10-01T00:00:00\",\"2022-11-01T00:00:00\",\"2022-12-01T00:00:00\",\"2023-01-01T00:00:00\",\"2023-02-01T00:00:00\",\"2023-03-01T00:00:00\",\"2023-04-01T00:00:00\",\"2023-05-01T00:00:00\",\"2023-06-01T00:00:00\",\"2023-07-01T00:00:00\",\"2023-08-01T00:00:00\",\"2023-09-01T00:00:00\",\"2023-10-01T00:00:00\",\"2023-11-01T00:00:00\",\"2023-12-01T00:00:00\",\"2024-01-01T00:00:00\",\"2024-02-01T00:00:00\",\"2024-03-01T00:00:00\",\"2024-04-01T00:00:00\",\"2024-05-01T00:00:00\",\"2024-06-01T00:00:00\"],\"y\":[52981.92324,52978.5621076332,52975.52624614062,52972.165113743315,52968.912404971736,52965.551272560835,52962.2985637761,52958.93743131765,52955.5762988592,52952.32359004443,52948.962457582544,52945.70974874846,52942.348616275216,52938.98748380197,52935.84319862903,52932.48206620279,52929.22935740691,52925.868224984515,52922.61551620273,52919.25438379488,52915.89325142155,52912.64054267317,52909.27941035399,52906.026701658,52902.665569362725,52899.304437091785,52896.26857568577,52892.90744347029,52889.65473487466,52886.293602614394,52883.04089397542,52879.67976169872,52876.318629422,52873.06592073628,52869.7047884277,52866.45207974894,52863.09094744755,52859.72981510341,52856.6939536313,52853.33282123467,52850.08011243052,52846.718979999576,52843.4662712163,52840.10513880691,52836.74400637903,52833.491297577864,52830.13016509596,52826.877456242495,52823.516323715856,52820.1551911892,52817.11932955223,52813.75819702559,52810.505488128845,52807.14435560219,52803.891646705444,52800.5305141788,52797.16938165215,52793.916672755404,52790.55554022875,52787.302831332,52783.94168681612,52780.58052908672,52777.436214143054,52774.07504197085,52770.82229378127,52767.461113740625],\"type\":\"scatter\",\"xaxis\":\"x\",\"yaxis\":\"y\"},{\"line\":{\"color\":\"#0072B2\",\"width\":2},\"mode\":\"lines\",\"name\":\"yearly\",\"x\":[\"2017-01-01T00:00:00\",\"2017-01-02T00:00:59.178082\",\"2017-01-03T00:01:58.356164\",\"2017-01-04T00:02:57.534246\",\"2017-01-05T00:03:56.712328\",\"2017-01-06T00:04:55.890411\",\"2017-01-07T00:05:55.068493\",\"2017-01-08T00:06:54.246575\",\"2017-01-09T00:07:53.424657\",\"2017-01-10T00:08:52.602739\",\"2017-01-11T00:09:51.780822\",\"2017-01-12T00:10:50.958904\",\"2017-01-13T00:11:50.136986\",\"2017-01-14T00:12:49.315068\",\"2017-01-15T00:13:48.493150\",\"2017-01-16T00:14:47.671232\",\"2017-01-17T00:15:46.849315\",\"2017-01-18T00:16:46.027397\",\"2017-01-19T00:17:45.205479\",\"2017-01-20T00:18:44.383561\",\"2017-01-21T00:19:43.561643\",\"2017-01-22T00:20:42.739726\",\"2017-01-23T00:21:41.917808\",\"2017-01-24T00:22:41.095890\",\"2017-01-25T00:23:40.273972\",\"2017-01-26T00:24:39.452054\",\"2017-01-27T00:25:38.630137\",\"2017-01-28T00:26:37.808219\",\"2017-01-29T00:27:36.986301\",\"2017-01-30T00:28:36.164383\",\"2017-01-31T00:29:35.342465\",\"2017-02-01T00:30:34.520547\",\"2017-02-02T00:31:33.698630\",\"2017-02-03T00:32:32.876712\",\"2017-02-04T00:33:32.054794\",\"2017-02-05T00:34:31.232876\",\"2017-02-06T00:35:30.410958\",\"2017-02-07T00:36:29.589041\",\"2017-02-08T00:37:28.767123\",\"2017-02-09T00:38:27.945205\",\"2017-02-10T00:39:27.123287\",\"2017-02-11T00:40:26.301369\",\"2017-02-12T00:41:25.479452\",\"2017-02-13T00:42:24.657534\",\"2017-02-14T00:43:23.835616\",\"2017-02-15T00:44:23.013698\",\"2017-02-16T00:45:22.191780\",\"2017-02-17T00:46:21.369862\",\"2017-02-18T00:47:20.547945\",\"2017-02-19T00:48:19.726027\",\"2017-02-20T00:49:18.904109\",\"2017-02-21T00:50:18.082191\",\"2017-02-22T00:51:17.260273\",\"2017-02-23T00:52:16.438356\",\"2017-02-24T00:53:15.616438\",\"2017-02-25T00:54:14.794520\",\"2017-02-26T00:55:13.972602\",\"2017-02-27T00:56:13.150684\",\"2017-02-28T00:57:12.328767\",\"2017-03-01T00:58:11.506849\",\"2017-03-02T00:59:10.684931\",\"2017-03-03T01:00:09.863013\",\"2017-03-04T01:01:09.041095\",\"2017-03-05T01:02:08.219177\",\"2017-03-06T01:03:07.397260\",\"2017-03-07T01:04:06.575342\",\"2017-03-08T01:05:05.753424\",\"2017-03-09T01:06:04.931506\",\"2017-03-10T01:07:04.109588\",\"2017-03-11T01:08:03.287671\",\"2017-03-12T01:09:02.465753\",\"2017-03-13T01:10:01.643835\",\"2017-03-14T01:11:00.821917\",\"2017-03-15T01:12:00\",\"2017-03-16T01:12:59.178082\",\"2017-03-17T01:13:58.356164\",\"2017-03-18T01:14:57.534246\",\"2017-03-19T01:15:56.712328\",\"2017-03-20T01:16:55.890411\",\"2017-03-21T01:17:55.068493\",\"2017-03-22T01:18:54.246575\",\"2017-03-23T01:19:53.424657\",\"2017-03-24T01:20:52.602739\",\"2017-03-25T01:21:51.780822\",\"2017-03-26T01:22:50.958904\",\"2017-03-27T01:23:50.136986\",\"2017-03-28T01:24:49.315068\",\"2017-03-29T01:25:48.493150\",\"2017-03-30T01:26:47.671232\",\"2017-03-31T01:27:46.849315\",\"2017-04-01T01:28:46.027397\",\"2017-04-02T01:29:45.205479\",\"2017-04-03T01:30:44.383561\",\"2017-04-04T01:31:43.561643\",\"2017-04-05T01:32:42.739726\",\"2017-04-06T01:33:41.917808\",\"2017-04-07T01:34:41.095890\",\"2017-04-08T01:35:40.273972\",\"2017-04-09T01:36:39.452054\",\"2017-04-10T01:37:38.630137\",\"2017-04-11T01:38:37.808219\",\"2017-04-12T01:39:36.986301\",\"2017-04-13T01:40:36.164383\",\"2017-04-14T01:41:35.342465\",\"2017-04-15T01:42:34.520547\",\"2017-04-16T01:43:33.698630\",\"2017-04-17T01:44:32.876712\",\"2017-04-18T01:45:32.054794\",\"2017-04-19T01:46:31.232876\",\"2017-04-20T01:47:30.410958\",\"2017-04-21T01:48:29.589041\",\"2017-04-22T01:49:28.767123\",\"2017-04-23T01:50:27.945205\",\"2017-04-24T01:51:27.123287\",\"2017-04-25T01:52:26.301369\",\"2017-04-26T01:53:25.479452\",\"2017-04-27T01:54:24.657534\",\"2017-04-28T01:55:23.835616\",\"2017-04-29T01:56:23.013698\",\"2017-04-30T01:57:22.191780\",\"2017-05-01T01:58:21.369862\",\"2017-05-02T01:59:20.547945\",\"2017-05-03T02:00:19.726027\",\"2017-05-04T02:01:18.904109\",\"2017-05-05T02:02:18.082191\",\"2017-05-06T02:03:17.260273\",\"2017-05-07T02:04:16.438356\",\"2017-05-08T02:05:15.616438\",\"2017-05-09T02:06:14.794520\",\"2017-05-10T02:07:13.972602\",\"2017-05-11T02:08:13.150684\",\"2017-05-12T02:09:12.328767\",\"2017-05-13T02:10:11.506849\",\"2017-05-14T02:11:10.684931\",\"2017-05-15T02:12:09.863013\",\"2017-05-16T02:13:09.041095\",\"2017-05-17T02:14:08.219177\",\"2017-05-18T02:15:07.397260\",\"2017-05-19T02:16:06.575342\",\"2017-05-20T02:17:05.753424\",\"2017-05-21T02:18:04.931506\",\"2017-05-22T02:19:04.109588\",\"2017-05-23T02:20:03.287671\",\"2017-05-24T02:21:02.465753\",\"2017-05-25T02:22:01.643835\",\"2017-05-26T02:23:00.821917\",\"2017-05-27T02:24:00\",\"2017-05-28T02:24:59.178082\",\"2017-05-29T02:25:58.356164\",\"2017-05-30T02:26:57.534246\",\"2017-05-31T02:27:56.712328\",\"2017-06-01T02:28:55.890411\",\"2017-06-02T02:29:55.068493\",\"2017-06-03T02:30:54.246575\",\"2017-06-04T02:31:53.424657\",\"2017-06-05T02:32:52.602739\",\"2017-06-06T02:33:51.780822\",\"2017-06-07T02:34:50.958904\",\"2017-06-08T02:35:50.136986\",\"2017-06-09T02:36:49.315068\",\"2017-06-10T02:37:48.493150\",\"2017-06-11T02:38:47.671232\",\"2017-06-12T02:39:46.849315\",\"2017-06-13T02:40:46.027397\",\"2017-06-14T02:41:45.205479\",\"2017-06-15T02:42:44.383561\",\"2017-06-16T02:43:43.561643\",\"2017-06-17T02:44:42.739726\",\"2017-06-18T02:45:41.917808\",\"2017-06-19T02:46:41.095890\",\"2017-06-20T02:47:40.273972\",\"2017-06-21T02:48:39.452054\",\"2017-06-22T02:49:38.630137\",\"2017-06-23T02:50:37.808219\",\"2017-06-24T02:51:36.986301\",\"2017-06-25T02:52:36.164383\",\"2017-06-26T02:53:35.342465\",\"2017-06-27T02:54:34.520547\",\"2017-06-28T02:55:33.698630\",\"2017-06-29T02:56:32.876712\",\"2017-06-30T02:57:32.054794\",\"2017-07-01T02:58:31.232876\",\"2017-07-02T02:59:30.410958\",\"2017-07-03T03:00:29.589041\",\"2017-07-04T03:01:28.767123\",\"2017-07-05T03:02:27.945205\",\"2017-07-06T03:03:27.123287\",\"2017-07-07T03:04:26.301369\",\"2017-07-08T03:05:25.479452\",\"2017-07-09T03:06:24.657534\",\"2017-07-10T03:07:23.835616\",\"2017-07-11T03:08:23.013698\",\"2017-07-12T03:09:22.191780\",\"2017-07-13T03:10:21.369862\",\"2017-07-14T03:11:20.547945\",\"2017-07-15T03:12:19.726027\",\"2017-07-16T03:13:18.904109\",\"2017-07-17T03:14:18.082191\",\"2017-07-18T03:15:17.260273\",\"2017-07-19T03:16:16.438356\",\"2017-07-20T03:17:15.616438\",\"2017-07-21T03:18:14.794520\",\"2017-07-22T03:19:13.972602\",\"2017-07-23T03:20:13.150684\",\"2017-07-24T03:21:12.328767\",\"2017-07-25T03:22:11.506849\",\"2017-07-26T03:23:10.684931\",\"2017-07-27T03:24:09.863013\",\"2017-07-28T03:25:09.041095\",\"2017-07-29T03:26:08.219177\",\"2017-07-30T03:27:07.397260\",\"2017-07-31T03:28:06.575342\",\"2017-08-01T03:29:05.753424\",\"2017-08-02T03:30:04.931506\",\"2017-08-03T03:31:04.109588\",\"2017-08-04T03:32:03.287671\",\"2017-08-05T03:33:02.465753\",\"2017-08-06T03:34:01.643835\",\"2017-08-07T03:35:00.821917\",\"2017-08-08T03:36:00\",\"2017-08-09T03:36:59.178082\",\"2017-08-10T03:37:58.356164\",\"2017-08-11T03:38:57.534246\",\"2017-08-12T03:39:56.712328\",\"2017-08-13T03:40:55.890411\",\"2017-08-14T03:41:55.068493\",\"2017-08-15T03:42:54.246575\",\"2017-08-16T03:43:53.424657\",\"2017-08-17T03:44:52.602739\",\"2017-08-18T03:45:51.780822\",\"2017-08-19T03:46:50.958904\",\"2017-08-20T03:47:50.136986\",\"2017-08-21T03:48:49.315068\",\"2017-08-22T03:49:48.493150\",\"2017-08-23T03:50:47.671232\",\"2017-08-24T03:51:46.849315\",\"2017-08-25T03:52:46.027397\",\"2017-08-26T03:53:45.205479\",\"2017-08-27T03:54:44.383561\",\"2017-08-28T03:55:43.561643\",\"2017-08-29T03:56:42.739726\",\"2017-08-30T03:57:41.917808\",\"2017-08-31T03:58:41.095890\",\"2017-09-01T03:59:40.273972\",\"2017-09-02T04:00:39.452054\",\"2017-09-03T04:01:38.630137\",\"2017-09-04T04:02:37.808219\",\"2017-09-05T04:03:36.986301\",\"2017-09-06T04:04:36.164383\",\"2017-09-07T04:05:35.342465\",\"2017-09-08T04:06:34.520547\",\"2017-09-09T04:07:33.698630\",\"2017-09-10T04:08:32.876712\",\"2017-09-11T04:09:32.054794\",\"2017-09-12T04:10:31.232876\",\"2017-09-13T04:11:30.410958\",\"2017-09-14T04:12:29.589041\",\"2017-09-15T04:13:28.767123\",\"2017-09-16T04:14:27.945205\",\"2017-09-17T04:15:27.123287\",\"2017-09-18T04:16:26.301369\",\"2017-09-19T04:17:25.479452\",\"2017-09-20T04:18:24.657534\",\"2017-09-21T04:19:23.835616\",\"2017-09-22T04:20:23.013698\",\"2017-09-23T04:21:22.191780\",\"2017-09-24T04:22:21.369862\",\"2017-09-25T04:23:20.547945\",\"2017-09-26T04:24:19.726027\",\"2017-09-27T04:25:18.904109\",\"2017-09-28T04:26:18.082191\",\"2017-09-29T04:27:17.260273\",\"2017-09-30T04:28:16.438356\",\"2017-10-01T04:29:15.616438\",\"2017-10-02T04:30:14.794520\",\"2017-10-03T04:31:13.972602\",\"2017-10-04T04:32:13.150684\",\"2017-10-05T04:33:12.328767\",\"2017-10-06T04:34:11.506849\",\"2017-10-07T04:35:10.684931\",\"2017-10-08T04:36:09.863013\",\"2017-10-09T04:37:09.041095\",\"2017-10-10T04:38:08.219177\",\"2017-10-11T04:39:07.397260\",\"2017-10-12T04:40:06.575342\",\"2017-10-13T04:41:05.753424\",\"2017-10-14T04:42:04.931506\",\"2017-10-15T04:43:04.109588\",\"2017-10-16T04:44:03.287671\",\"2017-10-17T04:45:02.465753\",\"2017-10-18T04:46:01.643835\",\"2017-10-19T04:47:00.821917\",\"2017-10-20T04:48:00\",\"2017-10-21T04:48:59.178082\",\"2017-10-22T04:49:58.356164\",\"2017-10-23T04:50:57.534246\",\"2017-10-24T04:51:56.712328\",\"2017-10-25T04:52:55.890411\",\"2017-10-26T04:53:55.068493\",\"2017-10-27T04:54:54.246575\",\"2017-10-28T04:55:53.424657\",\"2017-10-29T04:56:52.602739\",\"2017-10-30T04:57:51.780822\",\"2017-10-31T04:58:50.958904\",\"2017-11-01T04:59:50.136986\",\"2017-11-02T05:00:49.315068\",\"2017-11-03T05:01:48.493150\",\"2017-11-04T05:02:47.671232\",\"2017-11-05T05:03:46.849315\",\"2017-11-06T05:04:46.027397\",\"2017-11-07T05:05:45.205479\",\"2017-11-08T05:06:44.383561\",\"2017-11-09T05:07:43.561643\",\"2017-11-10T05:08:42.739726\",\"2017-11-11T05:09:41.917808\",\"2017-11-12T05:10:41.095890\",\"2017-11-13T05:11:40.273972\",\"2017-11-14T05:12:39.452054\",\"2017-11-15T05:13:38.630137\",\"2017-11-16T05:14:37.808219\",\"2017-11-17T05:15:36.986301\",\"2017-11-18T05:16:36.164383\",\"2017-11-19T05:17:35.342465\",\"2017-11-20T05:18:34.520547\",\"2017-11-21T05:19:33.698630\",\"2017-11-22T05:20:32.876712\",\"2017-11-23T05:21:32.054794\",\"2017-11-24T05:22:31.232876\",\"2017-11-25T05:23:30.410958\",\"2017-11-26T05:24:29.589041\",\"2017-11-27T05:25:28.767123\",\"2017-11-28T05:26:27.945205\",\"2017-11-29T05:27:27.123287\",\"2017-11-30T05:28:26.301369\",\"2017-12-01T05:29:25.479452\",\"2017-12-02T05:30:24.657534\",\"2017-12-03T05:31:23.835616\",\"2017-12-04T05:32:23.013698\",\"2017-12-05T05:33:22.191780\",\"2017-12-06T05:34:21.369862\",\"2017-12-07T05:35:20.547945\",\"2017-12-08T05:36:19.726027\",\"2017-12-09T05:37:18.904109\",\"2017-12-10T05:38:18.082191\",\"2017-12-11T05:39:17.260273\",\"2017-12-12T05:40:16.438356\",\"2017-12-13T05:41:15.616438\",\"2017-12-14T05:42:14.794520\",\"2017-12-15T05:43:13.972602\",\"2017-12-16T05:44:13.150684\",\"2017-12-17T05:45:12.328767\",\"2017-12-18T05:46:11.506849\",\"2017-12-19T05:47:10.684931\",\"2017-12-20T05:48:09.863013\",\"2017-12-21T05:49:09.041095\",\"2017-12-22T05:50:08.219177\",\"2017-12-23T05:51:07.397260\",\"2017-12-24T05:52:06.575342\",\"2017-12-25T05:53:05.753424\",\"2017-12-26T05:54:04.931506\",\"2017-12-27T05:55:04.109588\",\"2017-12-28T05:56:03.287671\",\"2017-12-29T05:57:02.465753\",\"2017-12-30T05:58:01.643835\",\"2017-12-31T05:59:00.821917\"],\"y\":[0.015709136924499142,-0.05787446904914487,-0.1401597090193001,-0.2303505445548254,-0.32742642579418285,-0.430151649240413,-0.537091310819379,-0.6466262101056245,-0.7569851490963566,-0.8662694179400573,-0.9724874619641518,-1.0735917599003386,-1.1675194469964427,-1.2522295404897845,-1.3257520209873395,-1.386226022574437,-1.43194278629361,-1.4613859491738093,-1.4732677116852066,-1.466564646714738,-1.440545441986215,-1.3947954674140617,-1.3292350720612436,-1.2441304186419664,-1.1401028103447615,-1.0181209028569203,-0.8794954091888132,-0.7258621201540223,-0.5591589038093824,-0.38159406073228846,-0.1956191010974695,-0.0038754207185423706,0.19084315686329276,0.3856416943949697,0.5775784201541982,0.7637096891504662,0.9411578020226294,1.1071560178796962,1.259103162607404,1.3946133018611508,1.511562913232654,1.6081269101645512,1.6828224152366342,1.7345323686129777,1.7625292481129877,1.7664897320854225,1.7465017131940952,1.703063469698453,1.637074072774543,1.5498165729581503,1.4429334555306421,1.3183934970913354,1.1784596930785964,1.025636859211849,0.8626287118164557,0.6922842124947409,0.517542508477569,0.34137420858270523,0.16673238477398114,-0.0035161985322114953,-0.16663758585008273,-0.32008442110449997,-0.4615453030471583,-0.5889812612126606,-0.7006727276963554,-0.7952434493231152,-0.8716857337642943,-0.9293764498164292,-0.9680855376558625,-0.9879746532167754,-0.9895921349599287,-0.9738555385021498,-0.9420293496056588,-0.8956946309597201,-0.8367153341360479,-0.7671935354576113,-0.689425268310838,-0.6058501993638808,-0.518999075672566,-0.43143854551586,-0.34572052166204753,-0.264321927174434,-0.1895962846720087,-0.12372289845123087,-0.0686607139405799,-0.026106328918499056,0.0025403835011594943,0.01620938281047018,0.014181810353506623,-0.0038930484181231135,-0.03798924716487201,-0.08770096022113721,-0.15225096646219816,-0.23050279459784692,-0.32098171962330696,-0.42190220127504857,-0.5312028339532312,-0.6465803885421879,-0.7655414406573392,-0.8854453442894367,-1.0035564618101984,-1.117097255200423,-1.2233036323917335,-1.3194743464397078,-1.4030316906783855,-1.4715677904915458,-1.5228942994265195,-1.555087266017813,-1.5665258391003773,-1.55592912353924,-1.522383014004888,-1.4653626923908998,-1.384747667149756,-1.2808282190881564,-1.1543108477160007,-1.0063039732004453,-0.8383080784559799,-0.6521931518545475,-0.45016806035827056,-0.23475564898389825,-0.008738607731666981,0.2248763347887399,0.46290980460129527,0.7020622076635844,0.9389712291944633,1.1702570739461748,1.3925955522829205,1.6027630411520475,1.797693653225049,1.9745310994383902,2.130678761637089,2.263836774082001,2.372051855384872,2.4537429592689586,2.5077299507293356,2.5332535981501336,2.52998734623887,2.4980442432953303,2.4379730056710165,2.350748532050341,2.237754602815718,2.100757817748463,1.9418832611641528,1.7635679468354877,1.5685245075507008,1.3596927298126484,1.140186183629953,0.9132488828198874,0.6821845032955153,0.45031011094731255,0.22089750552903992,-0.0028817520017139775,-0.21801153469372633,-0.4216708935442495,-0.6112945646289306,-0.7846035068529957,-0.939642444237846,-1.0748086066005589,-1.1888749004383075,-1.2809997157326176,-1.350742318840142,-1.3980573093606945,-1.4232886372426616,-1.4271548788840296,-1.41072777563823,-1.3754045350771584,-1.322873651982845,-1.2550762041287786,-1.174162685557694,-1.0824453227558244,-0.9823534327879188,-0.8763765577738127,-0.7670177415045379,-0.6567422678227565,-0.5479290292832408,-0.44282331037107164,-0.3434990932550221,-0.25181356066545624,-0.1693789525875857,-0.09753396301429645,-0.037321971329658796,0.01052086273937346,0.04557753233837073,0.06774810075640371,0.07724449369213679,0.07457791819463258,0.06053980503058854,0.03617799587371929,0.0027659975253323545,-0.03823068074695239,-0.08519245170460725,-0.1363868405750219,-0.19000846834260118,-0.24422590226727978,-0.29722246857326395,-0.3472389103563345,-0.3926134797661433,-0.43181957705361745,-0.46349757111889417,-0.48648674020224103,-0.49984759616037694,-0.5028811594236685,-0.49514194618086405,-0.4764446669078178,-0.4468661162018971,-0.40673875508169793,-0.356640519828894,-0.29737826775984666,-0.22996553938555112,-0.1555999148737182,-0.07562867516596722,0.008480833524738012,0.09517683930448842,0.18285943338729183,0.26991837327208257,0.3547655164754436,0.43587615225427706,0.5118182081063696,0.5812837822849294,0.643116917089229,0.6963339429115135,0.7401464415357315,0.7739721177846265,0.7974443395818802,0.8104157486724475,0.812956688121668,0.8053486505972988,0.7880731356396362,0.7617957102304576,0.7273464728599431,0.6856970603220444,0.6379343286654805,0.5852348382065955,0.5288323746490919,0.4699903495757003,0.4099716524282106,0.35000917463392384,0.2912813191166344,0.23488270198221212,0.18180453627441076,0.13291471709242159,0.08894218025556225,0.05046471654699044,0.01790296592010991,-0.008485851155576622,-0.028605571802431076,-0.04251708679309933,-0.05043011845947446,-0.05269157337053759,-0.049770841510847215,-0.042242727694728,-0.03076803648097502,-0.016072905708867866,0.0010730190672770396,0.01987767964702971,0.03954944850014913,0.05931715722402507,0.07844973188703344,0.09627382104750044,0.11218936814604046,0.12568173876675273,0.13633286226270733,0.14382751020690535,0.1479574698247873,0.14862244441787545,0.14582799885858003,0.13968072982952204,0.13038074631582564,0.11821198030120421,0.10353055713793803,0.08675144779181361,0.06833504209186957,0.048771107776162864,0.028564488527079185,0.008220108792156858,-0.01177117427999904,-0.03094588669877269,-0.04887877305387984,-0.06519417448384884,-0.07957326514882875,-0.09176035555659985,-0.10156690997350032,-0.10887285531932869,-0.11362685673546252,-0.11584339154402375,-0.11559856403104984,-0.11302414090162352,-0.10830013125088636,-0.10164658524894907,-0.09331404759979675,-0.08357410571562458,-0.07270960419480418,-0.0610049983371549,-0.0487379454980483,-0.03617035751444921,-0.023541881290276647,-0.011063989039027621,0.0010843735504388852,0.012759748057446108,0.02385489526079761,0.03429932899027766,0.04405701884441152,0.05312343174627893,0.06152126114405042,0.06929528103023638,0.07650604463435799,0.0832240258863188,0.0895226910768434,0.0954721511045029,0.10113318500341467,0.10655160461591004,0.11175417059949949,0.11674495479317504,0.12150329686243068,0.12598306816514152,0.13011341390552028,0.13380069836149594,0.13693230811993531,0.13938124410614317,0.1410120714676595,0.14168772171233615,0.14127693466410396,0.1396621103554453,0.13674716130990275,0.13246513146980063,0.12678522173152038,0.11971881576807841,0.11132473182968976,0.10171216412299248,0.09104272300717443,0.07953020743872094,0.06743844688130643,0.05507693741496505,0.042795143811841775,0.030973387841289585,0.020013349377059623,0.010326245475353543,0.002319744842728843,-0.003615671071779434,-0.007121858915762213,-0.007887376701443788,-0.005662060328766175,-0.00027074153273991925,0.008374380259743379,0.020262495040252536,0.03527609623790812,0.05318444294075778,0.07364031252084494,0.09617979174573539,0.1202256675191989,0.14509282765169718,0.1699999202406669,0.19408159911358522,0.2164053407880213,0.23599112635657188,0.2518326079254572,0.262922649570811,0.26827813790793387,0.2669669967713732,0.25813532493999686,0.2410339747700789,0.21504525609040245,0.1797058663009912,0.13472928504441323,0.08002428416485273],\"type\":\"scatter\",\"xaxis\":\"x2\",\"yaxis\":\"y2\"}],                        {\"template\":{\"data\":{\"histogram2dcontour\":[{\"type\":\"histogram2dcontour\",\"colorbar\":{\"outlinewidth\":0,\"ticks\":\"\"},\"colorscale\":[[0.0,\"#0d0887\"],[0.1111111111111111,\"#46039f\"],[0.2222222222222222,\"#7201a8\"],[0.3333333333333333,\"#9c179e\"],[0.4444444444444444,\"#bd3786\"],[0.5555555555555556,\"#d8576b\"],[0.6666666666666666,\"#ed7953\"],[0.7777777777777778,\"#fb9f3a\"],[0.8888888888888888,\"#fdca26\"],[1.0,\"#f0f921\"]]}],\"choropleth\":[{\"type\":\"choropleth\",\"colorbar\":{\"outlinewidth\":0,\"ticks\":\"\"}}],\"histogram2d\":[{\"type\":\"histogram2d\",\"colorbar\":{\"outlinewidth\":0,\"ticks\":\"\"},\"colorscale\":[[0.0,\"#0d0887\"],[0.1111111111111111,\"#46039f\"],[0.2222222222222222,\"#7201a8\"],[0.3333333333333333,\"#9c179e\"],[0.4444444444444444,\"#bd3786\"],[0.5555555555555556,\"#d8576b\"],[0.6666666666666666,\"#ed7953\"],[0.7777777777777778,\"#fb9f3a\"],[0.8888888888888888,\"#fdca26\"],[1.0,\"#f0f921\"]]}],\"heatmap\":[{\"type\":\"heatmap\",\"colorbar\":{\"outlinewidth\":0,\"ticks\":\"\"},\"colorscale\":[[0.0,\"#0d0887\"],[0.1111111111111111,\"#46039f\"],[0.2222222222222222,\"#7201a8\"],[0.3333333333333333,\"#9c179e\"],[0.4444444444444444,\"#bd3786\"],[0.5555555555555556,\"#d8576b\"],[0.6666666666666666,\"#ed7953\"],[0.7777777777777778,\"#fb9f3a\"],[0.8888888888888888,\"#fdca26\"],[1.0,\"#f0f921\"]]}],\"heatmapgl\":[{\"type\":\"heatmapgl\",\"colorbar\":{\"outlinewidth\":0,\"ticks\":\"\"},\"colorscale\":[[0.0,\"#0d0887\"],[0.1111111111111111,\"#46039f\"],[0.2222222222222222,\"#7201a8\"],[0.3333333333333333,\"#9c179e\"],[0.4444444444444444,\"#bd3786\"],[0.5555555555555556,\"#d8576b\"],[0.6666666666666666,\"#ed7953\"],[0.7777777777777778,\"#fb9f3a\"],[0.8888888888888888,\"#fdca26\"],[1.0,\"#f0f921\"]]}],\"contourcarpet\":[{\"type\":\"contourcarpet\",\"colorbar\":{\"outlinewidth\":0,\"ticks\":\"\"}}],\"contour\":[{\"type\":\"contour\",\"colorbar\":{\"outlinewidth\":0,\"ticks\":\"\"},\"colorscale\":[[0.0,\"#0d0887\"],[0.1111111111111111,\"#46039f\"],[0.2222222222222222,\"#7201a8\"],[0.3333333333333333,\"#9c179e\"],[0.4444444444444444,\"#bd3786\"],[0.5555555555555556,\"#d8576b\"],[0.6666666666666666,\"#ed7953\"],[0.7777777777777778,\"#fb9f3a\"],[0.8888888888888888,\"#fdca26\"],[1.0,\"#f0f921\"]]}],\"surface\":[{\"type\":\"surface\",\"colorbar\":{\"outlinewidth\":0,\"ticks\":\"\"},\"colorscale\":[[0.0,\"#0d0887\"],[0.1111111111111111,\"#46039f\"],[0.2222222222222222,\"#7201a8\"],[0.3333333333333333,\"#9c179e\"],[0.4444444444444444,\"#bd3786\"],[0.5555555555555556,\"#d8576b\"],[0.6666666666666666,\"#ed7953\"],[0.7777777777777778,\"#fb9f3a\"],[0.8888888888888888,\"#fdca26\"],[1.0,\"#f0f921\"]]}],\"mesh3d\":[{\"type\":\"mesh3d\",\"colorbar\":{\"outlinewidth\":0,\"ticks\":\"\"}}],\"scatter\":[{\"fillpattern\":{\"fillmode\":\"overlay\",\"size\":10,\"solidity\":0.2},\"type\":\"scatter\"}],\"parcoords\":[{\"type\":\"parcoords\",\"line\":{\"colorbar\":{\"outlinewidth\":0,\"ticks\":\"\"}}}],\"scatterpolargl\":[{\"type\":\"scatterpolargl\",\"marker\":{\"colorbar\":{\"outlinewidth\":0,\"ticks\":\"\"}}}],\"bar\":[{\"error_x\":{\"color\":\"#2a3f5f\"},\"error_y\":{\"color\":\"#2a3f5f\"},\"marker\":{\"line\":{\"color\":\"#E5ECF6\",\"width\":0.5},\"pattern\":{\"fillmode\":\"overlay\",\"size\":10,\"solidity\":0.2}},\"type\":\"bar\"}],\"scattergeo\":[{\"type\":\"scattergeo\",\"marker\":{\"colorbar\":{\"outlinewidth\":0,\"ticks\":\"\"}}}],\"scatterpolar\":[{\"type\":\"scatterpolar\",\"marker\":{\"colorbar\":{\"outlinewidth\":0,\"ticks\":\"\"}}}],\"histogram\":[{\"marker\":{\"pattern\":{\"fillmode\":\"overlay\",\"size\":10,\"solidity\":0.2}},\"type\":\"histogram\"}],\"scattergl\":[{\"type\":\"scattergl\",\"marker\":{\"colorbar\":{\"outlinewidth\":0,\"ticks\":\"\"}}}],\"scatter3d\":[{\"type\":\"scatter3d\",\"line\":{\"colorbar\":{\"outlinewidth\":0,\"ticks\":\"\"}},\"marker\":{\"colorbar\":{\"outlinewidth\":0,\"ticks\":\"\"}}}],\"scattermapbox\":[{\"type\":\"scattermapbox\",\"marker\":{\"colorbar\":{\"outlinewidth\":0,\"ticks\":\"\"}}}],\"scatterternary\":[{\"type\":\"scatterternary\",\"marker\":{\"colorbar\":{\"outlinewidth\":0,\"ticks\":\"\"}}}],\"scattercarpet\":[{\"type\":\"scattercarpet\",\"marker\":{\"colorbar\":{\"outlinewidth\":0,\"ticks\":\"\"}}}],\"carpet\":[{\"aaxis\":{\"endlinecolor\":\"#2a3f5f\",\"gridcolor\":\"white\",\"linecolor\":\"white\",\"minorgridcolor\":\"white\",\"startlinecolor\":\"#2a3f5f\"},\"baxis\":{\"endlinecolor\":\"#2a3f5f\",\"gridcolor\":\"white\",\"linecolor\":\"white\",\"minorgridcolor\":\"white\",\"startlinecolor\":\"#2a3f5f\"},\"type\":\"carpet\"}],\"table\":[{\"cells\":{\"fill\":{\"color\":\"#EBF0F8\"},\"line\":{\"color\":\"white\"}},\"header\":{\"fill\":{\"color\":\"#C8D4E3\"},\"line\":{\"color\":\"white\"}},\"type\":\"table\"}],\"barpolar\":[{\"marker\":{\"line\":{\"color\":\"#E5ECF6\",\"width\":0.5},\"pattern\":{\"fillmode\":\"overlay\",\"size\":10,\"solidity\":0.2}},\"type\":\"barpolar\"}],\"pie\":[{\"automargin\":true,\"type\":\"pie\"}]},\"layout\":{\"autotypenumbers\":\"strict\",\"colorway\":[\"#636efa\",\"#EF553B\",\"#00cc96\",\"#ab63fa\",\"#FFA15A\",\"#19d3f3\",\"#FF6692\",\"#B6E880\",\"#FF97FF\",\"#FECB52\"],\"font\":{\"color\":\"#2a3f5f\"},\"hovermode\":\"closest\",\"hoverlabel\":{\"align\":\"left\"},\"paper_bgcolor\":\"white\",\"plot_bgcolor\":\"#E5ECF6\",\"polar\":{\"bgcolor\":\"#E5ECF6\",\"angularaxis\":{\"gridcolor\":\"white\",\"linecolor\":\"white\",\"ticks\":\"\"},\"radialaxis\":{\"gridcolor\":\"white\",\"linecolor\":\"white\",\"ticks\":\"\"}},\"ternary\":{\"bgcolor\":\"#E5ECF6\",\"aaxis\":{\"gridcolor\":\"white\",\"linecolor\":\"white\",\"ticks\":\"\"},\"baxis\":{\"gridcolor\":\"white\",\"linecolor\":\"white\",\"ticks\":\"\"},\"caxis\":{\"gridcolor\":\"white\",\"linecolor\":\"white\",\"ticks\":\"\"}},\"coloraxis\":{\"colorbar\":{\"outlinewidth\":0,\"ticks\":\"\"}},\"colorscale\":{\"sequential\":[[0.0,\"#0d0887\"],[0.1111111111111111,\"#46039f\"],[0.2222222222222222,\"#7201a8\"],[0.3333333333333333,\"#9c179e\"],[0.4444444444444444,\"#bd3786\"],[0.5555555555555556,\"#d8576b\"],[0.6666666666666666,\"#ed7953\"],[0.7777777777777778,\"#fb9f3a\"],[0.8888888888888888,\"#fdca26\"],[1.0,\"#f0f921\"]],\"sequentialminus\":[[0.0,\"#0d0887\"],[0.1111111111111111,\"#46039f\"],[0.2222222222222222,\"#7201a8\"],[0.3333333333333333,\"#9c179e\"],[0.4444444444444444,\"#bd3786\"],[0.5555555555555556,\"#d8576b\"],[0.6666666666666666,\"#ed7953\"],[0.7777777777777778,\"#fb9f3a\"],[0.8888888888888888,\"#fdca26\"],[1.0,\"#f0f921\"]],\"diverging\":[[0,\"#8e0152\"],[0.1,\"#c51b7d\"],[0.2,\"#de77ae\"],[0.3,\"#f1b6da\"],[0.4,\"#fde0ef\"],[0.5,\"#f7f7f7\"],[0.6,\"#e6f5d0\"],[0.7,\"#b8e186\"],[0.8,\"#7fbc41\"],[0.9,\"#4d9221\"],[1,\"#276419\"]]},\"xaxis\":{\"gridcolor\":\"white\",\"linecolor\":\"white\",\"ticks\":\"\",\"title\":{\"standoff\":15},\"zerolinecolor\":\"white\",\"automargin\":true,\"zerolinewidth\":2},\"yaxis\":{\"gridcolor\":\"white\",\"linecolor\":\"white\",\"ticks\":\"\",\"title\":{\"standoff\":15},\"zerolinecolor\":\"white\",\"automargin\":true,\"zerolinewidth\":2},\"scene\":{\"xaxis\":{\"backgroundcolor\":\"#E5ECF6\",\"gridcolor\":\"white\",\"linecolor\":\"white\",\"showbackground\":true,\"ticks\":\"\",\"zerolinecolor\":\"white\",\"gridwidth\":2},\"yaxis\":{\"backgroundcolor\":\"#E5ECF6\",\"gridcolor\":\"white\",\"linecolor\":\"white\",\"showbackground\":true,\"ticks\":\"\",\"zerolinecolor\":\"white\",\"gridwidth\":2},\"zaxis\":{\"backgroundcolor\":\"#E5ECF6\",\"gridcolor\":\"white\",\"linecolor\":\"white\",\"showbackground\":true,\"ticks\":\"\",\"zerolinecolor\":\"white\",\"gridwidth\":2}},\"shapedefaults\":{\"line\":{\"color\":\"#2a3f5f\"}},\"annotationdefaults\":{\"arrowcolor\":\"#2a3f5f\",\"arrowhead\":0,\"arrowwidth\":1},\"geo\":{\"bgcolor\":\"white\",\"landcolor\":\"#E5ECF6\",\"subunitcolor\":\"white\",\"showland\":true,\"showlakes\":true,\"lakecolor\":\"white\"},\"title\":{\"x\":0.05},\"mapbox\":{\"style\":\"light\"}}},\"xaxis\":{\"anchor\":\"y\",\"domain\":[0.0,1.0],\"range\":[\"2018-09-24T02:24:00\",\"2024-09-07T21:36:00\"],\"type\":\"date\"},\"yaxis\":{\"anchor\":\"x\",\"domain\":[0.575,1.0],\"title\":{\"text\":\"trend\"},\"rangemode\":\"normal\",\"zerolinecolor\":\"#AAA\"},\"xaxis2\":{\"anchor\":\"y2\",\"domain\":[0.0,1.0],\"range\":[\"2016-12-13T18:54:02.958904115\",\"2018-01-18T11:04:57.863013581\"],\"tickformat\":\"%B %e\",\"type\":\"date\"},\"yaxis2\":{\"anchor\":\"x2\",\"domain\":[0.0,0.425],\"title\":{\"text\":\"yearly\"},\"zerolinecolor\":\"#AAA\",\"tickformat\":\"%\",\"hoverformat\":\".2%\"},\"height\":400,\"showlegend\":false,\"width\":900},                        {\"responsive\": true}                    ).then(function(){\n",
       "                            \n",
       "var gd = document.getElementById('988e9e0f-0266-4efa-aede-8a399f1d55bf');\n",
       "var x = new MutationObserver(function (mutations, observer) {{\n",
       "        var display = window.getComputedStyle(gd).display;\n",
       "        if (!display || display === 'none') {{\n",
       "            console.log([gd, 'removed!']);\n",
       "            Plotly.purge(gd);\n",
       "            observer.disconnect();\n",
       "        }}\n",
       "}});\n",
       "\n",
       "// Listen for the removal of the full notebook cells\n",
       "var notebookContainer = gd.closest('#notebook-container');\n",
       "if (notebookContainer) {{\n",
       "    x.observe(notebookContainer, {childList: true});\n",
       "}}\n",
       "\n",
       "// Listen for the clearing of the current output cell\n",
       "var outputEl = gd.closest('.output');\n",
       "if (outputEl) {{\n",
       "    x.observe(outputEl, {childList: true});\n",
       "}}\n",
       "\n",
       "                        })                };                });            </script>        </div>"
      ]
     },
     "metadata": {},
     "output_type": "display_data"
    }
   ],
   "source": [
    "plot_components_plotly(model_forecast, forecast_f)\n"
   ]
  },
  {
   "cell_type": "code",
   "execution_count": null,
   "id": "66c3968b",
   "metadata": {},
   "outputs": [],
   "source": []
  }
 ],
 "metadata": {
  "kernelspec": {
   "display_name": "Python 3 (ipykernel)",
   "language": "python",
   "name": "python3"
  },
  "language_info": {
   "codemirror_mode": {
    "name": "ipython",
    "version": 3
   },
   "file_extension": ".py",
   "mimetype": "text/x-python",
   "name": "python",
   "nbconvert_exporter": "python",
   "pygments_lexer": "ipython3",
   "version": "3.10.9"
  }
 },
 "nbformat": 4,
 "nbformat_minor": 5
}
