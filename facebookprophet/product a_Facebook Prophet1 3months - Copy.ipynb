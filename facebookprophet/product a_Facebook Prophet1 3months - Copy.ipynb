{
 "cells": [
  {
   "cell_type": "code",
   "execution_count": 65,
   "id": "fdb64bf0",
   "metadata": {},
   "outputs": [],
   "source": [
    "import pandas as pd\n",
    "from prophet import Prophet\n",
    "import matplotlib.pyplot as plt\n",
    "import seaborn as sns\n",
    "from sklearn.metrics import mean_squared_error,mean_absolute_error, mean_absolute_percentage_error\n",
    "import numpy as np\n",
    "import itertools\n",
    "from prophet.plot import plot_cross_validation_metric\n",
    "from prophet.diagnostics import performance_metrics\n",
    "from prophet.diagnostics import cross_validation"
   ]
  },
  {
   "cell_type": "code",
   "execution_count": 66,
   "id": "091fcbcc",
   "metadata": {},
   "outputs": [],
   "source": [
    "df=pd.read_csv('product a.csv', parse_dates=['Month-Year'])"
   ]
  },
  {
   "cell_type": "code",
   "execution_count": 67,
   "id": "fed0fa72",
   "metadata": {},
   "outputs": [],
   "source": [
    "sales_a= df.drop(['Product Name','Product Category'],axis=1)"
   ]
  },
  {
   "cell_type": "code",
   "execution_count": 68,
   "id": "741884b5",
   "metadata": {},
   "outputs": [
    {
     "data": {
      "text/plain": [
       "(60, 2)"
      ]
     },
     "execution_count": 68,
     "metadata": {},
     "output_type": "execute_result"
    }
   ],
   "source": [
    "sales_a.shape"
   ]
  },
  {
   "cell_type": "code",
   "execution_count": 69,
   "id": "9ceb6091",
   "metadata": {},
   "outputs": [
    {
     "name": "stdout",
     "output_type": "stream",
     "text": [
      "<class 'pandas.core.frame.DataFrame'>\n",
      "RangeIndex: 60 entries, 0 to 59\n",
      "Data columns (total 2 columns):\n",
      " #   Column      Non-Null Count  Dtype         \n",
      "---  ------      --------------  -----         \n",
      " 0   Month-Year  60 non-null     datetime64[ns]\n",
      " 1   Sales       60 non-null     int64         \n",
      "dtypes: datetime64[ns](1), int64(1)\n",
      "memory usage: 1.1 KB\n"
     ]
    }
   ],
   "source": [
    "sales_a.info()"
   ]
  },
  {
   "cell_type": "code",
   "execution_count": 70,
   "id": "2092d197",
   "metadata": {},
   "outputs": [
    {
     "data": {
      "text/plain": [
       "3213992"
      ]
     },
     "execution_count": 70,
     "metadata": {},
     "output_type": "execute_result"
    }
   ],
   "source": [
    "sales_a['Sales'].sum()"
   ]
  },
  {
   "cell_type": "code",
   "execution_count": 71,
   "id": "2cc67e57",
   "metadata": {},
   "outputs": [
    {
     "data": {
      "text/html": [
       "<div>\n",
       "<style scoped>\n",
       "    .dataframe tbody tr th:only-of-type {\n",
       "        vertical-align: middle;\n",
       "    }\n",
       "\n",
       "    .dataframe tbody tr th {\n",
       "        vertical-align: top;\n",
       "    }\n",
       "\n",
       "    .dataframe thead th {\n",
       "        text-align: right;\n",
       "    }\n",
       "</style>\n",
       "<table border=\"1\" class=\"dataframe\">\n",
       "  <thead>\n",
       "    <tr style=\"text-align: right;\">\n",
       "      <th></th>\n",
       "      <th>ds</th>\n",
       "      <th>y</th>\n",
       "    </tr>\n",
       "  </thead>\n",
       "  <tbody>\n",
       "    <tr>\n",
       "      <th>0</th>\n",
       "      <td>2019-01-01</td>\n",
       "      <td>54555</td>\n",
       "    </tr>\n",
       "    <tr>\n",
       "      <th>1</th>\n",
       "      <td>2019-02-01</td>\n",
       "      <td>54293</td>\n",
       "    </tr>\n",
       "    <tr>\n",
       "      <th>2</th>\n",
       "      <td>2019-03-01</td>\n",
       "      <td>58798</td>\n",
       "    </tr>\n",
       "    <tr>\n",
       "      <th>3</th>\n",
       "      <td>2019-04-01</td>\n",
       "      <td>53229</td>\n",
       "    </tr>\n",
       "    <tr>\n",
       "      <th>4</th>\n",
       "      <td>2019-05-01</td>\n",
       "      <td>50558</td>\n",
       "    </tr>\n",
       "  </tbody>\n",
       "</table>\n",
       "</div>"
      ],
      "text/plain": [
       "          ds      y\n",
       "0 2019-01-01  54555\n",
       "1 2019-02-01  54293\n",
       "2 2019-03-01  58798\n",
       "3 2019-04-01  53229\n",
       "4 2019-05-01  50558"
      ]
     },
     "execution_count": 71,
     "metadata": {},
     "output_type": "execute_result"
    }
   ],
   "source": [
    "sales_a = sales_a.rename(columns={'Month-Year': 'ds',\n",
    "                        'Sales': 'y'})\n",
    "\n",
    "sales_a.head(5)"
   ]
  },
  {
   "cell_type": "code",
   "execution_count": 72,
   "id": "cb424cf4",
   "metadata": {},
   "outputs": [
    {
     "data": {
      "image/png": "[encoded data removed]",
      "text/plain": [
       "<Figure size 1200x800 with 1 Axes>"
      ]
     },
     "metadata": {},
     "output_type": "display_data"
    }
   ],
   "source": [
    "ax = sales_a.set_index('ds').plot(figsize=(12, 8))\n",
    "ax.set_ylabel('Sales')\n",
    "ax.set_xlabel('Month-Year')\n",
    "plt.title('Product A')\n",
    "plt.show()"
   ]
  },
  {
   "cell_type": "code",
   "execution_count": 73,
   "id": "618afaec",
   "metadata": {},
   "outputs": [],
   "source": [
    "train= sales_a[:57]\n",
    "test=sales_a[57:]"
   ]
  },
  {
   "cell_type": "markdown",
   "id": "6e360a0d",
   "metadata": {},
   "source": [
    "# Hyperparameter Tuning"
   ]
  },
  {
   "cell_type": "code",
   "execution_count": 74,
   "id": "816c39be",
   "metadata": {},
   "outputs": [
    {
     "name": "stderr",
     "output_type": "stream",
     "text": [
      "16:07:38 - cmdstanpy - INFO - Chain [1] start processing\n",
      "16:07:38 - cmdstanpy - INFO - Chain [1] done processing\n",
      "16:07:44 - cmdstanpy - INFO - Chain [1] start processing\n",
      "16:07:44 - cmdstanpy - INFO - Chain [1] done processing\n",
      "16:07:50 - cmdstanpy - INFO - Chain [1] start processing\n",
      "16:07:50 - cmdstanpy - INFO - Chain [1] done processing\n",
      "16:07:54 - cmdstanpy - INFO - Chain [1] start processing\n",
      "16:07:54 - cmdstanpy - INFO - Chain [1] done processing\n",
      "16:07:58 - cmdstanpy - INFO - Chain [1] start processing\n",
      "16:07:58 - cmdstanpy - INFO - Chain [1] done processing\n",
      "16:08:02 - cmdstanpy - INFO - Chain [1] start processing\n",
      "16:08:04 - cmdstanpy - INFO - Chain [1] done processing\n",
      "16:08:08 - cmdstanpy - INFO - Chain [1] start processing\n",
      "16:08:08 - cmdstanpy - INFO - Chain [1] done processing\n",
      "16:08:12 - cmdstanpy - INFO - Chain [1] start processing\n",
      "16:08:12 - cmdstanpy - INFO - Chain [1] done processing\n",
      "16:08:16 - cmdstanpy - INFO - Chain [1] start processing\n",
      "16:08:17 - cmdstanpy - INFO - Chain [1] done processing\n",
      "16:08:21 - cmdstanpy - INFO - Chain [1] start processing\n",
      "16:08:23 - cmdstanpy - INFO - Chain [1] done processing\n",
      "16:08:27 - cmdstanpy - INFO - Chain [1] start processing\n",
      "16:08:27 - cmdstanpy - INFO - Chain [1] done processing\n",
      "16:08:31 - cmdstanpy - INFO - Chain [1] start processing\n",
      "16:08:31 - cmdstanpy - INFO - Chain [1] done processing\n",
      "16:08:35 - cmdstanpy - INFO - Chain [1] start processing\n",
      "16:08:36 - cmdstanpy - INFO - Chain [1] done processing\n",
      "16:08:39 - cmdstanpy - INFO - Chain [1] start processing\n",
      "16:08:39 - cmdstanpy - INFO - Chain [1] done processing\n",
      "16:08:43 - cmdstanpy - INFO - Chain [1] start processing\n",
      "16:08:43 - cmdstanpy - INFO - Chain [1] done processing\n",
      "16:08:46 - cmdstanpy - INFO - Chain [1] start processing\n",
      "16:08:47 - cmdstanpy - INFO - Chain [1] done processing\n",
      "16:08:50 - cmdstanpy - INFO - Chain [1] start processing\n",
      "16:08:50 - cmdstanpy - INFO - Chain [1] done processing\n",
      "16:08:54 - cmdstanpy - INFO - Chain [1] start processing\n",
      "16:08:54 - cmdstanpy - INFO - Chain [1] done processing\n",
      "16:08:57 - cmdstanpy - INFO - Chain [1] start processing\n",
      "16:08:57 - cmdstanpy - INFO - Chain [1] done processing\n",
      "16:09:01 - cmdstanpy - INFO - Chain [1] start processing\n",
      "16:09:01 - cmdstanpy - INFO - Chain [1] done processing\n",
      "16:09:04 - cmdstanpy - INFO - Chain [1] start processing\n",
      "16:09:04 - cmdstanpy - INFO - Chain [1] done processing\n",
      "16:09:08 - cmdstanpy - INFO - Chain [1] start processing\n",
      "16:09:08 - cmdstanpy - INFO - Chain [1] done processing\n",
      "16:09:11 - cmdstanpy - INFO - Chain [1] start processing\n",
      "16:09:11 - cmdstanpy - INFO - Chain [1] done processing\n",
      "16:09:15 - cmdstanpy - INFO - Chain [1] start processing\n",
      "16:09:15 - cmdstanpy - INFO - Chain [1] done processing\n",
      "16:09:18 - cmdstanpy - INFO - Chain [1] start processing\n",
      "16:09:19 - cmdstanpy - INFO - Chain [1] done processing\n",
      "16:09:22 - cmdstanpy - INFO - Chain [1] start processing\n",
      "16:09:23 - cmdstanpy - INFO - Chain [1] done processing\n",
      "16:09:27 - cmdstanpy - INFO - Chain [1] start processing\n",
      "16:09:27 - cmdstanpy - INFO - Chain [1] done processing\n",
      "16:09:31 - cmdstanpy - INFO - Chain [1] start processing\n",
      "16:09:31 - cmdstanpy - INFO - Chain [1] done processing\n",
      "16:09:34 - cmdstanpy - INFO - Chain [1] start processing\n",
      "16:09:35 - cmdstanpy - INFO - Chain [1] done processing\n",
      "16:09:39 - cmdstanpy - INFO - Chain [1] start processing\n",
      "16:09:39 - cmdstanpy - INFO - Chain [1] done processing\n",
      "16:09:43 - cmdstanpy - INFO - Chain [1] start processing\n",
      "16:09:43 - cmdstanpy - INFO - Chain [1] done processing\n",
      "16:09:47 - cmdstanpy - INFO - Chain [1] start processing\n",
      "16:09:47 - cmdstanpy - INFO - Chain [1] done processing\n",
      "16:09:51 - cmdstanpy - INFO - Chain [1] start processing\n",
      "16:09:51 - cmdstanpy - INFO - Chain [1] done processing\n",
      "16:09:55 - cmdstanpy - INFO - Chain [1] start processing\n",
      "16:09:55 - cmdstanpy - INFO - Chain [1] done processing\n",
      "16:09:59 - cmdstanpy - INFO - Chain [1] start processing\n",
      "16:09:59 - cmdstanpy - INFO - Chain [1] done processing\n",
      "16:10:03 - cmdstanpy - INFO - Chain [1] start processing\n",
      "16:10:03 - cmdstanpy - INFO - Chain [1] done processing\n",
      "16:10:07 - cmdstanpy - INFO - Chain [1] start processing\n",
      "16:10:07 - cmdstanpy - INFO - Chain [1] done processing\n",
      "16:10:11 - cmdstanpy - INFO - Chain [1] start processing\n",
      "16:10:11 - cmdstanpy - INFO - Chain [1] done processing\n",
      "16:10:15 - cmdstanpy - INFO - Chain [1] start processing\n",
      "16:10:16 - cmdstanpy - INFO - Chain [1] done processing\n",
      "16:10:19 - cmdstanpy - INFO - Chain [1] start processing\n",
      "16:10:20 - cmdstanpy - INFO - Chain [1] done processing\n",
      "16:10:23 - cmdstanpy - INFO - Chain [1] start processing\n",
      "16:10:24 - cmdstanpy - INFO - Chain [1] done processing\n",
      "16:10:27 - cmdstanpy - INFO - Chain [1] start processing\n",
      "16:10:28 - cmdstanpy - INFO - Chain [1] done processing\n",
      "16:10:31 - cmdstanpy - INFO - Chain [1] start processing\n",
      "16:10:32 - cmdstanpy - INFO - Chain [1] done processing\n",
      "16:10:36 - cmdstanpy - INFO - Chain [1] start processing\n",
      "16:10:36 - cmdstanpy - INFO - Chain [1] done processing\n",
      "16:10:39 - cmdstanpy - INFO - Chain [1] start processing\n",
      "16:10:40 - cmdstanpy - INFO - Chain [1] done processing\n",
      "16:10:44 - cmdstanpy - INFO - Chain [1] start processing\n",
      "16:10:44 - cmdstanpy - INFO - Chain [1] done processing\n",
      "16:10:48 - cmdstanpy - INFO - Chain [1] start processing\n",
      "16:10:49 - cmdstanpy - INFO - Chain [1] done processing\n",
      "16:10:53 - cmdstanpy - INFO - Chain [1] start processing\n",
      "16:10:53 - cmdstanpy - INFO - Chain [1] done processing\n",
      "16:10:57 - cmdstanpy - INFO - Chain [1] start processing\n",
      "16:10:57 - cmdstanpy - INFO - Chain [1] done processing\n",
      "16:11:01 - cmdstanpy - INFO - Chain [1] start processing\n",
      "16:11:01 - cmdstanpy - INFO - Chain [1] done processing\n",
      "16:11:05 - cmdstanpy - INFO - Chain [1] start processing\n",
      "16:11:06 - cmdstanpy - INFO - Chain [1] done processing\n",
      "16:11:10 - cmdstanpy - INFO - Chain [1] start processing\n",
      "16:11:10 - cmdstanpy - INFO - Chain [1] done processing\n",
      "16:11:14 - cmdstanpy - INFO - Chain [1] start processing\n",
      "16:11:15 - cmdstanpy - INFO - Chain [1] done processing\n",
      "16:11:18 - cmdstanpy - INFO - Chain [1] start processing\n",
      "16:11:19 - cmdstanpy - INFO - Chain [1] done processing\n",
      "16:11:23 - cmdstanpy - INFO - Chain [1] start processing\n",
      "16:11:23 - cmdstanpy - INFO - Chain [1] done processing\n",
      "16:11:27 - cmdstanpy - INFO - Chain [1] start processing\n",
      "16:11:28 - cmdstanpy - INFO - Chain [1] done processing\n",
      "16:11:32 - cmdstanpy - INFO - Chain [1] start processing\n",
      "16:11:32 - cmdstanpy - INFO - Chain [1] done processing\n",
      "16:11:36 - cmdstanpy - INFO - Chain [1] start processing\n",
      "16:11:36 - cmdstanpy - INFO - Chain [1] done processing\n",
      "16:11:40 - cmdstanpy - INFO - Chain [1] start processing\n",
      "16:11:41 - cmdstanpy - INFO - Chain [1] done processing\n",
      "16:11:44 - cmdstanpy - INFO - Chain [1] start processing\n",
      "16:11:45 - cmdstanpy - INFO - Chain [1] done processing\n",
      "16:11:49 - cmdstanpy - INFO - Chain [1] start processing\n",
      "16:11:49 - cmdstanpy - INFO - Chain [1] done processing\n",
      "16:11:53 - cmdstanpy - INFO - Chain [1] start processing\n",
      "16:11:53 - cmdstanpy - INFO - Chain [1] done processing\n",
      "16:11:57 - cmdstanpy - INFO - Chain [1] start processing\n",
      "16:11:58 - cmdstanpy - INFO - Chain [1] done processing\n",
      "16:12:01 - cmdstanpy - INFO - Chain [1] start processing\n",
      "16:12:02 - cmdstanpy - INFO - Chain [1] done processing\n",
      "16:12:06 - cmdstanpy - INFO - Chain [1] start processing\n",
      "16:12:06 - cmdstanpy - INFO - Chain [1] done processing\n",
      "16:12:10 - cmdstanpy - INFO - Chain [1] start processing\n",
      "16:12:11 - cmdstanpy - INFO - Chain [1] done processing\n",
      "16:12:14 - cmdstanpy - INFO - Chain [1] start processing\n",
      "16:12:15 - cmdstanpy - INFO - Chain [1] done processing\n",
      "16:12:19 - cmdstanpy - INFO - Chain [1] start processing\n",
      "16:12:19 - cmdstanpy - INFO - Chain [1] done processing\n",
      "16:12:23 - cmdstanpy - INFO - Chain [1] start processing\n",
      "16:12:24 - cmdstanpy - INFO - Chain [1] done processing\n",
      "16:12:28 - cmdstanpy - INFO - Chain [1] start processing\n",
      "16:12:28 - cmdstanpy - INFO - Chain [1] done processing\n",
      "16:12:32 - cmdstanpy - INFO - Chain [1] start processing\n",
      "16:12:33 - cmdstanpy - INFO - Chain [1] done processing\n",
      "16:12:37 - cmdstanpy - INFO - Chain [1] start processing\n",
      "16:12:37 - cmdstanpy - INFO - Chain [1] done processing\n"
     ]
    },
    {
     "name": "stdout",
     "output_type": "stream",
     "text": [
      "    changepoint_prior_scale  seasonality_prior_scale seasonality_mode  \\\n",
      "0                     0.001                     0.01         additive   \n",
      "1                     0.001                     0.01   multiplicative   \n",
      "2                     0.001                     0.10         additive   \n",
      "3                     0.001                     0.10   multiplicative   \n",
      "4                     0.001                     1.00         additive   \n",
      "..                      ...                      ...              ...   \n",
      "67                    0.500                     3.00   multiplicative   \n",
      "68                    0.500                     5.00         additive   \n",
      "69                    0.500                     5.00   multiplicative   \n",
      "70                    0.500                    10.00         additive   \n",
      "71                    0.500                    10.00   multiplicative   \n",
      "\n",
      "            rmse  \n",
      "0    8929.858393  \n",
      "1    8892.172639  \n",
      "2    9039.294946  \n",
      "3    9070.056348  \n",
      "4    8989.442689  \n",
      "..           ...  \n",
      "67  10346.162078  \n",
      "68  10352.231456  \n",
      "69  10374.343253  \n",
      "70  10364.349428  \n",
      "71  10341.481737  \n",
      "\n",
      "[72 rows x 4 columns]\n"
     ]
    }
   ],
   "source": [
    "changepoint_prior_scale_range = [0.001, 0.01, 0.1,0.2, 0.3, 0.5]\n",
    "seasonality_prior_scale_range = [0.01, 0.1, 1.0, 3.0, 5.0, 10.0]\n",
    "seasonality_mode_range = ['additive', 'multiplicative']\n",
    "\n",
    "param_grid = {  \n",
    "    'changepoint_prior_scale': changepoint_prior_scale_range,\n",
    "    'seasonality_prior_scale': seasonality_prior_scale_range,\n",
    "    'seasonality_mode' : seasonality_mode_range\n",
    "}\n",
    "\n",
    "# Generate all combinations of parameters\n",
    "all_params = [dict(zip(param_grid.keys(), v)) for v in itertools.product(*param_grid.values())]\n",
    "rmses = []  # Store the RMSEs for each params here\n",
    "\n",
    "# Use cross validation to evaluate all parameters\n",
    "for params in all_params:\n",
    "    m = Prophet(**params).fit(train)  # Fit model with given params\n",
    "    df_cv = cross_validation(m, initial='730 days', period='180 days', horizon = '90 days', parallel=\"processes\")\n",
    "    df_p = performance_metrics(df_cv, rolling_window=1)\n",
    "    rmses.append(df_p['rmse'].values[0])\n",
    "\n",
    "# Find the best parameters\n",
    "tuning_results = pd.DataFrame(all_params)\n",
    "tuning_results['rmse'] = rmses\n",
    "print(tuning_results)"
   ]
  },
  {
   "cell_type": "code",
   "execution_count": 75,
   "id": "2ce501cc",
   "metadata": {},
   "outputs": [
    {
     "data": {
      "text/html": [
       "<div>\n",
       "<style scoped>\n",
       "    .dataframe tbody tr th:only-of-type {\n",
       "        vertical-align: middle;\n",
       "    }\n",
       "\n",
       "    .dataframe tbody tr th {\n",
       "        vertical-align: top;\n",
       "    }\n",
       "\n",
       "    .dataframe thead th {\n",
       "        text-align: right;\n",
       "    }\n",
       "</style>\n",
       "<table border=\"1\" class=\"dataframe\">\n",
       "  <thead>\n",
       "    <tr style=\"text-align: right;\">\n",
       "      <th></th>\n",
       "      <th>changepoint_prior_scale</th>\n",
       "      <th>seasonality_prior_scale</th>\n",
       "      <th>seasonality_mode</th>\n",
       "      <th>rmse</th>\n",
       "    </tr>\n",
       "  </thead>\n",
       "  <tbody>\n",
       "    <tr>\n",
       "      <th>7</th>\n",
       "      <td>0.001</td>\n",
       "      <td>3.00</td>\n",
       "      <td>multiplicative</td>\n",
       "      <td>8844.863272</td>\n",
       "    </tr>\n",
       "    <tr>\n",
       "      <th>12</th>\n",
       "      <td>0.010</td>\n",
       "      <td>0.01</td>\n",
       "      <td>additive</td>\n",
       "      <td>8881.718944</td>\n",
       "    </tr>\n",
       "    <tr>\n",
       "      <th>13</th>\n",
       "      <td>0.010</td>\n",
       "      <td>0.01</td>\n",
       "      <td>multiplicative</td>\n",
       "      <td>8885.536523</td>\n",
       "    </tr>\n",
       "    <tr>\n",
       "      <th>1</th>\n",
       "      <td>0.001</td>\n",
       "      <td>0.01</td>\n",
       "      <td>multiplicative</td>\n",
       "      <td>8892.172639</td>\n",
       "    </tr>\n",
       "    <tr>\n",
       "      <th>11</th>\n",
       "      <td>0.001</td>\n",
       "      <td>10.00</td>\n",
       "      <td>multiplicative</td>\n",
       "      <td>8899.768025</td>\n",
       "    </tr>\n",
       "    <tr>\n",
       "      <th>...</th>\n",
       "      <td>...</td>\n",
       "      <td>...</td>\n",
       "      <td>...</td>\n",
       "      <td>...</td>\n",
       "    </tr>\n",
       "    <tr>\n",
       "      <th>60</th>\n",
       "      <td>0.500</td>\n",
       "      <td>0.01</td>\n",
       "      <td>additive</td>\n",
       "      <td>10358.519760</td>\n",
       "    </tr>\n",
       "    <tr>\n",
       "      <th>70</th>\n",
       "      <td>0.500</td>\n",
       "      <td>10.00</td>\n",
       "      <td>additive</td>\n",
       "      <td>10364.349428</td>\n",
       "    </tr>\n",
       "    <tr>\n",
       "      <th>66</th>\n",
       "      <td>0.500</td>\n",
       "      <td>3.00</td>\n",
       "      <td>additive</td>\n",
       "      <td>10373.436745</td>\n",
       "    </tr>\n",
       "    <tr>\n",
       "      <th>69</th>\n",
       "      <td>0.500</td>\n",
       "      <td>5.00</td>\n",
       "      <td>multiplicative</td>\n",
       "      <td>10374.343253</td>\n",
       "    </tr>\n",
       "    <tr>\n",
       "      <th>61</th>\n",
       "      <td>0.500</td>\n",
       "      <td>0.01</td>\n",
       "      <td>multiplicative</td>\n",
       "      <td>10453.226146</td>\n",
       "    </tr>\n",
       "  </tbody>\n",
       "</table>\n",
       "<p>72 rows × 4 columns</p>\n",
       "</div>"
      ],
      "text/plain": [
       "    changepoint_prior_scale  seasonality_prior_scale seasonality_mode  \\\n",
       "7                     0.001                     3.00   multiplicative   \n",
       "12                    0.010                     0.01         additive   \n",
       "13                    0.010                     0.01   multiplicative   \n",
       "1                     0.001                     0.01   multiplicative   \n",
       "11                    0.001                    10.00   multiplicative   \n",
       "..                      ...                      ...              ...   \n",
       "60                    0.500                     0.01         additive   \n",
       "70                    0.500                    10.00         additive   \n",
       "66                    0.500                     3.00         additive   \n",
       "69                    0.500                     5.00   multiplicative   \n",
       "61                    0.500                     0.01   multiplicative   \n",
       "\n",
       "            rmse  \n",
       "7    8844.863272  \n",
       "12   8881.718944  \n",
       "13   8885.536523  \n",
       "1    8892.172639  \n",
       "11   8899.768025  \n",
       "..           ...  \n",
       "60  10358.519760  \n",
       "70  10364.349428  \n",
       "66  10373.436745  \n",
       "69  10374.343253  \n",
       "61  10453.226146  \n",
       "\n",
       "[72 rows x 4 columns]"
      ]
     },
     "execution_count": 75,
     "metadata": {},
     "output_type": "execute_result"
    }
   ],
   "source": [
    "tuning_results.sort_values('rmse',ascending=True)"
   ]
  },
  {
   "cell_type": "code",
   "execution_count": 76,
   "id": "947f41aa",
   "metadata": {},
   "outputs": [
    {
     "name": "stdout",
     "output_type": "stream",
     "text": [
      "{'changepoint_prior_scale': 0.001, 'seasonality_prior_scale': 3.0, 'seasonality_mode': 'multiplicative'}\n"
     ]
    }
   ],
   "source": [
    "best_params = all_params[np.argmin(rmses)]\n",
    "print(best_params)"
   ]
  },
  {
   "cell_type": "code",
   "execution_count": 77,
   "id": "4aeffdf0",
   "metadata": {},
   "outputs": [],
   "source": [
    "# Create a Prophet model\n",
    "#model = Prophet(changepoint_prior_scale=0.0100, seasonality_prior_scale=4.006, interval_width=0.95)\n",
    "model = Prophet(changepoint_prior_scale=0.001, seasonality_prior_scale=3.0, seasonality_mode = 'multiplicative',\n",
    "                interval_width=0.95)"
   ]
  },
  {
   "cell_type": "code",
   "execution_count": 78,
   "id": "6b6fda68",
   "metadata": {},
   "outputs": [
    {
     "name": "stderr",
     "output_type": "stream",
     "text": [
      "16:13:12 - cmdstanpy - INFO - Chain [1] start processing\n",
      "16:13:12 - cmdstanpy - INFO - Chain [1] done processing\n"
     ]
    },
    {
     "data": {
      "text/plain": [
       "<prophet.forecaster.Prophet at 0x1b426dde2f0>"
      ]
     },
     "execution_count": 78,
     "metadata": {},
     "output_type": "execute_result"
    }
   ],
   "source": [
    "model.fit(train)"
   ]
  },
  {
   "cell_type": "code",
   "execution_count": 79,
   "id": "ae33fd41",
   "metadata": {},
   "outputs": [],
   "source": [
    "# Create a DataFrame for future dates (including 2023)\n",
    "future_dates = model.make_future_dataframe(periods=len(test), freq='MS')  # 3 months in 2023"
   ]
  },
  {
   "cell_type": "code",
   "execution_count": 80,
   "id": "5539d350",
   "metadata": {},
   "outputs": [],
   "source": [
    "# Make predictions for the future\n",
    "forecast = model.predict(future_dates)"
   ]
  },
  {
   "cell_type": "code",
   "execution_count": 81,
   "id": "2666d5c7",
   "metadata": {},
   "outputs": [],
   "source": [
    "forecasted_df=forecast[['ds', 'yhat', 'yhat_lower', 'yhat_upper']].tail(3)"
   ]
  },
  {
   "cell_type": "code",
   "execution_count": 82,
   "id": "8bd35c5e",
   "metadata": {},
   "outputs": [
    {
     "data": {
      "text/html": [
       "<div>\n",
       "<style scoped>\n",
       "    .dataframe tbody tr th:only-of-type {\n",
       "        vertical-align: middle;\n",
       "    }\n",
       "\n",
       "    .dataframe tbody tr th {\n",
       "        vertical-align: top;\n",
       "    }\n",
       "\n",
       "    .dataframe thead th {\n",
       "        text-align: right;\n",
       "    }\n",
       "</style>\n",
       "<table border=\"1\" class=\"dataframe\">\n",
       "  <thead>\n",
       "    <tr style=\"text-align: right;\">\n",
       "      <th></th>\n",
       "      <th>ds</th>\n",
       "      <th>yhat</th>\n",
       "      <th>yhat_lower</th>\n",
       "      <th>yhat_upper</th>\n",
       "    </tr>\n",
       "  </thead>\n",
       "  <tbody>\n",
       "    <tr>\n",
       "      <th>57</th>\n",
       "      <td>2023-10-01</td>\n",
       "      <td>55102.296427</td>\n",
       "      <td>46179.471814</td>\n",
       "      <td>64098.370753</td>\n",
       "    </tr>\n",
       "    <tr>\n",
       "      <th>58</th>\n",
       "      <td>2023-11-01</td>\n",
       "      <td>57184.446380</td>\n",
       "      <td>48096.351320</td>\n",
       "      <td>66071.890403</td>\n",
       "    </tr>\n",
       "    <tr>\n",
       "      <th>59</th>\n",
       "      <td>2023-12-01</td>\n",
       "      <td>55011.390488</td>\n",
       "      <td>45985.154465</td>\n",
       "      <td>63904.006709</td>\n",
       "    </tr>\n",
       "  </tbody>\n",
       "</table>\n",
       "</div>"
      ],
      "text/plain": [
       "           ds          yhat    yhat_lower    yhat_upper\n",
       "57 2023-10-01  55102.296427  46179.471814  64098.370753\n",
       "58 2023-11-01  57184.446380  48096.351320  66071.890403\n",
       "59 2023-12-01  55011.390488  45985.154465  63904.006709"
      ]
     },
     "execution_count": 82,
     "metadata": {},
     "output_type": "execute_result"
    }
   ],
   "source": [
    "forecasted_df"
   ]
  },
  {
   "cell_type": "code",
   "execution_count": 83,
   "id": "d43e665a",
   "metadata": {},
   "outputs": [
    {
     "data": {
      "image/png": "[encoded data removed]",
      "text/plain": [
       "<Figure size 1000x600 with 1 Axes>"
      ]
     },
     "metadata": {},
     "output_type": "display_data"
    }
   ],
   "source": [
    "fig = model.plot(forecast, include_legend=True, uncertainty=True)\n",
    "plt.title('Product A -Sales Forecast (2023)')\n",
    "plt.xlabel('Date')\n",
    "plt.ylabel('Sales')\n",
    "plt.show()"
   ]
  },
  {
   "cell_type": "code",
   "execution_count": 84,
   "id": "0a17d7f3",
   "metadata": {},
   "outputs": [
    {
     "data": {
      "image/png": "[encoded data removed]",
      "text/plain": [
       "<Figure size 1000x600 with 1 Axes>"
      ]
     },
     "metadata": {},
     "output_type": "display_data"
    }
   ],
   "source": [
    "from prophet.plot import add_changepoints_to_plot\n",
    "fig = model.plot(forecast)\n",
    "a = add_changepoints_to_plot(fig.gca(), model, forecast)"
   ]
  },
  {
   "cell_type": "code",
   "execution_count": 85,
   "id": "6ec76faa",
   "metadata": {},
   "outputs": [
    {
     "data": {
      "image/png": "[encoded data removed]",
      "text/plain": [
       "<Figure size 900x600 with 2 Axes>"
      ]
     },
     "metadata": {},
     "output_type": "display_data"
    }
   ],
   "source": [
    "fig2 = model.plot_components(forecast)"
   ]
  },
  {
   "cell_type": "code",
   "execution_count": 86,
   "id": "6cddf665",
   "metadata": {},
   "outputs": [
    {
     "data": {
      "image/png": "[encoded data removed]",
      "text/plain": [
       "<Figure size 1500x500 with 1 Axes>"
      ]
     },
     "metadata": {},
     "output_type": "display_data"
    }
   ],
   "source": [
    "# Reset index of sales_b DataFrame\n",
    "sales_a_reset_index = sales_a.reset_index()\n",
    "\n",
    "# Plotting\n",
    "plt.figure(figsize=(15, 5))\n",
    "plt.plot(sales_a_reset_index['ds'], sales_a_reset_index['y'], label='Actual')\n",
    "plt.plot(forecasted_df['ds'], forecasted_df['yhat'], label='Predicted')\n",
    "plt.title('Product A')\n",
    "plt.xlabel('Month-Year')\n",
    "plt.ylabel('Sales')\n",
    "plt.legend()\n",
    "plt.show()"
   ]
  },
  {
   "cell_type": "code",
   "execution_count": 87,
   "id": "7990c8de",
   "metadata": {},
   "outputs": [],
   "source": [
    "#model evaluation"
   ]
  },
  {
   "cell_type": "code",
   "execution_count": 88,
   "id": "fc82818c",
   "metadata": {},
   "outputs": [],
   "source": [
    "pred=forecasted_df['yhat']\n",
    "test_df=test['y']"
   ]
  },
  {
   "cell_type": "code",
   "execution_count": 89,
   "id": "69e19979",
   "metadata": {},
   "outputs": [
    {
     "name": "stdout",
     "output_type": "stream",
     "text": [
      "MAE - FB PROPHET: 871.920\n",
      "MAPE - FB PROPHET: 0.016\n",
      "MSE - FB PROPHET: 1268646.432\n",
      "RMSE - FB PROPHET: 1126.342\n"
     ]
    }
   ],
   "source": [
    "mae_fb= mean_absolute_error(test_df,pred)\n",
    "mse_fb=mean_squared_error(test_df, pred)\n",
    "mape_fb= mean_absolute_percentage_error(test_df,pred)\n",
    "rmse_fb= np.sqrt(mean_squared_error(test_df,pred))\n",
    "\n",
    "\n",
    "print(f'MAE - FB PROPHET: {mae_fb:.3f}')\n",
    "print(f'MAPE - FB PROPHET: {mape_fb:.3f}')\n",
    "print(f'MSE - FB PROPHET: {mse_fb:.3f}')\n",
    "print(f'RMSE - FB PROPHET: {rmse_fb:.3f}')"
   ]
  },
  {
   "cell_type": "code",
   "execution_count": null,
   "id": "7b31959b",
   "metadata": {},
   "outputs": [],
   "source": []
  },
  {
   "cell_type": "code",
   "execution_count": 90,
   "id": "a4ff11d6",
   "metadata": {},
   "outputs": [],
   "source": [
    "# train data: 0 to 47 --> Jan-2019 to Dec-2022\n",
    "# test data: 48: 59 --> Jan 2023 to Dec-2023\n",
    "\n",
    "#sales_b['y'].plot(figsize=(12,8))\n",
    "#forecast_df['yhat'].plot()\n",
    "#plt.title('Product B')\n",
    "#plt.xlabel('Month')\n",
    "#plt.ylabel('Sales')\n",
    "#plt.legend(labels=['Actual', 'Predicted'])\n",
    "#plt.show()"
   ]
  },
  {
   "cell_type": "code",
   "execution_count": null,
   "id": "606eb4dc",
   "metadata": {},
   "outputs": [],
   "source": []
  },
  {
   "cell_type": "code",
   "execution_count": 92,
   "id": "6efaebf0",
   "metadata": {},
   "outputs": [],
   "source": [
    "#Set initial window to 2 years (24 months), period to 1 year (12 months), and horizon to 1 year (12 months)\n",
    "df_cv = cross_validation(model, initial='730 days', period='180 days', horizon='365 days', parallel=\"processes\")"
   ]
  },
  {
   "cell_type": "code",
   "execution_count": 93,
   "id": "5f8371b7",
   "metadata": {},
   "outputs": [
    {
     "data": {
      "text/html": [
       "<div>\n",
       "<style scoped>\n",
       "    .dataframe tbody tr th:only-of-type {\n",
       "        vertical-align: middle;\n",
       "    }\n",
       "\n",
       "    .dataframe tbody tr th {\n",
       "        vertical-align: top;\n",
       "    }\n",
       "\n",
       "    .dataframe thead th {\n",
       "        text-align: right;\n",
       "    }\n",
       "</style>\n",
       "<table border=\"1\" class=\"dataframe\">\n",
       "  <thead>\n",
       "    <tr style=\"text-align: right;\">\n",
       "      <th></th>\n",
       "      <th>horizon</th>\n",
       "      <th>mse</th>\n",
       "      <th>rmse</th>\n",
       "      <th>mae</th>\n",
       "      <th>mape</th>\n",
       "      <th>mdape</th>\n",
       "      <th>smape</th>\n",
       "      <th>coverage</th>\n",
       "    </tr>\n",
       "  </thead>\n",
       "  <tbody>\n",
       "    <tr>\n",
       "      <th>0</th>\n",
       "      <td>30 days</td>\n",
       "      <td>2.716989e+06</td>\n",
       "      <td>1648.329171</td>\n",
       "      <td>1495.694721</td>\n",
       "      <td>0.029164</td>\n",
       "      <td>0.033065</td>\n",
       "      <td>0.029455</td>\n",
       "      <td>0.75</td>\n",
       "    </tr>\n",
       "    <tr>\n",
       "      <th>1</th>\n",
       "      <td>52 days</td>\n",
       "      <td>2.007729e+07</td>\n",
       "      <td>4480.769068</td>\n",
       "      <td>3197.845267</td>\n",
       "      <td>0.058820</td>\n",
       "      <td>0.037139</td>\n",
       "      <td>0.062163</td>\n",
       "      <td>0.75</td>\n",
       "    </tr>\n",
       "    <tr>\n",
       "      <th>2</th>\n",
       "      <td>56 days</td>\n",
       "      <td>6.293214e+07</td>\n",
       "      <td>7932.978100</td>\n",
       "      <td>6377.659329</td>\n",
       "      <td>0.107245</td>\n",
       "      <td>0.098742</td>\n",
       "      <td>0.116179</td>\n",
       "      <td>0.50</td>\n",
       "    </tr>\n",
       "    <tr>\n",
       "      <th>3</th>\n",
       "      <td>57 days</td>\n",
       "      <td>8.314325e+07</td>\n",
       "      <td>9118.292316</td>\n",
       "      <td>8126.668259</td>\n",
       "      <td>0.152035</td>\n",
       "      <td>0.177350</td>\n",
       "      <td>0.155151</td>\n",
       "      <td>0.25</td>\n",
       "    </tr>\n",
       "    <tr>\n",
       "      <th>4</th>\n",
       "      <td>61 days</td>\n",
       "      <td>8.884078e+07</td>\n",
       "      <td>9425.538469</td>\n",
       "      <td>8980.504577</td>\n",
       "      <td>0.168281</td>\n",
       "      <td>0.177350</td>\n",
       "      <td>0.170419</td>\n",
       "      <td>0.25</td>\n",
       "    </tr>\n",
       "    <tr>\n",
       "      <th>5</th>\n",
       "      <td>83 days</td>\n",
       "      <td>7.088542e+07</td>\n",
       "      <td>8419.348240</td>\n",
       "      <td>7030.186470</td>\n",
       "      <td>0.133358</td>\n",
       "      <td>0.148238</td>\n",
       "      <td>0.132311</td>\n",
       "      <td>0.50</td>\n",
       "    </tr>\n",
       "    <tr>\n",
       "      <th>6</th>\n",
       "      <td>86 days</td>\n",
       "      <td>5.540190e+07</td>\n",
       "      <td>7443.244981</td>\n",
       "      <td>6373.230303</td>\n",
       "      <td>0.126282</td>\n",
       "      <td>0.134086</td>\n",
       "      <td>0.123704</td>\n",
       "      <td>0.50</td>\n",
       "    </tr>\n",
       "    <tr>\n",
       "      <th>7</th>\n",
       "      <td>88 days</td>\n",
       "      <td>5.559261e+07</td>\n",
       "      <td>7456.045259</td>\n",
       "      <td>6383.487762</td>\n",
       "      <td>0.108080</td>\n",
       "      <td>0.122806</td>\n",
       "      <td>0.114113</td>\n",
       "      <td>0.50</td>\n",
       "    </tr>\n",
       "    <tr>\n",
       "      <th>8</th>\n",
       "      <td>91 days</td>\n",
       "      <td>5.029804e+07</td>\n",
       "      <td>7092.110763</td>\n",
       "      <td>5638.736907</td>\n",
       "      <td>0.093947</td>\n",
       "      <td>0.094541</td>\n",
       "      <td>0.100885</td>\n",
       "      <td>0.50</td>\n",
       "    </tr>\n",
       "    <tr>\n",
       "      <th>9</th>\n",
       "      <td>113 days</td>\n",
       "      <td>6.074559e+07</td>\n",
       "      <td>7793.945805</td>\n",
       "      <td>7088.749538</td>\n",
       "      <td>0.120618</td>\n",
       "      <td>0.135416</td>\n",
       "      <td>0.129478</td>\n",
       "      <td>0.25</td>\n",
       "    </tr>\n",
       "    <tr>\n",
       "      <th>10</th>\n",
       "      <td>117 days</td>\n",
       "      <td>4.594494e+07</td>\n",
       "      <td>6778.269323</td>\n",
       "      <td>6246.440470</td>\n",
       "      <td>0.108888</td>\n",
       "      <td>0.123235</td>\n",
       "      <td>0.115781</td>\n",
       "      <td>0.25</td>\n",
       "    </tr>\n",
       "    <tr>\n",
       "      <th>11</th>\n",
       "      <td>118 days</td>\n",
       "      <td>2.456821e+07</td>\n",
       "      <td>4956.633295</td>\n",
       "      <td>4202.053869</td>\n",
       "      <td>0.076913</td>\n",
       "      <td>0.080099</td>\n",
       "      <td>0.080833</td>\n",
       "      <td>0.50</td>\n",
       "    </tr>\n",
       "    <tr>\n",
       "      <th>12</th>\n",
       "      <td>122 days</td>\n",
       "      <td>5.371517e+07</td>\n",
       "      <td>7329.063144</td>\n",
       "      <td>6434.102946</td>\n",
       "      <td>0.110613</td>\n",
       "      <td>0.123235</td>\n",
       "      <td>0.118868</td>\n",
       "      <td>0.25</td>\n",
       "    </tr>\n",
       "    <tr>\n",
       "      <th>13</th>\n",
       "      <td>144 days</td>\n",
       "      <td>7.208432e+07</td>\n",
       "      <td>8490.248468</td>\n",
       "      <td>7498.253373</td>\n",
       "      <td>0.123300</td>\n",
       "      <td>0.148608</td>\n",
       "      <td>0.133640</td>\n",
       "      <td>0.25</td>\n",
       "    </tr>\n",
       "    <tr>\n",
       "      <th>14</th>\n",
       "      <td>148 days</td>\n",
       "      <td>6.385720e+07</td>\n",
       "      <td>7991.070249</td>\n",
       "      <td>6769.323897</td>\n",
       "      <td>0.111412</td>\n",
       "      <td>0.124833</td>\n",
       "      <td>0.120441</td>\n",
       "      <td>0.25</td>\n",
       "    </tr>\n",
       "    <tr>\n",
       "      <th>15</th>\n",
       "      <td>149 days</td>\n",
       "      <td>7.092540e+07</td>\n",
       "      <td>8421.721746</td>\n",
       "      <td>7843.959137</td>\n",
       "      <td>0.131938</td>\n",
       "      <td>0.137892</td>\n",
       "      <td>0.139620</td>\n",
       "      <td>0.25</td>\n",
       "    </tr>\n",
       "    <tr>\n",
       "      <th>16</th>\n",
       "      <td>153 days</td>\n",
       "      <td>1.317233e+08</td>\n",
       "      <td>11477.077783</td>\n",
       "      <td>9865.621537</td>\n",
       "      <td>0.241473</td>\n",
       "      <td>0.137892</td>\n",
       "      <td>0.209144</td>\n",
       "      <td>0.25</td>\n",
       "    </tr>\n",
       "    <tr>\n",
       "      <th>17</th>\n",
       "      <td>175 days</td>\n",
       "      <td>1.028529e+08</td>\n",
       "      <td>10141.641315</td>\n",
       "      <td>7307.802777</td>\n",
       "      <td>0.201118</td>\n",
       "      <td>0.091003</td>\n",
       "      <td>0.164743</td>\n",
       "      <td>0.50</td>\n",
       "    </tr>\n",
       "    <tr>\n",
       "      <th>18</th>\n",
       "      <td>176 days</td>\n",
       "      <td>1.134166e+08</td>\n",
       "      <td>10649.723600</td>\n",
       "      <td>8194.266085</td>\n",
       "      <td>0.226124</td>\n",
       "      <td>0.141015</td>\n",
       "      <td>0.185323</td>\n",
       "      <td>0.50</td>\n",
       "    </tr>\n",
       "    <tr>\n",
       "      <th>19</th>\n",
       "      <td>180 days</td>\n",
       "      <td>1.064153e+08</td>\n",
       "      <td>10315.778061</td>\n",
       "      <td>7147.597505</td>\n",
       "      <td>0.206015</td>\n",
       "      <td>0.100797</td>\n",
       "      <td>0.166432</td>\n",
       "      <td>0.50</td>\n",
       "    </tr>\n",
       "    <tr>\n",
       "      <th>20</th>\n",
       "      <td>181 days</td>\n",
       "      <td>1.172807e+08</td>\n",
       "      <td>10829.622054</td>\n",
       "      <td>7424.306093</td>\n",
       "      <td>0.124680</td>\n",
       "      <td>0.100797</td>\n",
       "      <td>0.132968</td>\n",
       "      <td>0.50</td>\n",
       "    </tr>\n",
       "    <tr>\n",
       "      <th>21</th>\n",
       "      <td>205 days</td>\n",
       "      <td>1.189788e+08</td>\n",
       "      <td>10907.740823</td>\n",
       "      <td>7957.112601</td>\n",
       "      <td>0.134425</td>\n",
       "      <td>0.113624</td>\n",
       "      <td>0.143037</td>\n",
       "      <td>0.25</td>\n",
       "    </tr>\n",
       "    <tr>\n",
       "      <th>22</th>\n",
       "      <td>207 days</td>\n",
       "      <td>1.096853e+08</td>\n",
       "      <td>10473.073192</td>\n",
       "      <td>7212.739651</td>\n",
       "      <td>0.112612</td>\n",
       "      <td>0.069997</td>\n",
       "      <td>0.125937</td>\n",
       "      <td>0.25</td>\n",
       "    </tr>\n",
       "    <tr>\n",
       "      <th>23</th>\n",
       "      <td>210 days</td>\n",
       "      <td>1.102104e+08</td>\n",
       "      <td>10498.113942</td>\n",
       "      <td>7378.608394</td>\n",
       "      <td>0.115749</td>\n",
       "      <td>0.069997</td>\n",
       "      <td>0.128982</td>\n",
       "      <td>0.25</td>\n",
       "    </tr>\n",
       "    <tr>\n",
       "      <th>24</th>\n",
       "      <td>212 days</td>\n",
       "      <td>9.158579e+06</td>\n",
       "      <td>3026.314373</td>\n",
       "      <td>2785.964020</td>\n",
       "      <td>0.052597</td>\n",
       "      <td>0.042728</td>\n",
       "      <td>0.053974</td>\n",
       "      <td>0.50</td>\n",
       "    </tr>\n",
       "    <tr>\n",
       "      <th>25</th>\n",
       "      <td>236 days</td>\n",
       "      <td>6.706062e+07</td>\n",
       "      <td>8189.055179</td>\n",
       "      <td>5983.488070</td>\n",
       "      <td>0.099464</td>\n",
       "      <td>0.063445</td>\n",
       "      <td>0.108477</td>\n",
       "      <td>0.50</td>\n",
       "    </tr>\n",
       "    <tr>\n",
       "      <th>26</th>\n",
       "      <td>237 days</td>\n",
       "      <td>7.365807e+07</td>\n",
       "      <td>8582.427959</td>\n",
       "      <td>6544.831717</td>\n",
       "      <td>0.118789</td>\n",
       "      <td>0.102095</td>\n",
       "      <td>0.123469</td>\n",
       "      <td>0.50</td>\n",
       "    </tr>\n",
       "    <tr>\n",
       "      <th>27</th>\n",
       "      <td>241 days</td>\n",
       "      <td>8.026116e+07</td>\n",
       "      <td>8958.859433</td>\n",
       "      <td>7437.249171</td>\n",
       "      <td>0.135774</td>\n",
       "      <td>0.136064</td>\n",
       "      <td>0.139326</td>\n",
       "      <td>0.50</td>\n",
       "    </tr>\n",
       "    <tr>\n",
       "      <th>28</th>\n",
       "      <td>242 days</td>\n",
       "      <td>8.035870e+07</td>\n",
       "      <td>8964.301270</td>\n",
       "      <td>7463.350372</td>\n",
       "      <td>0.138196</td>\n",
       "      <td>0.136064</td>\n",
       "      <td>0.141364</td>\n",
       "      <td>0.50</td>\n",
       "    </tr>\n",
       "    <tr>\n",
       "      <th>29</th>\n",
       "      <td>266 days</td>\n",
       "      <td>6.168258e+07</td>\n",
       "      <td>7853.825761</td>\n",
       "      <td>6802.354437</td>\n",
       "      <td>0.131726</td>\n",
       "      <td>0.136064</td>\n",
       "      <td>0.133160</td>\n",
       "      <td>0.50</td>\n",
       "    </tr>\n",
       "    <tr>\n",
       "      <th>30</th>\n",
       "      <td>268 days</td>\n",
       "      <td>8.418593e+07</td>\n",
       "      <td>9175.288953</td>\n",
       "      <td>8000.037957</td>\n",
       "      <td>0.137130</td>\n",
       "      <td>0.146874</td>\n",
       "      <td>0.146786</td>\n",
       "      <td>0.50</td>\n",
       "    </tr>\n",
       "    <tr>\n",
       "      <th>31</th>\n",
       "      <td>271 days</td>\n",
       "      <td>7.804545e+07</td>\n",
       "      <td>8834.333622</td>\n",
       "      <td>7216.127501</td>\n",
       "      <td>0.122255</td>\n",
       "      <td>0.117123</td>\n",
       "      <td>0.132955</td>\n",
       "      <td>0.50</td>\n",
       "    </tr>\n",
       "    <tr>\n",
       "      <th>32</th>\n",
       "      <td>273 days</td>\n",
       "      <td>8.764507e+07</td>\n",
       "      <td>9361.894356</td>\n",
       "      <td>8357.842843</td>\n",
       "      <td>0.136652</td>\n",
       "      <td>0.145564</td>\n",
       "      <td>0.148944</td>\n",
       "      <td>0.50</td>\n",
       "    </tr>\n",
       "    <tr>\n",
       "      <th>33</th>\n",
       "      <td>297 days</td>\n",
       "      <td>7.194234e+07</td>\n",
       "      <td>8481.883276</td>\n",
       "      <td>7671.033521</td>\n",
       "      <td>0.128373</td>\n",
       "      <td>0.139623</td>\n",
       "      <td>0.138787</td>\n",
       "      <td>0.50</td>\n",
       "    </tr>\n",
       "    <tr>\n",
       "      <th>34</th>\n",
       "      <td>298 days</td>\n",
       "      <td>3.989725e+07</td>\n",
       "      <td>6316.427190</td>\n",
       "      <td>5545.953327</td>\n",
       "      <td>0.096813</td>\n",
       "      <td>0.082445</td>\n",
       "      <td>0.102780</td>\n",
       "      <td>0.75</td>\n",
       "    </tr>\n",
       "    <tr>\n",
       "      <th>35</th>\n",
       "      <td>302 days</td>\n",
       "      <td>6.538584e+07</td>\n",
       "      <td>8086.151380</td>\n",
       "      <td>7550.471877</td>\n",
       "      <td>0.126687</td>\n",
       "      <td>0.132801</td>\n",
       "      <td>0.136564</td>\n",
       "      <td>0.50</td>\n",
       "    </tr>\n",
       "    <tr>\n",
       "      <th>36</th>\n",
       "      <td>303 days</td>\n",
       "      <td>6.123040e+07</td>\n",
       "      <td>7824.985742</td>\n",
       "      <td>7190.187619</td>\n",
       "      <td>0.124468</td>\n",
       "      <td>0.128363</td>\n",
       "      <td>0.134113</td>\n",
       "      <td>0.50</td>\n",
       "    </tr>\n",
       "    <tr>\n",
       "      <th>37</th>\n",
       "      <td>328 days</td>\n",
       "      <td>4.878643e+07</td>\n",
       "      <td>6984.728225</td>\n",
       "      <td>6467.816729</td>\n",
       "      <td>0.113405</td>\n",
       "      <td>0.113058</td>\n",
       "      <td>0.121102</td>\n",
       "      <td>0.50</td>\n",
       "    </tr>\n",
       "    <tr>\n",
       "      <th>38</th>\n",
       "      <td>329 days</td>\n",
       "      <td>4.788587e+07</td>\n",
       "      <td>6919.961617</td>\n",
       "      <td>6317.131026</td>\n",
       "      <td>0.110410</td>\n",
       "      <td>0.113058</td>\n",
       "      <td>0.117267</td>\n",
       "      <td>0.50</td>\n",
       "    </tr>\n",
       "    <tr>\n",
       "      <th>39</th>\n",
       "      <td>333 days</td>\n",
       "      <td>1.192172e+08</td>\n",
       "      <td>10918.664012</td>\n",
       "      <td>8680.198709</td>\n",
       "      <td>0.228353</td>\n",
       "      <td>0.113058</td>\n",
       "      <td>0.193192</td>\n",
       "      <td>0.50</td>\n",
       "    </tr>\n",
       "    <tr>\n",
       "      <th>40</th>\n",
       "      <td>334 days</td>\n",
       "      <td>1.129350e+08</td>\n",
       "      <td>10627.085922</td>\n",
       "      <td>7563.601577</td>\n",
       "      <td>0.207841</td>\n",
       "      <td>0.092457</td>\n",
       "      <td>0.171570</td>\n",
       "      <td>0.50</td>\n",
       "    </tr>\n",
       "    <tr>\n",
       "      <th>41</th>\n",
       "      <td>356 days</td>\n",
       "      <td>1.052803e+08</td>\n",
       "      <td>10260.620894</td>\n",
       "      <td>6910.806545</td>\n",
       "      <td>0.200693</td>\n",
       "      <td>0.078162</td>\n",
       "      <td>0.160728</td>\n",
       "      <td>0.50</td>\n",
       "    </tr>\n",
       "    <tr>\n",
       "      <th>42</th>\n",
       "      <td>360 days</td>\n",
       "      <td>1.039974e+08</td>\n",
       "      <td>10197.913080</td>\n",
       "      <td>6600.297151</td>\n",
       "      <td>0.194659</td>\n",
       "      <td>0.066094</td>\n",
       "      <td>0.155111</td>\n",
       "      <td>0.50</td>\n",
       "    </tr>\n",
       "    <tr>\n",
       "      <th>43</th>\n",
       "      <td>361 days</td>\n",
       "      <td>1.049871e+08</td>\n",
       "      <td>10246.323189</td>\n",
       "      <td>6625.203098</td>\n",
       "      <td>0.106444</td>\n",
       "      <td>0.066094</td>\n",
       "      <td>0.116908</td>\n",
       "      <td>0.50</td>\n",
       "    </tr>\n",
       "    <tr>\n",
       "      <th>44</th>\n",
       "      <td>365 days</td>\n",
       "      <td>1.064752e+08</td>\n",
       "      <td>10318.680887</td>\n",
       "      <td>7107.139511</td>\n",
       "      <td>0.115075</td>\n",
       "      <td>0.075002</td>\n",
       "      <td>0.125785</td>\n",
       "      <td>0.50</td>\n",
       "    </tr>\n",
       "  </tbody>\n",
       "</table>\n",
       "</div>"
      ],
      "text/plain": [
       "    horizon           mse          rmse          mae      mape     mdape  \\\n",
       "0   30 days  2.716989e+06   1648.329171  1495.694721  0.029164  0.033065   \n",
       "1   52 days  2.007729e+07   4480.769068  3197.845267  0.058820  0.037139   \n",
       "2   56 days  6.293214e+07   7932.978100  6377.659329  0.107245  0.098742   \n",
       "3   57 days  8.314325e+07   9118.292316  8126.668259  0.152035  0.177350   \n",
       "4   61 days  8.884078e+07   9425.538469  8980.504577  0.168281  0.177350   \n",
       "5   83 days  7.088542e+07   8419.348240  7030.186470  0.133358  0.148238   \n",
       "6   86 days  5.540190e+07   7443.244981  6373.230303  0.126282  0.134086   \n",
       "7   88 days  5.559261e+07   7456.045259  6383.487762  0.108080  0.122806   \n",
       "8   91 days  5.029804e+07   7092.110763  5638.736907  0.093947  0.094541   \n",
       "9  113 days  6.074559e+07   7793.945805  7088.749538  0.120618  0.135416   \n",
       "10 117 days  4.594494e+07   6778.269323  6246.440470  0.108888  0.123235   \n",
       "11 118 days  2.456821e+07   4956.633295  4202.053869  0.076913  0.080099   \n",
       "12 122 days  5.371517e+07   7329.063144  6434.102946  0.110613  0.123235   \n",
       "13 144 days  7.208432e+07   8490.248468  7498.253373  0.123300  0.148608   \n",
       "14 148 days  6.385720e+07   7991.070249  6769.323897  0.111412  0.124833   \n",
       "15 149 days  7.092540e+07   8421.721746  7843.959137  0.131938  0.137892   \n",
       "16 153 days  1.317233e+08  11477.077783  9865.621537  0.241473  0.137892   \n",
       "17 175 days  1.028529e+08  10141.641315  7307.802777  0.201118  0.091003   \n",
       "18 176 days  1.134166e+08  10649.723600  8194.266085  0.226124  0.141015   \n",
       "19 180 days  1.064153e+08  10315.778061  7147.597505  0.206015  0.100797   \n",
       "20 181 days  1.172807e+08  10829.622054  7424.306093  0.124680  0.100797   \n",
       "21 205 days  1.189788e+08  10907.740823  7957.112601  0.134425  0.113624   \n",
       "22 207 days  1.096853e+08  10473.073192  7212.739651  0.112612  0.069997   \n",
       "23 210 days  1.102104e+08  10498.113942  7378.608394  0.115749  0.069997   \n",
       "24 212 days  9.158579e+06   3026.314373  2785.964020  0.052597  0.042728   \n",
       "25 236 days  6.706062e+07   8189.055179  5983.488070  0.099464  0.063445   \n",
       "26 237 days  7.365807e+07   8582.427959  6544.831717  0.118789  0.102095   \n",
       "27 241 days  8.026116e+07   8958.859433  7437.249171  0.135774  0.136064   \n",
       "28 242 days  8.035870e+07   8964.301270  7463.350372  0.138196  0.136064   \n",
       "29 266 days  6.168258e+07   7853.825761  6802.354437  0.131726  0.136064   \n",
       "30 268 days  8.418593e+07   9175.288953  8000.037957  0.137130  0.146874   \n",
       "31 271 days  7.804545e+07   8834.333622  7216.127501  0.122255  0.117123   \n",
       "32 273 days  8.764507e+07   9361.894356  8357.842843  0.136652  0.145564   \n",
       "33 297 days  7.194234e+07   8481.883276  7671.033521  0.128373  0.139623   \n",
       "34 298 days  3.989725e+07   6316.427190  5545.953327  0.096813  0.082445   \n",
       "35 302 days  6.538584e+07   8086.151380  7550.471877  0.126687  0.132801   \n",
       "36 303 days  6.123040e+07   7824.985742  7190.187619  0.124468  0.128363   \n",
       "37 328 days  4.878643e+07   6984.728225  6467.816729  0.113405  0.113058   \n",
       "38 329 days  4.788587e+07   6919.961617  6317.131026  0.110410  0.113058   \n",
       "39 333 days  1.192172e+08  10918.664012  8680.198709  0.228353  0.113058   \n",
       "40 334 days  1.129350e+08  10627.085922  7563.601577  0.207841  0.092457   \n",
       "41 356 days  1.052803e+08  10260.620894  6910.806545  0.200693  0.078162   \n",
       "42 360 days  1.039974e+08  10197.913080  6600.297151  0.194659  0.066094   \n",
       "43 361 days  1.049871e+08  10246.323189  6625.203098  0.106444  0.066094   \n",
       "44 365 days  1.064752e+08  10318.680887  7107.139511  0.115075  0.075002   \n",
       "\n",
       "       smape  coverage  \n",
       "0   0.029455      0.75  \n",
       "1   0.062163      0.75  \n",
       "2   0.116179      0.50  \n",
       "3   0.155151      0.25  \n",
       "4   0.170419      0.25  \n",
       "5   0.132311      0.50  \n",
       "6   0.123704      0.50  \n",
       "7   0.114113      0.50  \n",
       "8   0.100885      0.50  \n",
       "9   0.129478      0.25  \n",
       "10  0.115781      0.25  \n",
       "11  0.080833      0.50  \n",
       "12  0.118868      0.25  \n",
       "13  0.133640      0.25  \n",
       "14  0.120441      0.25  \n",
       "15  0.139620      0.25  \n",
       "16  0.209144      0.25  \n",
       "17  0.164743      0.50  \n",
       "18  0.185323      0.50  \n",
       "19  0.166432      0.50  \n",
       "20  0.132968      0.50  \n",
       "21  0.143037      0.25  \n",
       "22  0.125937      0.25  \n",
       "23  0.128982      0.25  \n",
       "24  0.053974      0.50  \n",
       "25  0.108477      0.50  \n",
       "26  0.123469      0.50  \n",
       "27  0.139326      0.50  \n",
       "28  0.141364      0.50  \n",
       "29  0.133160      0.50  \n",
       "30  0.146786      0.50  \n",
       "31  0.132955      0.50  \n",
       "32  0.148944      0.50  \n",
       "33  0.138787      0.50  \n",
       "34  0.102780      0.75  \n",
       "35  0.136564      0.50  \n",
       "36  0.134113      0.50  \n",
       "37  0.121102      0.50  \n",
       "38  0.117267      0.50  \n",
       "39  0.193192      0.50  \n",
       "40  0.171570      0.50  \n",
       "41  0.160728      0.50  \n",
       "42  0.155111      0.50  \n",
       "43  0.116908      0.50  \n",
       "44  0.125785      0.50  "
      ]
     },
     "execution_count": 93,
     "metadata": {},
     "output_type": "execute_result"
    }
   ],
   "source": [
    "df_p = performance_metrics(df_cv)\n",
    "df_p"
   ]
  },
  {
   "cell_type": "code",
   "execution_count": 94,
   "id": "64048205",
   "metadata": {},
   "outputs": [
    {
     "data": {
      "image/png": "[encoded data removed]",
      "text/plain": [
       "<Figure size 1000x600 with 1 Axes>"
      ]
     },
     "metadata": {},
     "output_type": "display_data"
    }
   ],
   "source": [
    "fig = plot_cross_validation_metric(df_cv, metric='mape')"
   ]
  },
  {
   "cell_type": "code",
   "execution_count": 95,
   "id": "c709e7f6",
   "metadata": {},
   "outputs": [
    {
     "data": {
      "text/plain": [
       "57    55575\n",
       "58    55311\n",
       "59    55281\n",
       "Name: y, dtype: int64"
      ]
     },
     "execution_count": 95,
     "metadata": {},
     "output_type": "execute_result"
    }
   ],
   "source": [
    "test_df"
   ]
  },
  {
   "cell_type": "code",
   "execution_count": 96,
   "id": "42c6986a",
   "metadata": {},
   "outputs": [
    {
     "data": {
      "text/plain": [
       "57    55102.296427\n",
       "58    57184.446380\n",
       "59    55011.390488\n",
       "Name: yhat, dtype: float64"
      ]
     },
     "execution_count": 96,
     "metadata": {},
     "output_type": "execute_result"
    }
   ],
   "source": [
    "pred"
   ]
  },
  {
   "cell_type": "markdown",
   "id": "c4385c2f",
   "metadata": {},
   "source": [
    "# FORECASTING"
   ]
  },
  {
   "cell_type": "code",
   "execution_count": 97,
   "id": "12147b75",
   "metadata": {},
   "outputs": [],
   "source": [
    "model_forecast = Prophet(changepoint_prior_scale=0.001, seasonality_prior_scale=3.0, seasonality_mode = 'multiplicative',\n",
    "                interval_width=0.95)"
   ]
  },
  {
   "cell_type": "code",
   "execution_count": 98,
   "id": "011fe799",
   "metadata": {},
   "outputs": [
    {
     "name": "stderr",
     "output_type": "stream",
     "text": [
      "16:14:17 - cmdstanpy - INFO - Chain [1] start processing\n",
      "16:14:17 - cmdstanpy - INFO - Chain [1] done processing\n"
     ]
    },
    {
     "data": {
      "text/plain": [
       "<prophet.forecaster.Prophet at 0x1b424323eb0>"
      ]
     },
     "execution_count": 98,
     "metadata": {},
     "output_type": "execute_result"
    }
   ],
   "source": [
    "model_forecast.fit(sales_a)"
   ]
  },
  {
   "cell_type": "code",
   "execution_count": 99,
   "id": "8e9a4a93",
   "metadata": {},
   "outputs": [],
   "source": [
    "# Create a DataFrame for future dates \n",
    "future_dates_f = model_forecast.make_future_dataframe(periods=3, freq='MS')  # 3 months in 2024"
   ]
  },
  {
   "cell_type": "code",
   "execution_count": 100,
   "id": "59a81d86",
   "metadata": {},
   "outputs": [],
   "source": [
    "# Make predictions for the future\n",
    "forecast_f = model_forecast.predict(future_dates_f)"
   ]
  },
  {
   "cell_type": "code",
   "execution_count": 101,
   "id": "b0e6daac",
   "metadata": {},
   "outputs": [],
   "source": [
    "forecasted_f_df=forecast_f[['ds', 'yhat', 'yhat_lower', 'yhat_upper']].tail(3)"
   ]
  },
  {
   "cell_type": "code",
   "execution_count": 102,
   "id": "857ee13d",
   "metadata": {},
   "outputs": [
    {
     "data": {
      "text/html": [
       "<div>\n",
       "<style scoped>\n",
       "    .dataframe tbody tr th:only-of-type {\n",
       "        vertical-align: middle;\n",
       "    }\n",
       "\n",
       "    .dataframe tbody tr th {\n",
       "        vertical-align: top;\n",
       "    }\n",
       "\n",
       "    .dataframe thead th {\n",
       "        text-align: right;\n",
       "    }\n",
       "</style>\n",
       "<table border=\"1\" class=\"dataframe\">\n",
       "  <thead>\n",
       "    <tr style=\"text-align: right;\">\n",
       "      <th></th>\n",
       "      <th>ds</th>\n",
       "      <th>yhat</th>\n",
       "      <th>yhat_lower</th>\n",
       "      <th>yhat_upper</th>\n",
       "    </tr>\n",
       "  </thead>\n",
       "  <tbody>\n",
       "    <tr>\n",
       "      <th>60</th>\n",
       "      <td>2024-01-01</td>\n",
       "      <td>56231.012757</td>\n",
       "      <td>47158.686837</td>\n",
       "      <td>65183.425711</td>\n",
       "    </tr>\n",
       "    <tr>\n",
       "      <th>61</th>\n",
       "      <td>2024-02-01</td>\n",
       "      <td>43058.072143</td>\n",
       "      <td>34142.339789</td>\n",
       "      <td>51558.455178</td>\n",
       "    </tr>\n",
       "    <tr>\n",
       "      <th>62</th>\n",
       "      <td>2024-03-01</td>\n",
       "      <td>49783.553494</td>\n",
       "      <td>41186.151812</td>\n",
       "      <td>58801.350088</td>\n",
       "    </tr>\n",
       "  </tbody>\n",
       "</table>\n",
       "</div>"
      ],
      "text/plain": [
       "           ds          yhat    yhat_lower    yhat_upper\n",
       "60 2024-01-01  56231.012757  47158.686837  65183.425711\n",
       "61 2024-02-01  43058.072143  34142.339789  51558.455178\n",
       "62 2024-03-01  49783.553494  41186.151812  58801.350088"
      ]
     },
     "execution_count": 102,
     "metadata": {},
     "output_type": "execute_result"
    }
   ],
   "source": [
    "forecasted_f_df"
   ]
  },
  {
   "cell_type": "code",
   "execution_count": 103,
   "id": "42137d58",
   "metadata": {
    "scrolled": true
   },
   "outputs": [
    {
     "data": {
      "image/png": "[encoded data removed]",
      "text/plain": [
       "<Figure size 1000x600 with 1 Axes>"
      ]
     },
     "metadata": {},
     "output_type": "display_data"
    }
   ],
   "source": [
    "fig = model_forecast.plot(forecast_f, include_legend=True, uncertainty=True)\n",
    "plt.title('Product A -Sales Forecast (2024)')\n",
    "plt.xlabel('Date')\n",
    "plt.ylabel('Sales')\n",
    "plt.show()"
   ]
  },
  {
   "cell_type": "code",
   "execution_count": 104,
   "id": "c41b1216",
   "metadata": {},
   "outputs": [
    {
     "data": {
      "application/vnd.plotly.v1+json": {
       "config": {
        "plotlyServerURL": "https://plot.ly"
       },
       "data": [
        {
         "marker": {
          "color": "black",
          "size": 4
         },
         "mode": "markers",
         "name": "Actual",
         "type": "scatter",
         "x": [
          "2019-01-01T00:00:00",
          "2019-02-01T00:00:00",
          "2019-03-01T00:00:00",
          "2019-04-01T00:00:00",
          "2019-05-01T00:00:00",
          "2019-06-01T00:00:00",
          "2019-07-01T00:00:00",
          "2019-08-01T00:00:00",
          "2019-09-01T00:00:00",
          "2019-10-01T00:00:00",
          "2019-11-01T00:00:00",
          "2019-12-01T00:00:00",
          "2020-01-01T00:00:00",
          "2020-02-01T00:00:00",
          "2020-03-01T00:00:00",
          "2020-04-01T00:00:00",
          "2020-05-01T00:00:00",
          "2020-06-01T00:00:00",
          "2020-07-01T00:00:00",
          "2020-08-01T00:00:00",
          "2020-09-01T00:00:00",
          "2020-10-01T00:00:00",
          "2020-11-01T00:00:00",
          "2020-12-01T00:00:00",
          "2021-01-01T00:00:00",
          "2021-02-01T00:00:00",
          "2021-03-01T00:00:00",
          "2021-04-01T00:00:00",
          "2021-05-01T00:00:00",
          "2021-06-01T00:00:00",
          "2021-07-01T00:00:00",
          "2021-08-01T00:00:00",
          "2021-09-01T00:00:00",
          "2021-10-01T00:00:00",
          "2021-11-01T00:00:00",
          "2021-12-01T00:00:00",
          "2022-01-01T00:00:00",
          "2022-02-01T00:00:00",
          "2022-03-01T00:00:00",
          "2022-04-01T00:00:00",
          "2022-05-01T00:00:00",
          "2022-06-01T00:00:00",
          "2022-07-01T00:00:00",
          "2022-08-01T00:00:00",
          "2022-09-01T00:00:00",
          "2022-10-01T00:00:00",
          "2022-11-01T00:00:00",
          "2022-12-01T00:00:00",
          "2023-01-01T00:00:00",
          "2023-02-01T00:00:00",
          "2023-03-01T00:00:00",
          "2023-04-01T00:00:00",
          "2023-05-01T00:00:00",
          "2023-06-01T00:00:00",
          "2023-07-01T00:00:00",
          "2023-08-01T00:00:00",
          "2023-09-01T00:00:00",
          "2023-10-01T00:00:00",
          "2023-11-01T00:00:00",
          "2023-12-01T00:00:00"
         ],
         "y": [
          54555,
          54293,
          58798,
          53229,
          50558,
          56326,
          50125,
          56414,
          55658,
          56203,
          56943,
          54800,
          52172,
          48942,
          53422,
          48166,
          50404,
          50709,
          51845,
          56302,
          56527,
          55389,
          52543,
          50325,
          49356,
          50021,
          48118,
          47947,
          55227,
          49167,
          53752,
          62655,
          51256,
          53960,
          65256,
          60727,
          56585,
          53698,
          43442,
          52404,
          41658,
          62172,
          51890,
          52256,
          52959,
          52928,
          52677,
          52648,
          63171,
          31168,
          70380,
          53078,
          43741,
          63919,
          54485,
          54869,
          55607,
          55575,
          55311,
          55281
         ]
        },
        {
         "hoverinfo": "skip",
         "line": {
          "width": 0
         },
         "mode": "lines",
         "type": "scatter",
         "x": [
          "2019-01-01T00:00:00",
          "2019-02-01T00:00:00",
          "2019-03-01T00:00:00",
          "2019-04-01T00:00:00",
          "2019-05-01T00:00:00",
          "2019-06-01T00:00:00",
          "2019-07-01T00:00:00",
          "2019-08-01T00:00:00",
          "2019-09-01T00:00:00",
          "2019-10-01T00:00:00",
          "2019-11-01T00:00:00",
          "2019-12-01T00:00:00",
          "2020-01-01T00:00:00",
          "2020-02-01T00:00:00",
          "2020-03-01T00:00:00",
          "2020-04-01T00:00:00",
          "2020-05-01T00:00:00",
          "2020-06-01T00:00:00",
          "2020-07-01T00:00:00",
          "2020-08-01T00:00:00",
          "2020-09-01T00:00:00",
          "2020-10-01T00:00:00",
          "2020-11-01T00:00:00",
          "2020-12-01T00:00:00",
          "2021-01-01T00:00:00",
          "2021-02-01T00:00:00",
          "2021-03-01T00:00:00",
          "2021-04-01T00:00:00",
          "2021-05-01T00:00:00",
          "2021-06-01T00:00:00",
          "2021-07-01T00:00:00",
          "2021-08-01T00:00:00",
          "2021-09-01T00:00:00",
          "2021-10-01T00:00:00",
          "2021-11-01T00:00:00",
          "2021-12-01T00:00:00",
          "2022-01-01T00:00:00",
          "2022-02-01T00:00:00",
          "2022-03-01T00:00:00",
          "2022-04-01T00:00:00",
          "2022-05-01T00:00:00",
          "2022-06-01T00:00:00",
          "2022-07-01T00:00:00",
          "2022-08-01T00:00:00",
          "2022-09-01T00:00:00",
          "2022-10-01T00:00:00",
          "2022-11-01T00:00:00",
          "2022-12-01T00:00:00",
          "2023-01-01T00:00:00",
          "2023-02-01T00:00:00",
          "2023-03-01T00:00:00",
          "2023-04-01T00:00:00",
          "2023-05-01T00:00:00",
          "2023-06-01T00:00:00",
          "2023-07-01T00:00:00",
          "2023-08-01T00:00:00",
          "2023-09-01T00:00:00",
          "2023-10-01T00:00:00",
          "2023-11-01T00:00:00",
          "2023-12-01T00:00:00",
          "2024-01-01T00:00:00",
          "2024-02-01T00:00:00",
          "2024-03-01T00:00:00"
         ],
         "y": [
          46178.43815123482,
          36948.2244550068,
          48629.38435202608,
          41956.07495940258,
          34727.09191714178,
          51313.25964619349,
          42479.73447108928,
          46033.00902870302,
          45593.571094005696,
          46767.14808417674,
          48037.85649498668,
          46153.96379732526,
          47585.53056832669,
          33546.49370656605,
          40625.33340420767,
          41078.46868276915,
          44798.72807734637,
          41362.26442702914,
          44186.2913425506,
          49268.8117966581,
          44619.01881203557,
          45436.879904803674,
          47393.4598493611,
          44570.982982899346,
          44359.485499066555,
          43400.523658854225,
          43762.66046977051,
          41366.081589678906,
          42016.00168137496,
          45380.80903309897,
          43867.56432151815,
          48224.77672187486,
          45257.17419903274,
          45808.69712855441,
          47047.82224235993,
          44955.6184917287,
          45498.07909429514,
          40762.61015402874,
          46733.512133591285,
          42653.651165157076,
          38332.44064920759,
          47520.11298102281,
          42945.37135839252,
          47769.42892977028,
          45894.84344202014,
          45385.5812929707,
          48324.27359888943,
          45243.900079556464,
          46217.36893300529,
          37694.42999522601,
          49404.4572325646,
          42331.04432465094,
          34948.947251296326,
          51528.39077012035,
          42520.24942031331,
          45732.19861693472,
          45622.18702377741,
          46337.42474608582,
          47796.307142294805,
          45994.385787878695,
          47158.68683678242,
          34142.33978913963,
          41186.15181228235
         ]
        },
        {
         "fill": "tonexty",
         "fillcolor": "rgba(0, 114, 178, 0.2)",
         "line": {
          "color": "#0072B2",
          "width": 2
         },
         "mode": "lines",
         "name": "Predicted",
         "type": "scatter",
         "x": [
          "2019-01-01T00:00:00",
          "2019-02-01T00:00:00",
          "2019-03-01T00:00:00",
          "2019-04-01T00:00:00",
          "2019-05-01T00:00:00",
          "2019-06-01T00:00:00",
          "2019-07-01T00:00:00",
          "2019-08-01T00:00:00",
          "2019-09-01T00:00:00",
          "2019-10-01T00:00:00",
          "2019-11-01T00:00:00",
          "2019-12-01T00:00:00",
          "2020-01-01T00:00:00",
          "2020-02-01T00:00:00",
          "2020-03-01T00:00:00",
          "2020-04-01T00:00:00",
          "2020-05-01T00:00:00",
          "2020-06-01T00:00:00",
          "2020-07-01T00:00:00",
          "2020-08-01T00:00:00",
          "2020-09-01T00:00:00",
          "2020-10-01T00:00:00",
          "2020-11-01T00:00:00",
          "2020-12-01T00:00:00",
          "2021-01-01T00:00:00",
          "2021-02-01T00:00:00",
          "2021-03-01T00:00:00",
          "2021-04-01T00:00:00",
          "2021-05-01T00:00:00",
          "2021-06-01T00:00:00",
          "2021-07-01T00:00:00",
          "2021-08-01T00:00:00",
          "2021-09-01T00:00:00",
          "2021-10-01T00:00:00",
          "2021-11-01T00:00:00",
          "2021-12-01T00:00:00",
          "2022-01-01T00:00:00",
          "2022-02-01T00:00:00",
          "2022-03-01T00:00:00",
          "2022-04-01T00:00:00",
          "2022-05-01T00:00:00",
          "2022-06-01T00:00:00",
          "2022-07-01T00:00:00",
          "2022-08-01T00:00:00",
          "2022-09-01T00:00:00",
          "2022-10-01T00:00:00",
          "2022-11-01T00:00:00",
          "2022-12-01T00:00:00",
          "2023-01-01T00:00:00",
          "2023-02-01T00:00:00",
          "2023-03-01T00:00:00",
          "2023-04-01T00:00:00",
          "2023-05-01T00:00:00",
          "2023-06-01T00:00:00",
          "2023-07-01T00:00:00",
          "2023-08-01T00:00:00",
          "2023-09-01T00:00:00",
          "2023-10-01T00:00:00",
          "2023-11-01T00:00:00",
          "2023-12-01T00:00:00",
          "2024-01-01T00:00:00",
          "2024-02-01T00:00:00",
          "2024-03-01T00:00:00"
         ],
         "y": [
          55337.58034587729,
          46112.43280082232,
          58095.4432791725,
          51483.83464470011,
          44196.983276010316,
          60001.70976249671,
          51424.35331222158,
          54730.59238886265,
          54556.58413132645,
          55095.3351398438,
          56222.26629871942,
          54961.075972502775,
          56122.75064616769,
          42975.175408317096,
          49687.71231586246,
          49744.38940986621,
          53993.855994322446,
          50832.39794091761,
          53296.16903861458,
          58661.59880855728,
          53574.49940470928,
          53770.78231461964,
          56518.50464065145,
          53942.55168846533,
          53748.7764865001,
          52541.229653612216,
          52494.8530525819,
          50417.00715727831,
          50734.130591333276,
          53896.77789573627,
          52751.20318339843,
          57383.326519821516,
          53911.1223804681,
          54245.621427347665,
          56458.418749492455,
          54319.15230807281,
          54616.91696118566,
          49363.484700940346,
          55335.72324850056,
          51030.177206193424,
          47496.00957886493,
          56992.64074226611,
          52160.24974653014,
          56107.676285224064,
          54273.58851954139,
          54722.78020904534,
          56395.889651590835,
          54694.18027971863,
          55444.37931460863,
          46201.42401754382,
          58207.55605787942,
          51583.18425105594,
          44282.26788885775,
          60117.487191071814,
          51523.57620981688,
          54836.19032627282,
          54661.842025691665,
          55201.62825405949,
          56330.72911381086,
          55067.10152567327,
          56231.01275748464,
          43058.072143473786,
          49783.553493630214
         ]
        },
        {
         "fill": "tonexty",
         "fillcolor": "rgba(0, 114, 178, 0.2)",
         "hoverinfo": "skip",
         "line": {
          "width": 0
         },
         "mode": "lines",
         "type": "scatter",
         "x": [
          "2019-01-01T00:00:00",
          "2019-02-01T00:00:00",
          "2019-03-01T00:00:00",
          "2019-04-01T00:00:00",
          "2019-05-01T00:00:00",
          "2019-06-01T00:00:00",
          "2019-07-01T00:00:00",
          "2019-08-01T00:00:00",
          "2019-09-01T00:00:00",
          "2019-10-01T00:00:00",
          "2019-11-01T00:00:00",
          "2019-12-01T00:00:00",
          "2020-01-01T00:00:00",
          "2020-02-01T00:00:00",
          "2020-03-01T00:00:00",
          "2020-04-01T00:00:00",
          "2020-05-01T00:00:00",
          "2020-06-01T00:00:00",
          "2020-07-01T00:00:00",
          "2020-08-01T00:00:00",
          "2020-09-01T00:00:00",
          "2020-10-01T00:00:00",
          "2020-11-01T00:00:00",
          "2020-12-01T00:00:00",
          "2021-01-01T00:00:00",
          "2021-02-01T00:00:00",
          "2021-03-01T00:00:00",
          "2021-04-01T00:00:00",
          "2021-05-01T00:00:00",
          "2021-06-01T00:00:00",
          "2021-07-01T00:00:00",
          "2021-08-01T00:00:00",
          "2021-09-01T00:00:00",
          "2021-10-01T00:00:00",
          "2021-11-01T00:00:00",
          "2021-12-01T00:00:00",
          "2022-01-01T00:00:00",
          "2022-02-01T00:00:00",
          "2022-03-01T00:00:00",
          "2022-04-01T00:00:00",
          "2022-05-01T00:00:00",
          "2022-06-01T00:00:00",
          "2022-07-01T00:00:00",
          "2022-08-01T00:00:00",
          "2022-09-01T00:00:00",
          "2022-10-01T00:00:00",
          "2022-11-01T00:00:00",
          "2022-12-01T00:00:00",
          "2023-01-01T00:00:00",
          "2023-02-01T00:00:00",
          "2023-03-01T00:00:00",
          "2023-04-01T00:00:00",
          "2023-05-01T00:00:00",
          "2023-06-01T00:00:00",
          "2023-07-01T00:00:00",
          "2023-08-01T00:00:00",
          "2023-09-01T00:00:00",
          "2023-10-01T00:00:00",
          "2023-11-01T00:00:00",
          "2023-12-01T00:00:00",
          "2024-01-01T00:00:00",
          "2024-02-01T00:00:00",
          "2024-03-01T00:00:00"
         ],
         "y": [
          64502.919699738995,
          55119.730739510276,
          67155.98732421605,
          60549.46340178402,
          53202.007887160886,
          68738.85528904243,
          60975.09362052492,
          63465.03048490397,
          63279.23521605369,
          64015.70509428017,
          65348.91711129155,
          64531.74077048834,
          65142.56001313706,
          51811.94671708786,
          58884.095183357655,
          59120.54031075792,
          62818.41138929988,
          59939.587320846666,
          61096.775814195076,
          67846.05294196995,
          62103.37363656229,
          62804.52295354515,
          65905.90499079376,
          63155.88727089951,
          62488.94987804217,
          61952.075792699885,
          61650.843313011756,
          58977.46430113774,
          59893.858274121565,
          62945.61519558912,
          61274.32351107021,
          66046.49479572794,
          62877.72396568953,
          62946.14197973438,
          64365.333902782906,
          63374.00244811668,
          63162.45801251591,
          58589.803712841,
          64241.455950055155,
          59919.36031525131,
          56674.78464318718,
          64732.23458641238,
          61803.95161388762,
          64605.783768592,
          62529.559080727624,
          63403.70696138583,
          65832.79365989828,
          63866.93275494436,
          64857.12641748609,
          54576.65594813193,
          66970.54815181835,
          60424.44103887428,
          52839.367697800204,
          68400.20387479191,
          59980.70650272344,
          64055.9587245529,
          63795.74007337071,
          63613.04494668614,
          65737.77204319123,
          63819.42249532039,
          65183.42571066456,
          51558.4551775182,
          58801.350087851184
         ]
        }
       ],
       "layout": {
        "height": 600,
        "showlegend": false,
        "template": {
         "data": {
          "bar": [
           {
            "error_x": {
             "color": "#2a3f5f"
            },
            "error_y": {
             "color": "#2a3f5f"
            },
            "marker": {
             "line": {
              "color": "#E5ECF6",
              "width": 0.5
             },
             "pattern": {
              "fillmode": "overlay",
              "size": 10,
              "solidity": 0.2
             }
            },
            "type": "bar"
           }
          ],
          "barpolar": [
           {
            "marker": {
             "line": {
              "color": "#E5ECF6",
              "width": 0.5
             },
             "pattern": {
              "fillmode": "overlay",
              "size": 10,
              "solidity": 0.2
             }
            },
            "type": "barpolar"
           }
          ],
          "carpet": [
           {
            "aaxis": {
             "endlinecolor": "#2a3f5f",
             "gridcolor": "white",
             "linecolor": "white",
             "minorgridcolor": "white",
             "startlinecolor": "#2a3f5f"
            },
            "baxis": {
             "endlinecolor": "#2a3f5f",
             "gridcolor": "white",
             "linecolor": "white",
             "minorgridcolor": "white",
             "startlinecolor": "#2a3f5f"
            },
            "type": "carpet"
           }
          ],
          "choropleth": [
           {
            "colorbar": {
             "outlinewidth": 0,
             "ticks": ""
            },
            "type": "choropleth"
           }
          ],
          "contour": [
           {
            "colorbar": {
             "outlinewidth": 0,
             "ticks": ""
            },
            "colorscale": [
             [
              0,
              "#0d0887"
             ],
             [
              0.1111111111111111,
              "#46039f"
             ],
             [
              0.2222222222222222,
              "#7201a8"
             ],
             [
              0.3333333333333333,
              "#9c179e"
             ],
             [
              0.4444444444444444,
              "#bd3786"
             ],
             [
              0.5555555555555556,
              "#d8576b"
             ],
             [
              0.6666666666666666,
              "#ed7953"
             ],
             [
              0.7777777777777778,
              "#fb9f3a"
             ],
             [
              0.8888888888888888,
              "#fdca26"
             ],
             [
              1,
              "#f0f921"
             ]
            ],
            "type": "contour"
           }
          ],
          "contourcarpet": [
           {
            "colorbar": {
             "outlinewidth": 0,
             "ticks": ""
            },
            "type": "contourcarpet"
           }
          ],
          "heatmap": [
           {
            "colorbar": {
             "outlinewidth": 0,
             "ticks": ""
            },
            "colorscale": [
             [
              0,
              "#0d0887"
             ],
             [
              0.1111111111111111,
              "#46039f"
             ],
             [
              0.2222222222222222,
              "#7201a8"
             ],
             [
              0.3333333333333333,
              "#9c179e"
             ],
             [
              0.4444444444444444,
              "#bd3786"
             ],
             [
              0.5555555555555556,
              "#d8576b"
             ],
             [
              0.6666666666666666,
              "#ed7953"
             ],
             [
              0.7777777777777778,
              "#fb9f3a"
             ],
             [
              0.8888888888888888,
              "#fdca26"
             ],
             [
              1,
              "#f0f921"
             ]
            ],
            "type": "heatmap"
           }
          ],
          "heatmapgl": [
           {
            "colorbar": {
             "outlinewidth": 0,
             "ticks": ""
            },
            "colorscale": [
             [
              0,
              "#0d0887"
             ],
             [
              0.1111111111111111,
              "#46039f"
             ],
             [
              0.2222222222222222,
              "#7201a8"
             ],
             [
              0.3333333333333333,
              "#9c179e"
             ],
             [
              0.4444444444444444,
              "#bd3786"
             ],
             [
              0.5555555555555556,
              "#d8576b"
             ],
             [
              0.6666666666666666,
              "#ed7953"
             ],
             [
              0.7777777777777778,
              "#fb9f3a"
             ],
             [
              0.8888888888888888,
              "#fdca26"
             ],
             [
              1,
              "#f0f921"
             ]
            ],
            "type": "heatmapgl"
           }
          ],
          "histogram": [
           {
            "marker": {
             "pattern": {
              "fillmode": "overlay",
              "size": 10,
              "solidity": 0.2
             }
            },
            "type": "histogram"
           }
          ],
          "histogram2d": [
           {
            "colorbar": {
             "outlinewidth": 0,
             "ticks": ""
            },
            "colorscale": [
             [
              0,
              "#0d0887"
             ],
             [
              0.1111111111111111,
              "#46039f"
             ],
             [
              0.2222222222222222,
              "#7201a8"
             ],
             [
              0.3333333333333333,
              "#9c179e"
             ],
             [
              0.4444444444444444,
              "#bd3786"
             ],
             [
              0.5555555555555556,
              "#d8576b"
             ],
             [
              0.6666666666666666,
              "#ed7953"
             ],
             [
              0.7777777777777778,
              "#fb9f3a"
             ],
             [
              0.8888888888888888,
              "#fdca26"
             ],
             [
              1,
              "#f0f921"
             ]
            ],
            "type": "histogram2d"
           }
          ],
          "histogram2dcontour": [
           {
            "colorbar": {
             "outlinewidth": 0,
             "ticks": ""
            },
            "colorscale": [
             [
              0,
              "#0d0887"
             ],
             [
              0.1111111111111111,
              "#46039f"
             ],
             [
              0.2222222222222222,
              "#7201a8"
             ],
             [
              0.3333333333333333,
              "#9c179e"
             ],
             [
              0.4444444444444444,
              "#bd3786"
             ],
             [
              0.5555555555555556,
              "#d8576b"
             ],
             [
              0.6666666666666666,
              "#ed7953"
             ],
             [
              0.7777777777777778,
              "#fb9f3a"
             ],
             [
              0.8888888888888888,
              "#fdca26"
             ],
             [
              1,
              "#f0f921"
             ]
            ],
            "type": "histogram2dcontour"
           }
          ],
          "mesh3d": [
           {
            "colorbar": {
             "outlinewidth": 0,
             "ticks": ""
            },
            "type": "mesh3d"
           }
          ],
          "parcoords": [
           {
            "line": {
             "colorbar": {
              "outlinewidth": 0,
              "ticks": ""
             }
            },
            "type": "parcoords"
           }
          ],
          "pie": [
           {
            "automargin": true,
            "type": "pie"
           }
          ],
          "scatter": [
           {
            "fillpattern": {
             "fillmode": "overlay",
             "size": 10,
             "solidity": 0.2
            },
            "type": "scatter"
           }
          ],
          "scatter3d": [
           {
            "line": {
             "colorbar": {
              "outlinewidth": 0,
              "ticks": ""
             }
            },
            "marker": {
             "colorbar": {
              "outlinewidth": 0,
              "ticks": ""
             }
            },
            "type": "scatter3d"
           }
          ],
          "scattercarpet": [
           {
            "marker": {
             "colorbar": {
              "outlinewidth": 0,
              "ticks": ""
             }
            },
            "type": "scattercarpet"
           }
          ],
          "scattergeo": [
           {
            "marker": {
             "colorbar": {
              "outlinewidth": 0,
              "ticks": ""
             }
            },
            "type": "scattergeo"
           }
          ],
          "scattergl": [
           {
            "marker": {
             "colorbar": {
              "outlinewidth": 0,
              "ticks": ""
             }
            },
            "type": "scattergl"
           }
          ],
          "scattermapbox": [
           {
            "marker": {
             "colorbar": {
              "outlinewidth": 0,
              "ticks": ""
             }
            },
            "type": "scattermapbox"
           }
          ],
          "scatterpolar": [
           {
            "marker": {
             "colorbar": {
              "outlinewidth": 0,
              "ticks": ""
             }
            },
            "type": "scatterpolar"
           }
          ],
          "scatterpolargl": [
           {
            "marker": {
             "colorbar": {
              "outlinewidth": 0,
              "ticks": ""
             }
            },
            "type": "scatterpolargl"
           }
          ],
          "scatterternary": [
           {
            "marker": {
             "colorbar": {
              "outlinewidth": 0,
              "ticks": ""
             }
            },
            "type": "scatterternary"
           }
          ],
          "surface": [
           {
            "colorbar": {
             "outlinewidth": 0,
             "ticks": ""
            },
            "colorscale": [
             [
              0,
              "#0d0887"
             ],
             [
              0.1111111111111111,
              "#46039f"
             ],
             [
              0.2222222222222222,
              "#7201a8"
             ],
             [
              0.3333333333333333,
              "#9c179e"
             ],
             [
              0.4444444444444444,
              "#bd3786"
             ],
             [
              0.5555555555555556,
              "#d8576b"
             ],
             [
              0.6666666666666666,
              "#ed7953"
             ],
             [
              0.7777777777777778,
              "#fb9f3a"
             ],
             [
              0.8888888888888888,
              "#fdca26"
             ],
             [
              1,
              "#f0f921"
             ]
            ],
            "type": "surface"
           }
          ],
          "table": [
           {
            "cells": {
             "fill": {
              "color": "#EBF0F8"
             },
             "line": {
              "color": "white"
             }
            },
            "header": {
             "fill": {
              "color": "#C8D4E3"
             },
             "line": {
              "color": "white"
             }
            },
            "type": "table"
           }
          ]
         },
         "layout": {
          "annotationdefaults": {
           "arrowcolor": "#2a3f5f",
           "arrowhead": 0,
           "arrowwidth": 1
          },
          "autotypenumbers": "strict",
          "coloraxis": {
           "colorbar": {
            "outlinewidth": 0,
            "ticks": ""
           }
          },
          "colorscale": {
           "diverging": [
            [
             0,
             "#8e0152"
            ],
            [
             0.1,
             "#c51b7d"
            ],
            [
             0.2,
             "#de77ae"
            ],
            [
             0.3,
             "#f1b6da"
            ],
            [
             0.4,
             "#fde0ef"
            ],
            [
             0.5,
             "#f7f7f7"
            ],
            [
             0.6,
             "#e6f5d0"
            ],
            [
             0.7,
             "#b8e186"
            ],
            [
             0.8,
             "#7fbc41"
            ],
            [
             0.9,
             "#4d9221"
            ],
            [
             1,
             "#276419"
            ]
           ],
           "sequential": [
            [
             0,
             "#0d0887"
            ],
            [
             0.1111111111111111,
             "#46039f"
            ],
            [
             0.2222222222222222,
             "#7201a8"
            ],
            [
             0.3333333333333333,
             "#9c179e"
            ],
            [
             0.4444444444444444,
             "#bd3786"
            ],
            [
             0.5555555555555556,
             "#d8576b"
            ],
            [
             0.6666666666666666,
             "#ed7953"
            ],
            [
             0.7777777777777778,
             "#fb9f3a"
            ],
            [
             0.8888888888888888,
             "#fdca26"
            ],
            [
             1,
             "#f0f921"
            ]
           ],
           "sequentialminus": [
            [
             0,
             "#0d0887"
            ],
            [
             0.1111111111111111,
             "#46039f"
            ],
            [
             0.2222222222222222,
             "#7201a8"
            ],
            [
             0.3333333333333333,
             "#9c179e"
            ],
            [
             0.4444444444444444,
             "#bd3786"
            ],
            [
             0.5555555555555556,
             "#d8576b"
            ],
            [
             0.6666666666666666,
             "#ed7953"
            ],
            [
             0.7777777777777778,
             "#fb9f3a"
            ],
            [
             0.8888888888888888,
             "#fdca26"
            ],
            [
             1,
             "#f0f921"
            ]
           ]
          },
          "colorway": [
           "#636efa",
           "#EF553B",
           "#00cc96",
           "#ab63fa",
           "#FFA15A",
           "#19d3f3",
           "#FF6692",
           "#B6E880",
           "#FF97FF",
           "#FECB52"
          ],
          "font": {
           "color": "#2a3f5f"
          },
          "geo": {
           "bgcolor": "white",
           "lakecolor": "white",
           "landcolor": "#E5ECF6",
           "showlakes": true,
           "showland": true,
           "subunitcolor": "white"
          },
          "hoverlabel": {
           "align": "left"
          },
          "hovermode": "closest",
          "mapbox": {
           "style": "light"
          },
          "paper_bgcolor": "white",
          "plot_bgcolor": "#E5ECF6",
          "polar": {
           "angularaxis": {
            "gridcolor": "white",
            "linecolor": "white",
            "ticks": ""
           },
           "bgcolor": "#E5ECF6",
           "radialaxis": {
            "gridcolor": "white",
            "linecolor": "white",
            "ticks": ""
           }
          },
          "scene": {
           "xaxis": {
            "backgroundcolor": "#E5ECF6",
            "gridcolor": "white",
            "gridwidth": 2,
            "linecolor": "white",
            "showbackground": true,
            "ticks": "",
            "zerolinecolor": "white"
           },
           "yaxis": {
            "backgroundcolor": "#E5ECF6",
            "gridcolor": "white",
            "gridwidth": 2,
            "linecolor": "white",
            "showbackground": true,
            "ticks": "",
            "zerolinecolor": "white"
           },
           "zaxis": {
            "backgroundcolor": "#E5ECF6",
            "gridcolor": "white",
            "gridwidth": 2,
            "linecolor": "white",
            "showbackground": true,
            "ticks": "",
            "zerolinecolor": "white"
           }
          },
          "shapedefaults": {
           "line": {
            "color": "#2a3f5f"
           }
          },
          "ternary": {
           "aaxis": {
            "gridcolor": "white",
            "linecolor": "white",
            "ticks": ""
           },
           "baxis": {
            "gridcolor": "white",
            "linecolor": "white",
            "ticks": ""
           },
           "bgcolor": "#E5ECF6",
           "caxis": {
            "gridcolor": "white",
            "linecolor": "white",
            "ticks": ""
           }
          },
          "title": {
           "x": 0.05
          },
          "xaxis": {
           "automargin": true,
           "gridcolor": "white",
           "linecolor": "white",
           "ticks": "",
           "title": {
            "standoff": 15
           },
           "zerolinecolor": "white",
           "zerolinewidth": 2
          },
          "yaxis": {
           "automargin": true,
           "gridcolor": "white",
           "linecolor": "white",
           "ticks": "",
           "title": {
            "standoff": 15
           },
           "zerolinecolor": "white",
           "zerolinewidth": 2
          }
         }
        },
        "width": 900,
        "xaxis": {
         "rangeselector": {
          "buttons": [
           {
            "count": 7,
            "label": "1w",
            "step": "day",
            "stepmode": "backward"
           },
           {
            "count": 1,
            "label": "1m",
            "step": "month",
            "stepmode": "backward"
           },
           {
            "count": 6,
            "label": "6m",
            "step": "month",
            "stepmode": "backward"
           },
           {
            "count": 1,
            "label": "1y",
            "step": "year",
            "stepmode": "backward"
           },
           {
            "step": "all"
           }
          ]
         },
         "rangeslider": {
          "visible": true
         },
         "title": {
          "text": "ds"
         },
         "type": "date"
        },
        "yaxis": {
         "title": {
          "text": "y"
         }
        }
       }
      },
      "text/html": [
       "<div>                            <div id=\"b31039b2-186d-405c-a3cf-c070aa953392\" class=\"plotly-graph-div\" style=\"height:600px; width:900px;\"></div>            <script type=\"text/javascript\">                require([\"plotly\"], function(Plotly) {                    window.PLOTLYENV=window.PLOTLYENV || {};                                    if (document.getElementById(\"b31039b2-186d-405c-a3cf-c070aa953392\")) {                    Plotly.newPlot(                        \"b31039b2-186d-405c-a3cf-c070aa953392\",                        [{\"marker\":{\"color\":\"black\",\"size\":4},\"mode\":\"markers\",\"name\":\"Actual\",\"x\":[\"2019-01-01T00:00:00\",\"2019-02-01T00:00:00\",\"2019-03-01T00:00:00\",\"2019-04-01T00:00:00\",\"2019-05-01T00:00:00\",\"2019-06-01T00:00:00\",\"2019-07-01T00:00:00\",\"2019-08-01T00:00:00\",\"2019-09-01T00:00:00\",\"2019-10-01T00:00:00\",\"2019-11-01T00:00:00\",\"2019-12-01T00:00:00\",\"2020-01-01T00:00:00\",\"2020-02-01T00:00:00\",\"2020-03-01T00:00:00\",\"2020-04-01T00:00:00\",\"2020-05-01T00:00:00\",\"2020-06-01T00:00:00\",\"2020-07-01T00:00:00\",\"2020-08-01T00:00:00\",\"2020-09-01T00:00:00\",\"2020-10-01T00:00:00\",\"2020-11-01T00:00:00\",\"2020-12-01T00:00:00\",\"2021-01-01T00:00:00\",\"2021-02-01T00:00:00\",\"2021-03-01T00:00:00\",\"2021-04-01T00:00:00\",\"2021-05-01T00:00:00\",\"2021-06-01T00:00:00\",\"2021-07-01T00:00:00\",\"2021-08-01T00:00:00\",\"2021-09-01T00:00:00\",\"2021-10-01T00:00:00\",\"2021-11-01T00:00:00\",\"2021-12-01T00:00:00\",\"2022-01-01T00:00:00\",\"2022-02-01T00:00:00\",\"2022-03-01T00:00:00\",\"2022-04-01T00:00:00\",\"2022-05-01T00:00:00\",\"2022-06-01T00:00:00\",\"2022-07-01T00:00:00\",\"2022-08-01T00:00:00\",\"2022-09-01T00:00:00\",\"2022-10-01T00:00:00\",\"2022-11-01T00:00:00\",\"2022-12-01T00:00:00\",\"2023-01-01T00:00:00\",\"2023-02-01T00:00:00\",\"2023-03-01T00:00:00\",\"2023-04-01T00:00:00\",\"2023-05-01T00:00:00\",\"2023-06-01T00:00:00\",\"2023-07-01T00:00:00\",\"2023-08-01T00:00:00\",\"2023-09-01T00:00:00\",\"2023-10-01T00:00:00\",\"2023-11-01T00:00:00\",\"2023-12-01T00:00:00\"],\"y\":[54555,54293,58798,53229,50558,56326,50125,56414,55658,56203,56943,54800,52172,48942,53422,48166,50404,50709,51845,56302,56527,55389,52543,50325,49356,50021,48118,47947,55227,49167,53752,62655,51256,53960,65256,60727,56585,53698,43442,52404,41658,62172,51890,52256,52959,52928,52677,52648,63171,31168,70380,53078,43741,63919,54485,54869,55607,55575,55311,55281],\"type\":\"scatter\"},{\"hoverinfo\":\"skip\",\"line\":{\"width\":0},\"mode\":\"lines\",\"x\":[\"2019-01-01T00:00:00\",\"2019-02-01T00:00:00\",\"2019-03-01T00:00:00\",\"2019-04-01T00:00:00\",\"2019-05-01T00:00:00\",\"2019-06-01T00:00:00\",\"2019-07-01T00:00:00\",\"2019-08-01T00:00:00\",\"2019-09-01T00:00:00\",\"2019-10-01T00:00:00\",\"2019-11-01T00:00:00\",\"2019-12-01T00:00:00\",\"2020-01-01T00:00:00\",\"2020-02-01T00:00:00\",\"2020-03-01T00:00:00\",\"2020-04-01T00:00:00\",\"2020-05-01T00:00:00\",\"2020-06-01T00:00:00\",\"2020-07-01T00:00:00\",\"2020-08-01T00:00:00\",\"2020-09-01T00:00:00\",\"2020-10-01T00:00:00\",\"2020-11-01T00:00:00\",\"2020-12-01T00:00:00\",\"2021-01-01T00:00:00\",\"2021-02-01T00:00:00\",\"2021-03-01T00:00:00\",\"2021-04-01T00:00:00\",\"2021-05-01T00:00:00\",\"2021-06-01T00:00:00\",\"2021-07-01T00:00:00\",\"2021-08-01T00:00:00\",\"2021-09-01T00:00:00\",\"2021-10-01T00:00:00\",\"2021-11-01T00:00:00\",\"2021-12-01T00:00:00\",\"2022-01-01T00:00:00\",\"2022-02-01T00:00:00\",\"2022-03-01T00:00:00\",\"2022-04-01T00:00:00\",\"2022-05-01T00:00:00\",\"2022-06-01T00:00:00\",\"2022-07-01T00:00:00\",\"2022-08-01T00:00:00\",\"2022-09-01T00:00:00\",\"2022-10-01T00:00:00\",\"2022-11-01T00:00:00\",\"2022-12-01T00:00:00\",\"2023-01-01T00:00:00\",\"2023-02-01T00:00:00\",\"2023-03-01T00:00:00\",\"2023-04-01T00:00:00\",\"2023-05-01T00:00:00\",\"2023-06-01T00:00:00\",\"2023-07-01T00:00:00\",\"2023-08-01T00:00:00\",\"2023-09-01T00:00:00\",\"2023-10-01T00:00:00\",\"2023-11-01T00:00:00\",\"2023-12-01T00:00:00\",\"2024-01-01T00:00:00\",\"2024-02-01T00:00:00\",\"2024-03-01T00:00:00\"],\"y\":[46178.43815123482,36948.2244550068,48629.38435202608,41956.07495940258,34727.09191714178,51313.25964619349,42479.73447108928,46033.00902870302,45593.571094005696,46767.14808417674,48037.85649498668,46153.96379732526,47585.53056832669,33546.49370656605,40625.33340420767,41078.46868276915,44798.72807734637,41362.26442702914,44186.2913425506,49268.8117966581,44619.01881203557,45436.879904803674,47393.4598493611,44570.982982899346,44359.485499066555,43400.523658854225,43762.66046977051,41366.081589678906,42016.00168137496,45380.80903309897,43867.56432151815,48224.77672187486,45257.17419903274,45808.69712855441,47047.82224235993,44955.6184917287,45498.07909429514,40762.61015402874,46733.512133591285,42653.651165157076,38332.44064920759,47520.11298102281,42945.37135839252,47769.42892977028,45894.84344202014,45385.5812929707,48324.27359888943,45243.900079556464,46217.36893300529,37694.42999522601,49404.4572325646,42331.04432465094,34948.947251296326,51528.39077012035,42520.24942031331,45732.19861693472,45622.18702377741,46337.42474608582,47796.307142294805,45994.385787878695,47158.68683678242,34142.33978913963,41186.15181228235],\"type\":\"scatter\"},{\"fill\":\"tonexty\",\"fillcolor\":\"rgba(0, 114, 178, 0.2)\",\"line\":{\"color\":\"#0072B2\",\"width\":2},\"mode\":\"lines\",\"name\":\"Predicted\",\"x\":[\"2019-01-01T00:00:00\",\"2019-02-01T00:00:00\",\"2019-03-01T00:00:00\",\"2019-04-01T00:00:00\",\"2019-05-01T00:00:00\",\"2019-06-01T00:00:00\",\"2019-07-01T00:00:00\",\"2019-08-01T00:00:00\",\"2019-09-01T00:00:00\",\"2019-10-01T00:00:00\",\"2019-11-01T00:00:00\",\"2019-12-01T00:00:00\",\"2020-01-01T00:00:00\",\"2020-02-01T00:00:00\",\"2020-03-01T00:00:00\",\"2020-04-01T00:00:00\",\"2020-05-01T00:00:00\",\"2020-06-01T00:00:00\",\"2020-07-01T00:00:00\",\"2020-08-01T00:00:00\",\"2020-09-01T00:00:00\",\"2020-10-01T00:00:00\",\"2020-11-01T00:00:00\",\"2020-12-01T00:00:00\",\"2021-01-01T00:00:00\",\"2021-02-01T00:00:00\",\"2021-03-01T00:00:00\",\"2021-04-01T00:00:00\",\"2021-05-01T00:00:00\",\"2021-06-01T00:00:00\",\"2021-07-01T00:00:00\",\"2021-08-01T00:00:00\",\"2021-09-01T00:00:00\",\"2021-10-01T00:00:00\",\"2021-11-01T00:00:00\",\"2021-12-01T00:00:00\",\"2022-01-01T00:00:00\",\"2022-02-01T00:00:00\",\"2022-03-01T00:00:00\",\"2022-04-01T00:00:00\",\"2022-05-01T00:00:00\",\"2022-06-01T00:00:00\",\"2022-07-01T00:00:00\",\"2022-08-01T00:00:00\",\"2022-09-01T00:00:00\",\"2022-10-01T00:00:00\",\"2022-11-01T00:00:00\",\"2022-12-01T00:00:00\",\"2023-01-01T00:00:00\",\"2023-02-01T00:00:00\",\"2023-03-01T00:00:00\",\"2023-04-01T00:00:00\",\"2023-05-01T00:00:00\",\"2023-06-01T00:00:00\",\"2023-07-01T00:00:00\",\"2023-08-01T00:00:00\",\"2023-09-01T00:00:00\",\"2023-10-01T00:00:00\",\"2023-11-01T00:00:00\",\"2023-12-01T00:00:00\",\"2024-01-01T00:00:00\",\"2024-02-01T00:00:00\",\"2024-03-01T00:00:00\"],\"y\":[55337.58034587729,46112.43280082232,58095.4432791725,51483.83464470011,44196.983276010316,60001.70976249671,51424.35331222158,54730.59238886265,54556.58413132645,55095.3351398438,56222.26629871942,54961.075972502775,56122.75064616769,42975.175408317096,49687.71231586246,49744.38940986621,53993.855994322446,50832.39794091761,53296.16903861458,58661.59880855728,53574.49940470928,53770.78231461964,56518.50464065145,53942.55168846533,53748.7764865001,52541.229653612216,52494.8530525819,50417.00715727831,50734.130591333276,53896.77789573627,52751.20318339843,57383.326519821516,53911.1223804681,54245.621427347665,56458.418749492455,54319.15230807281,54616.91696118566,49363.484700940346,55335.72324850056,51030.177206193424,47496.00957886493,56992.64074226611,52160.24974653014,56107.676285224064,54273.58851954139,54722.78020904534,56395.889651590835,54694.18027971863,55444.37931460863,46201.42401754382,58207.55605787942,51583.18425105594,44282.26788885775,60117.487191071814,51523.57620981688,54836.19032627282,54661.842025691665,55201.62825405949,56330.72911381086,55067.10152567327,56231.01275748464,43058.072143473786,49783.553493630214],\"type\":\"scatter\"},{\"fill\":\"tonexty\",\"fillcolor\":\"rgba(0, 114, 178, 0.2)\",\"hoverinfo\":\"skip\",\"line\":{\"width\":0},\"mode\":\"lines\",\"x\":[\"2019-01-01T00:00:00\",\"2019-02-01T00:00:00\",\"2019-03-01T00:00:00\",\"2019-04-01T00:00:00\",\"2019-05-01T00:00:00\",\"2019-06-01T00:00:00\",\"2019-07-01T00:00:00\",\"2019-08-01T00:00:00\",\"2019-09-01T00:00:00\",\"2019-10-01T00:00:00\",\"2019-11-01T00:00:00\",\"2019-12-01T00:00:00\",\"2020-01-01T00:00:00\",\"2020-02-01T00:00:00\",\"2020-03-01T00:00:00\",\"2020-04-01T00:00:00\",\"2020-05-01T00:00:00\",\"2020-06-01T00:00:00\",\"2020-07-01T00:00:00\",\"2020-08-01T00:00:00\",\"2020-09-01T00:00:00\",\"2020-10-01T00:00:00\",\"2020-11-01T00:00:00\",\"2020-12-01T00:00:00\",\"2021-01-01T00:00:00\",\"2021-02-01T00:00:00\",\"2021-03-01T00:00:00\",\"2021-04-01T00:00:00\",\"2021-05-01T00:00:00\",\"2021-06-01T00:00:00\",\"2021-07-01T00:00:00\",\"2021-08-01T00:00:00\",\"2021-09-01T00:00:00\",\"2021-10-01T00:00:00\",\"2021-11-01T00:00:00\",\"2021-12-01T00:00:00\",\"2022-01-01T00:00:00\",\"2022-02-01T00:00:00\",\"2022-03-01T00:00:00\",\"2022-04-01T00:00:00\",\"2022-05-01T00:00:00\",\"2022-06-01T00:00:00\",\"2022-07-01T00:00:00\",\"2022-08-01T00:00:00\",\"2022-09-01T00:00:00\",\"2022-10-01T00:00:00\",\"2022-11-01T00:00:00\",\"2022-12-01T00:00:00\",\"2023-01-01T00:00:00\",\"2023-02-01T00:00:00\",\"2023-03-01T00:00:00\",\"2023-04-01T00:00:00\",\"2023-05-01T00:00:00\",\"2023-06-01T00:00:00\",\"2023-07-01T00:00:00\",\"2023-08-01T00:00:00\",\"2023-09-01T00:00:00\",\"2023-10-01T00:00:00\",\"2023-11-01T00:00:00\",\"2023-12-01T00:00:00\",\"2024-01-01T00:00:00\",\"2024-02-01T00:00:00\",\"2024-03-01T00:00:00\"],\"y\":[64502.919699738995,55119.730739510276,67155.98732421605,60549.46340178402,53202.007887160886,68738.85528904243,60975.09362052492,63465.03048490397,63279.23521605369,64015.70509428017,65348.91711129155,64531.74077048834,65142.56001313706,51811.94671708786,58884.095183357655,59120.54031075792,62818.41138929988,59939.587320846666,61096.775814195076,67846.05294196995,62103.37363656229,62804.52295354515,65905.90499079376,63155.88727089951,62488.94987804217,61952.075792699885,61650.843313011756,58977.46430113774,59893.858274121565,62945.61519558912,61274.32351107021,66046.49479572794,62877.72396568953,62946.14197973438,64365.333902782906,63374.00244811668,63162.45801251591,58589.803712841,64241.455950055155,59919.36031525131,56674.78464318718,64732.23458641238,61803.95161388762,64605.783768592,62529.559080727624,63403.70696138583,65832.79365989828,63866.93275494436,64857.12641748609,54576.65594813193,66970.54815181835,60424.44103887428,52839.367697800204,68400.20387479191,59980.70650272344,64055.9587245529,63795.74007337071,63613.04494668614,65737.77204319123,63819.42249532039,65183.42571066456,51558.4551775182,58801.350087851184],\"type\":\"scatter\"}],                        {\"height\":600,\"showlegend\":false,\"width\":900,\"xaxis\":{\"rangeselector\":{\"buttons\":[{\"count\":7,\"label\":\"1w\",\"step\":\"day\",\"stepmode\":\"backward\"},{\"count\":1,\"label\":\"1m\",\"step\":\"month\",\"stepmode\":\"backward\"},{\"count\":6,\"label\":\"6m\",\"step\":\"month\",\"stepmode\":\"backward\"},{\"count\":1,\"label\":\"1y\",\"step\":\"year\",\"stepmode\":\"backward\"},{\"step\":\"all\"}]},\"rangeslider\":{\"visible\":true},\"title\":{\"text\":\"ds\"},\"type\":\"date\"},\"yaxis\":{\"title\":{\"text\":\"y\"}},\"template\":{\"data\":{\"histogram2dcontour\":[{\"type\":\"histogram2dcontour\",\"colorbar\":{\"outlinewidth\":0,\"ticks\":\"\"},\"colorscale\":[[0.0,\"#0d0887\"],[0.1111111111111111,\"#46039f\"],[0.2222222222222222,\"#7201a8\"],[0.3333333333333333,\"#9c179e\"],[0.4444444444444444,\"#bd3786\"],[0.5555555555555556,\"#d8576b\"],[0.6666666666666666,\"#ed7953\"],[0.7777777777777778,\"#fb9f3a\"],[0.8888888888888888,\"#fdca26\"],[1.0,\"#f0f921\"]]}],\"choropleth\":[{\"type\":\"choropleth\",\"colorbar\":{\"outlinewidth\":0,\"ticks\":\"\"}}],\"histogram2d\":[{\"type\":\"histogram2d\",\"colorbar\":{\"outlinewidth\":0,\"ticks\":\"\"},\"colorscale\":[[0.0,\"#0d0887\"],[0.1111111111111111,\"#46039f\"],[0.2222222222222222,\"#7201a8\"],[0.3333333333333333,\"#9c179e\"],[0.4444444444444444,\"#bd3786\"],[0.5555555555555556,\"#d8576b\"],[0.6666666666666666,\"#ed7953\"],[0.7777777777777778,\"#fb9f3a\"],[0.8888888888888888,\"#fdca26\"],[1.0,\"#f0f921\"]]}],\"heatmap\":[{\"type\":\"heatmap\",\"colorbar\":{\"outlinewidth\":0,\"ticks\":\"\"},\"colorscale\":[[0.0,\"#0d0887\"],[0.1111111111111111,\"#46039f\"],[0.2222222222222222,\"#7201a8\"],[0.3333333333333333,\"#9c179e\"],[0.4444444444444444,\"#bd3786\"],[0.5555555555555556,\"#d8576b\"],[0.6666666666666666,\"#ed7953\"],[0.7777777777777778,\"#fb9f3a\"],[0.8888888888888888,\"#fdca26\"],[1.0,\"#f0f921\"]]}],\"heatmapgl\":[{\"type\":\"heatmapgl\",\"colorbar\":{\"outlinewidth\":0,\"ticks\":\"\"},\"colorscale\":[[0.0,\"#0d0887\"],[0.1111111111111111,\"#46039f\"],[0.2222222222222222,\"#7201a8\"],[0.3333333333333333,\"#9c179e\"],[0.4444444444444444,\"#bd3786\"],[0.5555555555555556,\"#d8576b\"],[0.6666666666666666,\"#ed7953\"],[0.7777777777777778,\"#fb9f3a\"],[0.8888888888888888,\"#fdca26\"],[1.0,\"#f0f921\"]]}],\"contourcarpet\":[{\"type\":\"contourcarpet\",\"colorbar\":{\"outlinewidth\":0,\"ticks\":\"\"}}],\"contour\":[{\"type\":\"contour\",\"colorbar\":{\"outlinewidth\":0,\"ticks\":\"\"},\"colorscale\":[[0.0,\"#0d0887\"],[0.1111111111111111,\"#46039f\"],[0.2222222222222222,\"#7201a8\"],[0.3333333333333333,\"#9c179e\"],[0.4444444444444444,\"#bd3786\"],[0.5555555555555556,\"#d8576b\"],[0.6666666666666666,\"#ed7953\"],[0.7777777777777778,\"#fb9f3a\"],[0.8888888888888888,\"#fdca26\"],[1.0,\"#f0f921\"]]}],\"surface\":[{\"type\":\"surface\",\"colorbar\":{\"outlinewidth\":0,\"ticks\":\"\"},\"colorscale\":[[0.0,\"#0d0887\"],[0.1111111111111111,\"#46039f\"],[0.2222222222222222,\"#7201a8\"],[0.3333333333333333,\"#9c179e\"],[0.4444444444444444,\"#bd3786\"],[0.5555555555555556,\"#d8576b\"],[0.6666666666666666,\"#ed7953\"],[0.7777777777777778,\"#fb9f3a\"],[0.8888888888888888,\"#fdca26\"],[1.0,\"#f0f921\"]]}],\"mesh3d\":[{\"type\":\"mesh3d\",\"colorbar\":{\"outlinewidth\":0,\"ticks\":\"\"}}],\"scatter\":[{\"fillpattern\":{\"fillmode\":\"overlay\",\"size\":10,\"solidity\":0.2},\"type\":\"scatter\"}],\"parcoords\":[{\"type\":\"parcoords\",\"line\":{\"colorbar\":{\"outlinewidth\":0,\"ticks\":\"\"}}}],\"scatterpolargl\":[{\"type\":\"scatterpolargl\",\"marker\":{\"colorbar\":{\"outlinewidth\":0,\"ticks\":\"\"}}}],\"bar\":[{\"error_x\":{\"color\":\"#2a3f5f\"},\"error_y\":{\"color\":\"#2a3f5f\"},\"marker\":{\"line\":{\"color\":\"#E5ECF6\",\"width\":0.5},\"pattern\":{\"fillmode\":\"overlay\",\"size\":10,\"solidity\":0.2}},\"type\":\"bar\"}],\"scattergeo\":[{\"type\":\"scattergeo\",\"marker\":{\"colorbar\":{\"outlinewidth\":0,\"ticks\":\"\"}}}],\"scatterpolar\":[{\"type\":\"scatterpolar\",\"marker\":{\"colorbar\":{\"outlinewidth\":0,\"ticks\":\"\"}}}],\"histogram\":[{\"marker\":{\"pattern\":{\"fillmode\":\"overlay\",\"size\":10,\"solidity\":0.2}},\"type\":\"histogram\"}],\"scattergl\":[{\"type\":\"scattergl\",\"marker\":{\"colorbar\":{\"outlinewidth\":0,\"ticks\":\"\"}}}],\"scatter3d\":[{\"type\":\"scatter3d\",\"line\":{\"colorbar\":{\"outlinewidth\":0,\"ticks\":\"\"}},\"marker\":{\"colorbar\":{\"outlinewidth\":0,\"ticks\":\"\"}}}],\"scattermapbox\":[{\"type\":\"scattermapbox\",\"marker\":{\"colorbar\":{\"outlinewidth\":0,\"ticks\":\"\"}}}],\"scatterternary\":[{\"type\":\"scatterternary\",\"marker\":{\"colorbar\":{\"outlinewidth\":0,\"ticks\":\"\"}}}],\"scattercarpet\":[{\"type\":\"scattercarpet\",\"marker\":{\"colorbar\":{\"outlinewidth\":0,\"ticks\":\"\"}}}],\"carpet\":[{\"aaxis\":{\"endlinecolor\":\"#2a3f5f\",\"gridcolor\":\"white\",\"linecolor\":\"white\",\"minorgridcolor\":\"white\",\"startlinecolor\":\"#2a3f5f\"},\"baxis\":{\"endlinecolor\":\"#2a3f5f\",\"gridcolor\":\"white\",\"linecolor\":\"white\",\"minorgridcolor\":\"white\",\"startlinecolor\":\"#2a3f5f\"},\"type\":\"carpet\"}],\"table\":[{\"cells\":{\"fill\":{\"color\":\"#EBF0F8\"},\"line\":{\"color\":\"white\"}},\"header\":{\"fill\":{\"color\":\"#C8D4E3\"},\"line\":{\"color\":\"white\"}},\"type\":\"table\"}],\"barpolar\":[{\"marker\":{\"line\":{\"color\":\"#E5ECF6\",\"width\":0.5},\"pattern\":{\"fillmode\":\"overlay\",\"size\":10,\"solidity\":0.2}},\"type\":\"barpolar\"}],\"pie\":[{\"automargin\":true,\"type\":\"pie\"}]},\"layout\":{\"autotypenumbers\":\"strict\",\"colorway\":[\"#636efa\",\"#EF553B\",\"#00cc96\",\"#ab63fa\",\"#FFA15A\",\"#19d3f3\",\"#FF6692\",\"#B6E880\",\"#FF97FF\",\"#FECB52\"],\"font\":{\"color\":\"#2a3f5f\"},\"hovermode\":\"closest\",\"hoverlabel\":{\"align\":\"left\"},\"paper_bgcolor\":\"white\",\"plot_bgcolor\":\"#E5ECF6\",\"polar\":{\"bgcolor\":\"#E5ECF6\",\"angularaxis\":{\"gridcolor\":\"white\",\"linecolor\":\"white\",\"ticks\":\"\"},\"radialaxis\":{\"gridcolor\":\"white\",\"linecolor\":\"white\",\"ticks\":\"\"}},\"ternary\":{\"bgcolor\":\"#E5ECF6\",\"aaxis\":{\"gridcolor\":\"white\",\"linecolor\":\"white\",\"ticks\":\"\"},\"baxis\":{\"gridcolor\":\"white\",\"linecolor\":\"white\",\"ticks\":\"\"},\"caxis\":{\"gridcolor\":\"white\",\"linecolor\":\"white\",\"ticks\":\"\"}},\"coloraxis\":{\"colorbar\":{\"outlinewidth\":0,\"ticks\":\"\"}},\"colorscale\":{\"sequential\":[[0.0,\"#0d0887\"],[0.1111111111111111,\"#46039f\"],[0.2222222222222222,\"#7201a8\"],[0.3333333333333333,\"#9c179e\"],[0.4444444444444444,\"#bd3786\"],[0.5555555555555556,\"#d8576b\"],[0.6666666666666666,\"#ed7953\"],[0.7777777777777778,\"#fb9f3a\"],[0.8888888888888888,\"#fdca26\"],[1.0,\"#f0f921\"]],\"sequentialminus\":[[0.0,\"#0d0887\"],[0.1111111111111111,\"#46039f\"],[0.2222222222222222,\"#7201a8\"],[0.3333333333333333,\"#9c179e\"],[0.4444444444444444,\"#bd3786\"],[0.5555555555555556,\"#d8576b\"],[0.6666666666666666,\"#ed7953\"],[0.7777777777777778,\"#fb9f3a\"],[0.8888888888888888,\"#fdca26\"],[1.0,\"#f0f921\"]],\"diverging\":[[0,\"#8e0152\"],[0.1,\"#c51b7d\"],[0.2,\"#de77ae\"],[0.3,\"#f1b6da\"],[0.4,\"#fde0ef\"],[0.5,\"#f7f7f7\"],[0.6,\"#e6f5d0\"],[0.7,\"#b8e186\"],[0.8,\"#7fbc41\"],[0.9,\"#4d9221\"],[1,\"#276419\"]]},\"xaxis\":{\"gridcolor\":\"white\",\"linecolor\":\"white\",\"ticks\":\"\",\"title\":{\"standoff\":15},\"zerolinecolor\":\"white\",\"automargin\":true,\"zerolinewidth\":2},\"yaxis\":{\"gridcolor\":\"white\",\"linecolor\":\"white\",\"ticks\":\"\",\"title\":{\"standoff\":15},\"zerolinecolor\":\"white\",\"automargin\":true,\"zerolinewidth\":2},\"scene\":{\"xaxis\":{\"backgroundcolor\":\"#E5ECF6\",\"gridcolor\":\"white\",\"linecolor\":\"white\",\"showbackground\":true,\"ticks\":\"\",\"zerolinecolor\":\"white\",\"gridwidth\":2},\"yaxis\":{\"backgroundcolor\":\"#E5ECF6\",\"gridcolor\":\"white\",\"linecolor\":\"white\",\"showbackground\":true,\"ticks\":\"\",\"zerolinecolor\":\"white\",\"gridwidth\":2},\"zaxis\":{\"backgroundcolor\":\"#E5ECF6\",\"gridcolor\":\"white\",\"linecolor\":\"white\",\"showbackground\":true,\"ticks\":\"\",\"zerolinecolor\":\"white\",\"gridwidth\":2}},\"shapedefaults\":{\"line\":{\"color\":\"#2a3f5f\"}},\"annotationdefaults\":{\"arrowcolor\":\"#2a3f5f\",\"arrowhead\":0,\"arrowwidth\":1},\"geo\":{\"bgcolor\":\"white\",\"landcolor\":\"#E5ECF6\",\"subunitcolor\":\"white\",\"showland\":true,\"showlakes\":true,\"lakecolor\":\"white\"},\"title\":{\"x\":0.05},\"mapbox\":{\"style\":\"light\"}}}},                        {\"responsive\": true}                    ).then(function(){\n",
       "                            \n",
       "var gd = document.getElementById('b31039b2-186d-405c-a3cf-c070aa953392');\n",
       "var x = new MutationObserver(function (mutations, observer) {{\n",
       "        var display = window.getComputedStyle(gd).display;\n",
       "        if (!display || display === 'none') {{\n",
       "            console.log([gd, 'removed!']);\n",
       "            Plotly.purge(gd);\n",
       "            observer.disconnect();\n",
       "        }}\n",
       "}});\n",
       "\n",
       "// Listen for the removal of the full notebook cells\n",
       "var notebookContainer = gd.closest('#notebook-container');\n",
       "if (notebookContainer) {{\n",
       "    x.observe(notebookContainer, {childList: true});\n",
       "}}\n",
       "\n",
       "// Listen for the clearing of the current output cell\n",
       "var outputEl = gd.closest('.output');\n",
       "if (outputEl) {{\n",
       "    x.observe(outputEl, {childList: true});\n",
       "}}\n",
       "\n",
       "                        })                };                });            </script>        </div>"
      ]
     },
     "metadata": {},
     "output_type": "display_data"
    }
   ],
   "source": [
    "from prophet.plot import plot_plotly, plot_components_plotly\n",
    "\n",
    "plot_plotly(model_forecast,forecast_f)"
   ]
  },
  {
   "cell_type": "code",
   "execution_count": 105,
   "id": "5d3223b2",
   "metadata": {},
   "outputs": [
    {
     "data": {
      "application/vnd.plotly.v1+json": {
       "config": {
        "plotlyServerURL": "https://plot.ly"
       },
       "data": [
        {
         "line": {
          "color": "#0072B2",
          "width": 2
         },
         "mode": "lines",
         "name": "trend",
         "type": "scatter",
         "x": [
          "2019-01-01T00:00:00",
          "2019-02-01T00:00:00",
          "2019-03-01T00:00:00",
          "2019-04-01T00:00:00",
          "2019-05-01T00:00:00",
          "2019-06-01T00:00:00",
          "2019-07-01T00:00:00",
          "2019-08-01T00:00:00",
          "2019-09-01T00:00:00",
          "2019-10-01T00:00:00",
          "2019-11-01T00:00:00",
          "2019-12-01T00:00:00",
          "2020-01-01T00:00:00",
          "2020-02-01T00:00:00",
          "2020-03-01T00:00:00",
          "2020-04-01T00:00:00",
          "2020-05-01T00:00:00",
          "2020-06-01T00:00:00",
          "2020-07-01T00:00:00",
          "2020-08-01T00:00:00",
          "2020-09-01T00:00:00",
          "2020-10-01T00:00:00",
          "2020-11-01T00:00:00",
          "2020-12-01T00:00:00",
          "2021-01-01T00:00:00",
          "2021-02-01T00:00:00",
          "2021-03-01T00:00:00",
          "2021-04-01T00:00:00",
          "2021-05-01T00:00:00",
          "2021-06-01T00:00:00",
          "2021-07-01T00:00:00",
          "2021-08-01T00:00:00",
          "2021-09-01T00:00:00",
          "2021-10-01T00:00:00",
          "2021-11-01T00:00:00",
          "2021-12-01T00:00:00",
          "2022-01-01T00:00:00",
          "2022-02-01T00:00:00",
          "2022-03-01T00:00:00",
          "2022-04-01T00:00:00",
          "2022-05-01T00:00:00",
          "2022-06-01T00:00:00",
          "2022-07-01T00:00:00",
          "2022-08-01T00:00:00",
          "2022-09-01T00:00:00",
          "2022-10-01T00:00:00",
          "2022-11-01T00:00:00",
          "2022-12-01T00:00:00",
          "2023-01-01T00:00:00",
          "2023-02-01T00:00:00",
          "2023-03-01T00:00:00",
          "2023-04-01T00:00:00",
          "2023-05-01T00:00:00",
          "2023-06-01T00:00:00",
          "2023-07-01T00:00:00",
          "2023-08-01T00:00:00",
          "2023-09-01T00:00:00",
          "2023-10-01T00:00:00",
          "2023-11-01T00:00:00",
          "2023-12-01T00:00:00",
          "2024-01-01T00:00:00",
          "2024-02-01T00:00:00",
          "2024-03-01T00:00:00"
         ],
         "xaxis": "x",
         "y": [
          52115.05278,
          52117.186913328136,
          52119.11451762451,
          52121.248650972775,
          52123.3139413098,
          52125.448074675274,
          52127.51336502896,
          52129.6474983817,
          52131.781631734455,
          52133.84692206713,
          52135.98105541357,
          52138.04634574884,
          52140.180479095485,
          52142.31461244214,
          52144.31105975924,
          52146.445193098196,
          52148.510483415455,
          52150.64461674329,
          52152.70990705326,
          52154.84404037355,
          52156.97817371137,
          52159.0434640383,
          52161.177597376496,
          52163.242887703775,
          52165.37702106046,
          52167.51115443432,
          52169.438758772005,
          52171.5728921283,
          52173.63818247311,
          52175.77231585392,
          52177.837606222456,
          52179.97173957835,
          52182.10587293424,
          52184.17116330569,
          52186.30529668953,
          52188.37058708733,
          52190.50472049839,
          52192.638853905264,
          52194.56645827275,
          52196.70059165868,
          52198.76588200872,
          52200.90001537044,
          52202.96530569445,
          52205.09943902927,
          52207.23357235778,
          52209.29886267568,
          52211.432996014635,
          52213.498286342656,
          52215.632419669826,
          52217.766552997,
          52219.69415729251,
          52221.828290619684,
          52223.893580936296,
          52226.02771426347,
          52228.09300458009,
          52230.227137907255,
          52232.36127123443,
          52234.42656155105,
          52236.56069487822,
          52238.62598519484,
          52240.76011852201,
          52242.89425184918,
          52244.89069915525
         ],
         "yaxis": "y"
        },
        {
         "line": {
          "color": "rgba(0, 114, 178, 0.2)",
          "width": 0
         },
         "mode": "lines",
         "name": "trend_upper",
         "type": "scatter",
         "x": [
          "2019-01-01T00:00:00",
          "2019-02-01T00:00:00",
          "2019-03-01T00:00:00",
          "2019-04-01T00:00:00",
          "2019-05-01T00:00:00",
          "2019-06-01T00:00:00",
          "2019-07-01T00:00:00",
          "2019-08-01T00:00:00",
          "2019-09-01T00:00:00",
          "2019-10-01T00:00:00",
          "2019-11-01T00:00:00",
          "2019-12-01T00:00:00",
          "2020-01-01T00:00:00",
          "2020-02-01T00:00:00",
          "2020-03-01T00:00:00",
          "2020-04-01T00:00:00",
          "2020-05-01T00:00:00",
          "2020-06-01T00:00:00",
          "2020-07-01T00:00:00",
          "2020-08-01T00:00:00",
          "2020-09-01T00:00:00",
          "2020-10-01T00:00:00",
          "2020-11-01T00:00:00",
          "2020-12-01T00:00:00",
          "2021-01-01T00:00:00",
          "2021-02-01T00:00:00",
          "2021-03-01T00:00:00",
          "2021-04-01T00:00:00",
          "2021-05-01T00:00:00",
          "2021-06-01T00:00:00",
          "2021-07-01T00:00:00",
          "2021-08-01T00:00:00",
          "2021-09-01T00:00:00",
          "2021-10-01T00:00:00",
          "2021-11-01T00:00:00",
          "2021-12-01T00:00:00",
          "2022-01-01T00:00:00",
          "2022-02-01T00:00:00",
          "2022-03-01T00:00:00",
          "2022-04-01T00:00:00",
          "2022-05-01T00:00:00",
          "2022-06-01T00:00:00",
          "2022-07-01T00:00:00",
          "2022-08-01T00:00:00",
          "2022-09-01T00:00:00",
          "2022-10-01T00:00:00",
          "2022-11-01T00:00:00",
          "2022-12-01T00:00:00",
          "2023-01-01T00:00:00",
          "2023-02-01T00:00:00",
          "2023-03-01T00:00:00",
          "2023-04-01T00:00:00",
          "2023-05-01T00:00:00",
          "2023-06-01T00:00:00",
          "2023-07-01T00:00:00",
          "2023-08-01T00:00:00",
          "2023-09-01T00:00:00",
          "2023-10-01T00:00:00",
          "2023-11-01T00:00:00",
          "2023-12-01T00:00:00",
          "2024-01-01T00:00:00",
          "2024-02-01T00:00:00",
          "2024-03-01T00:00:00"
         ],
         "xaxis": "x",
         "y": [
          52115.05278,
          52117.186913328136,
          52119.11451762451,
          52121.248650972775,
          52123.3139413098,
          52125.448074675274,
          52127.51336502896,
          52129.6474983817,
          52131.781631734455,
          52133.84692206713,
          52135.98105541357,
          52138.04634574884,
          52140.180479095485,
          52142.31461244214,
          52144.31105975924,
          52146.445193098196,
          52148.510483415455,
          52150.64461674329,
          52152.70990705326,
          52154.84404037355,
          52156.97817371137,
          52159.0434640383,
          52161.177597376496,
          52163.242887703775,
          52165.37702106046,
          52167.51115443432,
          52169.438758772005,
          52171.5728921283,
          52173.63818247311,
          52175.77231585392,
          52177.837606222456,
          52179.97173957835,
          52182.10587293424,
          52184.17116330569,
          52186.30529668953,
          52188.37058708733,
          52190.50472049839,
          52192.638853905264,
          52194.56645827275,
          52196.70059165868,
          52198.76588200872,
          52200.90001537044,
          52202.96530569445,
          52205.09943902927,
          52207.23357235778,
          52209.29886267568,
          52211.432996014635,
          52213.498286342656,
          52215.632419669826,
          52217.766552997,
          52219.69415729251,
          52221.828290619684,
          52223.893580936296,
          52226.02771426347,
          52228.09300458009,
          52230.227137907255,
          52232.36127123443,
          52234.42656155105,
          52236.56069487822,
          52238.62598519484,
          52240.76013197212,
          52242.89429457867,
          52244.89077496928
         ],
         "yaxis": "y"
        },
        {
         "fill": "tonexty",
         "fillcolor": "rgba(0, 114, 178, 0.2)",
         "line": {
          "color": "rgba(0, 114, 178, 0.2)",
          "width": 0
         },
         "mode": "lines",
         "name": "trend_lower",
         "type": "scatter",
         "x": [
          "2019-01-01T00:00:00",
          "2019-02-01T00:00:00",
          "2019-03-01T00:00:00",
          "2019-04-01T00:00:00",
          "2019-05-01T00:00:00",
          "2019-06-01T00:00:00",
          "2019-07-01T00:00:00",
          "2019-08-01T00:00:00",
          "2019-09-01T00:00:00",
          "2019-10-01T00:00:00",
          "2019-11-01T00:00:00",
          "2019-12-01T00:00:00",
          "2020-01-01T00:00:00",
          "2020-02-01T00:00:00",
          "2020-03-01T00:00:00",
          "2020-04-01T00:00:00",
          "2020-05-01T00:00:00",
          "2020-06-01T00:00:00",
          "2020-07-01T00:00:00",
          "2020-08-01T00:00:00",
          "2020-09-01T00:00:00",
          "2020-10-01T00:00:00",
          "2020-11-01T00:00:00",
          "2020-12-01T00:00:00",
          "2021-01-01T00:00:00",
          "2021-02-01T00:00:00",
          "2021-03-01T00:00:00",
          "2021-04-01T00:00:00",
          "2021-05-01T00:00:00",
          "2021-06-01T00:00:00",
          "2021-07-01T00:00:00",
          "2021-08-01T00:00:00",
          "2021-09-01T00:00:00",
          "2021-10-01T00:00:00",
          "2021-11-01T00:00:00",
          "2021-12-01T00:00:00",
          "2022-01-01T00:00:00",
          "2022-02-01T00:00:00",
          "2022-03-01T00:00:00",
          "2022-04-01T00:00:00",
          "2022-05-01T00:00:00",
          "2022-06-01T00:00:00",
          "2022-07-01T00:00:00",
          "2022-08-01T00:00:00",
          "2022-09-01T00:00:00",
          "2022-10-01T00:00:00",
          "2022-11-01T00:00:00",
          "2022-12-01T00:00:00",
          "2023-01-01T00:00:00",
          "2023-02-01T00:00:00",
          "2023-03-01T00:00:00",
          "2023-04-01T00:00:00",
          "2023-05-01T00:00:00",
          "2023-06-01T00:00:00",
          "2023-07-01T00:00:00",
          "2023-08-01T00:00:00",
          "2023-09-01T00:00:00",
          "2023-10-01T00:00:00",
          "2023-11-01T00:00:00",
          "2023-12-01T00:00:00",
          "2024-01-01T00:00:00",
          "2024-02-01T00:00:00",
          "2024-03-01T00:00:00"
         ],
         "xaxis": "x",
         "y": [
          52115.05278,
          52117.186913328136,
          52119.11451762451,
          52121.248650972775,
          52123.3139413098,
          52125.448074675274,
          52127.51336502896,
          52129.6474983817,
          52131.781631734455,
          52133.84692206713,
          52135.98105541357,
          52138.04634574884,
          52140.180479095485,
          52142.31461244214,
          52144.31105975924,
          52146.445193098196,
          52148.510483415455,
          52150.64461674329,
          52152.70990705326,
          52154.84404037355,
          52156.97817371137,
          52159.0434640383,
          52161.177597376496,
          52163.242887703775,
          52165.37702106046,
          52167.51115443432,
          52169.438758772005,
          52171.5728921283,
          52173.63818247311,
          52175.77231585392,
          52177.837606222456,
          52179.97173957835,
          52182.10587293424,
          52184.17116330569,
          52186.30529668953,
          52188.37058708733,
          52190.50472049839,
          52192.638853905264,
          52194.56645827275,
          52196.70059165868,
          52198.76588200872,
          52200.90001537044,
          52202.96530569445,
          52205.09943902927,
          52207.23357235778,
          52209.29886267568,
          52211.432996014635,
          52213.498286342656,
          52215.632419669826,
          52217.766552997,
          52219.69415729251,
          52221.828290619684,
          52223.893580936296,
          52226.02771426347,
          52228.09300458009,
          52230.227137907255,
          52232.36127123443,
          52234.42656155105,
          52236.56069487822,
          52238.62598519484,
          52240.76010581688,
          52242.894210865445,
          52244.89063085912
         ],
         "yaxis": "y"
        },
        {
         "line": {
          "color": "#0072B2",
          "width": 2
         },
         "mode": "lines",
         "name": "yearly",
         "type": "scatter",
         "x": [
          "2017-01-01T00:00:00",
          "2017-01-02T00:00:59.178082",
          "2017-01-03T00:01:58.356164",
          "2017-01-04T00:02:57.534246",
          "2017-01-05T00:03:56.712328",
          "2017-01-06T00:04:55.890411",
          "2017-01-07T00:05:55.068493",
          "2017-01-08T00:06:54.246575",
          "2017-01-09T00:07:53.424657",
          "2017-01-10T00:08:52.602739",
          "2017-01-11T00:09:51.780822",
          "2017-01-12T00:10:50.958904",
          "2017-01-13T00:11:50.136986",
          "2017-01-14T00:12:49.315068",
          "2017-01-15T00:13:48.493150",
          "2017-01-16T00:14:47.671232",
          "2017-01-17T00:15:46.849315",
          "2017-01-18T00:16:46.027397",
          "2017-01-19T00:17:45.205479",
          "2017-01-20T00:18:44.383561",
          "2017-01-21T00:19:43.561643",
          "2017-01-22T00:20:42.739726",
          "2017-01-23T00:21:41.917808",
          "2017-01-24T00:22:41.095890",
          "2017-01-25T00:23:40.273972",
          "2017-01-26T00:24:39.452054",
          "2017-01-27T00:25:38.630137",
          "2017-01-28T00:26:37.808219",
          "2017-01-29T00:27:36.986301",
          "2017-01-30T00:28:36.164383",
          "2017-01-31T00:29:35.342465",
          "2017-02-01T00:30:34.520547",
          "2017-02-02T00:31:33.698630",
          "2017-02-03T00:32:32.876712",
          "2017-02-04T00:33:32.054794",
          "2017-02-05T00:34:31.232876",
          "2017-02-06T00:35:30.410958",
          "2017-02-07T00:36:29.589041",
          "2017-02-08T00:37:28.767123",
          "2017-02-09T00:38:27.945205",
          "2017-02-10T00:39:27.123287",
          "2017-02-11T00:40:26.301369",
          "2017-02-12T00:41:25.479452",
          "2017-02-13T00:42:24.657534",
          "2017-02-14T00:43:23.835616",
          "2017-02-15T00:44:23.013698",
          "2017-02-16T00:45:22.191780",
          "2017-02-17T00:46:21.369862",
          "2017-02-18T00:47:20.547945",
          "2017-02-19T00:48:19.726027",
          "2017-02-20T00:49:18.904109",
          "2017-02-21T00:50:18.082191",
          "2017-02-22T00:51:17.260273",
          "2017-02-23T00:52:16.438356",
          "2017-02-24T00:53:15.616438",
          "2017-02-25T00:54:14.794520",
          "2017-02-26T00:55:13.972602",
          "2017-02-27T00:56:13.150684",
          "2017-02-28T00:57:12.328767",
          "2017-03-01T00:58:11.506849",
          "2017-03-02T00:59:10.684931",
          "2017-03-03T01:00:09.863013",
          "2017-03-04T01:01:09.041095",
          "2017-03-05T01:02:08.219177",
          "2017-03-06T01:03:07.397260",
          "2017-03-07T01:04:06.575342",
          "2017-03-08T01:05:05.753424",
          "2017-03-09T01:06:04.931506",
          "2017-03-10T01:07:04.109588",
          "2017-03-11T01:08:03.287671",
          "2017-03-12T01:09:02.465753",
          "2017-03-13T01:10:01.643835",
          "2017-03-14T01:11:00.821917",
          "2017-03-15T01:12:00",
          "2017-03-16T01:12:59.178082",
          "2017-03-17T01:13:58.356164",
          "2017-03-18T01:14:57.534246",
          "2017-03-19T01:15:56.712328",
          "2017-03-20T01:16:55.890411",
          "2017-03-21T01:17:55.068493",
          "2017-03-22T01:18:54.246575",
          "2017-03-23T01:19:53.424657",
          "2017-03-24T01:20:52.602739",
          "2017-03-25T01:21:51.780822",
          "2017-03-26T01:22:50.958904",
          "2017-03-27T01:23:50.136986",
          "2017-03-28T01:24:49.315068",
          "2017-03-29T01:25:48.493150",
          "2017-03-30T01:26:47.671232",
          "2017-03-31T01:27:46.849315",
          "2017-04-01T01:28:46.027397",
          "2017-04-02T01:29:45.205479",
          "2017-04-03T01:30:44.383561",
          "2017-04-04T01:31:43.561643",
          "2017-04-05T01:32:42.739726",
          "2017-04-06T01:33:41.917808",
          "2017-04-07T01:34:41.095890",
          "2017-04-08T01:35:40.273972",
          "2017-04-09T01:36:39.452054",
          "2017-04-10T01:37:38.630137",
          "2017-04-11T01:38:37.808219",
          "2017-04-12T01:39:36.986301",
          "2017-04-13T01:40:36.164383",
          "2017-04-14T01:41:35.342465",
          "2017-04-15T01:42:34.520547",
          "2017-04-16T01:43:33.698630",
          "2017-04-17T01:44:32.876712",
          "2017-04-18T01:45:32.054794",
          "2017-04-19T01:46:31.232876",
          "2017-04-20T01:47:30.410958",
          "2017-04-21T01:48:29.589041",
          "2017-04-22T01:49:28.767123",
          "2017-04-23T01:50:27.945205",
          "2017-04-24T01:51:27.123287",
          "2017-04-25T01:52:26.301369",
          "2017-04-26T01:53:25.479452",
          "2017-04-27T01:54:24.657534",
          "2017-04-28T01:55:23.835616",
          "2017-04-29T01:56:23.013698",
          "2017-04-30T01:57:22.191780",
          "2017-05-01T01:58:21.369862",
          "2017-05-02T01:59:20.547945",
          "2017-05-03T02:00:19.726027",
          "2017-05-04T02:01:18.904109",
          "2017-05-05T02:02:18.082191",
          "2017-05-06T02:03:17.260273",
          "2017-05-07T02:04:16.438356",
          "2017-05-08T02:05:15.616438",
          "2017-05-09T02:06:14.794520",
          "2017-05-10T02:07:13.972602",
          "2017-05-11T02:08:13.150684",
          "2017-05-12T02:09:12.328767",
          "2017-05-13T02:10:11.506849",
          "2017-05-14T02:11:10.684931",
          "2017-05-15T02:12:09.863013",
          "2017-05-16T02:13:09.041095",
          "2017-05-17T02:14:08.219177",
          "2017-05-18T02:15:07.397260",
          "2017-05-19T02:16:06.575342",
          "2017-05-20T02:17:05.753424",
          "2017-05-21T02:18:04.931506",
          "2017-05-22T02:19:04.109588",
          "2017-05-23T02:20:03.287671",
          "2017-05-24T02:21:02.465753",
          "2017-05-25T02:22:01.643835",
          "2017-05-26T02:23:00.821917",
          "2017-05-27T02:24:00",
          "2017-05-28T02:24:59.178082",
          "2017-05-29T02:25:58.356164",
          "2017-05-30T02:26:57.534246",
          "2017-05-31T02:27:56.712328",
          "2017-06-01T02:28:55.890411",
          "2017-06-02T02:29:55.068493",
          "2017-06-03T02:30:54.246575",
          "2017-06-04T02:31:53.424657",
          "2017-06-05T02:32:52.602739",
          "2017-06-06T02:33:51.780822",
          "2017-06-07T02:34:50.958904",
          "2017-06-08T02:35:50.136986",
          "2017-06-09T02:36:49.315068",
          "2017-06-10T02:37:48.493150",
          "2017-06-11T02:38:47.671232",
          "2017-06-12T02:39:46.849315",
          "2017-06-13T02:40:46.027397",
          "2017-06-14T02:41:45.205479",
          "2017-06-15T02:42:44.383561",
          "2017-06-16T02:43:43.561643",
          "2017-06-17T02:44:42.739726",
          "2017-06-18T02:45:41.917808",
          "2017-06-19T02:46:41.095890",
          "2017-06-20T02:47:40.273972",
          "2017-06-21T02:48:39.452054",
          "2017-06-22T02:49:38.630137",
          "2017-06-23T02:50:37.808219",
          "2017-06-24T02:51:36.986301",
          "2017-06-25T02:52:36.164383",
          "2017-06-26T02:53:35.342465",
          "2017-06-27T02:54:34.520547",
          "2017-06-28T02:55:33.698630",
          "2017-06-29T02:56:32.876712",
          "2017-06-30T02:57:32.054794",
          "2017-07-01T02:58:31.232876",
          "2017-07-02T02:59:30.410958",
          "2017-07-03T03:00:29.589041",
          "2017-07-04T03:01:28.767123",
          "2017-07-05T03:02:27.945205",
          "2017-07-06T03:03:27.123287",
          "2017-07-07T03:04:26.301369",
          "2017-07-08T03:05:25.479452",
          "2017-07-09T03:06:24.657534",
          "2017-07-10T03:07:23.835616",
          "2017-07-11T03:08:23.013698",
          "2017-07-12T03:09:22.191780",
          "2017-07-13T03:10:21.369862",
          "2017-07-14T03:11:20.547945",
          "2017-07-15T03:12:19.726027",
          "2017-07-16T03:13:18.904109",
          "2017-07-17T03:14:18.082191",
          "2017-07-18T03:15:17.260273",
          "2017-07-19T03:16:16.438356",
          "2017-07-20T03:17:15.616438",
          "2017-07-21T03:18:14.794520",
          "2017-07-22T03:19:13.972602",
          "2017-07-23T03:20:13.150684",
          "2017-07-24T03:21:12.328767",
          "2017-07-25T03:22:11.506849",
          "2017-07-26T03:23:10.684931",
          "2017-07-27T03:24:09.863013",
          "2017-07-28T03:25:09.041095",
          "2017-07-29T03:26:08.219177",
          "2017-07-30T03:27:07.397260",
          "2017-07-31T03:28:06.575342",
          "2017-08-01T03:29:05.753424",
          "2017-08-02T03:30:04.931506",
          "2017-08-03T03:31:04.109588",
          "2017-08-04T03:32:03.287671",
          "2017-08-05T03:33:02.465753",
          "2017-08-06T03:34:01.643835",
          "2017-08-07T03:35:00.821917",
          "2017-08-08T03:36:00",
          "2017-08-09T03:36:59.178082",
          "2017-08-10T03:37:58.356164",
          "2017-08-11T03:38:57.534246",
          "2017-08-12T03:39:56.712328",
          "2017-08-13T03:40:55.890411",
          "2017-08-14T03:41:55.068493",
          "2017-08-15T03:42:54.246575",
          "2017-08-16T03:43:53.424657",
          "2017-08-17T03:44:52.602739",
          "2017-08-18T03:45:51.780822",
          "2017-08-19T03:46:50.958904",
          "2017-08-20T03:47:50.136986",
          "2017-08-21T03:48:49.315068",
          "2017-08-22T03:49:48.493150",
          "2017-08-23T03:50:47.671232",
          "2017-08-24T03:51:46.849315",
          "2017-08-25T03:52:46.027397",
          "2017-08-26T03:53:45.205479",
          "2017-08-27T03:54:44.383561",
          "2017-08-28T03:55:43.561643",
          "2017-08-29T03:56:42.739726",
          "2017-08-30T03:57:41.917808",
          "2017-08-31T03:58:41.095890",
          "2017-09-01T03:59:40.273972",
          "2017-09-02T04:00:39.452054",
          "2017-09-03T04:01:38.630137",
          "2017-09-04T04:02:37.808219",
          "2017-09-05T04:03:36.986301",
          "2017-09-06T04:04:36.164383",
          "2017-09-07T04:05:35.342465",
          "2017-09-08T04:06:34.520547",
          "2017-09-09T04:07:33.698630",
          "2017-09-10T04:08:32.876712",
          "2017-09-11T04:09:32.054794",
          "2017-09-12T04:10:31.232876",
          "2017-09-13T04:11:30.410958",
          "2017-09-14T04:12:29.589041",
          "2017-09-15T04:13:28.767123",
          "2017-09-16T04:14:27.945205",
          "2017-09-17T04:15:27.123287",
          "2017-09-18T04:16:26.301369",
          "2017-09-19T04:17:25.479452",
          "2017-09-20T04:18:24.657534",
          "2017-09-21T04:19:23.835616",
          "2017-09-22T04:20:23.013698",
          "2017-09-23T04:21:22.191780",
          "2017-09-24T04:22:21.369862",
          "2017-09-25T04:23:20.547945",
          "2017-09-26T04:24:19.726027",
          "2017-09-27T04:25:18.904109",
          "2017-09-28T04:26:18.082191",
          "2017-09-29T04:27:17.260273",
          "2017-09-30T04:28:16.438356",
          "2017-10-01T04:29:15.616438",
          "2017-10-02T04:30:14.794520",
          "2017-10-03T04:31:13.972602",
          "2017-10-04T04:32:13.150684",
          "2017-10-05T04:33:12.328767",
          "2017-10-06T04:34:11.506849",
          "2017-10-07T04:35:10.684931",
          "2017-10-08T04:36:09.863013",
          "2017-10-09T04:37:09.041095",
          "2017-10-10T04:38:08.219177",
          "2017-10-11T04:39:07.397260",
          "2017-10-12T04:40:06.575342",
          "2017-10-13T04:41:05.753424",
          "2017-10-14T04:42:04.931506",
          "2017-10-15T04:43:04.109588",
          "2017-10-16T04:44:03.287671",
          "2017-10-17T04:45:02.465753",
          "2017-10-18T04:46:01.643835",
          "2017-10-19T04:47:00.821917",
          "2017-10-20T04:48:00",
          "2017-10-21T04:48:59.178082",
          "2017-10-22T04:49:58.356164",
          "2017-10-23T04:50:57.534246",
          "2017-10-24T04:51:56.712328",
          "2017-10-25T04:52:55.890411",
          "2017-10-26T04:53:55.068493",
          "2017-10-27T04:54:54.246575",
          "2017-10-28T04:55:53.424657",
          "2017-10-29T04:56:52.602739",
          "2017-10-30T04:57:51.780822",
          "2017-10-31T04:58:50.958904",
          "2017-11-01T04:59:50.136986",
          "2017-11-02T05:00:49.315068",
          "2017-11-03T05:01:48.493150",
          "2017-11-04T05:02:47.671232",
          "2017-11-05T05:03:46.849315",
          "2017-11-06T05:04:46.027397",
          "2017-11-07T05:05:45.205479",
          "2017-11-08T05:06:44.383561",
          "2017-11-09T05:07:43.561643",
          "2017-11-10T05:08:42.739726",
          "2017-11-11T05:09:41.917808",
          "2017-11-12T05:10:41.095890",
          "2017-11-13T05:11:40.273972",
          "2017-11-14T05:12:39.452054",
          "2017-11-15T05:13:38.630137",
          "2017-11-16T05:14:37.808219",
          "2017-11-17T05:15:36.986301",
          "2017-11-18T05:16:36.164383",
          "2017-11-19T05:17:35.342465",
          "2017-11-20T05:18:34.520547",
          "2017-11-21T05:19:33.698630",
          "2017-11-22T05:20:32.876712",
          "2017-11-23T05:21:32.054794",
          "2017-11-24T05:22:31.232876",
          "2017-11-25T05:23:30.410958",
          "2017-11-26T05:24:29.589041",
          "2017-11-27T05:25:28.767123",
          "2017-11-28T05:26:27.945205",
          "2017-11-29T05:27:27.123287",
          "2017-11-30T05:28:26.301369",
          "2017-12-01T05:29:25.479452",
          "2017-12-02T05:30:24.657534",
          "2017-12-03T05:31:23.835616",
          "2017-12-04T05:32:23.013698",
          "2017-12-05T05:33:22.191780",
          "2017-12-06T05:34:21.369862",
          "2017-12-07T05:35:20.547945",
          "2017-12-08T05:36:19.726027",
          "2017-12-09T05:37:18.904109",
          "2017-12-10T05:38:18.082191",
          "2017-12-11T05:39:17.260273",
          "2017-12-12T05:40:16.438356",
          "2017-12-13T05:41:15.616438",
          "2017-12-14T05:42:14.794520",
          "2017-12-15T05:43:13.972602",
          "2017-12-16T05:44:13.150684",
          "2017-12-17T05:45:12.328767",
          "2017-12-18T05:46:11.506849",
          "2017-12-19T05:47:10.684931",
          "2017-12-20T05:48:09.863013",
          "2017-12-21T05:49:09.041095",
          "2017-12-22T05:50:08.219177",
          "2017-12-23T05:51:07.397260",
          "2017-12-24T05:52:06.575342",
          "2017-12-25T05:53:05.753424",
          "2017-12-26T05:54:04.931506",
          "2017-12-27T05:55:04.109588",
          "2017-12-28T05:56:03.287671",
          "2017-12-29T05:57:02.465753",
          "2017-12-30T05:58:01.643835",
          "2017-12-31T05:59:00.821917"
         ],
         "xaxis": "x2",
         "y": [
          0.030353455794916526,
          -0.0421204325665577,
          -0.1268645198288245,
          -0.22316797298905738,
          -0.3299963550721899,
          -0.4459982115277762,
          -0.5695210456940866,
          -0.6986278728578432,
          -0.8311357675846966,
          -0.9646472669726811,
          -1.0965952728070323,
          -1.2242921925094143,
          -1.3449850619166988,
          -1.4559073241278642,
          -1.554346807451132,
          -1.63770051807355,
          -1.7035361376758125,
          -1.7496506508253744,
          -1.7741234257646057,
          -1.7753698655147798,
          -1.752183603118566,
          -1.703774755606079,
          -1.6297995347340153,
          -1.5303797286892153,
          -1.4061188916526952,
          -1.258096794640552,
          -1.0878649428732967,
          -0.8974266338751123,
          -0.6892081118446388,
          -0.4660176269099108,
          -0.2310089078578066,
          0.012389270001054213,
          0.26052455028007354,
          0.5095906747572592,
          0.755701610662881,
          0.994954146323431,
          1.2235200699943294,
          1.437709202412178,
          1.634044644818802,
          1.809331460075182,
          1.960721765985132,
          2.0857649174014945,
          2.18246713620511,
          2.2493243626681005,
          2.285354513263108,
          2.290117234941757,
          2.2637229967827044,
          2.2068312175998845,
          2.1206363639345276,
          2.006844025631523,
          1.8676364205555218,
          1.7056263031149839,
          1.5238119731134852,
          1.3255056862977093,
          1.114274380158384,
          0.893866551104012,
          0.6681375632454183,
          0.4409706019163145,
          0.21621065771161976,
          -0.002426372139377118,
          -0.2114151587446318,
          -0.407491053025659,
          -0.5877136355407706,
          -0.7495129645090949,
          -0.8907482856572492,
          -1.009736486910627,
          -1.1052814529021397,
          -1.1766909168156783,
          -1.2237831388140696,
          -1.2468806781018607,
          -1.246798905918028,
          -1.2248187947392937,
          -1.1826534686887877,
          -1.122404702140192,
          -1.046515619560844,
          -0.9577097005081557,
          -0.8589313985590628,
          -0.7532796782528144,
          -0.6439396775760495,
          -0.5341120769596983,
          -0.4269492292325015,
          -0.3254803415622507,
          -0.23255262952275427,
          -0.15077052737791044,
          -0.08244178287298871,
          -0.029529677983153903,
          0.006384440798996008,
          0.024136361564353552,
          0.022999076977000488,
          0.002697075975690162,
          -0.03658993127424509,
          -0.09422996314130908,
          -0.16915556925030312,
          -0.2598849854588626,
          -0.36455338422816275,
          -0.4809512300526674,
          -0.6065707507646125,
          -0.7386506624427928,
          -0.8742402206767003,
          -1.0102522889251915,
          -1.1435259143891248,
          -1.270888674200533,
          -1.3892203107138714,
          -1.4955085005056652,
          -1.5869159446869299,
          -1.6608301858871533,
          -1.7149160929842875,
          -1.7471618830799494,
          -1.7559176013224416,
          -1.739930378135578,
          -1.6983683860656085,
          -1.6308394064424714,
          -1.5374009733351297,
          -1.4185609648092237,
          -1.2752775019058602,
          -1.1089369448990019,
          -0.9213378236353233,
          -0.7146612057286504,
          -0.4914330474907204,
          -0.2544938039190641,
          -0.006936774744559863,
          0.24793221651745745,
          0.5066513053444347,
          0.7656591451883548,
          1.0213559935780405,
          1.2701506960235167,
          1.5085369095238093,
          1.7331382651254823,
          1.940766149853563,
          2.128471323744931,
          2.2935932813990307,
          2.4337956640317415,
          2.5471150576336297,
          2.631984261791082,
          2.6872589421428486,
          2.7122353608455527,
          2.706659925323195,
          2.670733849658679,
          2.6051071001440405,
          2.5108669376069406,
          2.3895188192264483,
          2.242958616623306,
          2.073447332761998,
          1.883562663030951,
          1.6761620625402394,
          1.4543332583840924,
          1.2213398979957895,
          0.980578068259606,
          0.7355038109309664,
          0.489586668820199,
          0.24624999528980912,
          0.008814986411663886,
          -0.21955580114357484,
          -0.4358988816642604,
          -0.6375127295656272,
          -0.8219893174667291,
          -0.9872535743268454,
          -1.13159399551562,
          -1.2536878356974384,
          -1.3526125072859534,
          -1.4278634336605238,
          -1.4793499058790762,
          -1.5073907969382716,
          -1.51270118279376,
          -1.4963718332248528,
          -1.4598422165865528,
          -1.404866383372697,
          -1.333473924749703,
          -1.2479259016569217,
          -1.1506656253735508,
          -1.0442722501071255,
          -0.9314009356386945,
          -0.8147332685099318,
          -0.6969223707055759,
          -0.5805402994703512,
          -0.4680264647890528,
          -0.3616457814818658,
          -0.26343805829216077,
          -0.17518562440706192,
          -0.09838020671613198,
          -0.03419696138616846,
          0.016521021051752457,
          0.053278171394971194,
          0.07592678092223501,
          0.08466374256142205,
          0.08001906702275592,
          0.0628370217703116,
          0.03425182387052041,
          -0.004344883138844418,
          -0.051340005951545,
          -0.10494025126435676,
          -0.16321747784425683,
          -0.22415311637214108,
          -0.28569086422826656,
          -0.3457829685211704,
          -0.40243905725383344,
          -0.453772461778818,
          -0.498044106458714,
          -0.5337000983379031,
          -0.559409640919687,
          -0.574092190018642,
          -0.576941180528282,
          -0.5674405738822343,
          -0.5453741257528772,
          -0.5108290341442125,
          -0.4641897734490206,
          -0.4061273945019344,
          -0.3375811606272382,
          -0.259733298361097,
          -0.17398292217174086,
          -0.08190608751114428,
          0.014779084944490805,
          0.11425456173878687,
          0.214645602906657,
          0.31406595708092166,
          0.4106571167437842,
          0.5026378366658936,
          0.5883398146274131,
          0.6662459531480451,
          0.7350241281384425,
          0.793552320531693,
          0.8409461707485371,
          0.8765725053249903,
          0.9000607544807282,
          0.9113070798430989,
          0.9104719709412614,
          0.897971794146652,
          0.8744640897228174,
          0.8408272785913509,
          0.7981355486928913,
          0.7476294021690815,
          0.6906820290587762,
          0.6287664740712332,
          0.5634144307311448,
          0.49618086747955104,
          0.4286056870386678,
          0.36217643248337084,
          0.2982968880698989,
          0.2382508916138752,
          0.1831775395678852,
          0.13404679841429512,
          0.09164070162700393,
          0.056539377198611455,
          0.029114412264573352,
          0.009523771759553257,
          -0.002283638222041217,
          -0.0065602742745355935,
          -0.0037468391614267496,
          0.005545497409695906,
          0.020556187458821665,
          0.040400861989839706,
          0.06409843759919047,
          0.09060044463493919,
          0.11882158414022388,
          0.14766876529232248,
          0.1760727730861711,
          0.20301520260680606,
          0.2275548323180522,
          0.24885084818571127,
          0.2661828527645605,
          0.2789660980931332,
          0.28676450315763724,
          0.2892972006419357,
          0.28644167407875426,
          0.2782320910447467,
          0.2648539114064347,
          0.24663346303501385,
          0.22402477743978697,
          0.1975928874969376,
          0.16799459132304928,
          0.13595685395771953,
          0.10225578229837524,
          0.06769121272399482,
          0.033065046399228394,
          -0.0008415236608289349,
          -0.0332890832809126,
          -0.06359948317950476,
          -0.09117118495755853,
          -0.1154952510852092,
          -0.13616461021703316,
          -0.15288172345751666,
          -0.16546249229899518,
          -0.17383598929999022,
          -0.1780421740677541,
          -0.17822488346755722,
          -0.17462270044648334,
          -0.16755711108582041,
          -0.15741843735014321,
          -0.1446508245279652,
          -0.12973497211451795,
          -0.11317154203415691,
          -0.09546412314624132,
          -0.07710273122845099,
          -0.05854955167873508,
          -0.04022418554114968,
          -0.022493078895355234,
          -0.005660280638062029,
          0.01003895576652002,
          0.024441939266375952,
          0.03745864996413332,
          0.04907069046661869,
          0.05932587865375375,
          0.06833124910670171,
          0.07624373965483226,
          0.08325919431086484,
          0.08959965448137991,
          0.09550060854491495,
          0.10119709928665689,
          0.10691044374209248,
          0.11283564640572025,
          0.11912966436455258,
          0.12590200530143394,
          0.1332066881351427,
          0.1410369021861237,
          0.1493222020590334,
          0.1579285555734272,
          0.16666069358534402,
          0.17526822173946632,
          0.18345334723970935,
          0.19088147034786762,
          0.19719371637578198,
          0.20202114063808513,
          0.2049998291213732,
          0.20578716401713365,
          0.20407755114878534,
          0.19961792094778122,
          0.19222193909870502,
          0.18178300963205005,
          0.16828417708517712,
          0.15180616450464535,
          0.1325319609533914,
          0.11074809545989309,
          0.08684203753490452,
          0.06129733631766745,
          0.03468230229844346,
          0.007637928193921216,
          -0.019138797049766877,
          -0.044914477988676,
          -0.06893982863298997,
          -0.0904749947363442,
          -0.10881302610966706,
          -0.12330531592587375,
          -0.13338642083479935,
          -0.1385978152461355,
          -0.1386095527749773,
          -0.13323984508393483,
          -0.12247062696528827,
          -0.10645953163261025,
          -0.0855472473347404,
          -0.060259591650548915,
          -0.031305845632647336,
          0.0004313536271364628,
          0.03390870074010169,
          0.06794165064515033,
          0.10122901418895948,
          0.13238026647760637,
          0.15995076515295434,
          0.1824763934205134,
          0.19851265526809142,
          0.2066749414005032,
          0.20567928189196014,
          0.19438281674545788,
          0.17182248207507703,
          0.13725100622734998,
          0.09016931833763225
         ],
         "yaxis": "y2"
        }
       ],
       "layout": {
        "height": 400,
        "showlegend": false,
        "template": {
         "data": {
          "bar": [
           {
            "error_x": {
             "color": "#2a3f5f"
            },
            "error_y": {
             "color": "#2a3f5f"
            },
            "marker": {
             "line": {
              "color": "#E5ECF6",
              "width": 0.5
             },
             "pattern": {
              "fillmode": "overlay",
              "size": 10,
              "solidity": 0.2
             }
            },
            "type": "bar"
           }
          ],
          "barpolar": [
           {
            "marker": {
             "line": {
              "color": "#E5ECF6",
              "width": 0.5
             },
             "pattern": {
              "fillmode": "overlay",
              "size": 10,
              "solidity": 0.2
             }
            },
            "type": "barpolar"
           }
          ],
          "carpet": [
           {
            "aaxis": {
             "endlinecolor": "#2a3f5f",
             "gridcolor": "white",
             "linecolor": "white",
             "minorgridcolor": "white",
             "startlinecolor": "#2a3f5f"
            },
            "baxis": {
             "endlinecolor": "#2a3f5f",
             "gridcolor": "white",
             "linecolor": "white",
             "minorgridcolor": "white",
             "startlinecolor": "#2a3f5f"
            },
            "type": "carpet"
           }
          ],
          "choropleth": [
           {
            "colorbar": {
             "outlinewidth": 0,
             "ticks": ""
            },
            "type": "choropleth"
           }
          ],
          "contour": [
           {
            "colorbar": {
             "outlinewidth": 0,
             "ticks": ""
            },
            "colorscale": [
             [
              0,
              "#0d0887"
             ],
             [
              0.1111111111111111,
              "#46039f"
             ],
             [
              0.2222222222222222,
              "#7201a8"
             ],
             [
              0.3333333333333333,
              "#9c179e"
             ],
             [
              0.4444444444444444,
              "#bd3786"
             ],
             [
              0.5555555555555556,
              "#d8576b"
             ],
             [
              0.6666666666666666,
              "#ed7953"
             ],
             [
              0.7777777777777778,
              "#fb9f3a"
             ],
             [
              0.8888888888888888,
              "#fdca26"
             ],
             [
              1,
              "#f0f921"
             ]
            ],
            "type": "contour"
           }
          ],
          "contourcarpet": [
           {
            "colorbar": {
             "outlinewidth": 0,
             "ticks": ""
            },
            "type": "contourcarpet"
           }
          ],
          "heatmap": [
           {
            "colorbar": {
             "outlinewidth": 0,
             "ticks": ""
            },
            "colorscale": [
             [
              0,
              "#0d0887"
             ],
             [
              0.1111111111111111,
              "#46039f"
             ],
             [
              0.2222222222222222,
              "#7201a8"
             ],
             [
              0.3333333333333333,
              "#9c179e"
             ],
             [
              0.4444444444444444,
              "#bd3786"
             ],
             [
              0.5555555555555556,
              "#d8576b"
             ],
             [
              0.6666666666666666,
              "#ed7953"
             ],
             [
              0.7777777777777778,
              "#fb9f3a"
             ],
             [
              0.8888888888888888,
              "#fdca26"
             ],
             [
              1,
              "#f0f921"
             ]
            ],
            "type": "heatmap"
           }
          ],
          "heatmapgl": [
           {
            "colorbar": {
             "outlinewidth": 0,
             "ticks": ""
            },
            "colorscale": [
             [
              0,
              "#0d0887"
             ],
             [
              0.1111111111111111,
              "#46039f"
             ],
             [
              0.2222222222222222,
              "#7201a8"
             ],
             [
              0.3333333333333333,
              "#9c179e"
             ],
             [
              0.4444444444444444,
              "#bd3786"
             ],
             [
              0.5555555555555556,
              "#d8576b"
             ],
             [
              0.6666666666666666,
              "#ed7953"
             ],
             [
              0.7777777777777778,
              "#fb9f3a"
             ],
             [
              0.8888888888888888,
              "#fdca26"
             ],
             [
              1,
              "#f0f921"
             ]
            ],
            "type": "heatmapgl"
           }
          ],
          "histogram": [
           {
            "marker": {
             "pattern": {
              "fillmode": "overlay",
              "size": 10,
              "solidity": 0.2
             }
            },
            "type": "histogram"
           }
          ],
          "histogram2d": [
           {
            "colorbar": {
             "outlinewidth": 0,
             "ticks": ""
            },
            "colorscale": [
             [
              0,
              "#0d0887"
             ],
             [
              0.1111111111111111,
              "#46039f"
             ],
             [
              0.2222222222222222,
              "#7201a8"
             ],
             [
              0.3333333333333333,
              "#9c179e"
             ],
             [
              0.4444444444444444,
              "#bd3786"
             ],
             [
              0.5555555555555556,
              "#d8576b"
             ],
             [
              0.6666666666666666,
              "#ed7953"
             ],
             [
              0.7777777777777778,
              "#fb9f3a"
             ],
             [
              0.8888888888888888,
              "#fdca26"
             ],
             [
              1,
              "#f0f921"
             ]
            ],
            "type": "histogram2d"
           }
          ],
          "histogram2dcontour": [
           {
            "colorbar": {
             "outlinewidth": 0,
             "ticks": ""
            },
            "colorscale": [
             [
              0,
              "#0d0887"
             ],
             [
              0.1111111111111111,
              "#46039f"
             ],
             [
              0.2222222222222222,
              "#7201a8"
             ],
             [
              0.3333333333333333,
              "#9c179e"
             ],
             [
              0.4444444444444444,
              "#bd3786"
             ],
             [
              0.5555555555555556,
              "#d8576b"
             ],
             [
              0.6666666666666666,
              "#ed7953"
             ],
             [
              0.7777777777777778,
              "#fb9f3a"
             ],
             [
              0.8888888888888888,
              "#fdca26"
             ],
             [
              1,
              "#f0f921"
             ]
            ],
            "type": "histogram2dcontour"
           }
          ],
          "mesh3d": [
           {
            "colorbar": {
             "outlinewidth": 0,
             "ticks": ""
            },
            "type": "mesh3d"
           }
          ],
          "parcoords": [
           {
            "line": {
             "colorbar": {
              "outlinewidth": 0,
              "ticks": ""
             }
            },
            "type": "parcoords"
           }
          ],
          "pie": [
           {
            "automargin": true,
            "type": "pie"
           }
          ],
          "scatter": [
           {
            "fillpattern": {
             "fillmode": "overlay",
             "size": 10,
             "solidity": 0.2
            },
            "type": "scatter"
           }
          ],
          "scatter3d": [
           {
            "line": {
             "colorbar": {
              "outlinewidth": 0,
              "ticks": ""
             }
            },
            "marker": {
             "colorbar": {
              "outlinewidth": 0,
              "ticks": ""
             }
            },
            "type": "scatter3d"
           }
          ],
          "scattercarpet": [
           {
            "marker": {
             "colorbar": {
              "outlinewidth": 0,
              "ticks": ""
             }
            },
            "type": "scattercarpet"
           }
          ],
          "scattergeo": [
           {
            "marker": {
             "colorbar": {
              "outlinewidth": 0,
              "ticks": ""
             }
            },
            "type": "scattergeo"
           }
          ],
          "scattergl": [
           {
            "marker": {
             "colorbar": {
              "outlinewidth": 0,
              "ticks": ""
             }
            },
            "type": "scattergl"
           }
          ],
          "scattermapbox": [
           {
            "marker": {
             "colorbar": {
              "outlinewidth": 0,
              "ticks": ""
             }
            },
            "type": "scattermapbox"
           }
          ],
          "scatterpolar": [
           {
            "marker": {
             "colorbar": {
              "outlinewidth": 0,
              "ticks": ""
             }
            },
            "type": "scatterpolar"
           }
          ],
          "scatterpolargl": [
           {
            "marker": {
             "colorbar": {
              "outlinewidth": 0,
              "ticks": ""
             }
            },
            "type": "scatterpolargl"
           }
          ],
          "scatterternary": [
           {
            "marker": {
             "colorbar": {
              "outlinewidth": 0,
              "ticks": ""
             }
            },
            "type": "scatterternary"
           }
          ],
          "surface": [
           {
            "colorbar": {
             "outlinewidth": 0,
             "ticks": ""
            },
            "colorscale": [
             [
              0,
              "#0d0887"
             ],
             [
              0.1111111111111111,
              "#46039f"
             ],
             [
              0.2222222222222222,
              "#7201a8"
             ],
             [
              0.3333333333333333,
              "#9c179e"
             ],
             [
              0.4444444444444444,
              "#bd3786"
             ],
             [
              0.5555555555555556,
              "#d8576b"
             ],
             [
              0.6666666666666666,
              "#ed7953"
             ],
             [
              0.7777777777777778,
              "#fb9f3a"
             ],
             [
              0.8888888888888888,
              "#fdca26"
             ],
             [
              1,
              "#f0f921"
             ]
            ],
            "type": "surface"
           }
          ],
          "table": [
           {
            "cells": {
             "fill": {
              "color": "#EBF0F8"
             },
             "line": {
              "color": "white"
             }
            },
            "header": {
             "fill": {
              "color": "#C8D4E3"
             },
             "line": {
              "color": "white"
             }
            },
            "type": "table"
           }
          ]
         },
         "layout": {
          "annotationdefaults": {
           "arrowcolor": "#2a3f5f",
           "arrowhead": 0,
           "arrowwidth": 1
          },
          "autotypenumbers": "strict",
          "coloraxis": {
           "colorbar": {
            "outlinewidth": 0,
            "ticks": ""
           }
          },
          "colorscale": {
           "diverging": [
            [
             0,
             "#8e0152"
            ],
            [
             0.1,
             "#c51b7d"
            ],
            [
             0.2,
             "#de77ae"
            ],
            [
             0.3,
             "#f1b6da"
            ],
            [
             0.4,
             "#fde0ef"
            ],
            [
             0.5,
             "#f7f7f7"
            ],
            [
             0.6,
             "#e6f5d0"
            ],
            [
             0.7,
             "#b8e186"
            ],
            [
             0.8,
             "#7fbc41"
            ],
            [
             0.9,
             "#4d9221"
            ],
            [
             1,
             "#276419"
            ]
           ],
           "sequential": [
            [
             0,
             "#0d0887"
            ],
            [
             0.1111111111111111,
             "#46039f"
            ],
            [
             0.2222222222222222,
             "#7201a8"
            ],
            [
             0.3333333333333333,
             "#9c179e"
            ],
            [
             0.4444444444444444,
             "#bd3786"
            ],
            [
             0.5555555555555556,
             "#d8576b"
            ],
            [
             0.6666666666666666,
             "#ed7953"
            ],
            [
             0.7777777777777778,
             "#fb9f3a"
            ],
            [
             0.8888888888888888,
             "#fdca26"
            ],
            [
             1,
             "#f0f921"
            ]
           ],
           "sequentialminus": [
            [
             0,
             "#0d0887"
            ],
            [
             0.1111111111111111,
             "#46039f"
            ],
            [
             0.2222222222222222,
             "#7201a8"
            ],
            [
             0.3333333333333333,
             "#9c179e"
            ],
            [
             0.4444444444444444,
             "#bd3786"
            ],
            [
             0.5555555555555556,
             "#d8576b"
            ],
            [
             0.6666666666666666,
             "#ed7953"
            ],
            [
             0.7777777777777778,
             "#fb9f3a"
            ],
            [
             0.8888888888888888,
             "#fdca26"
            ],
            [
             1,
             "#f0f921"
            ]
           ]
          },
          "colorway": [
           "#636efa",
           "#EF553B",
           "#00cc96",
           "#ab63fa",
           "#FFA15A",
           "#19d3f3",
           "#FF6692",
           "#B6E880",
           "#FF97FF",
           "#FECB52"
          ],
          "font": {
           "color": "#2a3f5f"
          },
          "geo": {
           "bgcolor": "white",
           "lakecolor": "white",
           "landcolor": "#E5ECF6",
           "showlakes": true,
           "showland": true,
           "subunitcolor": "white"
          },
          "hoverlabel": {
           "align": "left"
          },
          "hovermode": "closest",
          "mapbox": {
           "style": "light"
          },
          "paper_bgcolor": "white",
          "plot_bgcolor": "#E5ECF6",
          "polar": {
           "angularaxis": {
            "gridcolor": "white",
            "linecolor": "white",
            "ticks": ""
           },
           "bgcolor": "#E5ECF6",
           "radialaxis": {
            "gridcolor": "white",
            "linecolor": "white",
            "ticks": ""
           }
          },
          "scene": {
           "xaxis": {
            "backgroundcolor": "#E5ECF6",
            "gridcolor": "white",
            "gridwidth": 2,
            "linecolor": "white",
            "showbackground": true,
            "ticks": "",
            "zerolinecolor": "white"
           },
           "yaxis": {
            "backgroundcolor": "#E5ECF6",
            "gridcolor": "white",
            "gridwidth": 2,
            "linecolor": "white",
            "showbackground": true,
            "ticks": "",
            "zerolinecolor": "white"
           },
           "zaxis": {
            "backgroundcolor": "#E5ECF6",
            "gridcolor": "white",
            "gridwidth": 2,
            "linecolor": "white",
            "showbackground": true,
            "ticks": "",
            "zerolinecolor": "white"
           }
          },
          "shapedefaults": {
           "line": {
            "color": "#2a3f5f"
           }
          },
          "ternary": {
           "aaxis": {
            "gridcolor": "white",
            "linecolor": "white",
            "ticks": ""
           },
           "baxis": {
            "gridcolor": "white",
            "linecolor": "white",
            "ticks": ""
           },
           "bgcolor": "#E5ECF6",
           "caxis": {
            "gridcolor": "white",
            "linecolor": "white",
            "ticks": ""
           }
          },
          "title": {
           "x": 0.05
          },
          "xaxis": {
           "automargin": true,
           "gridcolor": "white",
           "linecolor": "white",
           "ticks": "",
           "title": {
            "standoff": 15
           },
           "zerolinecolor": "white",
           "zerolinewidth": 2
          },
          "yaxis": {
           "automargin": true,
           "gridcolor": "white",
           "linecolor": "white",
           "ticks": "",
           "title": {
            "standoff": 15
           },
           "zerolinecolor": "white",
           "zerolinewidth": 2
          }
         }
        },
        "width": 900,
        "xaxis": {
         "anchor": "y",
         "domain": [
          0,
          1
         ],
         "range": [
          "2018-09-28T16:48:00",
          "2024-06-03T07:12:00"
         ],
         "type": "date"
        },
        "xaxis2": {
         "anchor": "y2",
         "domain": [
          0,
          1
         ],
         "range": [
          "2016-12-13T18:54:02.958904115",
          "2018-01-18T11:04:57.863013581"
         ],
         "tickformat": "%B %e",
         "type": "date"
        },
        "yaxis": {
         "anchor": "x",
         "domain": [
          0.575,
          1
         ],
         "rangemode": "normal",
         "title": {
          "text": "trend"
         },
         "zerolinecolor": "#AAA"
        },
        "yaxis2": {
         "anchor": "x2",
         "domain": [
          0,
          0.425
         ],
         "hoverformat": ".2%",
         "tickformat": "%",
         "title": {
          "text": "yearly"
         },
         "zerolinecolor": "#AAA"
        }
       }
      },
      "text/html": [
       "<div>                            <div id=\"d19e8334-f877-4af1-b56b-6579f45917dd\" class=\"plotly-graph-div\" style=\"height:400px; width:900px;\"></div>            <script type=\"text/javascript\">                require([\"plotly\"], function(Plotly) {                    window.PLOTLYENV=window.PLOTLYENV || {};                                    if (document.getElementById(\"d19e8334-f877-4af1-b56b-6579f45917dd\")) {                    Plotly.newPlot(                        \"d19e8334-f877-4af1-b56b-6579f45917dd\",                        [{\"line\":{\"color\":\"#0072B2\",\"width\":2},\"mode\":\"lines\",\"name\":\"trend\",\"x\":[\"2019-01-01T00:00:00\",\"2019-02-01T00:00:00\",\"2019-03-01T00:00:00\",\"2019-04-01T00:00:00\",\"2019-05-01T00:00:00\",\"2019-06-01T00:00:00\",\"2019-07-01T00:00:00\",\"2019-08-01T00:00:00\",\"2019-09-01T00:00:00\",\"2019-10-01T00:00:00\",\"2019-11-01T00:00:00\",\"2019-12-01T00:00:00\",\"2020-01-01T00:00:00\",\"2020-02-01T00:00:00\",\"2020-03-01T00:00:00\",\"2020-04-01T00:00:00\",\"2020-05-01T00:00:00\",\"2020-06-01T00:00:00\",\"2020-07-01T00:00:00\",\"2020-08-01T00:00:00\",\"2020-09-01T00:00:00\",\"2020-10-01T00:00:00\",\"2020-11-01T00:00:00\",\"2020-12-01T00:00:00\",\"2021-01-01T00:00:00\",\"2021-02-01T00:00:00\",\"2021-03-01T00:00:00\",\"2021-04-01T00:00:00\",\"2021-05-01T00:00:00\",\"2021-06-01T00:00:00\",\"2021-07-01T00:00:00\",\"2021-08-01T00:00:00\",\"2021-09-01T00:00:00\",\"2021-10-01T00:00:00\",\"2021-11-01T00:00:00\",\"2021-12-01T00:00:00\",\"2022-01-01T00:00:00\",\"2022-02-01T00:00:00\",\"2022-03-01T00:00:00\",\"2022-04-01T00:00:00\",\"2022-05-01T00:00:00\",\"2022-06-01T00:00:00\",\"2022-07-01T00:00:00\",\"2022-08-01T00:00:00\",\"2022-09-01T00:00:00\",\"2022-10-01T00:00:00\",\"2022-11-01T00:00:00\",\"2022-12-01T00:00:00\",\"2023-01-01T00:00:00\",\"2023-02-01T00:00:00\",\"2023-03-01T00:00:00\",\"2023-04-01T00:00:00\",\"2023-05-01T00:00:00\",\"2023-06-01T00:00:00\",\"2023-07-01T00:00:00\",\"2023-08-01T00:00:00\",\"2023-09-01T00:00:00\",\"2023-10-01T00:00:00\",\"2023-11-01T00:00:00\",\"2023-12-01T00:00:00\",\"2024-01-01T00:00:00\",\"2024-02-01T00:00:00\",\"2024-03-01T00:00:00\"],\"y\":[52115.05278,52117.186913328136,52119.11451762451,52121.248650972775,52123.3139413098,52125.448074675274,52127.51336502896,52129.6474983817,52131.781631734455,52133.84692206713,52135.98105541357,52138.04634574884,52140.180479095485,52142.31461244214,52144.31105975924,52146.445193098196,52148.510483415455,52150.64461674329,52152.70990705326,52154.84404037355,52156.97817371137,52159.0434640383,52161.177597376496,52163.242887703775,52165.37702106046,52167.51115443432,52169.438758772005,52171.5728921283,52173.63818247311,52175.77231585392,52177.837606222456,52179.97173957835,52182.10587293424,52184.17116330569,52186.30529668953,52188.37058708733,52190.50472049839,52192.638853905264,52194.56645827275,52196.70059165868,52198.76588200872,52200.90001537044,52202.96530569445,52205.09943902927,52207.23357235778,52209.29886267568,52211.432996014635,52213.498286342656,52215.632419669826,52217.766552997,52219.69415729251,52221.828290619684,52223.893580936296,52226.02771426347,52228.09300458009,52230.227137907255,52232.36127123443,52234.42656155105,52236.56069487822,52238.62598519484,52240.76011852201,52242.89425184918,52244.89069915525],\"type\":\"scatter\",\"xaxis\":\"x\",\"yaxis\":\"y\"},{\"line\":{\"color\":\"rgba(0, 114, 178, 0.2)\",\"width\":0},\"mode\":\"lines\",\"name\":\"trend_upper\",\"x\":[\"2019-01-01T00:00:00\",\"2019-02-01T00:00:00\",\"2019-03-01T00:00:00\",\"2019-04-01T00:00:00\",\"2019-05-01T00:00:00\",\"2019-06-01T00:00:00\",\"2019-07-01T00:00:00\",\"2019-08-01T00:00:00\",\"2019-09-01T00:00:00\",\"2019-10-01T00:00:00\",\"2019-11-01T00:00:00\",\"2019-12-01T00:00:00\",\"2020-01-01T00:00:00\",\"2020-02-01T00:00:00\",\"2020-03-01T00:00:00\",\"2020-04-01T00:00:00\",\"2020-05-01T00:00:00\",\"2020-06-01T00:00:00\",\"2020-07-01T00:00:00\",\"2020-08-01T00:00:00\",\"2020-09-01T00:00:00\",\"2020-10-01T00:00:00\",\"2020-11-01T00:00:00\",\"2020-12-01T00:00:00\",\"2021-01-01T00:00:00\",\"2021-02-01T00:00:00\",\"2021-03-01T00:00:00\",\"2021-04-01T00:00:00\",\"2021-05-01T00:00:00\",\"2021-06-01T00:00:00\",\"2021-07-01T00:00:00\",\"2021-08-01T00:00:00\",\"2021-09-01T00:00:00\",\"2021-10-01T00:00:00\",\"2021-11-01T00:00:00\",\"2021-12-01T00:00:00\",\"2022-01-01T00:00:00\",\"2022-02-01T00:00:00\",\"2022-03-01T00:00:00\",\"2022-04-01T00:00:00\",\"2022-05-01T00:00:00\",\"2022-06-01T00:00:00\",\"2022-07-01T00:00:00\",\"2022-08-01T00:00:00\",\"2022-09-01T00:00:00\",\"2022-10-01T00:00:00\",\"2022-11-01T00:00:00\",\"2022-12-01T00:00:00\",\"2023-01-01T00:00:00\",\"2023-02-01T00:00:00\",\"2023-03-01T00:00:00\",\"2023-04-01T00:00:00\",\"2023-05-01T00:00:00\",\"2023-06-01T00:00:00\",\"2023-07-01T00:00:00\",\"2023-08-01T00:00:00\",\"2023-09-01T00:00:00\",\"2023-10-01T00:00:00\",\"2023-11-01T00:00:00\",\"2023-12-01T00:00:00\",\"2024-01-01T00:00:00\",\"2024-02-01T00:00:00\",\"2024-03-01T00:00:00\"],\"y\":[52115.05278,52117.186913328136,52119.11451762451,52121.248650972775,52123.3139413098,52125.448074675274,52127.51336502896,52129.6474983817,52131.781631734455,52133.84692206713,52135.98105541357,52138.04634574884,52140.180479095485,52142.31461244214,52144.31105975924,52146.445193098196,52148.510483415455,52150.64461674329,52152.70990705326,52154.84404037355,52156.97817371137,52159.0434640383,52161.177597376496,52163.242887703775,52165.37702106046,52167.51115443432,52169.438758772005,52171.5728921283,52173.63818247311,52175.77231585392,52177.837606222456,52179.97173957835,52182.10587293424,52184.17116330569,52186.30529668953,52188.37058708733,52190.50472049839,52192.638853905264,52194.56645827275,52196.70059165868,52198.76588200872,52200.90001537044,52202.96530569445,52205.09943902927,52207.23357235778,52209.29886267568,52211.432996014635,52213.498286342656,52215.632419669826,52217.766552997,52219.69415729251,52221.828290619684,52223.893580936296,52226.02771426347,52228.09300458009,52230.227137907255,52232.36127123443,52234.42656155105,52236.56069487822,52238.62598519484,52240.76013197212,52242.89429457867,52244.89077496928],\"type\":\"scatter\",\"xaxis\":\"x\",\"yaxis\":\"y\"},{\"fill\":\"tonexty\",\"fillcolor\":\"rgba(0, 114, 178, 0.2)\",\"line\":{\"color\":\"rgba(0, 114, 178, 0.2)\",\"width\":0},\"mode\":\"lines\",\"name\":\"trend_lower\",\"x\":[\"2019-01-01T00:00:00\",\"2019-02-01T00:00:00\",\"2019-03-01T00:00:00\",\"2019-04-01T00:00:00\",\"2019-05-01T00:00:00\",\"2019-06-01T00:00:00\",\"2019-07-01T00:00:00\",\"2019-08-01T00:00:00\",\"2019-09-01T00:00:00\",\"2019-10-01T00:00:00\",\"2019-11-01T00:00:00\",\"2019-12-01T00:00:00\",\"2020-01-01T00:00:00\",\"2020-02-01T00:00:00\",\"2020-03-01T00:00:00\",\"2020-04-01T00:00:00\",\"2020-05-01T00:00:00\",\"2020-06-01T00:00:00\",\"2020-07-01T00:00:00\",\"2020-08-01T00:00:00\",\"2020-09-01T00:00:00\",\"2020-10-01T00:00:00\",\"2020-11-01T00:00:00\",\"2020-12-01T00:00:00\",\"2021-01-01T00:00:00\",\"2021-02-01T00:00:00\",\"2021-03-01T00:00:00\",\"2021-04-01T00:00:00\",\"2021-05-01T00:00:00\",\"2021-06-01T00:00:00\",\"2021-07-01T00:00:00\",\"2021-08-01T00:00:00\",\"2021-09-01T00:00:00\",\"2021-10-01T00:00:00\",\"2021-11-01T00:00:00\",\"2021-12-01T00:00:00\",\"2022-01-01T00:00:00\",\"2022-02-01T00:00:00\",\"2022-03-01T00:00:00\",\"2022-04-01T00:00:00\",\"2022-05-01T00:00:00\",\"2022-06-01T00:00:00\",\"2022-07-01T00:00:00\",\"2022-08-01T00:00:00\",\"2022-09-01T00:00:00\",\"2022-10-01T00:00:00\",\"2022-11-01T00:00:00\",\"2022-12-01T00:00:00\",\"2023-01-01T00:00:00\",\"2023-02-01T00:00:00\",\"2023-03-01T00:00:00\",\"2023-04-01T00:00:00\",\"2023-05-01T00:00:00\",\"2023-06-01T00:00:00\",\"2023-07-01T00:00:00\",\"2023-08-01T00:00:00\",\"2023-09-01T00:00:00\",\"2023-10-01T00:00:00\",\"2023-11-01T00:00:00\",\"2023-12-01T00:00:00\",\"2024-01-01T00:00:00\",\"2024-02-01T00:00:00\",\"2024-03-01T00:00:00\"],\"y\":[52115.05278,52117.186913328136,52119.11451762451,52121.248650972775,52123.3139413098,52125.448074675274,52127.51336502896,52129.6474983817,52131.781631734455,52133.84692206713,52135.98105541357,52138.04634574884,52140.180479095485,52142.31461244214,52144.31105975924,52146.445193098196,52148.510483415455,52150.64461674329,52152.70990705326,52154.84404037355,52156.97817371137,52159.0434640383,52161.177597376496,52163.242887703775,52165.37702106046,52167.51115443432,52169.438758772005,52171.5728921283,52173.63818247311,52175.77231585392,52177.837606222456,52179.97173957835,52182.10587293424,52184.17116330569,52186.30529668953,52188.37058708733,52190.50472049839,52192.638853905264,52194.56645827275,52196.70059165868,52198.76588200872,52200.90001537044,52202.96530569445,52205.09943902927,52207.23357235778,52209.29886267568,52211.432996014635,52213.498286342656,52215.632419669826,52217.766552997,52219.69415729251,52221.828290619684,52223.893580936296,52226.02771426347,52228.09300458009,52230.227137907255,52232.36127123443,52234.42656155105,52236.56069487822,52238.62598519484,52240.76010581688,52242.894210865445,52244.89063085912],\"type\":\"scatter\",\"xaxis\":\"x\",\"yaxis\":\"y\"},{\"line\":{\"color\":\"#0072B2\",\"width\":2},\"mode\":\"lines\",\"name\":\"yearly\",\"x\":[\"2017-01-01T00:00:00\",\"2017-01-02T00:00:59.178082\",\"2017-01-03T00:01:58.356164\",\"2017-01-04T00:02:57.534246\",\"2017-01-05T00:03:56.712328\",\"2017-01-06T00:04:55.890411\",\"2017-01-07T00:05:55.068493\",\"2017-01-08T00:06:54.246575\",\"2017-01-09T00:07:53.424657\",\"2017-01-10T00:08:52.602739\",\"2017-01-11T00:09:51.780822\",\"2017-01-12T00:10:50.958904\",\"2017-01-13T00:11:50.136986\",\"2017-01-14T00:12:49.315068\",\"2017-01-15T00:13:48.493150\",\"2017-01-16T00:14:47.671232\",\"2017-01-17T00:15:46.849315\",\"2017-01-18T00:16:46.027397\",\"2017-01-19T00:17:45.205479\",\"2017-01-20T00:18:44.383561\",\"2017-01-21T00:19:43.561643\",\"2017-01-22T00:20:42.739726\",\"2017-01-23T00:21:41.917808\",\"2017-01-24T00:22:41.095890\",\"2017-01-25T00:23:40.273972\",\"2017-01-26T00:24:39.452054\",\"2017-01-27T00:25:38.630137\",\"2017-01-28T00:26:37.808219\",\"2017-01-29T00:27:36.986301\",\"2017-01-30T00:28:36.164383\",\"2017-01-31T00:29:35.342465\",\"2017-02-01T00:30:34.520547\",\"2017-02-02T00:31:33.698630\",\"2017-02-03T00:32:32.876712\",\"2017-02-04T00:33:32.054794\",\"2017-02-05T00:34:31.232876\",\"2017-02-06T00:35:30.410958\",\"2017-02-07T00:36:29.589041\",\"2017-02-08T00:37:28.767123\",\"2017-02-09T00:38:27.945205\",\"2017-02-10T00:39:27.123287\",\"2017-02-11T00:40:26.301369\",\"2017-02-12T00:41:25.479452\",\"2017-02-13T00:42:24.657534\",\"2017-02-14T00:43:23.835616\",\"2017-02-15T00:44:23.013698\",\"2017-02-16T00:45:22.191780\",\"2017-02-17T00:46:21.369862\",\"2017-02-18T00:47:20.547945\",\"2017-02-19T00:48:19.726027\",\"2017-02-20T00:49:18.904109\",\"2017-02-21T00:50:18.082191\",\"2017-02-22T00:51:17.260273\",\"2017-02-23T00:52:16.438356\",\"2017-02-24T00:53:15.616438\",\"2017-02-25T00:54:14.794520\",\"2017-02-26T00:55:13.972602\",\"2017-02-27T00:56:13.150684\",\"2017-02-28T00:57:12.328767\",\"2017-03-01T00:58:11.506849\",\"2017-03-02T00:59:10.684931\",\"2017-03-03T01:00:09.863013\",\"2017-03-04T01:01:09.041095\",\"2017-03-05T01:02:08.219177\",\"2017-03-06T01:03:07.397260\",\"2017-03-07T01:04:06.575342\",\"2017-03-08T01:05:05.753424\",\"2017-03-09T01:06:04.931506\",\"2017-03-10T01:07:04.109588\",\"2017-03-11T01:08:03.287671\",\"2017-03-12T01:09:02.465753\",\"2017-03-13T01:10:01.643835\",\"2017-03-14T01:11:00.821917\",\"2017-03-15T01:12:00\",\"2017-03-16T01:12:59.178082\",\"2017-03-17T01:13:58.356164\",\"2017-03-18T01:14:57.534246\",\"2017-03-19T01:15:56.712328\",\"2017-03-20T01:16:55.890411\",\"2017-03-21T01:17:55.068493\",\"2017-03-22T01:18:54.246575\",\"2017-03-23T01:19:53.424657\",\"2017-03-24T01:20:52.602739\",\"2017-03-25T01:21:51.780822\",\"2017-03-26T01:22:50.958904\",\"2017-03-27T01:23:50.136986\",\"2017-03-28T01:24:49.315068\",\"2017-03-29T01:25:48.493150\",\"2017-03-30T01:26:47.671232\",\"2017-03-31T01:27:46.849315\",\"2017-04-01T01:28:46.027397\",\"2017-04-02T01:29:45.205479\",\"2017-04-03T01:30:44.383561\",\"2017-04-04T01:31:43.561643\",\"2017-04-05T01:32:42.739726\",\"2017-04-06T01:33:41.917808\",\"2017-04-07T01:34:41.095890\",\"2017-04-08T01:35:40.273972\",\"2017-04-09T01:36:39.452054\",\"2017-04-10T01:37:38.630137\",\"2017-04-11T01:38:37.808219\",\"2017-04-12T01:39:36.986301\",\"2017-04-13T01:40:36.164383\",\"2017-04-14T01:41:35.342465\",\"2017-04-15T01:42:34.520547\",\"2017-04-16T01:43:33.698630\",\"2017-04-17T01:44:32.876712\",\"2017-04-18T01:45:32.054794\",\"2017-04-19T01:46:31.232876\",\"2017-04-20T01:47:30.410958\",\"2017-04-21T01:48:29.589041\",\"2017-04-22T01:49:28.767123\",\"2017-04-23T01:50:27.945205\",\"2017-04-24T01:51:27.123287\",\"2017-04-25T01:52:26.301369\",\"2017-04-26T01:53:25.479452\",\"2017-04-27T01:54:24.657534\",\"2017-04-28T01:55:23.835616\",\"2017-04-29T01:56:23.013698\",\"2017-04-30T01:57:22.191780\",\"2017-05-01T01:58:21.369862\",\"2017-05-02T01:59:20.547945\",\"2017-05-03T02:00:19.726027\",\"2017-05-04T02:01:18.904109\",\"2017-05-05T02:02:18.082191\",\"2017-05-06T02:03:17.260273\",\"2017-05-07T02:04:16.438356\",\"2017-05-08T02:05:15.616438\",\"2017-05-09T02:06:14.794520\",\"2017-05-10T02:07:13.972602\",\"2017-05-11T02:08:13.150684\",\"2017-05-12T02:09:12.328767\",\"2017-05-13T02:10:11.506849\",\"2017-05-14T02:11:10.684931\",\"2017-05-15T02:12:09.863013\",\"2017-05-16T02:13:09.041095\",\"2017-05-17T02:14:08.219177\",\"2017-05-18T02:15:07.397260\",\"2017-05-19T02:16:06.575342\",\"2017-05-20T02:17:05.753424\",\"2017-05-21T02:18:04.931506\",\"2017-05-22T02:19:04.109588\",\"2017-05-23T02:20:03.287671\",\"2017-05-24T02:21:02.465753\",\"2017-05-25T02:22:01.643835\",\"2017-05-26T02:23:00.821917\",\"2017-05-27T02:24:00\",\"2017-05-28T02:24:59.178082\",\"2017-05-29T02:25:58.356164\",\"2017-05-30T02:26:57.534246\",\"2017-05-31T02:27:56.712328\",\"2017-06-01T02:28:55.890411\",\"2017-06-02T02:29:55.068493\",\"2017-06-03T02:30:54.246575\",\"2017-06-04T02:31:53.424657\",\"2017-06-05T02:32:52.602739\",\"2017-06-06T02:33:51.780822\",\"2017-06-07T02:34:50.958904\",\"2017-06-08T02:35:50.136986\",\"2017-06-09T02:36:49.315068\",\"2017-06-10T02:37:48.493150\",\"2017-06-11T02:38:47.671232\",\"2017-06-12T02:39:46.849315\",\"2017-06-13T02:40:46.027397\",\"2017-06-14T02:41:45.205479\",\"2017-06-15T02:42:44.383561\",\"2017-06-16T02:43:43.561643\",\"2017-06-17T02:44:42.739726\",\"2017-06-18T02:45:41.917808\",\"2017-06-19T02:46:41.095890\",\"2017-06-20T02:47:40.273972\",\"2017-06-21T02:48:39.452054\",\"2017-06-22T02:49:38.630137\",\"2017-06-23T02:50:37.808219\",\"2017-06-24T02:51:36.986301\",\"2017-06-25T02:52:36.164383\",\"2017-06-26T02:53:35.342465\",\"2017-06-27T02:54:34.520547\",\"2017-06-28T02:55:33.698630\",\"2017-06-29T02:56:32.876712\",\"2017-06-30T02:57:32.054794\",\"2017-07-01T02:58:31.232876\",\"2017-07-02T02:59:30.410958\",\"2017-07-03T03:00:29.589041\",\"2017-07-04T03:01:28.767123\",\"2017-07-05T03:02:27.945205\",\"2017-07-06T03:03:27.123287\",\"2017-07-07T03:04:26.301369\",\"2017-07-08T03:05:25.479452\",\"2017-07-09T03:06:24.657534\",\"2017-07-10T03:07:23.835616\",\"2017-07-11T03:08:23.013698\",\"2017-07-12T03:09:22.191780\",\"2017-07-13T03:10:21.369862\",\"2017-07-14T03:11:20.547945\",\"2017-07-15T03:12:19.726027\",\"2017-07-16T03:13:18.904109\",\"2017-07-17T03:14:18.082191\",\"2017-07-18T03:15:17.260273\",\"2017-07-19T03:16:16.438356\",\"2017-07-20T03:17:15.616438\",\"2017-07-21T03:18:14.794520\",\"2017-07-22T03:19:13.972602\",\"2017-07-23T03:20:13.150684\",\"2017-07-24T03:21:12.328767\",\"2017-07-25T03:22:11.506849\",\"2017-07-26T03:23:10.684931\",\"2017-07-27T03:24:09.863013\",\"2017-07-28T03:25:09.041095\",\"2017-07-29T03:26:08.219177\",\"2017-07-30T03:27:07.397260\",\"2017-07-31T03:28:06.575342\",\"2017-08-01T03:29:05.753424\",\"2017-08-02T03:30:04.931506\",\"2017-08-03T03:31:04.109588\",\"2017-08-04T03:32:03.287671\",\"2017-08-05T03:33:02.465753\",\"2017-08-06T03:34:01.643835\",\"2017-08-07T03:35:00.821917\",\"2017-08-08T03:36:00\",\"2017-08-09T03:36:59.178082\",\"2017-08-10T03:37:58.356164\",\"2017-08-11T03:38:57.534246\",\"2017-08-12T03:39:56.712328\",\"2017-08-13T03:40:55.890411\",\"2017-08-14T03:41:55.068493\",\"2017-08-15T03:42:54.246575\",\"2017-08-16T03:43:53.424657\",\"2017-08-17T03:44:52.602739\",\"2017-08-18T03:45:51.780822\",\"2017-08-19T03:46:50.958904\",\"2017-08-20T03:47:50.136986\",\"2017-08-21T03:48:49.315068\",\"2017-08-22T03:49:48.493150\",\"2017-08-23T03:50:47.671232\",\"2017-08-24T03:51:46.849315\",\"2017-08-25T03:52:46.027397\",\"2017-08-26T03:53:45.205479\",\"2017-08-27T03:54:44.383561\",\"2017-08-28T03:55:43.561643\",\"2017-08-29T03:56:42.739726\",\"2017-08-30T03:57:41.917808\",\"2017-08-31T03:58:41.095890\",\"2017-09-01T03:59:40.273972\",\"2017-09-02T04:00:39.452054\",\"2017-09-03T04:01:38.630137\",\"2017-09-04T04:02:37.808219\",\"2017-09-05T04:03:36.986301\",\"2017-09-06T04:04:36.164383\",\"2017-09-07T04:05:35.342465\",\"2017-09-08T04:06:34.520547\",\"2017-09-09T04:07:33.698630\",\"2017-09-10T04:08:32.876712\",\"2017-09-11T04:09:32.054794\",\"2017-09-12T04:10:31.232876\",\"2017-09-13T04:11:30.410958\",\"2017-09-14T04:12:29.589041\",\"2017-09-15T04:13:28.767123\",\"2017-09-16T04:14:27.945205\",\"2017-09-17T04:15:27.123287\",\"2017-09-18T04:16:26.301369\",\"2017-09-19T04:17:25.479452\",\"2017-09-20T04:18:24.657534\",\"2017-09-21T04:19:23.835616\",\"2017-09-22T04:20:23.013698\",\"2017-09-23T04:21:22.191780\",\"2017-09-24T04:22:21.369862\",\"2017-09-25T04:23:20.547945\",\"2017-09-26T04:24:19.726027\",\"2017-09-27T04:25:18.904109\",\"2017-09-28T04:26:18.082191\",\"2017-09-29T04:27:17.260273\",\"2017-09-30T04:28:16.438356\",\"2017-10-01T04:29:15.616438\",\"2017-10-02T04:30:14.794520\",\"2017-10-03T04:31:13.972602\",\"2017-10-04T04:32:13.150684\",\"2017-10-05T04:33:12.328767\",\"2017-10-06T04:34:11.506849\",\"2017-10-07T04:35:10.684931\",\"2017-10-08T04:36:09.863013\",\"2017-10-09T04:37:09.041095\",\"2017-10-10T04:38:08.219177\",\"2017-10-11T04:39:07.397260\",\"2017-10-12T04:40:06.575342\",\"2017-10-13T04:41:05.753424\",\"2017-10-14T04:42:04.931506\",\"2017-10-15T04:43:04.109588\",\"2017-10-16T04:44:03.287671\",\"2017-10-17T04:45:02.465753\",\"2017-10-18T04:46:01.643835\",\"2017-10-19T04:47:00.821917\",\"2017-10-20T04:48:00\",\"2017-10-21T04:48:59.178082\",\"2017-10-22T04:49:58.356164\",\"2017-10-23T04:50:57.534246\",\"2017-10-24T04:51:56.712328\",\"2017-10-25T04:52:55.890411\",\"2017-10-26T04:53:55.068493\",\"2017-10-27T04:54:54.246575\",\"2017-10-28T04:55:53.424657\",\"2017-10-29T04:56:52.602739\",\"2017-10-30T04:57:51.780822\",\"2017-10-31T04:58:50.958904\",\"2017-11-01T04:59:50.136986\",\"2017-11-02T05:00:49.315068\",\"2017-11-03T05:01:48.493150\",\"2017-11-04T05:02:47.671232\",\"2017-11-05T05:03:46.849315\",\"2017-11-06T05:04:46.027397\",\"2017-11-07T05:05:45.205479\",\"2017-11-08T05:06:44.383561\",\"2017-11-09T05:07:43.561643\",\"2017-11-10T05:08:42.739726\",\"2017-11-11T05:09:41.917808\",\"2017-11-12T05:10:41.095890\",\"2017-11-13T05:11:40.273972\",\"2017-11-14T05:12:39.452054\",\"2017-11-15T05:13:38.630137\",\"2017-11-16T05:14:37.808219\",\"2017-11-17T05:15:36.986301\",\"2017-11-18T05:16:36.164383\",\"2017-11-19T05:17:35.342465\",\"2017-11-20T05:18:34.520547\",\"2017-11-21T05:19:33.698630\",\"2017-11-22T05:20:32.876712\",\"2017-11-23T05:21:32.054794\",\"2017-11-24T05:22:31.232876\",\"2017-11-25T05:23:30.410958\",\"2017-11-26T05:24:29.589041\",\"2017-11-27T05:25:28.767123\",\"2017-11-28T05:26:27.945205\",\"2017-11-29T05:27:27.123287\",\"2017-11-30T05:28:26.301369\",\"2017-12-01T05:29:25.479452\",\"2017-12-02T05:30:24.657534\",\"2017-12-03T05:31:23.835616\",\"2017-12-04T05:32:23.013698\",\"2017-12-05T05:33:22.191780\",\"2017-12-06T05:34:21.369862\",\"2017-12-07T05:35:20.547945\",\"2017-12-08T05:36:19.726027\",\"2017-12-09T05:37:18.904109\",\"2017-12-10T05:38:18.082191\",\"2017-12-11T05:39:17.260273\",\"2017-12-12T05:40:16.438356\",\"2017-12-13T05:41:15.616438\",\"2017-12-14T05:42:14.794520\",\"2017-12-15T05:43:13.972602\",\"2017-12-16T05:44:13.150684\",\"2017-12-17T05:45:12.328767\",\"2017-12-18T05:46:11.506849\",\"2017-12-19T05:47:10.684931\",\"2017-12-20T05:48:09.863013\",\"2017-12-21T05:49:09.041095\",\"2017-12-22T05:50:08.219177\",\"2017-12-23T05:51:07.397260\",\"2017-12-24T05:52:06.575342\",\"2017-12-25T05:53:05.753424\",\"2017-12-26T05:54:04.931506\",\"2017-12-27T05:55:04.109588\",\"2017-12-28T05:56:03.287671\",\"2017-12-29T05:57:02.465753\",\"2017-12-30T05:58:01.643835\",\"2017-12-31T05:59:00.821917\"],\"y\":[0.030353455794916526,-0.0421204325665577,-0.1268645198288245,-0.22316797298905738,-0.3299963550721899,-0.4459982115277762,-0.5695210456940866,-0.6986278728578432,-0.8311357675846966,-0.9646472669726811,-1.0965952728070323,-1.2242921925094143,-1.3449850619166988,-1.4559073241278642,-1.554346807451132,-1.63770051807355,-1.7035361376758125,-1.7496506508253744,-1.7741234257646057,-1.7753698655147798,-1.752183603118566,-1.703774755606079,-1.6297995347340153,-1.5303797286892153,-1.4061188916526952,-1.258096794640552,-1.0878649428732967,-0.8974266338751123,-0.6892081118446388,-0.4660176269099108,-0.2310089078578066,0.012389270001054213,0.26052455028007354,0.5095906747572592,0.755701610662881,0.994954146323431,1.2235200699943294,1.437709202412178,1.634044644818802,1.809331460075182,1.960721765985132,2.0857649174014945,2.18246713620511,2.2493243626681005,2.285354513263108,2.290117234941757,2.2637229967827044,2.2068312175998845,2.1206363639345276,2.006844025631523,1.8676364205555218,1.7056263031149839,1.5238119731134852,1.3255056862977093,1.114274380158384,0.893866551104012,0.6681375632454183,0.4409706019163145,0.21621065771161976,-0.002426372139377118,-0.2114151587446318,-0.407491053025659,-0.5877136355407706,-0.7495129645090949,-0.8907482856572492,-1.009736486910627,-1.1052814529021397,-1.1766909168156783,-1.2237831388140696,-1.2468806781018607,-1.246798905918028,-1.2248187947392937,-1.1826534686887877,-1.122404702140192,-1.046515619560844,-0.9577097005081557,-0.8589313985590628,-0.7532796782528144,-0.6439396775760495,-0.5341120769596983,-0.4269492292325015,-0.3254803415622507,-0.23255262952275427,-0.15077052737791044,-0.08244178287298871,-0.029529677983153903,0.006384440798996008,0.024136361564353552,0.022999076977000488,0.002697075975690162,-0.03658993127424509,-0.09422996314130908,-0.16915556925030312,-0.2598849854588626,-0.36455338422816275,-0.4809512300526674,-0.6065707507646125,-0.7386506624427928,-0.8742402206767003,-1.0102522889251915,-1.1435259143891248,-1.270888674200533,-1.3892203107138714,-1.4955085005056652,-1.5869159446869299,-1.6608301858871533,-1.7149160929842875,-1.7471618830799494,-1.7559176013224416,-1.739930378135578,-1.6983683860656085,-1.6308394064424714,-1.5374009733351297,-1.4185609648092237,-1.2752775019058602,-1.1089369448990019,-0.9213378236353233,-0.7146612057286504,-0.4914330474907204,-0.2544938039190641,-0.006936774744559863,0.24793221651745745,0.5066513053444347,0.7656591451883548,1.0213559935780405,1.2701506960235167,1.5085369095238093,1.7331382651254823,1.940766149853563,2.128471323744931,2.2935932813990307,2.4337956640317415,2.5471150576336297,2.631984261791082,2.6872589421428486,2.7122353608455527,2.706659925323195,2.670733849658679,2.6051071001440405,2.5108669376069406,2.3895188192264483,2.242958616623306,2.073447332761998,1.883562663030951,1.6761620625402394,1.4543332583840924,1.2213398979957895,0.980578068259606,0.7355038109309664,0.489586668820199,0.24624999528980912,0.008814986411663886,-0.21955580114357484,-0.4358988816642604,-0.6375127295656272,-0.8219893174667291,-0.9872535743268454,-1.13159399551562,-1.2536878356974384,-1.3526125072859534,-1.4278634336605238,-1.4793499058790762,-1.5073907969382716,-1.51270118279376,-1.4963718332248528,-1.4598422165865528,-1.404866383372697,-1.333473924749703,-1.2479259016569217,-1.1506656253735508,-1.0442722501071255,-0.9314009356386945,-0.8147332685099318,-0.6969223707055759,-0.5805402994703512,-0.4680264647890528,-0.3616457814818658,-0.26343805829216077,-0.17518562440706192,-0.09838020671613198,-0.03419696138616846,0.016521021051752457,0.053278171394971194,0.07592678092223501,0.08466374256142205,0.08001906702275592,0.0628370217703116,0.03425182387052041,-0.004344883138844418,-0.051340005951545,-0.10494025126435676,-0.16321747784425683,-0.22415311637214108,-0.28569086422826656,-0.3457829685211704,-0.40243905725383344,-0.453772461778818,-0.498044106458714,-0.5337000983379031,-0.559409640919687,-0.574092190018642,-0.576941180528282,-0.5674405738822343,-0.5453741257528772,-0.5108290341442125,-0.4641897734490206,-0.4061273945019344,-0.3375811606272382,-0.259733298361097,-0.17398292217174086,-0.08190608751114428,0.014779084944490805,0.11425456173878687,0.214645602906657,0.31406595708092166,0.4106571167437842,0.5026378366658936,0.5883398146274131,0.6662459531480451,0.7350241281384425,0.793552320531693,0.8409461707485371,0.8765725053249903,0.9000607544807282,0.9113070798430989,0.9104719709412614,0.897971794146652,0.8744640897228174,0.8408272785913509,0.7981355486928913,0.7476294021690815,0.6906820290587762,0.6287664740712332,0.5634144307311448,0.49618086747955104,0.4286056870386678,0.36217643248337084,0.2982968880698989,0.2382508916138752,0.1831775395678852,0.13404679841429512,0.09164070162700393,0.056539377198611455,0.029114412264573352,0.009523771759553257,-0.002283638222041217,-0.0065602742745355935,-0.0037468391614267496,0.005545497409695906,0.020556187458821665,0.040400861989839706,0.06409843759919047,0.09060044463493919,0.11882158414022388,0.14766876529232248,0.1760727730861711,0.20301520260680606,0.2275548323180522,0.24885084818571127,0.2661828527645605,0.2789660980931332,0.28676450315763724,0.2892972006419357,0.28644167407875426,0.2782320910447467,0.2648539114064347,0.24663346303501385,0.22402477743978697,0.1975928874969376,0.16799459132304928,0.13595685395771953,0.10225578229837524,0.06769121272399482,0.033065046399228394,-0.0008415236608289349,-0.0332890832809126,-0.06359948317950476,-0.09117118495755853,-0.1154952510852092,-0.13616461021703316,-0.15288172345751666,-0.16546249229899518,-0.17383598929999022,-0.1780421740677541,-0.17822488346755722,-0.17462270044648334,-0.16755711108582041,-0.15741843735014321,-0.1446508245279652,-0.12973497211451795,-0.11317154203415691,-0.09546412314624132,-0.07710273122845099,-0.05854955167873508,-0.04022418554114968,-0.022493078895355234,-0.005660280638062029,0.01003895576652002,0.024441939266375952,0.03745864996413332,0.04907069046661869,0.05932587865375375,0.06833124910670171,0.07624373965483226,0.08325919431086484,0.08959965448137991,0.09550060854491495,0.10119709928665689,0.10691044374209248,0.11283564640572025,0.11912966436455258,0.12590200530143394,0.1332066881351427,0.1410369021861237,0.1493222020590334,0.1579285555734272,0.16666069358534402,0.17526822173946632,0.18345334723970935,0.19088147034786762,0.19719371637578198,0.20202114063808513,0.2049998291213732,0.20578716401713365,0.20407755114878534,0.19961792094778122,0.19222193909870502,0.18178300963205005,0.16828417708517712,0.15180616450464535,0.1325319609533914,0.11074809545989309,0.08684203753490452,0.06129733631766745,0.03468230229844346,0.007637928193921216,-0.019138797049766877,-0.044914477988676,-0.06893982863298997,-0.0904749947363442,-0.10881302610966706,-0.12330531592587375,-0.13338642083479935,-0.1385978152461355,-0.1386095527749773,-0.13323984508393483,-0.12247062696528827,-0.10645953163261025,-0.0855472473347404,-0.060259591650548915,-0.031305845632647336,0.0004313536271364628,0.03390870074010169,0.06794165064515033,0.10122901418895948,0.13238026647760637,0.15995076515295434,0.1824763934205134,0.19851265526809142,0.2066749414005032,0.20567928189196014,0.19438281674545788,0.17182248207507703,0.13725100622734998,0.09016931833763225],\"type\":\"scatter\",\"xaxis\":\"x2\",\"yaxis\":\"y2\"}],                        {\"template\":{\"data\":{\"histogram2dcontour\":[{\"type\":\"histogram2dcontour\",\"colorbar\":{\"outlinewidth\":0,\"ticks\":\"\"},\"colorscale\":[[0.0,\"#0d0887\"],[0.1111111111111111,\"#46039f\"],[0.2222222222222222,\"#7201a8\"],[0.3333333333333333,\"#9c179e\"],[0.4444444444444444,\"#bd3786\"],[0.5555555555555556,\"#d8576b\"],[0.6666666666666666,\"#ed7953\"],[0.7777777777777778,\"#fb9f3a\"],[0.8888888888888888,\"#fdca26\"],[1.0,\"#f0f921\"]]}],\"choropleth\":[{\"type\":\"choropleth\",\"colorbar\":{\"outlinewidth\":0,\"ticks\":\"\"}}],\"histogram2d\":[{\"type\":\"histogram2d\",\"colorbar\":{\"outlinewidth\":0,\"ticks\":\"\"},\"colorscale\":[[0.0,\"#0d0887\"],[0.1111111111111111,\"#46039f\"],[0.2222222222222222,\"#7201a8\"],[0.3333333333333333,\"#9c179e\"],[0.4444444444444444,\"#bd3786\"],[0.5555555555555556,\"#d8576b\"],[0.6666666666666666,\"#ed7953\"],[0.7777777777777778,\"#fb9f3a\"],[0.8888888888888888,\"#fdca26\"],[1.0,\"#f0f921\"]]}],\"heatmap\":[{\"type\":\"heatmap\",\"colorbar\":{\"outlinewidth\":0,\"ticks\":\"\"},\"colorscale\":[[0.0,\"#0d0887\"],[0.1111111111111111,\"#46039f\"],[0.2222222222222222,\"#7201a8\"],[0.3333333333333333,\"#9c179e\"],[0.4444444444444444,\"#bd3786\"],[0.5555555555555556,\"#d8576b\"],[0.6666666666666666,\"#ed7953\"],[0.7777777777777778,\"#fb9f3a\"],[0.8888888888888888,\"#fdca26\"],[1.0,\"#f0f921\"]]}],\"heatmapgl\":[{\"type\":\"heatmapgl\",\"colorbar\":{\"outlinewidth\":0,\"ticks\":\"\"},\"colorscale\":[[0.0,\"#0d0887\"],[0.1111111111111111,\"#46039f\"],[0.2222222222222222,\"#7201a8\"],[0.3333333333333333,\"#9c179e\"],[0.4444444444444444,\"#bd3786\"],[0.5555555555555556,\"#d8576b\"],[0.6666666666666666,\"#ed7953\"],[0.7777777777777778,\"#fb9f3a\"],[0.8888888888888888,\"#fdca26\"],[1.0,\"#f0f921\"]]}],\"contourcarpet\":[{\"type\":\"contourcarpet\",\"colorbar\":{\"outlinewidth\":0,\"ticks\":\"\"}}],\"contour\":[{\"type\":\"contour\",\"colorbar\":{\"outlinewidth\":0,\"ticks\":\"\"},\"colorscale\":[[0.0,\"#0d0887\"],[0.1111111111111111,\"#46039f\"],[0.2222222222222222,\"#7201a8\"],[0.3333333333333333,\"#9c179e\"],[0.4444444444444444,\"#bd3786\"],[0.5555555555555556,\"#d8576b\"],[0.6666666666666666,\"#ed7953\"],[0.7777777777777778,\"#fb9f3a\"],[0.8888888888888888,\"#fdca26\"],[1.0,\"#f0f921\"]]}],\"surface\":[{\"type\":\"surface\",\"colorbar\":{\"outlinewidth\":0,\"ticks\":\"\"},\"colorscale\":[[0.0,\"#0d0887\"],[0.1111111111111111,\"#46039f\"],[0.2222222222222222,\"#7201a8\"],[0.3333333333333333,\"#9c179e\"],[0.4444444444444444,\"#bd3786\"],[0.5555555555555556,\"#d8576b\"],[0.6666666666666666,\"#ed7953\"],[0.7777777777777778,\"#fb9f3a\"],[0.8888888888888888,\"#fdca26\"],[1.0,\"#f0f921\"]]}],\"mesh3d\":[{\"type\":\"mesh3d\",\"colorbar\":{\"outlinewidth\":0,\"ticks\":\"\"}}],\"scatter\":[{\"fillpattern\":{\"fillmode\":\"overlay\",\"size\":10,\"solidity\":0.2},\"type\":\"scatter\"}],\"parcoords\":[{\"type\":\"parcoords\",\"line\":{\"colorbar\":{\"outlinewidth\":0,\"ticks\":\"\"}}}],\"scatterpolargl\":[{\"type\":\"scatterpolargl\",\"marker\":{\"colorbar\":{\"outlinewidth\":0,\"ticks\":\"\"}}}],\"bar\":[{\"error_x\":{\"color\":\"#2a3f5f\"},\"error_y\":{\"color\":\"#2a3f5f\"},\"marker\":{\"line\":{\"color\":\"#E5ECF6\",\"width\":0.5},\"pattern\":{\"fillmode\":\"overlay\",\"size\":10,\"solidity\":0.2}},\"type\":\"bar\"}],\"scattergeo\":[{\"type\":\"scattergeo\",\"marker\":{\"colorbar\":{\"outlinewidth\":0,\"ticks\":\"\"}}}],\"scatterpolar\":[{\"type\":\"scatterpolar\",\"marker\":{\"colorbar\":{\"outlinewidth\":0,\"ticks\":\"\"}}}],\"histogram\":[{\"marker\":{\"pattern\":{\"fillmode\":\"overlay\",\"size\":10,\"solidity\":0.2}},\"type\":\"histogram\"}],\"scattergl\":[{\"type\":\"scattergl\",\"marker\":{\"colorbar\":{\"outlinewidth\":0,\"ticks\":\"\"}}}],\"scatter3d\":[{\"type\":\"scatter3d\",\"line\":{\"colorbar\":{\"outlinewidth\":0,\"ticks\":\"\"}},\"marker\":{\"colorbar\":{\"outlinewidth\":0,\"ticks\":\"\"}}}],\"scattermapbox\":[{\"type\":\"scattermapbox\",\"marker\":{\"colorbar\":{\"outlinewidth\":0,\"ticks\":\"\"}}}],\"scatterternary\":[{\"type\":\"scatterternary\",\"marker\":{\"colorbar\":{\"outlinewidth\":0,\"ticks\":\"\"}}}],\"scattercarpet\":[{\"type\":\"scattercarpet\",\"marker\":{\"colorbar\":{\"outlinewidth\":0,\"ticks\":\"\"}}}],\"carpet\":[{\"aaxis\":{\"endlinecolor\":\"#2a3f5f\",\"gridcolor\":\"white\",\"linecolor\":\"white\",\"minorgridcolor\":\"white\",\"startlinecolor\":\"#2a3f5f\"},\"baxis\":{\"endlinecolor\":\"#2a3f5f\",\"gridcolor\":\"white\",\"linecolor\":\"white\",\"minorgridcolor\":\"white\",\"startlinecolor\":\"#2a3f5f\"},\"type\":\"carpet\"}],\"table\":[{\"cells\":{\"fill\":{\"color\":\"#EBF0F8\"},\"line\":{\"color\":\"white\"}},\"header\":{\"fill\":{\"color\":\"#C8D4E3\"},\"line\":{\"color\":\"white\"}},\"type\":\"table\"}],\"barpolar\":[{\"marker\":{\"line\":{\"color\":\"#E5ECF6\",\"width\":0.5},\"pattern\":{\"fillmode\":\"overlay\",\"size\":10,\"solidity\":0.2}},\"type\":\"barpolar\"}],\"pie\":[{\"automargin\":true,\"type\":\"pie\"}]},\"layout\":{\"autotypenumbers\":\"strict\",\"colorway\":[\"#636efa\",\"#EF553B\",\"#00cc96\",\"#ab63fa\",\"#FFA15A\",\"#19d3f3\",\"#FF6692\",\"#B6E880\",\"#FF97FF\",\"#FECB52\"],\"font\":{\"color\":\"#2a3f5f\"},\"hovermode\":\"closest\",\"hoverlabel\":{\"align\":\"left\"},\"paper_bgcolor\":\"white\",\"plot_bgcolor\":\"#E5ECF6\",\"polar\":{\"bgcolor\":\"#E5ECF6\",\"angularaxis\":{\"gridcolor\":\"white\",\"linecolor\":\"white\",\"ticks\":\"\"},\"radialaxis\":{\"gridcolor\":\"white\",\"linecolor\":\"white\",\"ticks\":\"\"}},\"ternary\":{\"bgcolor\":\"#E5ECF6\",\"aaxis\":{\"gridcolor\":\"white\",\"linecolor\":\"white\",\"ticks\":\"\"},\"baxis\":{\"gridcolor\":\"white\",\"linecolor\":\"white\",\"ticks\":\"\"},\"caxis\":{\"gridcolor\":\"white\",\"linecolor\":\"white\",\"ticks\":\"\"}},\"coloraxis\":{\"colorbar\":{\"outlinewidth\":0,\"ticks\":\"\"}},\"colorscale\":{\"sequential\":[[0.0,\"#0d0887\"],[0.1111111111111111,\"#46039f\"],[0.2222222222222222,\"#7201a8\"],[0.3333333333333333,\"#9c179e\"],[0.4444444444444444,\"#bd3786\"],[0.5555555555555556,\"#d8576b\"],[0.6666666666666666,\"#ed7953\"],[0.7777777777777778,\"#fb9f3a\"],[0.8888888888888888,\"#fdca26\"],[1.0,\"#f0f921\"]],\"sequentialminus\":[[0.0,\"#0d0887\"],[0.1111111111111111,\"#46039f\"],[0.2222222222222222,\"#7201a8\"],[0.3333333333333333,\"#9c179e\"],[0.4444444444444444,\"#bd3786\"],[0.5555555555555556,\"#d8576b\"],[0.6666666666666666,\"#ed7953\"],[0.7777777777777778,\"#fb9f3a\"],[0.8888888888888888,\"#fdca26\"],[1.0,\"#f0f921\"]],\"diverging\":[[0,\"#8e0152\"],[0.1,\"#c51b7d\"],[0.2,\"#de77ae\"],[0.3,\"#f1b6da\"],[0.4,\"#fde0ef\"],[0.5,\"#f7f7f7\"],[0.6,\"#e6f5d0\"],[0.7,\"#b8e186\"],[0.8,\"#7fbc41\"],[0.9,\"#4d9221\"],[1,\"#276419\"]]},\"xaxis\":{\"gridcolor\":\"white\",\"linecolor\":\"white\",\"ticks\":\"\",\"title\":{\"standoff\":15},\"zerolinecolor\":\"white\",\"automargin\":true,\"zerolinewidth\":2},\"yaxis\":{\"gridcolor\":\"white\",\"linecolor\":\"white\",\"ticks\":\"\",\"title\":{\"standoff\":15},\"zerolinecolor\":\"white\",\"automargin\":true,\"zerolinewidth\":2},\"scene\":{\"xaxis\":{\"backgroundcolor\":\"#E5ECF6\",\"gridcolor\":\"white\",\"linecolor\":\"white\",\"showbackground\":true,\"ticks\":\"\",\"zerolinecolor\":\"white\",\"gridwidth\":2},\"yaxis\":{\"backgroundcolor\":\"#E5ECF6\",\"gridcolor\":\"white\",\"linecolor\":\"white\",\"showbackground\":true,\"ticks\":\"\",\"zerolinecolor\":\"white\",\"gridwidth\":2},\"zaxis\":{\"backgroundcolor\":\"#E5ECF6\",\"gridcolor\":\"white\",\"linecolor\":\"white\",\"showbackground\":true,\"ticks\":\"\",\"zerolinecolor\":\"white\",\"gridwidth\":2}},\"shapedefaults\":{\"line\":{\"color\":\"#2a3f5f\"}},\"annotationdefaults\":{\"arrowcolor\":\"#2a3f5f\",\"arrowhead\":0,\"arrowwidth\":1},\"geo\":{\"bgcolor\":\"white\",\"landcolor\":\"#E5ECF6\",\"subunitcolor\":\"white\",\"showland\":true,\"showlakes\":true,\"lakecolor\":\"white\"},\"title\":{\"x\":0.05},\"mapbox\":{\"style\":\"light\"}}},\"xaxis\":{\"anchor\":\"y\",\"domain\":[0.0,1.0],\"range\":[\"2018-09-28T16:48:00\",\"2024-06-03T07:12:00\"],\"type\":\"date\"},\"yaxis\":{\"anchor\":\"x\",\"domain\":[0.575,1.0],\"title\":{\"text\":\"trend\"},\"rangemode\":\"normal\",\"zerolinecolor\":\"#AAA\"},\"xaxis2\":{\"anchor\":\"y2\",\"domain\":[0.0,1.0],\"range\":[\"2016-12-13T18:54:02.958904115\",\"2018-01-18T11:04:57.863013581\"],\"tickformat\":\"%B %e\",\"type\":\"date\"},\"yaxis2\":{\"anchor\":\"x2\",\"domain\":[0.0,0.425],\"title\":{\"text\":\"yearly\"},\"zerolinecolor\":\"#AAA\",\"tickformat\":\"%\",\"hoverformat\":\".2%\"},\"height\":400,\"showlegend\":false,\"width\":900},                        {\"responsive\": true}                    ).then(function(){\n",
       "                            \n",
       "var gd = document.getElementById('d19e8334-f877-4af1-b56b-6579f45917dd');\n",
       "var x = new MutationObserver(function (mutations, observer) {{\n",
       "        var display = window.getComputedStyle(gd).display;\n",
       "        if (!display || display === 'none') {{\n",
       "            console.log([gd, 'removed!']);\n",
       "            Plotly.purge(gd);\n",
       "            observer.disconnect();\n",
       "        }}\n",
       "}});\n",
       "\n",
       "// Listen for the removal of the full notebook cells\n",
       "var notebookContainer = gd.closest('#notebook-container');\n",
       "if (notebookContainer) {{\n",
       "    x.observe(notebookContainer, {childList: true});\n",
       "}}\n",
       "\n",
       "// Listen for the clearing of the current output cell\n",
       "var outputEl = gd.closest('.output');\n",
       "if (outputEl) {{\n",
       "    x.observe(outputEl, {childList: true});\n",
       "}}\n",
       "\n",
       "                        })                };                });            </script>        </div>"
      ]
     },
     "metadata": {},
     "output_type": "display_data"
    }
   ],
   "source": [
    "plot_components_plotly(model_forecast, forecast_f)\n"
   ]
  },
  {
   "cell_type": "code",
   "execution_count": null,
   "id": "66c3968b",
   "metadata": {},
   "outputs": [],
   "source": []
  }
 ],
 "metadata": {
  "kernelspec": {
   "display_name": "Python 3 (ipykernel)",
   "language": "python",
   "name": "python3"
  },
  "language_info": {
   "codemirror_mode": {
    "name": "ipython",
    "version": 3
   },
   "file_extension": ".py",
   "mimetype": "text/x-python",
   "name": "python",
   "nbconvert_exporter": "python",
   "pygments_lexer": "ipython3",
   "version": "3.10.9"
  }
 },
 "nbformat": 4,
 "nbformat_minor": 5
}
